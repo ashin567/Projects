{
 "cells": [
  {
   "cell_type": "markdown",
   "metadata": {},
   "source": [
    "# AVOCADO DATASET"
   ]
  },
  {
   "cell_type": "markdown",
   "metadata": {},
   "source": [
    "    Avocado is a fruit consumed by people heavily in the United States. "
   ]
  },
  {
   "cell_type": "markdown",
   "metadata": {},
   "source": [
    "## Content"
   ]
  },
  {
   "cell_type": "markdown",
   "metadata": {},
   "source": [
    "    This data was downloaded from the Hass Avocado Board website in May of 2018 & compiled into a single CSV.\n",
    "    The table below represents weekly 2018 retail scan data for National retail volume (units) and price. Retail scan data comes directly from retailers’ cash registers based on actual retail sales of Hass avocados. Starting in 2013, the table below reflects an expanded, multi-outlet retail data set. Multi-outlet reporting includes an aggregation of the following channels: grocery, mass, club, drug, dollar and military. The Average Price (of avocados) in the table reflects a per unit (per avocado) cost, even when multiple units (avocados) are sold in bags. The Product Lookup codes (PLU’s) in the table are only for Hass avocados. Other varieties of avocados (e.g. greenskins) are not included in this table."
   ]
  },
  {
   "cell_type": "markdown",
   "metadata": {},
   "source": [
    "## Inspiration /Label"
   ]
  },
  {
   "cell_type": "markdown",
   "metadata": {},
   "source": [
    "    The dataset can be seen in two angles to find the city or region and find the average price ."
   ]
  },
  {
   "cell_type": "markdown",
   "metadata": {},
   "source": [
    "## Task"
   ]
  },
  {
   "cell_type": "markdown",
   "metadata": {},
   "source": [
    "    Both Regression and Classification."
   ]
  },
  {
   "cell_type": "code",
   "execution_count": 1,
   "metadata": {},
   "outputs": [],
   "source": [
    "import pandas as pd\n",
    "import numpy as np\n",
    "import matplotlib.pyplot as plt\n",
    "import seaborn as sns\n",
    "import warnings\n",
    "warnings.filterwarnings('ignore')"
   ]
  },
  {
   "cell_type": "code",
   "execution_count": 2,
   "metadata": {},
   "outputs": [
    {
     "data": {
      "text/html": [
       "<div>\n",
       "<style scoped>\n",
       "    .dataframe tbody tr th:only-of-type {\n",
       "        vertical-align: middle;\n",
       "    }\n",
       "\n",
       "    .dataframe tbody tr th {\n",
       "        vertical-align: top;\n",
       "    }\n",
       "\n",
       "    .dataframe thead th {\n",
       "        text-align: right;\n",
       "    }\n",
       "</style>\n",
       "<table border=\"1\" class=\"dataframe\">\n",
       "  <thead>\n",
       "    <tr style=\"text-align: right;\">\n",
       "      <th></th>\n",
       "      <th>Unnamed: 0</th>\n",
       "      <th>Date</th>\n",
       "      <th>AveragePrice</th>\n",
       "      <th>Total Volume</th>\n",
       "      <th>4046</th>\n",
       "      <th>4225</th>\n",
       "      <th>4770</th>\n",
       "      <th>Total Bags</th>\n",
       "      <th>Small Bags</th>\n",
       "      <th>Large Bags</th>\n",
       "      <th>XLarge Bags</th>\n",
       "      <th>type</th>\n",
       "      <th>year</th>\n",
       "      <th>region</th>\n",
       "    </tr>\n",
       "  </thead>\n",
       "  <tbody>\n",
       "    <tr>\n",
       "      <th>0</th>\n",
       "      <td>0.0</td>\n",
       "      <td>27-12-2015</td>\n",
       "      <td>1.33</td>\n",
       "      <td>64236.62</td>\n",
       "      <td>1036.74</td>\n",
       "      <td>54454.85</td>\n",
       "      <td>48.16</td>\n",
       "      <td>8696.87</td>\n",
       "      <td>8603.62</td>\n",
       "      <td>93.25</td>\n",
       "      <td>0.0</td>\n",
       "      <td>conventional</td>\n",
       "      <td>2015.0</td>\n",
       "      <td>Albany</td>\n",
       "    </tr>\n",
       "    <tr>\n",
       "      <th>1</th>\n",
       "      <td>1.0</td>\n",
       "      <td>20-12-2015</td>\n",
       "      <td>1.35</td>\n",
       "      <td>54876.98</td>\n",
       "      <td>674.28</td>\n",
       "      <td>44638.81</td>\n",
       "      <td>58.33</td>\n",
       "      <td>9505.56</td>\n",
       "      <td>9408.07</td>\n",
       "      <td>97.49</td>\n",
       "      <td>0.0</td>\n",
       "      <td>conventional</td>\n",
       "      <td>2015.0</td>\n",
       "      <td>Albany</td>\n",
       "    </tr>\n",
       "    <tr>\n",
       "      <th>2</th>\n",
       "      <td>2.0</td>\n",
       "      <td>13-12-2015</td>\n",
       "      <td>0.93</td>\n",
       "      <td>118220.22</td>\n",
       "      <td>794.70</td>\n",
       "      <td>109149.67</td>\n",
       "      <td>130.50</td>\n",
       "      <td>8145.35</td>\n",
       "      <td>8042.21</td>\n",
       "      <td>103.14</td>\n",
       "      <td>0.0</td>\n",
       "      <td>conventional</td>\n",
       "      <td>2015.0</td>\n",
       "      <td>Albany</td>\n",
       "    </tr>\n",
       "    <tr>\n",
       "      <th>3</th>\n",
       "      <td>3.0</td>\n",
       "      <td>06-12-2015</td>\n",
       "      <td>1.08</td>\n",
       "      <td>78992.15</td>\n",
       "      <td>1132.00</td>\n",
       "      <td>71976.41</td>\n",
       "      <td>72.58</td>\n",
       "      <td>5811.16</td>\n",
       "      <td>5677.40</td>\n",
       "      <td>133.76</td>\n",
       "      <td>0.0</td>\n",
       "      <td>conventional</td>\n",
       "      <td>2015.0</td>\n",
       "      <td>Albany</td>\n",
       "    </tr>\n",
       "    <tr>\n",
       "      <th>4</th>\n",
       "      <td>4.0</td>\n",
       "      <td>29-11-2015</td>\n",
       "      <td>1.28</td>\n",
       "      <td>51039.60</td>\n",
       "      <td>941.48</td>\n",
       "      <td>43838.39</td>\n",
       "      <td>75.78</td>\n",
       "      <td>6183.95</td>\n",
       "      <td>5986.26</td>\n",
       "      <td>197.69</td>\n",
       "      <td>0.0</td>\n",
       "      <td>conventional</td>\n",
       "      <td>2015.0</td>\n",
       "      <td>Albany</td>\n",
       "    </tr>\n",
       "    <tr>\n",
       "      <th>...</th>\n",
       "      <td>...</td>\n",
       "      <td>...</td>\n",
       "      <td>...</td>\n",
       "      <td>...</td>\n",
       "      <td>...</td>\n",
       "      <td>...</td>\n",
       "      <td>...</td>\n",
       "      <td>...</td>\n",
       "      <td>...</td>\n",
       "      <td>...</td>\n",
       "      <td>...</td>\n",
       "      <td>...</td>\n",
       "      <td>...</td>\n",
       "      <td>...</td>\n",
       "    </tr>\n",
       "    <tr>\n",
       "      <th>1514</th>\n",
       "      <td>12.0</td>\n",
       "      <td>02-10-2016</td>\n",
       "      <td>1.48</td>\n",
       "      <td>178410.82</td>\n",
       "      <td>46364.75</td>\n",
       "      <td>52893.38</td>\n",
       "      <td>16736.92</td>\n",
       "      <td>62415.77</td>\n",
       "      <td>53332.61</td>\n",
       "      <td>8258.16</td>\n",
       "      <td>825.0</td>\n",
       "      <td>conventional</td>\n",
       "      <td>2016.0</td>\n",
       "      <td>Charlotte</td>\n",
       "    </tr>\n",
       "    <tr>\n",
       "      <th>1515</th>\n",
       "      <td>13.0</td>\n",
       "      <td>25-09-2016</td>\n",
       "      <td>1.47</td>\n",
       "      <td>189131.52</td>\n",
       "      <td>54110.79</td>\n",
       "      <td>53593.58</td>\n",
       "      <td>17495.42</td>\n",
       "      <td>63931.73</td>\n",
       "      <td>55653.47</td>\n",
       "      <td>8278.26</td>\n",
       "      <td>0.0</td>\n",
       "      <td>conventional</td>\n",
       "      <td>2016.0</td>\n",
       "      <td>Charlotte</td>\n",
       "    </tr>\n",
       "    <tr>\n",
       "      <th>1516</th>\n",
       "      <td>14.0</td>\n",
       "      <td>18-09-2016</td>\n",
       "      <td>1.43</td>\n",
       "      <td>182978.30</td>\n",
       "      <td>43116.41</td>\n",
       "      <td>54193.42</td>\n",
       "      <td>16563.91</td>\n",
       "      <td>69104.56</td>\n",
       "      <td>57456.21</td>\n",
       "      <td>11648.35</td>\n",
       "      <td>0.0</td>\n",
       "      <td>conventional</td>\n",
       "      <td>2016.0</td>\n",
       "      <td>Charlotte</td>\n",
       "    </tr>\n",
       "    <tr>\n",
       "      <th>1517</th>\n",
       "      <td>NaN</td>\n",
       "      <td>NaN</td>\n",
       "      <td>NaN</td>\n",
       "      <td>NaN</td>\n",
       "      <td>NaN</td>\n",
       "      <td>NaN</td>\n",
       "      <td>NaN</td>\n",
       "      <td>NaN</td>\n",
       "      <td>NaN</td>\n",
       "      <td>NaN</td>\n",
       "      <td>NaN</td>\n",
       "      <td>NaN</td>\n",
       "      <td>NaN</td>\n",
       "      <td>NaN</td>\n",
       "    </tr>\n",
       "    <tr>\n",
       "      <th>1518</th>\n",
       "      <td>NaN</td>\n",
       "      <td>NaN</td>\n",
       "      <td>NaN</td>\n",
       "      <td>NaN</td>\n",
       "      <td>NaN</td>\n",
       "      <td>NaN</td>\n",
       "      <td>NaN</td>\n",
       "      <td>NaN</td>\n",
       "      <td>NaN</td>\n",
       "      <td>NaN</td>\n",
       "      <td>NaN</td>\n",
       "      <td>NaN</td>\n",
       "      <td>NaN</td>\n",
       "      <td>NaN</td>\n",
       "    </tr>\n",
       "  </tbody>\n",
       "</table>\n",
       "<p>1519 rows × 14 columns</p>\n",
       "</div>"
      ],
      "text/plain": [
       "      Unnamed: 0        Date  AveragePrice  Total Volume      4046       4225  \\\n",
       "0            0.0  27-12-2015          1.33      64236.62   1036.74   54454.85   \n",
       "1            1.0  20-12-2015          1.35      54876.98    674.28   44638.81   \n",
       "2            2.0  13-12-2015          0.93     118220.22    794.70  109149.67   \n",
       "3            3.0  06-12-2015          1.08      78992.15   1132.00   71976.41   \n",
       "4            4.0  29-11-2015          1.28      51039.60    941.48   43838.39   \n",
       "...          ...         ...           ...           ...       ...        ...   \n",
       "1514        12.0  02-10-2016          1.48     178410.82  46364.75   52893.38   \n",
       "1515        13.0  25-09-2016          1.47     189131.52  54110.79   53593.58   \n",
       "1516        14.0  18-09-2016          1.43     182978.30  43116.41   54193.42   \n",
       "1517         NaN         NaN           NaN           NaN       NaN        NaN   \n",
       "1518         NaN         NaN           NaN           NaN       NaN        NaN   \n",
       "\n",
       "          4770  Total Bags  Small Bags  Large Bags  XLarge Bags          type  \\\n",
       "0        48.16     8696.87     8603.62       93.25          0.0  conventional   \n",
       "1        58.33     9505.56     9408.07       97.49          0.0  conventional   \n",
       "2       130.50     8145.35     8042.21      103.14          0.0  conventional   \n",
       "3        72.58     5811.16     5677.40      133.76          0.0  conventional   \n",
       "4        75.78     6183.95     5986.26      197.69          0.0  conventional   \n",
       "...        ...         ...         ...         ...          ...           ...   \n",
       "1514  16736.92    62415.77    53332.61     8258.16        825.0  conventional   \n",
       "1515  17495.42    63931.73    55653.47     8278.26          0.0  conventional   \n",
       "1516  16563.91    69104.56    57456.21    11648.35          0.0  conventional   \n",
       "1517       NaN         NaN         NaN         NaN          NaN           NaN   \n",
       "1518       NaN         NaN         NaN         NaN          NaN           NaN   \n",
       "\n",
       "        year     region  \n",
       "0     2015.0     Albany  \n",
       "1     2015.0     Albany  \n",
       "2     2015.0     Albany  \n",
       "3     2015.0     Albany  \n",
       "4     2015.0     Albany  \n",
       "...      ...        ...  \n",
       "1514  2016.0  Charlotte  \n",
       "1515  2016.0  Charlotte  \n",
       "1516  2016.0  Charlotte  \n",
       "1517     NaN        NaN  \n",
       "1518     NaN        NaN  \n",
       "\n",
       "[1519 rows x 14 columns]"
      ]
     },
     "execution_count": 2,
     "metadata": {},
     "output_type": "execute_result"
    }
   ],
   "source": [
    "df=pd.read_csv('avocado.csv')\n",
    "df"
   ]
  },
  {
   "cell_type": "code",
   "execution_count": 3,
   "metadata": {},
   "outputs": [],
   "source": [
    "# Unwanted rows\n",
    "df.drop([1517,1518],axis=0,inplace=True)"
   ]
  },
  {
   "cell_type": "code",
   "execution_count": 4,
   "metadata": {},
   "outputs": [],
   "source": [
    "# Unwanted index\n",
    "df.drop('Unnamed: 0',axis=1,inplace=True)"
   ]
  },
  {
   "cell_type": "code",
   "execution_count": 5,
   "metadata": {},
   "outputs": [
    {
     "data": {
      "text/html": [
       "<div>\n",
       "<style scoped>\n",
       "    .dataframe tbody tr th:only-of-type {\n",
       "        vertical-align: middle;\n",
       "    }\n",
       "\n",
       "    .dataframe tbody tr th {\n",
       "        vertical-align: top;\n",
       "    }\n",
       "\n",
       "    .dataframe thead th {\n",
       "        text-align: right;\n",
       "    }\n",
       "</style>\n",
       "<table border=\"1\" class=\"dataframe\">\n",
       "  <thead>\n",
       "    <tr style=\"text-align: right;\">\n",
       "      <th></th>\n",
       "      <th>Date</th>\n",
       "      <th>AveragePrice</th>\n",
       "      <th>Total Volume</th>\n",
       "      <th>4046</th>\n",
       "      <th>4225</th>\n",
       "      <th>4770</th>\n",
       "      <th>Total Bags</th>\n",
       "      <th>Small Bags</th>\n",
       "      <th>Large Bags</th>\n",
       "      <th>XLarge Bags</th>\n",
       "      <th>type</th>\n",
       "      <th>year</th>\n",
       "      <th>region</th>\n",
       "    </tr>\n",
       "  </thead>\n",
       "  <tbody>\n",
       "    <tr>\n",
       "      <th>0</th>\n",
       "      <td>27-12-2015</td>\n",
       "      <td>1.33</td>\n",
       "      <td>64236.62</td>\n",
       "      <td>1036.74</td>\n",
       "      <td>54454.85</td>\n",
       "      <td>48.16</td>\n",
       "      <td>8696.87</td>\n",
       "      <td>8603.62</td>\n",
       "      <td>93.25</td>\n",
       "      <td>0.00</td>\n",
       "      <td>conventional</td>\n",
       "      <td>2015.0</td>\n",
       "      <td>Albany</td>\n",
       "    </tr>\n",
       "    <tr>\n",
       "      <th>1</th>\n",
       "      <td>20-12-2015</td>\n",
       "      <td>1.35</td>\n",
       "      <td>54876.98</td>\n",
       "      <td>674.28</td>\n",
       "      <td>44638.81</td>\n",
       "      <td>58.33</td>\n",
       "      <td>9505.56</td>\n",
       "      <td>9408.07</td>\n",
       "      <td>97.49</td>\n",
       "      <td>0.00</td>\n",
       "      <td>conventional</td>\n",
       "      <td>2015.0</td>\n",
       "      <td>Albany</td>\n",
       "    </tr>\n",
       "    <tr>\n",
       "      <th>2</th>\n",
       "      <td>13-12-2015</td>\n",
       "      <td>0.93</td>\n",
       "      <td>118220.22</td>\n",
       "      <td>794.70</td>\n",
       "      <td>109149.67</td>\n",
       "      <td>130.50</td>\n",
       "      <td>8145.35</td>\n",
       "      <td>8042.21</td>\n",
       "      <td>103.14</td>\n",
       "      <td>0.00</td>\n",
       "      <td>conventional</td>\n",
       "      <td>2015.0</td>\n",
       "      <td>Albany</td>\n",
       "    </tr>\n",
       "    <tr>\n",
       "      <th>3</th>\n",
       "      <td>06-12-2015</td>\n",
       "      <td>1.08</td>\n",
       "      <td>78992.15</td>\n",
       "      <td>1132.00</td>\n",
       "      <td>71976.41</td>\n",
       "      <td>72.58</td>\n",
       "      <td>5811.16</td>\n",
       "      <td>5677.40</td>\n",
       "      <td>133.76</td>\n",
       "      <td>0.00</td>\n",
       "      <td>conventional</td>\n",
       "      <td>2015.0</td>\n",
       "      <td>Albany</td>\n",
       "    </tr>\n",
       "    <tr>\n",
       "      <th>4</th>\n",
       "      <td>29-11-2015</td>\n",
       "      <td>1.28</td>\n",
       "      <td>51039.60</td>\n",
       "      <td>941.48</td>\n",
       "      <td>43838.39</td>\n",
       "      <td>75.78</td>\n",
       "      <td>6183.95</td>\n",
       "      <td>5986.26</td>\n",
       "      <td>197.69</td>\n",
       "      <td>0.00</td>\n",
       "      <td>conventional</td>\n",
       "      <td>2015.0</td>\n",
       "      <td>Albany</td>\n",
       "    </tr>\n",
       "    <tr>\n",
       "      <th>...</th>\n",
       "      <td>...</td>\n",
       "      <td>...</td>\n",
       "      <td>...</td>\n",
       "      <td>...</td>\n",
       "      <td>...</td>\n",
       "      <td>...</td>\n",
       "      <td>...</td>\n",
       "      <td>...</td>\n",
       "      <td>...</td>\n",
       "      <td>...</td>\n",
       "      <td>...</td>\n",
       "      <td>...</td>\n",
       "      <td>...</td>\n",
       "    </tr>\n",
       "    <tr>\n",
       "      <th>1512</th>\n",
       "      <td>16-10-2016</td>\n",
       "      <td>1.39</td>\n",
       "      <td>190846.01</td>\n",
       "      <td>57529.11</td>\n",
       "      <td>56366.66</td>\n",
       "      <td>17531.78</td>\n",
       "      <td>59418.46</td>\n",
       "      <td>48823.53</td>\n",
       "      <td>10354.65</td>\n",
       "      <td>240.28</td>\n",
       "      <td>conventional</td>\n",
       "      <td>2016.0</td>\n",
       "      <td>Charlotte</td>\n",
       "    </tr>\n",
       "    <tr>\n",
       "      <th>1513</th>\n",
       "      <td>09-10-2016</td>\n",
       "      <td>1.51</td>\n",
       "      <td>178235.75</td>\n",
       "      <td>43325.87</td>\n",
       "      <td>52189.61</td>\n",
       "      <td>19419.57</td>\n",
       "      <td>63300.70</td>\n",
       "      <td>54704.14</td>\n",
       "      <td>8596.56</td>\n",
       "      <td>0.00</td>\n",
       "      <td>conventional</td>\n",
       "      <td>2016.0</td>\n",
       "      <td>Charlotte</td>\n",
       "    </tr>\n",
       "    <tr>\n",
       "      <th>1514</th>\n",
       "      <td>02-10-2016</td>\n",
       "      <td>1.48</td>\n",
       "      <td>178410.82</td>\n",
       "      <td>46364.75</td>\n",
       "      <td>52893.38</td>\n",
       "      <td>16736.92</td>\n",
       "      <td>62415.77</td>\n",
       "      <td>53332.61</td>\n",
       "      <td>8258.16</td>\n",
       "      <td>825.00</td>\n",
       "      <td>conventional</td>\n",
       "      <td>2016.0</td>\n",
       "      <td>Charlotte</td>\n",
       "    </tr>\n",
       "    <tr>\n",
       "      <th>1515</th>\n",
       "      <td>25-09-2016</td>\n",
       "      <td>1.47</td>\n",
       "      <td>189131.52</td>\n",
       "      <td>54110.79</td>\n",
       "      <td>53593.58</td>\n",
       "      <td>17495.42</td>\n",
       "      <td>63931.73</td>\n",
       "      <td>55653.47</td>\n",
       "      <td>8278.26</td>\n",
       "      <td>0.00</td>\n",
       "      <td>conventional</td>\n",
       "      <td>2016.0</td>\n",
       "      <td>Charlotte</td>\n",
       "    </tr>\n",
       "    <tr>\n",
       "      <th>1516</th>\n",
       "      <td>18-09-2016</td>\n",
       "      <td>1.43</td>\n",
       "      <td>182978.30</td>\n",
       "      <td>43116.41</td>\n",
       "      <td>54193.42</td>\n",
       "      <td>16563.91</td>\n",
       "      <td>69104.56</td>\n",
       "      <td>57456.21</td>\n",
       "      <td>11648.35</td>\n",
       "      <td>0.00</td>\n",
       "      <td>conventional</td>\n",
       "      <td>2016.0</td>\n",
       "      <td>Charlotte</td>\n",
       "    </tr>\n",
       "  </tbody>\n",
       "</table>\n",
       "<p>1517 rows × 13 columns</p>\n",
       "</div>"
      ],
      "text/plain": [
       "            Date  AveragePrice  Total Volume      4046       4225      4770  \\\n",
       "0     27-12-2015          1.33      64236.62   1036.74   54454.85     48.16   \n",
       "1     20-12-2015          1.35      54876.98    674.28   44638.81     58.33   \n",
       "2     13-12-2015          0.93     118220.22    794.70  109149.67    130.50   \n",
       "3     06-12-2015          1.08      78992.15   1132.00   71976.41     72.58   \n",
       "4     29-11-2015          1.28      51039.60    941.48   43838.39     75.78   \n",
       "...          ...           ...           ...       ...        ...       ...   \n",
       "1512  16-10-2016          1.39     190846.01  57529.11   56366.66  17531.78   \n",
       "1513  09-10-2016          1.51     178235.75  43325.87   52189.61  19419.57   \n",
       "1514  02-10-2016          1.48     178410.82  46364.75   52893.38  16736.92   \n",
       "1515  25-09-2016          1.47     189131.52  54110.79   53593.58  17495.42   \n",
       "1516  18-09-2016          1.43     182978.30  43116.41   54193.42  16563.91   \n",
       "\n",
       "      Total Bags  Small Bags  Large Bags  XLarge Bags          type    year  \\\n",
       "0        8696.87     8603.62       93.25         0.00  conventional  2015.0   \n",
       "1        9505.56     9408.07       97.49         0.00  conventional  2015.0   \n",
       "2        8145.35     8042.21      103.14         0.00  conventional  2015.0   \n",
       "3        5811.16     5677.40      133.76         0.00  conventional  2015.0   \n",
       "4        6183.95     5986.26      197.69         0.00  conventional  2015.0   \n",
       "...          ...         ...         ...          ...           ...     ...   \n",
       "1512    59418.46    48823.53    10354.65       240.28  conventional  2016.0   \n",
       "1513    63300.70    54704.14     8596.56         0.00  conventional  2016.0   \n",
       "1514    62415.77    53332.61     8258.16       825.00  conventional  2016.0   \n",
       "1515    63931.73    55653.47     8278.26         0.00  conventional  2016.0   \n",
       "1516    69104.56    57456.21    11648.35         0.00  conventional  2016.0   \n",
       "\n",
       "         region  \n",
       "0        Albany  \n",
       "1        Albany  \n",
       "2        Albany  \n",
       "3        Albany  \n",
       "4        Albany  \n",
       "...         ...  \n",
       "1512  Charlotte  \n",
       "1513  Charlotte  \n",
       "1514  Charlotte  \n",
       "1515  Charlotte  \n",
       "1516  Charlotte  \n",
       "\n",
       "[1517 rows x 13 columns]"
      ]
     },
     "execution_count": 5,
     "metadata": {},
     "output_type": "execute_result"
    }
   ],
   "source": [
    "df"
   ]
  },
  {
   "cell_type": "markdown",
   "metadata": {},
   "source": [
    "## Columns Description:"
   ]
  },
  {
   "cell_type": "markdown",
   "metadata": {},
   "source": [
    "    -Date - The date of the observation\n",
    "    -AveragePrice - the average price of a single avocado\n",
    "    -Total Volume - Total number of avocados sold\n",
    "    -4046 - Total number of avocados with PLU 4046 sold (Product Lookup codes (PLU’s)\n",
    "    -4225 - Total number of avocados with PLU 4225 sold (Product Lookup codes (PLU’s) \n",
    "    -4770 - Total number of avocados with PLU 4770 sold (Product Lookup codes (PLU’s)\n",
    "    -Type - conventional or organic\n",
    "    -Year - the year\n",
    "    -Region - the city or region of the observation    "
   ]
  },
  {
   "cell_type": "markdown",
   "metadata": {},
   "source": [
    "# EDA"
   ]
  },
  {
   "cell_type": "code",
   "execution_count": 6,
   "metadata": {},
   "outputs": [
    {
     "data": {
      "text/plain": [
       "(1517, 13)"
      ]
     },
     "execution_count": 6,
     "metadata": {},
     "output_type": "execute_result"
    }
   ],
   "source": [
    "df.shape"
   ]
  },
  {
   "cell_type": "code",
   "execution_count": 7,
   "metadata": {},
   "outputs": [
    {
     "data": {
      "text/plain": [
       "Index(['Date', 'AveragePrice', 'Total Volume', '4046', '4225', '4770',\n",
       "       'Total Bags', 'Small Bags', 'Large Bags', 'XLarge Bags', 'type', 'year',\n",
       "       'region'],\n",
       "      dtype='object')"
      ]
     },
     "execution_count": 7,
     "metadata": {},
     "output_type": "execute_result"
    }
   ],
   "source": [
    "df.columns"
   ]
  },
  {
   "cell_type": "code",
   "execution_count": 8,
   "metadata": {},
   "outputs": [
    {
     "name": "stdout",
     "output_type": "stream",
     "text": [
      "<class 'pandas.core.frame.DataFrame'>\n",
      "Int64Index: 1517 entries, 0 to 1516\n",
      "Data columns (total 13 columns):\n",
      " #   Column        Non-Null Count  Dtype  \n",
      "---  ------        --------------  -----  \n",
      " 0   Date          1517 non-null   object \n",
      " 1   AveragePrice  1517 non-null   float64\n",
      " 2   Total Volume  1517 non-null   float64\n",
      " 3   4046          1517 non-null   float64\n",
      " 4   4225          1517 non-null   float64\n",
      " 5   4770          1517 non-null   float64\n",
      " 6   Total Bags    1517 non-null   float64\n",
      " 7   Small Bags    1517 non-null   float64\n",
      " 8   Large Bags    1517 non-null   float64\n",
      " 9   XLarge Bags   1517 non-null   float64\n",
      " 10  type          1517 non-null   object \n",
      " 11  year          1517 non-null   float64\n",
      " 12  region        1517 non-null   object \n",
      "dtypes: float64(10), object(3)\n",
      "memory usage: 165.9+ KB\n"
     ]
    }
   ],
   "source": [
    "df.info()"
   ]
  },
  {
   "cell_type": "markdown",
   "metadata": {},
   "source": [
    "### Observations:\n",
    "    Columns such as Date, type, region are in object data-types.\n",
    "    Rest of the columns are in float data-types."
   ]
  },
  {
   "cell_type": "code",
   "execution_count": 9,
   "metadata": {},
   "outputs": [],
   "source": [
    "# converting date column into 'date-time' format\n",
    "df['Date']=pd.to_datetime(df['Date'])"
   ]
  },
  {
   "cell_type": "code",
   "execution_count": 10,
   "metadata": {},
   "outputs": [
    {
     "name": "stdout",
     "output_type": "stream",
     "text": [
      "<class 'pandas.core.frame.DataFrame'>\n",
      "Int64Index: 1517 entries, 0 to 1516\n",
      "Data columns (total 13 columns):\n",
      " #   Column        Non-Null Count  Dtype         \n",
      "---  ------        --------------  -----         \n",
      " 0   Date          1517 non-null   datetime64[ns]\n",
      " 1   AveragePrice  1517 non-null   float64       \n",
      " 2   Total Volume  1517 non-null   float64       \n",
      " 3   4046          1517 non-null   float64       \n",
      " 4   4225          1517 non-null   float64       \n",
      " 5   4770          1517 non-null   float64       \n",
      " 6   Total Bags    1517 non-null   float64       \n",
      " 7   Small Bags    1517 non-null   float64       \n",
      " 8   Large Bags    1517 non-null   float64       \n",
      " 9   XLarge Bags   1517 non-null   float64       \n",
      " 10  type          1517 non-null   object        \n",
      " 11  year          1517 non-null   float64       \n",
      " 12  region        1517 non-null   object        \n",
      "dtypes: datetime64[ns](1), float64(10), object(2)\n",
      "memory usage: 165.9+ KB\n"
     ]
    }
   ],
   "source": [
    "df.info()"
   ]
  },
  {
   "cell_type": "code",
   "execution_count": 11,
   "metadata": {},
   "outputs": [
    {
     "data": {
      "image/png": "[encoded data removed]",
      "text/plain": [
       "<Figure size 432x288 with 2 Axes>"
      ]
     },
     "metadata": {
      "needs_background": "light"
     },
     "output_type": "display_data"
    }
   ],
   "source": [
    "sns.heatmap(df.isnull())\n",
    "plt.show()"
   ]
  },
  {
   "cell_type": "markdown",
   "metadata": {},
   "source": [
    "### Observations:\n",
    "    No missing values in the dataset."
   ]
  },
  {
   "cell_type": "markdown",
   "metadata": {},
   "source": [
    "## Univariate Analysis."
   ]
  },
  {
   "cell_type": "code",
   "execution_count": 12,
   "metadata": {},
   "outputs": [
    {
     "data": {
      "image/png": "[encoded data removed]",
      "text/plain": [
       "<Figure size 432x288 with 1 Axes>"
      ]
     },
     "metadata": {
      "needs_background": "light"
     },
     "output_type": "display_data"
    }
   ],
   "source": [
    "plt.hist(df['AveragePrice'])\n",
    "plt.show()"
   ]
  },
  {
   "cell_type": "markdown",
   "metadata": {},
   "source": [
    "### Observations:\n",
    "    Average price of a Avocado is 1 to 1.2 US Dollar across regions in United States."
   ]
  },
  {
   "cell_type": "code",
   "execution_count": 13,
   "metadata": {},
   "outputs": [
    {
     "data": {
      "text/plain": [
       "array(['Albany', 'Atlanta', 'BaltimoreWashington', 'Boise', 'Boston',\n",
       "       'BuffaloRochester', 'California', 'Charlotte', 'Chicago',\n",
       "       'Columbus', 'DallasFtWorth', 'Denver', 'Detroit', 'GrandRapids',\n",
       "       'GreatLakes', 'HarrisburgScranton', 'HartfordSpringfield',\n",
       "       'Houston', 'Indianapolis', 'Jacksonville', 'LasVegas',\n",
       "       'LosAngeles', 'Louisville', 'MiamiFtLauderdale', 'Midsouth',\n",
       "       'Nashville', 'NewYork', 'Northeast', 'NorthernNewEngland',\n",
       "       'Orlando', 'Philadelphia', 'PhoenixTucson', 'Pittsburgh', 'Plains',\n",
       "       'Portland', 'RaleighGreensboro', 'RichmondNorfolk', 'Roanoke',\n",
       "       'SanDiego', 'SanFrancisco', 'Seattle', 'SouthCarolina',\n",
       "       'SouthCentral', 'Southeast', 'Spokane', 'StLouis', 'Syracuse',\n",
       "       'Tampa', 'TotalUS', 'West', 'WestTexNewMexico'], dtype=object)"
      ]
     },
     "execution_count": 13,
     "metadata": {},
     "output_type": "execute_result"
    }
   ],
   "source": [
    "df['region'].unique()"
   ]
  },
  {
   "cell_type": "markdown",
   "metadata": {},
   "source": [
    "### Observations:\n",
    "    These are the city/regions of observations. "
   ]
  },
  {
   "cell_type": "code",
   "execution_count": 14,
   "metadata": {},
   "outputs": [
    {
     "data": {
      "text/plain": [
       "array([2015., 2016.])"
      ]
     },
     "execution_count": 14,
     "metadata": {},
     "output_type": "execute_result"
    }
   ],
   "source": [
    "df['year'].unique()"
   ]
  },
  {
   "cell_type": "markdown",
   "metadata": {},
   "source": [
    "### Observations:\n",
    "    These data are from years 2015 and 2016."
   ]
  },
  {
   "cell_type": "code",
   "execution_count": 15,
   "metadata": {},
   "outputs": [
    {
     "data": {
      "text/plain": [
       "array(['conventional'], dtype=object)"
      ]
     },
     "execution_count": 15,
     "metadata": {},
     "output_type": "execute_result"
    }
   ],
   "source": [
    "df['type'].unique()"
   ]
  },
  {
   "cell_type": "markdown",
   "metadata": {},
   "source": [
    "### Observations:\n",
    "    All Avocados are of conventional type."
   ]
  },
  {
   "cell_type": "code",
   "execution_count": 16,
   "metadata": {},
   "outputs": [
    {
     "name": "stdout",
     "output_type": "stream",
     "text": [
      "XLarge Bags: 2181.7710744891233\n",
      "Large Bags: 42642.049373764\n",
      "Small Bags: 248773.59528675006\n"
     ]
    }
   ],
   "source": [
    "print('XLarge Bags:',df['XLarge Bags'].mean())\n",
    "print('Large Bags:',df['Large Bags'].mean())\n",
    "print('Small Bags:',df['Small Bags'].mean())"
   ]
  },
  {
   "cell_type": "markdown",
   "metadata": {},
   "source": [
    "### Observations:\n",
    "    On average, 2181 XLarge bags of Avocados are sold across regions of United States\n",
    "    On average, 42642 Large bags of Avocados are sold across regions of United States.\n",
    "    On average, 248773 Small bags of Avocados are sold across regions of United States."
   ]
  },
  {
   "cell_type": "markdown",
   "metadata": {},
   "source": [
    "### Conclusion:\n",
    "        Small bags of Avocados are sold more in numbers across regions of US."
   ]
  },
  {
   "cell_type": "code",
   "execution_count": 17,
   "metadata": {},
   "outputs": [
    {
     "name": "stdout",
     "output_type": "stream",
     "text": [
      "4046:- 646438.6541133816\n",
      "4225:- 611437.5025906389\n",
      "4770:- 50405.495398813444\n"
     ]
    }
   ],
   "source": [
    "print('4046:-',df['4046'].mean())\n",
    "print('4225:-',df['4225'].mean())\n",
    "print('4770:-',df['4770'].mean())"
   ]
  },
  {
   "cell_type": "markdown",
   "metadata": {},
   "source": [
    "### Observations:\n",
    "    On average, 'Avocados with PLU 4046' are sold more in numbers across regions of US.    "
   ]
  },
  {
   "cell_type": "markdown",
   "metadata": {},
   "source": [
    "## Bivariate Analysis"
   ]
  },
  {
   "cell_type": "markdown",
   "metadata": {},
   "source": [
    "### 1. Target Variable = Average Price"
   ]
  },
  {
   "cell_type": "code",
   "execution_count": 18,
   "metadata": {},
   "outputs": [
    {
     "data": {
      "image/png": "[encoded data removed]",
      "text/plain": [
       "<Figure size 432x288 with 1 Axes>"
      ]
     },
     "metadata": {
      "needs_background": "light"
     },
     "output_type": "display_data"
    }
   ],
   "source": [
    "plt.scatter(df['Total Volume'],df['AveragePrice'])\n",
    "plt.show()"
   ]
  },
  {
   "cell_type": "markdown",
   "metadata": {},
   "source": [
    "### Observations:\n",
    "        As Total volume increases Average price of Avocados decreases."
   ]
  },
  {
   "cell_type": "code",
   "execution_count": 19,
   "metadata": {},
   "outputs": [
    {
     "data": {
      "image/png": "[encoded data removed]",
      "text/plain": [
       "<Figure size 432x288 with 1 Axes>"
      ]
     },
     "metadata": {
      "needs_background": "light"
     },
     "output_type": "display_data"
    }
   ],
   "source": [
    "plt.scatter(df['4046'],df['AveragePrice'])\n",
    "plt.show()"
   ]
  },
  {
   "cell_type": "markdown",
   "metadata": {},
   "source": [
    "### Observations:\n",
    "        Average price of a 'Avocado with PLU 4046' is 0.6 to 1.2 US Dollar."
   ]
  },
  {
   "cell_type": "code",
   "execution_count": 20,
   "metadata": {},
   "outputs": [
    {
     "data": {
      "image/png": "[encoded data removed]",
      "text/plain": [
       "<Figure size 432x288 with 1 Axes>"
      ]
     },
     "metadata": {
      "needs_background": "light"
     },
     "output_type": "display_data"
    }
   ],
   "source": [
    "plt.scatter(df['4225'],df['AveragePrice'])\n",
    "plt.show()"
   ]
  },
  {
   "cell_type": "markdown",
   "metadata": {},
   "source": [
    "### Observations:\n",
    "        Average price of a 'Avocado with PLU 4225' is 0.8 to 1.4 US Dollar."
   ]
  },
  {
   "cell_type": "code",
   "execution_count": 93,
   "metadata": {},
   "outputs": [
    {
     "data": {
      "image/png": "[encoded data removed]",
      "text/plain": [
       "<Figure size 432x288 with 1 Axes>"
      ]
     },
     "metadata": {
      "needs_background": "light"
     },
     "output_type": "display_data"
    }
   ],
   "source": [
    "plt.scatter(df['4770'],df['AveragePrice'])\n",
    "plt.show()"
   ]
  },
  {
   "cell_type": "markdown",
   "metadata": {},
   "source": [
    "### Observations:\n",
    "        Average price of a 'Avocado with PLU 4770' is 0.8 to 1.4 US Dollar."
   ]
  },
  {
   "cell_type": "code",
   "execution_count": 22,
   "metadata": {},
   "outputs": [
    {
     "data": {
      "image/png": "[encoded data removed]",
      "text/plain": [
       "<Figure size 432x288 with 1 Axes>"
      ]
     },
     "metadata": {
      "needs_background": "light"
     },
     "output_type": "display_data"
    }
   ],
   "source": [
    "plt.scatter(df['Small Bags'],df['AveragePrice'])\n",
    "plt.show()"
   ]
  },
  {
   "cell_type": "markdown",
   "metadata": {},
   "source": [
    "### Observations:\n",
    "        Average price of a Avocado in 'Small Bag' is 0.8 to 1.4 US Dollar."
   ]
  },
  {
   "cell_type": "code",
   "execution_count": 23,
   "metadata": {},
   "outputs": [
    {
     "data": {
      "image/png": "[encoded data removed]",
      "text/plain": [
       "<Figure size 432x288 with 1 Axes>"
      ]
     },
     "metadata": {
      "needs_background": "light"
     },
     "output_type": "display_data"
    }
   ],
   "source": [
    "plt.scatter(df['Large Bags'],df['AveragePrice'])\n",
    "plt.show()"
   ]
  },
  {
   "cell_type": "markdown",
   "metadata": {},
   "source": [
    "### Observations:\n",
    "        Average price of a Avocado in 'Large Bag' is 0.6 to 1.4 US Dollar."
   ]
  },
  {
   "cell_type": "code",
   "execution_count": 24,
   "metadata": {},
   "outputs": [
    {
     "data": {
      "image/png": "[encoded data removed]",
      "text/plain": [
       "<Figure size 432x288 with 1 Axes>"
      ]
     },
     "metadata": {
      "needs_background": "light"
     },
     "output_type": "display_data"
    }
   ],
   "source": [
    "plt.scatter(df['XLarge Bags'],df['AveragePrice'])\n",
    "plt.show()"
   ]
  },
  {
   "cell_type": "markdown",
   "metadata": {},
   "source": [
    "### Observations:\n",
    "        Average price of a Avocado in 'XLarge Bag' is 0.8 to 1.4 US Dollar."
   ]
  },
  {
   "cell_type": "code",
   "execution_count": 25,
   "metadata": {},
   "outputs": [
    {
     "data": {
      "image/png": "[encoded data removed]",
      "text/plain": [
       "<Figure size 432x288 with 1 Axes>"
      ]
     },
     "metadata": {
      "needs_background": "light"
     },
     "output_type": "display_data"
    }
   ],
   "source": [
    "plt.scatter(df['year'],df['AveragePrice'])\n",
    "plt.show()"
   ]
  },
  {
   "cell_type": "markdown",
   "metadata": {},
   "source": [
    "### Observations:\n",
    "    Average price of a Avocado has been increased by 0.4 Dollar for the year 2016 from 2015."
   ]
  },
  {
   "cell_type": "code",
   "execution_count": 26,
   "metadata": {},
   "outputs": [
    {
     "data": {
      "text/html": [
       "<div>\n",
       "<style scoped>\n",
       "    .dataframe tbody tr th:only-of-type {\n",
       "        vertical-align: middle;\n",
       "    }\n",
       "\n",
       "    .dataframe tbody tr th {\n",
       "        vertical-align: top;\n",
       "    }\n",
       "\n",
       "    .dataframe thead th {\n",
       "        text-align: right;\n",
       "    }\n",
       "</style>\n",
       "<table border=\"1\" class=\"dataframe\">\n",
       "  <thead>\n",
       "    <tr style=\"text-align: right;\">\n",
       "      <th></th>\n",
       "      <th>region</th>\n",
       "      <th>AveragePrice</th>\n",
       "    </tr>\n",
       "  </thead>\n",
       "  <tbody>\n",
       "    <tr>\n",
       "      <th>0</th>\n",
       "      <td>Albany</td>\n",
       "      <td>1.238657</td>\n",
       "    </tr>\n",
       "    <tr>\n",
       "      <th>1</th>\n",
       "      <td>Atlanta</td>\n",
       "      <td>1.012037</td>\n",
       "    </tr>\n",
       "    <tr>\n",
       "      <th>2</th>\n",
       "      <td>BaltimoreWashington</td>\n",
       "      <td>1.160923</td>\n",
       "    </tr>\n",
       "    <tr>\n",
       "      <th>3</th>\n",
       "      <td>Boise</td>\n",
       "      <td>0.974923</td>\n",
       "    </tr>\n",
       "    <tr>\n",
       "      <th>4</th>\n",
       "      <td>Boston</td>\n",
       "      <td>1.205484</td>\n",
       "    </tr>\n",
       "    <tr>\n",
       "      <th>5</th>\n",
       "      <td>BuffaloRochester</td>\n",
       "      <td>1.301569</td>\n",
       "    </tr>\n",
       "    <tr>\n",
       "      <th>6</th>\n",
       "      <td>California</td>\n",
       "      <td>1.055921</td>\n",
       "    </tr>\n",
       "    <tr>\n",
       "      <th>7</th>\n",
       "      <td>Charlotte</td>\n",
       "      <td>1.311613</td>\n",
       "    </tr>\n",
       "    <tr>\n",
       "      <th>8</th>\n",
       "      <td>Chicago</td>\n",
       "      <td>1.214783</td>\n",
       "    </tr>\n",
       "    <tr>\n",
       "      <th>9</th>\n",
       "      <td>Columbus</td>\n",
       "      <td>1.012553</td>\n",
       "    </tr>\n",
       "    <tr>\n",
       "      <th>10</th>\n",
       "      <td>DallasFtWorth</td>\n",
       "      <td>0.755882</td>\n",
       "    </tr>\n",
       "    <tr>\n",
       "      <th>11</th>\n",
       "      <td>Denver</td>\n",
       "      <td>1.080833</td>\n",
       "    </tr>\n",
       "    <tr>\n",
       "      <th>12</th>\n",
       "      <td>Detroit</td>\n",
       "      <td>1.041250</td>\n",
       "    </tr>\n",
       "    <tr>\n",
       "      <th>13</th>\n",
       "      <td>GrandRapids</td>\n",
       "      <td>1.136957</td>\n",
       "    </tr>\n",
       "    <tr>\n",
       "      <th>14</th>\n",
       "      <td>GreatLakes</td>\n",
       "      <td>1.107222</td>\n",
       "    </tr>\n",
       "    <tr>\n",
       "      <th>15</th>\n",
       "      <td>HarrisburgScranton</td>\n",
       "      <td>1.157368</td>\n",
       "    </tr>\n",
       "    <tr>\n",
       "      <th>16</th>\n",
       "      <td>HartfordSpringfield</td>\n",
       "      <td>1.209231</td>\n",
       "    </tr>\n",
       "    <tr>\n",
       "      <th>17</th>\n",
       "      <td>Houston</td>\n",
       "      <td>0.780690</td>\n",
       "    </tr>\n",
       "    <tr>\n",
       "      <th>18</th>\n",
       "      <td>Indianapolis</td>\n",
       "      <td>1.126250</td>\n",
       "    </tr>\n",
       "    <tr>\n",
       "      <th>19</th>\n",
       "      <td>Jacksonville</td>\n",
       "      <td>1.113659</td>\n",
       "    </tr>\n",
       "    <tr>\n",
       "      <th>20</th>\n",
       "      <td>LasVegas</td>\n",
       "      <td>1.041000</td>\n",
       "    </tr>\n",
       "    <tr>\n",
       "      <th>21</th>\n",
       "      <td>LosAngeles</td>\n",
       "      <td>0.863333</td>\n",
       "    </tr>\n",
       "    <tr>\n",
       "      <th>22</th>\n",
       "      <td>Louisville</td>\n",
       "      <td>1.042941</td>\n",
       "    </tr>\n",
       "    <tr>\n",
       "      <th>23</th>\n",
       "      <td>MiamiFtLauderdale</td>\n",
       "      <td>1.176471</td>\n",
       "    </tr>\n",
       "    <tr>\n",
       "      <th>24</th>\n",
       "      <td>Midsouth</td>\n",
       "      <td>1.081111</td>\n",
       "    </tr>\n",
       "    <tr>\n",
       "      <th>25</th>\n",
       "      <td>Nashville</td>\n",
       "      <td>1.028400</td>\n",
       "    </tr>\n",
       "    <tr>\n",
       "      <th>26</th>\n",
       "      <td>NewYork</td>\n",
       "      <td>1.248636</td>\n",
       "    </tr>\n",
       "    <tr>\n",
       "      <th>27</th>\n",
       "      <td>Northeast</td>\n",
       "      <td>1.236667</td>\n",
       "    </tr>\n",
       "    <tr>\n",
       "      <th>28</th>\n",
       "      <td>NorthernNewEngland</td>\n",
       "      <td>1.111034</td>\n",
       "    </tr>\n",
       "    <tr>\n",
       "      <th>29</th>\n",
       "      <td>Orlando</td>\n",
       "      <td>1.133333</td>\n",
       "    </tr>\n",
       "    <tr>\n",
       "      <th>30</th>\n",
       "      <td>Philadelphia</td>\n",
       "      <td>1.293846</td>\n",
       "    </tr>\n",
       "    <tr>\n",
       "      <th>31</th>\n",
       "      <td>PhoenixTucson</td>\n",
       "      <td>0.659808</td>\n",
       "    </tr>\n",
       "    <tr>\n",
       "      <th>32</th>\n",
       "      <td>Pittsburgh</td>\n",
       "      <td>1.178636</td>\n",
       "    </tr>\n",
       "    <tr>\n",
       "      <th>33</th>\n",
       "      <td>Plains</td>\n",
       "      <td>1.051667</td>\n",
       "    </tr>\n",
       "    <tr>\n",
       "      <th>34</th>\n",
       "      <td>Portland</td>\n",
       "      <td>1.043667</td>\n",
       "    </tr>\n",
       "    <tr>\n",
       "      <th>35</th>\n",
       "      <td>RaleighGreensboro</td>\n",
       "      <td>1.166250</td>\n",
       "    </tr>\n",
       "    <tr>\n",
       "      <th>36</th>\n",
       "      <td>RichmondNorfolk</td>\n",
       "      <td>1.004762</td>\n",
       "    </tr>\n",
       "    <tr>\n",
       "      <th>37</th>\n",
       "      <td>Roanoke</td>\n",
       "      <td>1.096471</td>\n",
       "    </tr>\n",
       "    <tr>\n",
       "      <th>38</th>\n",
       "      <td>SanDiego</td>\n",
       "      <td>0.993421</td>\n",
       "    </tr>\n",
       "    <tr>\n",
       "      <th>39</th>\n",
       "      <td>SanFrancisco</td>\n",
       "      <td>1.150667</td>\n",
       "    </tr>\n",
       "    <tr>\n",
       "      <th>40</th>\n",
       "      <td>Seattle</td>\n",
       "      <td>1.052222</td>\n",
       "    </tr>\n",
       "    <tr>\n",
       "      <th>41</th>\n",
       "      <td>SouthCarolina</td>\n",
       "      <td>1.071250</td>\n",
       "    </tr>\n",
       "    <tr>\n",
       "      <th>42</th>\n",
       "      <td>SouthCentral</td>\n",
       "      <td>0.818718</td>\n",
       "    </tr>\n",
       "    <tr>\n",
       "      <th>43</th>\n",
       "      <td>Southeast</td>\n",
       "      <td>1.091111</td>\n",
       "    </tr>\n",
       "    <tr>\n",
       "      <th>44</th>\n",
       "      <td>Spokane</td>\n",
       "      <td>1.096122</td>\n",
       "    </tr>\n",
       "    <tr>\n",
       "      <th>45</th>\n",
       "      <td>StLouis</td>\n",
       "      <td>1.260000</td>\n",
       "    </tr>\n",
       "    <tr>\n",
       "      <th>46</th>\n",
       "      <td>Syracuse</td>\n",
       "      <td>1.347368</td>\n",
       "    </tr>\n",
       "    <tr>\n",
       "      <th>47</th>\n",
       "      <td>Tampa</td>\n",
       "      <td>1.068824</td>\n",
       "    </tr>\n",
       "    <tr>\n",
       "      <th>48</th>\n",
       "      <td>TotalUS</td>\n",
       "      <td>1.011600</td>\n",
       "    </tr>\n",
       "    <tr>\n",
       "      <th>49</th>\n",
       "      <td>West</td>\n",
       "      <td>0.940833</td>\n",
       "    </tr>\n",
       "    <tr>\n",
       "      <th>50</th>\n",
       "      <td>WestTexNewMexico</td>\n",
       "      <td>0.757407</td>\n",
       "    </tr>\n",
       "  </tbody>\n",
       "</table>\n",
       "</div>"
      ],
      "text/plain": [
       "                 region  AveragePrice\n",
       "0                Albany      1.238657\n",
       "1               Atlanta      1.012037\n",
       "2   BaltimoreWashington      1.160923\n",
       "3                 Boise      0.974923\n",
       "4                Boston      1.205484\n",
       "5      BuffaloRochester      1.301569\n",
       "6            California      1.055921\n",
       "7             Charlotte      1.311613\n",
       "8               Chicago      1.214783\n",
       "9              Columbus      1.012553\n",
       "10        DallasFtWorth      0.755882\n",
       "11               Denver      1.080833\n",
       "12              Detroit      1.041250\n",
       "13          GrandRapids      1.136957\n",
       "14           GreatLakes      1.107222\n",
       "15   HarrisburgScranton      1.157368\n",
       "16  HartfordSpringfield      1.209231\n",
       "17              Houston      0.780690\n",
       "18         Indianapolis      1.126250\n",
       "19         Jacksonville      1.113659\n",
       "20             LasVegas      1.041000\n",
       "21           LosAngeles      0.863333\n",
       "22           Louisville      1.042941\n",
       "23    MiamiFtLauderdale      1.176471\n",
       "24             Midsouth      1.081111\n",
       "25            Nashville      1.028400\n",
       "26              NewYork      1.248636\n",
       "27            Northeast      1.236667\n",
       "28   NorthernNewEngland      1.111034\n",
       "29              Orlando      1.133333\n",
       "30         Philadelphia      1.293846\n",
       "31        PhoenixTucson      0.659808\n",
       "32           Pittsburgh      1.178636\n",
       "33               Plains      1.051667\n",
       "34             Portland      1.043667\n",
       "35    RaleighGreensboro      1.166250\n",
       "36      RichmondNorfolk      1.004762\n",
       "37              Roanoke      1.096471\n",
       "38             SanDiego      0.993421\n",
       "39         SanFrancisco      1.150667\n",
       "40              Seattle      1.052222\n",
       "41        SouthCarolina      1.071250\n",
       "42         SouthCentral      0.818718\n",
       "43            Southeast      1.091111\n",
       "44              Spokane      1.096122\n",
       "45              StLouis      1.260000\n",
       "46             Syracuse      1.347368\n",
       "47                Tampa      1.068824\n",
       "48              TotalUS      1.011600\n",
       "49                 West      0.940833\n",
       "50     WestTexNewMexico      0.757407"
      ]
     },
     "execution_count": 26,
     "metadata": {},
     "output_type": "execute_result"
    }
   ],
   "source": [
    "city=df.groupby('region')['AveragePrice'].mean().reset_index()\n",
    "city"
   ]
  },
  {
   "cell_type": "code",
   "execution_count": 27,
   "metadata": {},
   "outputs": [
    {
     "data": {
      "text/html": [
       "<div>\n",
       "<style scoped>\n",
       "    .dataframe tbody tr th:only-of-type {\n",
       "        vertical-align: middle;\n",
       "    }\n",
       "\n",
       "    .dataframe tbody tr th {\n",
       "        vertical-align: top;\n",
       "    }\n",
       "\n",
       "    .dataframe thead th {\n",
       "        text-align: right;\n",
       "    }\n",
       "</style>\n",
       "<table border=\"1\" class=\"dataframe\">\n",
       "  <thead>\n",
       "    <tr style=\"text-align: right;\">\n",
       "      <th></th>\n",
       "      <th>region</th>\n",
       "      <th>AveragePrice</th>\n",
       "    </tr>\n",
       "  </thead>\n",
       "  <tbody>\n",
       "    <tr>\n",
       "      <th>46</th>\n",
       "      <td>Syracuse</td>\n",
       "      <td>1.347368</td>\n",
       "    </tr>\n",
       "    <tr>\n",
       "      <th>7</th>\n",
       "      <td>Charlotte</td>\n",
       "      <td>1.311613</td>\n",
       "    </tr>\n",
       "    <tr>\n",
       "      <th>5</th>\n",
       "      <td>BuffaloRochester</td>\n",
       "      <td>1.301569</td>\n",
       "    </tr>\n",
       "    <tr>\n",
       "      <th>30</th>\n",
       "      <td>Philadelphia</td>\n",
       "      <td>1.293846</td>\n",
       "    </tr>\n",
       "    <tr>\n",
       "      <th>45</th>\n",
       "      <td>StLouis</td>\n",
       "      <td>1.260000</td>\n",
       "    </tr>\n",
       "  </tbody>\n",
       "</table>\n",
       "</div>"
      ],
      "text/plain": [
       "              region  AveragePrice\n",
       "46          Syracuse      1.347368\n",
       "7          Charlotte      1.311613\n",
       "5   BuffaloRochester      1.301569\n",
       "30      Philadelphia      1.293846\n",
       "45           StLouis      1.260000"
      ]
     },
     "execution_count": 27,
     "metadata": {},
     "output_type": "execute_result"
    }
   ],
   "source": [
    "city.sort_values('AveragePrice',ascending=False)[0:5]"
   ]
  },
  {
   "cell_type": "markdown",
   "metadata": {},
   "source": [
    "### Observations:\n",
    "    5 regions in US where average price of a Avocado is higher."
   ]
  },
  {
   "cell_type": "code",
   "execution_count": 28,
   "metadata": {},
   "outputs": [
    {
     "data": {
      "text/html": [
       "<div>\n",
       "<style scoped>\n",
       "    .dataframe tbody tr th:only-of-type {\n",
       "        vertical-align: middle;\n",
       "    }\n",
       "\n",
       "    .dataframe tbody tr th {\n",
       "        vertical-align: top;\n",
       "    }\n",
       "\n",
       "    .dataframe thead th {\n",
       "        text-align: right;\n",
       "    }\n",
       "</style>\n",
       "<table border=\"1\" class=\"dataframe\">\n",
       "  <thead>\n",
       "    <tr style=\"text-align: right;\">\n",
       "      <th></th>\n",
       "      <th>region</th>\n",
       "      <th>AveragePrice</th>\n",
       "    </tr>\n",
       "  </thead>\n",
       "  <tbody>\n",
       "    <tr>\n",
       "      <th>31</th>\n",
       "      <td>PhoenixTucson</td>\n",
       "      <td>0.659808</td>\n",
       "    </tr>\n",
       "    <tr>\n",
       "      <th>10</th>\n",
       "      <td>DallasFtWorth</td>\n",
       "      <td>0.755882</td>\n",
       "    </tr>\n",
       "    <tr>\n",
       "      <th>50</th>\n",
       "      <td>WestTexNewMexico</td>\n",
       "      <td>0.757407</td>\n",
       "    </tr>\n",
       "    <tr>\n",
       "      <th>17</th>\n",
       "      <td>Houston</td>\n",
       "      <td>0.780690</td>\n",
       "    </tr>\n",
       "    <tr>\n",
       "      <th>42</th>\n",
       "      <td>SouthCentral</td>\n",
       "      <td>0.818718</td>\n",
       "    </tr>\n",
       "  </tbody>\n",
       "</table>\n",
       "</div>"
      ],
      "text/plain": [
       "              region  AveragePrice\n",
       "31     PhoenixTucson      0.659808\n",
       "10     DallasFtWorth      0.755882\n",
       "50  WestTexNewMexico      0.757407\n",
       "17           Houston      0.780690\n",
       "42      SouthCentral      0.818718"
      ]
     },
     "execution_count": 28,
     "metadata": {},
     "output_type": "execute_result"
    }
   ],
   "source": [
    "city.sort_values('AveragePrice')[0:5]"
   ]
  },
  {
   "cell_type": "markdown",
   "metadata": {},
   "source": [
    "### Observations: \n",
    "    5 regions in US where average price of a Avocado is lower."
   ]
  },
  {
   "cell_type": "markdown",
   "metadata": {},
   "source": [
    "### 2. Target Variable = Region"
   ]
  },
  {
   "cell_type": "code",
   "execution_count": 29,
   "metadata": {},
   "outputs": [],
   "source": [
    "tot_vol=df.groupby('region')['Total Volume'].mean().reset_index()"
   ]
  },
  {
   "cell_type": "code",
   "execution_count": 30,
   "metadata": {},
   "outputs": [
    {
     "data": {
      "text/html": [
       "<div>\n",
       "<style scoped>\n",
       "    .dataframe tbody tr th:only-of-type {\n",
       "        vertical-align: middle;\n",
       "    }\n",
       "\n",
       "    .dataframe tbody tr th {\n",
       "        vertical-align: top;\n",
       "    }\n",
       "\n",
       "    .dataframe thead th {\n",
       "        text-align: right;\n",
       "    }\n",
       "</style>\n",
       "<table border=\"1\" class=\"dataframe\">\n",
       "  <thead>\n",
       "    <tr style=\"text-align: right;\">\n",
       "      <th></th>\n",
       "      <th>region</th>\n",
       "      <th>Total Volume</th>\n",
       "    </tr>\n",
       "  </thead>\n",
       "  <tbody>\n",
       "    <tr>\n",
       "      <th>48</th>\n",
       "      <td>TotalUS</td>\n",
       "      <td>3.293714e+07</td>\n",
       "    </tr>\n",
       "    <tr>\n",
       "      <th>6</th>\n",
       "      <td>California</td>\n",
       "      <td>6.035277e+06</td>\n",
       "    </tr>\n",
       "    <tr>\n",
       "      <th>49</th>\n",
       "      <td>West</td>\n",
       "      <td>5.574939e+06</td>\n",
       "    </tr>\n",
       "    <tr>\n",
       "      <th>42</th>\n",
       "      <td>SouthCentral</td>\n",
       "      <td>5.496995e+06</td>\n",
       "    </tr>\n",
       "    <tr>\n",
       "      <th>27</th>\n",
       "      <td>Northeast</td>\n",
       "      <td>3.465864e+06</td>\n",
       "    </tr>\n",
       "  </tbody>\n",
       "</table>\n",
       "</div>"
      ],
      "text/plain": [
       "          region  Total Volume\n",
       "48       TotalUS  3.293714e+07\n",
       "6     California  6.035277e+06\n",
       "49          West  5.574939e+06\n",
       "42  SouthCentral  5.496995e+06\n",
       "27     Northeast  3.465864e+06"
      ]
     },
     "execution_count": 30,
     "metadata": {},
     "output_type": "execute_result"
    }
   ],
   "source": [
    "tot_vol.sort_values('Total Volume',ascending=False)[0:5]"
   ]
  },
  {
   "cell_type": "markdown",
   "metadata": {},
   "source": [
    "### Observations:\n",
    "        On average, California and West regions buy more Avocados."
   ]
  },
  {
   "cell_type": "code",
   "execution_count": 31,
   "metadata": {},
   "outputs": [
    {
     "data": {
      "text/html": [
       "<div>\n",
       "<style scoped>\n",
       "    .dataframe tbody tr th:only-of-type {\n",
       "        vertical-align: middle;\n",
       "    }\n",
       "\n",
       "    .dataframe tbody tr th {\n",
       "        vertical-align: top;\n",
       "    }\n",
       "\n",
       "    .dataframe thead th {\n",
       "        text-align: right;\n",
       "    }\n",
       "</style>\n",
       "<table border=\"1\" class=\"dataframe\">\n",
       "  <thead>\n",
       "    <tr style=\"text-align: right;\">\n",
       "      <th></th>\n",
       "      <th>region</th>\n",
       "      <th>4046</th>\n",
       "    </tr>\n",
       "  </thead>\n",
       "  <tbody>\n",
       "    <tr>\n",
       "      <th>48</th>\n",
       "      <td>TotalUS</td>\n",
       "      <td>1.422580e+07</td>\n",
       "    </tr>\n",
       "    <tr>\n",
       "      <th>42</th>\n",
       "      <td>SouthCentral</td>\n",
       "      <td>3.077958e+06</td>\n",
       "    </tr>\n",
       "    <tr>\n",
       "      <th>6</th>\n",
       "      <td>California</td>\n",
       "      <td>2.410017e+06</td>\n",
       "    </tr>\n",
       "    <tr>\n",
       "      <th>49</th>\n",
       "      <td>West</td>\n",
       "      <td>2.348945e+06</td>\n",
       "    </tr>\n",
       "    <tr>\n",
       "      <th>43</th>\n",
       "      <td>Southeast</td>\n",
       "      <td>2.195695e+06</td>\n",
       "    </tr>\n",
       "  </tbody>\n",
       "</table>\n",
       "</div>"
      ],
      "text/plain": [
       "          region          4046\n",
       "48       TotalUS  1.422580e+07\n",
       "42  SouthCentral  3.077958e+06\n",
       "6     California  2.410017e+06\n",
       "49          West  2.348945e+06\n",
       "43     Southeast  2.195695e+06"
      ]
     },
     "execution_count": 31,
     "metadata": {},
     "output_type": "execute_result"
    }
   ],
   "source": [
    "plu4046=df.groupby('region')['4046'].mean().reset_index()\n",
    "plu4046.sort_values('4046',ascending=False)[0:5]"
   ]
  },
  {
   "cell_type": "markdown",
   "metadata": {},
   "source": [
    "### Observations:\n",
    "        On average, 'Avocados with PLU 4046' are sold more in SouthCentral, California regions."
   ]
  },
  {
   "cell_type": "code",
   "execution_count": 32,
   "metadata": {},
   "outputs": [
    {
     "data": {
      "text/html": [
       "<div>\n",
       "<style scoped>\n",
       "    .dataframe tbody tr th:only-of-type {\n",
       "        vertical-align: middle;\n",
       "    }\n",
       "\n",
       "    .dataframe tbody tr th {\n",
       "        vertical-align: top;\n",
       "    }\n",
       "\n",
       "    .dataframe thead th {\n",
       "        text-align: right;\n",
       "    }\n",
       "</style>\n",
       "<table border=\"1\" class=\"dataframe\">\n",
       "  <thead>\n",
       "    <tr style=\"text-align: right;\">\n",
       "      <th></th>\n",
       "      <th>region</th>\n",
       "      <th>4225</th>\n",
       "    </tr>\n",
       "  </thead>\n",
       "  <tbody>\n",
       "    <tr>\n",
       "      <th>48</th>\n",
       "      <td>TotalUS</td>\n",
       "      <td>1.243888e+07</td>\n",
       "    </tr>\n",
       "    <tr>\n",
       "      <th>27</th>\n",
       "      <td>Northeast</td>\n",
       "      <td>2.427952e+06</td>\n",
       "    </tr>\n",
       "    <tr>\n",
       "      <th>49</th>\n",
       "      <td>West</td>\n",
       "      <td>2.040127e+06</td>\n",
       "    </tr>\n",
       "    <tr>\n",
       "      <th>6</th>\n",
       "      <td>California</td>\n",
       "      <td>1.984823e+06</td>\n",
       "    </tr>\n",
       "    <tr>\n",
       "      <th>14</th>\n",
       "      <td>GreatLakes</td>\n",
       "      <td>1.720079e+06</td>\n",
       "    </tr>\n",
       "  </tbody>\n",
       "</table>\n",
       "</div>"
      ],
      "text/plain": [
       "        region          4225\n",
       "48     TotalUS  1.243888e+07\n",
       "27   Northeast  2.427952e+06\n",
       "49        West  2.040127e+06\n",
       "6   California  1.984823e+06\n",
       "14  GreatLakes  1.720079e+06"
      ]
     },
     "execution_count": 32,
     "metadata": {},
     "output_type": "execute_result"
    }
   ],
   "source": [
    "plu4225=df.groupby('region')['4225'].mean().reset_index()\n",
    "plu4225.sort_values('4225',ascending=False)[0:5]"
   ]
  },
  {
   "cell_type": "markdown",
   "metadata": {},
   "source": [
    "### Observations:\n",
    "        On average, 'Avocados with PLU 4225' are sold more in Northeast, West regions."
   ]
  },
  {
   "cell_type": "code",
   "execution_count": 33,
   "metadata": {},
   "outputs": [
    {
     "data": {
      "text/html": [
       "<div>\n",
       "<style scoped>\n",
       "    .dataframe tbody tr th:only-of-type {\n",
       "        vertical-align: middle;\n",
       "    }\n",
       "\n",
       "    .dataframe tbody tr th {\n",
       "        vertical-align: top;\n",
       "    }\n",
       "\n",
       "    .dataframe thead th {\n",
       "        text-align: right;\n",
       "    }\n",
       "</style>\n",
       "<table border=\"1\" class=\"dataframe\">\n",
       "  <thead>\n",
       "    <tr style=\"text-align: right;\">\n",
       "      <th></th>\n",
       "      <th>region</th>\n",
       "      <th>4770</th>\n",
       "    </tr>\n",
       "  </thead>\n",
       "  <tbody>\n",
       "    <tr>\n",
       "      <th>48</th>\n",
       "      <td>TotalUS</td>\n",
       "      <td>950091.078000</td>\n",
       "    </tr>\n",
       "    <tr>\n",
       "      <th>14</th>\n",
       "      <td>GreatLakes</td>\n",
       "      <td>300844.177222</td>\n",
       "    </tr>\n",
       "    <tr>\n",
       "      <th>6</th>\n",
       "      <td>California</td>\n",
       "      <td>225314.512500</td>\n",
       "    </tr>\n",
       "    <tr>\n",
       "      <th>24</th>\n",
       "      <td>Midsouth</td>\n",
       "      <td>188945.888889</td>\n",
       "    </tr>\n",
       "    <tr>\n",
       "      <th>49</th>\n",
       "      <td>West</td>\n",
       "      <td>124529.191111</td>\n",
       "    </tr>\n",
       "  </tbody>\n",
       "</table>\n",
       "</div>"
      ],
      "text/plain": [
       "        region           4770\n",
       "48     TotalUS  950091.078000\n",
       "14  GreatLakes  300844.177222\n",
       "6   California  225314.512500\n",
       "24    Midsouth  188945.888889\n",
       "49        West  124529.191111"
      ]
     },
     "execution_count": 33,
     "metadata": {},
     "output_type": "execute_result"
    }
   ],
   "source": [
    "plu4770=df.groupby('region')['4770'].mean().reset_index()\n",
    "plu4770.sort_values('4770',ascending=False)[0:5]"
   ]
  },
  {
   "cell_type": "markdown",
   "metadata": {},
   "source": [
    "### Observations:\n",
    "        On average, 'Avocados with PLU 4770' are sold more in GreatLakes, California."
   ]
  },
  {
   "cell_type": "code",
   "execution_count": 34,
   "metadata": {},
   "outputs": [
    {
     "data": {
      "text/html": [
       "<div>\n",
       "<style scoped>\n",
       "    .dataframe tbody tr th:only-of-type {\n",
       "        vertical-align: middle;\n",
       "    }\n",
       "\n",
       "    .dataframe tbody tr th {\n",
       "        vertical-align: top;\n",
       "    }\n",
       "\n",
       "    .dataframe thead th {\n",
       "        text-align: right;\n",
       "    }\n",
       "</style>\n",
       "<table border=\"1\" class=\"dataframe\">\n",
       "  <thead>\n",
       "    <tr style=\"text-align: right;\">\n",
       "      <th></th>\n",
       "      <th>region</th>\n",
       "      <th>Small Bags</th>\n",
       "    </tr>\n",
       "  </thead>\n",
       "  <tbody>\n",
       "    <tr>\n",
       "      <th>48</th>\n",
       "      <td>TotalUS</td>\n",
       "      <td>4.519090e+06</td>\n",
       "    </tr>\n",
       "    <tr>\n",
       "      <th>6</th>\n",
       "      <td>California</td>\n",
       "      <td>1.286774e+06</td>\n",
       "    </tr>\n",
       "    <tr>\n",
       "      <th>27</th>\n",
       "      <td>Northeast</td>\n",
       "      <td>8.325909e+05</td>\n",
       "    </tr>\n",
       "    <tr>\n",
       "      <th>49</th>\n",
       "      <td>West</td>\n",
       "      <td>7.447474e+05</td>\n",
       "    </tr>\n",
       "    <tr>\n",
       "      <th>14</th>\n",
       "      <td>GreatLakes</td>\n",
       "      <td>5.701240e+05</td>\n",
       "    </tr>\n",
       "  </tbody>\n",
       "</table>\n",
       "</div>"
      ],
      "text/plain": [
       "        region    Small Bags\n",
       "48     TotalUS  4.519090e+06\n",
       "6   California  1.286774e+06\n",
       "27   Northeast  8.325909e+05\n",
       "49        West  7.447474e+05\n",
       "14  GreatLakes  5.701240e+05"
      ]
     },
     "execution_count": 34,
     "metadata": {},
     "output_type": "execute_result"
    }
   ],
   "source": [
    "sb=df.groupby('region')['Small Bags'].mean().reset_index()\n",
    "sb.sort_values('Small Bags',ascending=False)[0:5]"
   ]
  },
  {
   "cell_type": "markdown",
   "metadata": {},
   "source": [
    "### Observations:\n",
    "    On average, people from California and Northeast regions buy more 'Small Bags' of Avocados."
   ]
  },
  {
   "cell_type": "code",
   "execution_count": 35,
   "metadata": {},
   "outputs": [
    {
     "data": {
      "text/html": [
       "<div>\n",
       "<style scoped>\n",
       "    .dataframe tbody tr th:only-of-type {\n",
       "        vertical-align: middle;\n",
       "    }\n",
       "\n",
       "    .dataframe tbody tr th {\n",
       "        vertical-align: top;\n",
       "    }\n",
       "\n",
       "    .dataframe thead th {\n",
       "        text-align: right;\n",
       "    }\n",
       "</style>\n",
       "<table border=\"1\" class=\"dataframe\">\n",
       "  <thead>\n",
       "    <tr style=\"text-align: right;\">\n",
       "      <th></th>\n",
       "      <th>region</th>\n",
       "      <th>Large Bags</th>\n",
       "    </tr>\n",
       "  </thead>\n",
       "  <tbody>\n",
       "    <tr>\n",
       "      <th>48</th>\n",
       "      <td>TotalUS</td>\n",
       "      <td>779546.107600</td>\n",
       "    </tr>\n",
       "    <tr>\n",
       "      <th>49</th>\n",
       "      <td>West</td>\n",
       "      <td>315172.970278</td>\n",
       "    </tr>\n",
       "    <tr>\n",
       "      <th>43</th>\n",
       "      <td>Southeast</td>\n",
       "      <td>236389.612222</td>\n",
       "    </tr>\n",
       "    <tr>\n",
       "      <th>42</th>\n",
       "      <td>SouthCentral</td>\n",
       "      <td>123663.470256</td>\n",
       "    </tr>\n",
       "    <tr>\n",
       "      <th>6</th>\n",
       "      <td>California</td>\n",
       "      <td>109555.190526</td>\n",
       "    </tr>\n",
       "  </tbody>\n",
       "</table>\n",
       "</div>"
      ],
      "text/plain": [
       "          region     Large Bags\n",
       "48       TotalUS  779546.107600\n",
       "49          West  315172.970278\n",
       "43     Southeast  236389.612222\n",
       "42  SouthCentral  123663.470256\n",
       "6     California  109555.190526"
      ]
     },
     "execution_count": 35,
     "metadata": {},
     "output_type": "execute_result"
    }
   ],
   "source": [
    "lb=df.groupby('region')['Large Bags'].mean().reset_index()\n",
    "lb.sort_values('Large Bags',ascending=False)[0:5]   "
   ]
  },
  {
   "cell_type": "markdown",
   "metadata": {},
   "source": [
    "### Observations:\n",
    "    On average, people from California and Northeast regions buy more 'Large Bags' of Avocados."
   ]
  },
  {
   "cell_type": "code",
   "execution_count": 36,
   "metadata": {},
   "outputs": [
    {
     "data": {
      "text/html": [
       "<div>\n",
       "<style scoped>\n",
       "    .dataframe tbody tr th:only-of-type {\n",
       "        vertical-align: middle;\n",
       "    }\n",
       "\n",
       "    .dataframe tbody tr th {\n",
       "        vertical-align: top;\n",
       "    }\n",
       "\n",
       "    .dataframe thead th {\n",
       "        text-align: right;\n",
       "    }\n",
       "</style>\n",
       "<table border=\"1\" class=\"dataframe\">\n",
       "  <thead>\n",
       "    <tr style=\"text-align: right;\">\n",
       "      <th></th>\n",
       "      <th>region</th>\n",
       "      <th>XLarge Bags</th>\n",
       "    </tr>\n",
       "  </thead>\n",
       "  <tbody>\n",
       "    <tr>\n",
       "      <th>48</th>\n",
       "      <td>TotalUS</td>\n",
       "      <td>23732.280400</td>\n",
       "    </tr>\n",
       "    <tr>\n",
       "      <th>6</th>\n",
       "      <td>California</td>\n",
       "      <td>18792.960132</td>\n",
       "    </tr>\n",
       "    <tr>\n",
       "      <th>14</th>\n",
       "      <td>GreatLakes</td>\n",
       "      <td>16891.117778</td>\n",
       "    </tr>\n",
       "    <tr>\n",
       "      <th>12</th>\n",
       "      <td>Detroit</td>\n",
       "      <td>9337.904250</td>\n",
       "    </tr>\n",
       "    <tr>\n",
       "      <th>42</th>\n",
       "      <td>SouthCentral</td>\n",
       "      <td>5132.639487</td>\n",
       "    </tr>\n",
       "  </tbody>\n",
       "</table>\n",
       "</div>"
      ],
      "text/plain": [
       "          region   XLarge Bags\n",
       "48       TotalUS  23732.280400\n",
       "6     California  18792.960132\n",
       "14    GreatLakes  16891.117778\n",
       "12       Detroit   9337.904250\n",
       "42  SouthCentral   5132.639487"
      ]
     },
     "execution_count": 36,
     "metadata": {},
     "output_type": "execute_result"
    }
   ],
   "source": [
    "xlb=df.groupby('region')['XLarge Bags'].mean().reset_index()\n",
    "xlb.sort_values('XLarge Bags',ascending=False)[0:5]"
   ]
  },
  {
   "cell_type": "markdown",
   "metadata": {},
   "source": [
    "### Observations:\n",
    "    On average, people from California and GreatLakes regions buy more 'XLarge Bags' of Avocados."
   ]
  },
  {
   "cell_type": "markdown",
   "metadata": {},
   "source": [
    "## Correleation Matrix"
   ]
  },
  {
   "cell_type": "code",
   "execution_count": 37,
   "metadata": {},
   "outputs": [
    {
     "data": {
      "text/html": [
       "<div>\n",
       "<style scoped>\n",
       "    .dataframe tbody tr th:only-of-type {\n",
       "        vertical-align: middle;\n",
       "    }\n",
       "\n",
       "    .dataframe tbody tr th {\n",
       "        vertical-align: top;\n",
       "    }\n",
       "\n",
       "    .dataframe thead th {\n",
       "        text-align: right;\n",
       "    }\n",
       "</style>\n",
       "<table border=\"1\" class=\"dataframe\">\n",
       "  <thead>\n",
       "    <tr style=\"text-align: right;\">\n",
       "      <th></th>\n",
       "      <th>AveragePrice</th>\n",
       "      <th>Total Volume</th>\n",
       "      <th>4046</th>\n",
       "      <th>4225</th>\n",
       "      <th>4770</th>\n",
       "      <th>Total Bags</th>\n",
       "      <th>Small Bags</th>\n",
       "      <th>Large Bags</th>\n",
       "      <th>XLarge Bags</th>\n",
       "      <th>year</th>\n",
       "    </tr>\n",
       "  </thead>\n",
       "  <tbody>\n",
       "    <tr>\n",
       "      <th>AveragePrice</th>\n",
       "      <td>1.000000</td>\n",
       "      <td>-0.140470</td>\n",
       "      <td>-0.190096</td>\n",
       "      <td>-0.092084</td>\n",
       "      <td>-0.100567</td>\n",
       "      <td>-0.111597</td>\n",
       "      <td>-0.097682</td>\n",
       "      <td>-0.177480</td>\n",
       "      <td>-0.048284</td>\n",
       "      <td>0.178683</td>\n",
       "    </tr>\n",
       "    <tr>\n",
       "      <th>Total Volume</th>\n",
       "      <td>-0.140470</td>\n",
       "      <td>1.000000</td>\n",
       "      <td>0.985568</td>\n",
       "      <td>0.987154</td>\n",
       "      <td>0.934347</td>\n",
       "      <td>0.967689</td>\n",
       "      <td>0.960642</td>\n",
       "      <td>0.910226</td>\n",
       "      <td>0.521717</td>\n",
       "      <td>-0.004189</td>\n",
       "    </tr>\n",
       "    <tr>\n",
       "      <th>4046</th>\n",
       "      <td>-0.190096</td>\n",
       "      <td>0.985568</td>\n",
       "      <td>1.000000</td>\n",
       "      <td>0.951952</td>\n",
       "      <td>0.898570</td>\n",
       "      <td>0.930395</td>\n",
       "      <td>0.922278</td>\n",
       "      <td>0.884229</td>\n",
       "      <td>0.474063</td>\n",
       "      <td>-0.040439</td>\n",
       "    </tr>\n",
       "    <tr>\n",
       "      <th>4225</th>\n",
       "      <td>-0.092084</td>\n",
       "      <td>0.987154</td>\n",
       "      <td>0.951952</td>\n",
       "      <td>1.000000</td>\n",
       "      <td>0.927757</td>\n",
       "      <td>0.951779</td>\n",
       "      <td>0.943988</td>\n",
       "      <td>0.900496</td>\n",
       "      <td>0.504718</td>\n",
       "      <td>-0.007254</td>\n",
       "    </tr>\n",
       "    <tr>\n",
       "      <th>4770</th>\n",
       "      <td>-0.100567</td>\n",
       "      <td>0.934347</td>\n",
       "      <td>0.898570</td>\n",
       "      <td>0.927757</td>\n",
       "      <td>1.000000</td>\n",
       "      <td>0.926405</td>\n",
       "      <td>0.923607</td>\n",
       "      <td>0.840523</td>\n",
       "      <td>0.646053</td>\n",
       "      <td>0.029222</td>\n",
       "    </tr>\n",
       "    <tr>\n",
       "      <th>Total Bags</th>\n",
       "      <td>-0.111597</td>\n",
       "      <td>0.967689</td>\n",
       "      <td>0.930395</td>\n",
       "      <td>0.951779</td>\n",
       "      <td>0.926405</td>\n",
       "      <td>1.000000</td>\n",
       "      <td>0.997341</td>\n",
       "      <td>0.911336</td>\n",
       "      <td>0.601856</td>\n",
       "      <td>0.090108</td>\n",
       "    </tr>\n",
       "    <tr>\n",
       "      <th>Small Bags</th>\n",
       "      <td>-0.097682</td>\n",
       "      <td>0.960642</td>\n",
       "      <td>0.922278</td>\n",
       "      <td>0.943988</td>\n",
       "      <td>0.923607</td>\n",
       "      <td>0.997341</td>\n",
       "      <td>1.000000</td>\n",
       "      <td>0.879131</td>\n",
       "      <td>0.611300</td>\n",
       "      <td>0.106382</td>\n",
       "    </tr>\n",
       "    <tr>\n",
       "      <th>Large Bags</th>\n",
       "      <td>-0.177480</td>\n",
       "      <td>0.910226</td>\n",
       "      <td>0.884229</td>\n",
       "      <td>0.900496</td>\n",
       "      <td>0.840523</td>\n",
       "      <td>0.911336</td>\n",
       "      <td>0.879131</td>\n",
       "      <td>1.000000</td>\n",
       "      <td>0.447779</td>\n",
       "      <td>-0.018678</td>\n",
       "    </tr>\n",
       "    <tr>\n",
       "      <th>XLarge Bags</th>\n",
       "      <td>-0.048284</td>\n",
       "      <td>0.521717</td>\n",
       "      <td>0.474063</td>\n",
       "      <td>0.504718</td>\n",
       "      <td>0.646053</td>\n",
       "      <td>0.601856</td>\n",
       "      <td>0.611300</td>\n",
       "      <td>0.447779</td>\n",
       "      <td>1.000000</td>\n",
       "      <td>0.218342</td>\n",
       "    </tr>\n",
       "    <tr>\n",
       "      <th>year</th>\n",
       "      <td>0.178683</td>\n",
       "      <td>-0.004189</td>\n",
       "      <td>-0.040439</td>\n",
       "      <td>-0.007254</td>\n",
       "      <td>0.029222</td>\n",
       "      <td>0.090108</td>\n",
       "      <td>0.106382</td>\n",
       "      <td>-0.018678</td>\n",
       "      <td>0.218342</td>\n",
       "      <td>1.000000</td>\n",
       "    </tr>\n",
       "  </tbody>\n",
       "</table>\n",
       "</div>"
      ],
      "text/plain": [
       "              AveragePrice  Total Volume      4046      4225      4770  \\\n",
       "AveragePrice      1.000000     -0.140470 -0.190096 -0.092084 -0.100567   \n",
       "Total Volume     -0.140470      1.000000  0.985568  0.987154  0.934347   \n",
       "4046             -0.190096      0.985568  1.000000  0.951952  0.898570   \n",
       "4225             -0.092084      0.987154  0.951952  1.000000  0.927757   \n",
       "4770             -0.100567      0.934347  0.898570  0.927757  1.000000   \n",
       "Total Bags       -0.111597      0.967689  0.930395  0.951779  0.926405   \n",
       "Small Bags       -0.097682      0.960642  0.922278  0.943988  0.923607   \n",
       "Large Bags       -0.177480      0.910226  0.884229  0.900496  0.840523   \n",
       "XLarge Bags      -0.048284      0.521717  0.474063  0.504718  0.646053   \n",
       "year              0.178683     -0.004189 -0.040439 -0.007254  0.029222   \n",
       "\n",
       "              Total Bags  Small Bags  Large Bags  XLarge Bags      year  \n",
       "AveragePrice   -0.111597   -0.097682   -0.177480    -0.048284  0.178683  \n",
       "Total Volume    0.967689    0.960642    0.910226     0.521717 -0.004189  \n",
       "4046            0.930395    0.922278    0.884229     0.474063 -0.040439  \n",
       "4225            0.951779    0.943988    0.900496     0.504718 -0.007254  \n",
       "4770            0.926405    0.923607    0.840523     0.646053  0.029222  \n",
       "Total Bags      1.000000    0.997341    0.911336     0.601856  0.090108  \n",
       "Small Bags      0.997341    1.000000    0.879131     0.611300  0.106382  \n",
       "Large Bags      0.911336    0.879131    1.000000     0.447779 -0.018678  \n",
       "XLarge Bags     0.601856    0.611300    0.447779     1.000000  0.218342  \n",
       "year            0.090108    0.106382   -0.018678     0.218342  1.000000  "
      ]
     },
     "execution_count": 37,
     "metadata": {},
     "output_type": "execute_result"
    }
   ],
   "source": [
    "df.corr()"
   ]
  },
  {
   "cell_type": "code",
   "execution_count": 38,
   "metadata": {},
   "outputs": [
    {
     "data": {
      "image/png": "[encoded data removed]",
      "text/plain": [
       "<Figure size 720x360 with 2 Axes>"
      ]
     },
     "metadata": {
      "needs_background": "light"
     },
     "output_type": "display_data"
    }
   ],
   "source": [
    "plt.figure(figsize=(10,5))\n",
    "sns.heatmap(df.corr(),annot=True,fmt='.2f',linewidth=0.5)\n",
    "plt.show()"
   ]
  },
  {
   "cell_type": "markdown",
   "metadata": {},
   "source": [
    "### Observations:\n",
    "    None of the columns have significant correlation with the target column."
   ]
  },
  {
   "cell_type": "markdown",
   "metadata": {},
   "source": [
    "# Data Preprocessing"
   ]
  },
  {
   "cell_type": "markdown",
   "metadata": {},
   "source": [
    "## Checking Outliers"
   ]
  },
  {
   "cell_type": "code",
   "execution_count": 39,
   "metadata": {},
   "outputs": [
    {
     "data": {
      "text/html": [
       "<div>\n",
       "<style scoped>\n",
       "    .dataframe tbody tr th:only-of-type {\n",
       "        vertical-align: middle;\n",
       "    }\n",
       "\n",
       "    .dataframe tbody tr th {\n",
       "        vertical-align: top;\n",
       "    }\n",
       "\n",
       "    .dataframe thead th {\n",
       "        text-align: right;\n",
       "    }\n",
       "</style>\n",
       "<table border=\"1\" class=\"dataframe\">\n",
       "  <thead>\n",
       "    <tr style=\"text-align: right;\">\n",
       "      <th></th>\n",
       "      <th>AveragePrice</th>\n",
       "      <th>Total Volume</th>\n",
       "      <th>4046</th>\n",
       "      <th>4225</th>\n",
       "      <th>4770</th>\n",
       "      <th>Total Bags</th>\n",
       "      <th>Small Bags</th>\n",
       "      <th>Large Bags</th>\n",
       "      <th>XLarge Bags</th>\n",
       "      <th>year</th>\n",
       "    </tr>\n",
       "  </thead>\n",
       "  <tbody>\n",
       "    <tr>\n",
       "      <th>count</th>\n",
       "      <td>1517.000000</td>\n",
       "      <td>1.517000e+03</td>\n",
       "      <td>1.517000e+03</td>\n",
       "      <td>1.517000e+03</td>\n",
       "      <td>1.517000e+03</td>\n",
       "      <td>1.517000e+03</td>\n",
       "      <td>1.517000e+03</td>\n",
       "      <td>1.517000e+03</td>\n",
       "      <td>1517.000000</td>\n",
       "      <td>1517.000000</td>\n",
       "    </tr>\n",
       "    <tr>\n",
       "      <th>mean</th>\n",
       "      <td>1.074990</td>\n",
       "      <td>1.601879e+06</td>\n",
       "      <td>6.464387e+05</td>\n",
       "      <td>6.114375e+05</td>\n",
       "      <td>5.040550e+04</td>\n",
       "      <td>2.935974e+05</td>\n",
       "      <td>2.487736e+05</td>\n",
       "      <td>4.264205e+04</td>\n",
       "      <td>2181.771074</td>\n",
       "      <td>2015.162821</td>\n",
       "    </tr>\n",
       "    <tr>\n",
       "      <th>std</th>\n",
       "      <td>0.188891</td>\n",
       "      <td>4.433143e+06</td>\n",
       "      <td>1.947614e+06</td>\n",
       "      <td>1.672906e+06</td>\n",
       "      <td>1.377812e+05</td>\n",
       "      <td>7.579765e+05</td>\n",
       "      <td>6.474765e+05</td>\n",
       "      <td>1.182157e+05</td>\n",
       "      <td>7455.712144</td>\n",
       "      <td>0.369324</td>\n",
       "    </tr>\n",
       "    <tr>\n",
       "      <th>min</th>\n",
       "      <td>0.490000</td>\n",
       "      <td>3.875074e+04</td>\n",
       "      <td>4.677200e+02</td>\n",
       "      <td>1.783770e+03</td>\n",
       "      <td>0.000000e+00</td>\n",
       "      <td>3.311770e+03</td>\n",
       "      <td>3.311770e+03</td>\n",
       "      <td>0.000000e+00</td>\n",
       "      <td>0.000000</td>\n",
       "      <td>2015.000000</td>\n",
       "    </tr>\n",
       "    <tr>\n",
       "      <th>25%</th>\n",
       "      <td>0.980000</td>\n",
       "      <td>1.474700e+05</td>\n",
       "      <td>2.040034e+04</td>\n",
       "      <td>4.147606e+04</td>\n",
       "      <td>9.112500e+02</td>\n",
       "      <td>3.620689e+04</td>\n",
       "      <td>2.972722e+04</td>\n",
       "      <td>5.407400e+02</td>\n",
       "      <td>0.000000</td>\n",
       "      <td>2015.000000</td>\n",
       "    </tr>\n",
       "    <tr>\n",
       "      <th>50%</th>\n",
       "      <td>1.080000</td>\n",
       "      <td>4.027919e+05</td>\n",
       "      <td>8.175117e+04</td>\n",
       "      <td>1.186649e+05</td>\n",
       "      <td>7.688170e+03</td>\n",
       "      <td>7.397906e+04</td>\n",
       "      <td>6.237569e+04</td>\n",
       "      <td>5.044350e+03</td>\n",
       "      <td>0.000000</td>\n",
       "      <td>2015.000000</td>\n",
       "    </tr>\n",
       "    <tr>\n",
       "      <th>75%</th>\n",
       "      <td>1.190000</td>\n",
       "      <td>9.819751e+05</td>\n",
       "      <td>3.775785e+05</td>\n",
       "      <td>4.851503e+05</td>\n",
       "      <td>2.916730e+04</td>\n",
       "      <td>1.576097e+05</td>\n",
       "      <td>1.461994e+05</td>\n",
       "      <td>2.926767e+04</td>\n",
       "      <td>401.480000</td>\n",
       "      <td>2015.000000</td>\n",
       "    </tr>\n",
       "    <tr>\n",
       "      <th>max</th>\n",
       "      <td>1.680000</td>\n",
       "      <td>4.465546e+07</td>\n",
       "      <td>1.893304e+07</td>\n",
       "      <td>1.895648e+07</td>\n",
       "      <td>1.381516e+06</td>\n",
       "      <td>6.736304e+06</td>\n",
       "      <td>5.893642e+06</td>\n",
       "      <td>1.121076e+06</td>\n",
       "      <td>108072.790000</td>\n",
       "      <td>2016.000000</td>\n",
       "    </tr>\n",
       "  </tbody>\n",
       "</table>\n",
       "</div>"
      ],
      "text/plain": [
       "       AveragePrice  Total Volume          4046          4225          4770  \\\n",
       "count   1517.000000  1.517000e+03  1.517000e+03  1.517000e+03  1.517000e+03   \n",
       "mean       1.074990  1.601879e+06  6.464387e+05  6.114375e+05  5.040550e+04   \n",
       "std        0.188891  4.433143e+06  1.947614e+06  1.672906e+06  1.377812e+05   \n",
       "min        0.490000  3.875074e+04  4.677200e+02  1.783770e+03  0.000000e+00   \n",
       "25%        0.980000  1.474700e+05  2.040034e+04  4.147606e+04  9.112500e+02   \n",
       "50%        1.080000  4.027919e+05  8.175117e+04  1.186649e+05  7.688170e+03   \n",
       "75%        1.190000  9.819751e+05  3.775785e+05  4.851503e+05  2.916730e+04   \n",
       "max        1.680000  4.465546e+07  1.893304e+07  1.895648e+07  1.381516e+06   \n",
       "\n",
       "         Total Bags    Small Bags    Large Bags    XLarge Bags         year  \n",
       "count  1.517000e+03  1.517000e+03  1.517000e+03    1517.000000  1517.000000  \n",
       "mean   2.935974e+05  2.487736e+05  4.264205e+04    2181.771074  2015.162821  \n",
       "std    7.579765e+05  6.474765e+05  1.182157e+05    7455.712144     0.369324  \n",
       "min    3.311770e+03  3.311770e+03  0.000000e+00       0.000000  2015.000000  \n",
       "25%    3.620689e+04  2.972722e+04  5.407400e+02       0.000000  2015.000000  \n",
       "50%    7.397906e+04  6.237569e+04  5.044350e+03       0.000000  2015.000000  \n",
       "75%    1.576097e+05  1.461994e+05  2.926767e+04     401.480000  2015.000000  \n",
       "max    6.736304e+06  5.893642e+06  1.121076e+06  108072.790000  2016.000000  "
      ]
     },
     "execution_count": 39,
     "metadata": {},
     "output_type": "execute_result"
    }
   ],
   "source": [
    "df.describe()"
   ]
  },
  {
   "cell_type": "code",
   "execution_count": 40,
   "metadata": {},
   "outputs": [
    {
     "data": {
      "image/png": "[encoded data removed]",
      "text/plain": [
       "<Figure size 1008x288 with 10 Axes>"
      ]
     },
     "metadata": {
      "needs_background": "light"
     },
     "output_type": "display_data"
    }
   ],
   "source": [
    "df.plot(kind='box',subplots=True,figsize=(14,4))\n",
    "plt.show()"
   ]
  },
  {
   "cell_type": "markdown",
   "metadata": {},
   "source": [
    "### Observations:\n",
    "    From above boxplots it is clear that outliers exists."
   ]
  },
  {
   "cell_type": "code",
   "execution_count": 41,
   "metadata": {},
   "outputs": [],
   "source": [
    "df.drop('Date',axis=1,inplace=True)"
   ]
  },
  {
   "cell_type": "markdown",
   "metadata": {},
   "source": [
    "### Since 'Date' column is not necessary for 'Average Price' and 'Region' prediction, we can drop this column."
   ]
  },
  {
   "cell_type": "markdown",
   "metadata": {},
   "source": [
    "## Label Encoding"
   ]
  },
  {
   "cell_type": "code",
   "execution_count": 42,
   "metadata": {},
   "outputs": [],
   "source": [
    "from sklearn.preprocessing import LabelEncoder\n",
    "\n",
    "le=LabelEncoder()\n",
    "df['region']=le.fit_transform(df['region'])\n",
    "df['type']=le.fit_transform(df['type'])"
   ]
  },
  {
   "cell_type": "code",
   "execution_count": 43,
   "metadata": {},
   "outputs": [
    {
     "data": {
      "text/html": [
       "<div>\n",
       "<style scoped>\n",
       "    .dataframe tbody tr th:only-of-type {\n",
       "        vertical-align: middle;\n",
       "    }\n",
       "\n",
       "    .dataframe tbody tr th {\n",
       "        vertical-align: top;\n",
       "    }\n",
       "\n",
       "    .dataframe thead th {\n",
       "        text-align: right;\n",
       "    }\n",
       "</style>\n",
       "<table border=\"1\" class=\"dataframe\">\n",
       "  <thead>\n",
       "    <tr style=\"text-align: right;\">\n",
       "      <th></th>\n",
       "      <th>AveragePrice</th>\n",
       "      <th>Total Volume</th>\n",
       "      <th>4046</th>\n",
       "      <th>4225</th>\n",
       "      <th>4770</th>\n",
       "      <th>Total Bags</th>\n",
       "      <th>Small Bags</th>\n",
       "      <th>Large Bags</th>\n",
       "      <th>XLarge Bags</th>\n",
       "      <th>type</th>\n",
       "      <th>year</th>\n",
       "      <th>region</th>\n",
       "    </tr>\n",
       "  </thead>\n",
       "  <tbody>\n",
       "    <tr>\n",
       "      <th>0</th>\n",
       "      <td>1.33</td>\n",
       "      <td>64236.62</td>\n",
       "      <td>1036.74</td>\n",
       "      <td>54454.85</td>\n",
       "      <td>48.16</td>\n",
       "      <td>8696.87</td>\n",
       "      <td>8603.62</td>\n",
       "      <td>93.25</td>\n",
       "      <td>0.0</td>\n",
       "      <td>0</td>\n",
       "      <td>2015.0</td>\n",
       "      <td>0</td>\n",
       "    </tr>\n",
       "    <tr>\n",
       "      <th>1</th>\n",
       "      <td>1.35</td>\n",
       "      <td>54876.98</td>\n",
       "      <td>674.28</td>\n",
       "      <td>44638.81</td>\n",
       "      <td>58.33</td>\n",
       "      <td>9505.56</td>\n",
       "      <td>9408.07</td>\n",
       "      <td>97.49</td>\n",
       "      <td>0.0</td>\n",
       "      <td>0</td>\n",
       "      <td>2015.0</td>\n",
       "      <td>0</td>\n",
       "    </tr>\n",
       "    <tr>\n",
       "      <th>2</th>\n",
       "      <td>0.93</td>\n",
       "      <td>118220.22</td>\n",
       "      <td>794.70</td>\n",
       "      <td>109149.67</td>\n",
       "      <td>130.50</td>\n",
       "      <td>8145.35</td>\n",
       "      <td>8042.21</td>\n",
       "      <td>103.14</td>\n",
       "      <td>0.0</td>\n",
       "      <td>0</td>\n",
       "      <td>2015.0</td>\n",
       "      <td>0</td>\n",
       "    </tr>\n",
       "    <tr>\n",
       "      <th>3</th>\n",
       "      <td>1.08</td>\n",
       "      <td>78992.15</td>\n",
       "      <td>1132.00</td>\n",
       "      <td>71976.41</td>\n",
       "      <td>72.58</td>\n",
       "      <td>5811.16</td>\n",
       "      <td>5677.40</td>\n",
       "      <td>133.76</td>\n",
       "      <td>0.0</td>\n",
       "      <td>0</td>\n",
       "      <td>2015.0</td>\n",
       "      <td>0</td>\n",
       "    </tr>\n",
       "    <tr>\n",
       "      <th>4</th>\n",
       "      <td>1.28</td>\n",
       "      <td>51039.60</td>\n",
       "      <td>941.48</td>\n",
       "      <td>43838.39</td>\n",
       "      <td>75.78</td>\n",
       "      <td>6183.95</td>\n",
       "      <td>5986.26</td>\n",
       "      <td>197.69</td>\n",
       "      <td>0.0</td>\n",
       "      <td>0</td>\n",
       "      <td>2015.0</td>\n",
       "      <td>0</td>\n",
       "    </tr>\n",
       "  </tbody>\n",
       "</table>\n",
       "</div>"
      ],
      "text/plain": [
       "   AveragePrice  Total Volume     4046       4225    4770  Total Bags  \\\n",
       "0          1.33      64236.62  1036.74   54454.85   48.16     8696.87   \n",
       "1          1.35      54876.98   674.28   44638.81   58.33     9505.56   \n",
       "2          0.93     118220.22   794.70  109149.67  130.50     8145.35   \n",
       "3          1.08      78992.15  1132.00   71976.41   72.58     5811.16   \n",
       "4          1.28      51039.60   941.48   43838.39   75.78     6183.95   \n",
       "\n",
       "   Small Bags  Large Bags  XLarge Bags  type    year  region  \n",
       "0     8603.62       93.25          0.0     0  2015.0       0  \n",
       "1     9408.07       97.49          0.0     0  2015.0       0  \n",
       "2     8042.21      103.14          0.0     0  2015.0       0  \n",
       "3     5677.40      133.76          0.0     0  2015.0       0  \n",
       "4     5986.26      197.69          0.0     0  2015.0       0  "
      ]
     },
     "execution_count": 43,
     "metadata": {},
     "output_type": "execute_result"
    }
   ],
   "source": [
    "df.head()"
   ]
  },
  {
   "cell_type": "markdown",
   "metadata": {},
   "source": [
    "## Removing Outliers"
   ]
  },
  {
   "cell_type": "markdown",
   "metadata": {},
   "source": [
    "### 1. Z-score Method"
   ]
  },
  {
   "cell_type": "code",
   "execution_count": 44,
   "metadata": {},
   "outputs": [],
   "source": [
    "from scipy.stats import zscore\n",
    "\n",
    "z=np.abs(zscore(df))"
   ]
  },
  {
   "cell_type": "code",
   "execution_count": 45,
   "metadata": {},
   "outputs": [
    {
     "data": {
      "text/plain": [
       "(array([ 398,  401,  409,  412,  412,  760, 1016, 1017, 1059, 1182, 1182,\n",
       "        1182, 1182, 1182, 1182, 1182, 1182, 1183, 1183, 1183, 1183, 1183,\n",
       "        1183, 1183, 1184, 1184, 1184, 1184, 1184, 1184, 1184, 1184, 1185,\n",
       "        1185, 1185, 1185, 1185, 1185, 1185, 1186, 1186, 1186, 1186, 1186,\n",
       "        1186, 1186, 1187, 1187, 1187, 1187, 1187, 1187, 1187, 1187, 1188,\n",
       "        1188, 1188, 1188, 1188, 1188, 1188, 1189, 1189, 1189, 1189, 1189,\n",
       "        1189, 1189, 1189, 1190, 1190, 1190, 1190, 1190, 1190, 1190, 1190,\n",
       "        1191, 1191, 1191, 1191, 1191, 1191, 1191, 1191, 1192, 1192, 1192,\n",
       "        1192, 1192, 1192, 1192, 1193, 1193, 1193, 1193, 1193, 1193, 1193,\n",
       "        1194, 1194, 1194, 1194, 1194, 1194, 1194, 1195, 1195, 1195, 1195,\n",
       "        1195, 1195, 1195, 1195, 1196, 1196, 1196, 1196, 1196, 1196, 1196,\n",
       "        1197, 1197, 1197, 1197, 1197, 1197, 1197, 1198, 1198, 1198, 1198,\n",
       "        1198, 1198, 1198, 1198, 1199, 1199, 1199, 1199, 1199, 1199, 1199,\n",
       "        1200, 1200, 1200, 1200, 1200, 1200, 1200, 1201, 1201, 1201, 1201,\n",
       "        1201, 1201, 1201, 1202, 1202, 1202, 1202, 1202, 1202, 1202, 1202,\n",
       "        1203, 1203, 1203, 1203, 1203, 1203, 1203, 1204, 1204, 1204, 1204,\n",
       "        1204, 1204, 1204, 1205, 1205, 1205, 1205, 1205, 1205, 1205, 1206,\n",
       "        1206, 1206, 1206, 1206, 1206, 1206, 1207, 1208, 1209, 1210, 1212,\n",
       "        1213, 1215, 1216, 1217, 1218, 1222, 1411, 1450, 1451, 1452, 1453,\n",
       "        1454, 1455, 1456, 1457, 1457, 1458, 1459, 1460, 1461, 1462, 1463,\n",
       "        1464, 1465, 1466, 1467, 1468, 1469, 1470, 1471, 1472, 1473, 1474,\n",
       "        1475, 1476, 1477, 1478, 1479, 1480, 1481, 1483, 1483, 1484, 1495,\n",
       "        1496, 1496], dtype=int64),\n",
       " array([8, 8, 8, 4, 8, 0, 8, 8, 7, 1, 2, 3, 4, 5, 6, 7, 8, 1, 2, 3, 4, 5,\n",
       "        6, 7, 1, 2, 3, 4, 5, 6, 7, 8, 1, 2, 3, 4, 5, 6, 7, 1, 2, 3, 4, 5,\n",
       "        6, 7, 1, 2, 3, 4, 5, 6, 7, 8, 1, 2, 3, 4, 5, 6, 7, 1, 2, 3, 4, 5,\n",
       "        6, 7, 8, 1, 2, 3, 4, 5, 6, 7, 8, 1, 2, 3, 4, 5, 6, 7, 8, 1, 2, 3,\n",
       "        4, 5, 6, 7, 1, 2, 3, 4, 5, 6, 7, 1, 2, 3, 4, 5, 6, 7, 1, 2, 3, 4,\n",
       "        5, 6, 7, 8, 1, 2, 3, 4, 5, 6, 7, 1, 2, 3, 4, 5, 6, 7, 1, 2, 3, 4,\n",
       "        5, 6, 7, 8, 1, 2, 3, 4, 5, 6, 7, 1, 2, 3, 4, 5, 6, 7, 1, 2, 3, 4,\n",
       "        5, 6, 7, 1, 2, 3, 4, 5, 6, 7, 8, 1, 2, 3, 4, 5, 6, 7, 1, 2, 3, 4,\n",
       "        5, 6, 7, 1, 2, 3, 4, 5, 6, 7, 1, 2, 3, 4, 5, 6, 7, 7, 7, 7, 7, 7,\n",
       "        7, 7, 7, 7, 7, 7, 0, 8, 8, 8, 8, 8, 8, 8, 0, 8, 0, 8, 8, 8, 8, 8,\n",
       "        8, 8, 8, 8, 8, 8, 8, 8, 8, 8, 8, 8, 8, 8, 8, 8, 8, 8, 7, 8, 7, 6,\n",
       "        5, 6], dtype=int64))"
      ]
     },
     "execution_count": 45,
     "metadata": {},
     "output_type": "execute_result"
    }
   ],
   "source": [
    "np.where(z>3)"
   ]
  },
  {
   "cell_type": "code",
   "execution_count": 46,
   "metadata": {},
   "outputs": [],
   "source": [
    "# Threshold=3\n",
    "ad = df[(z<3).all(axis=1)]"
   ]
  },
  {
   "cell_type": "code",
   "execution_count": 47,
   "metadata": {},
   "outputs": [
    {
     "name": "stdout",
     "output_type": "stream",
     "text": [
      "(1517, 12)\n",
      "(0, 12)\n"
     ]
    }
   ],
   "source": [
    "print(df.shape)\n",
    "print(ad.shape)"
   ]
  },
  {
   "cell_type": "markdown",
   "metadata": {},
   "source": [
    "    Since it removed all data we are not going with Z-score method of removing outliers."
   ]
  },
  {
   "cell_type": "markdown",
   "metadata": {},
   "source": [
    "## Checking Skewness"
   ]
  },
  {
   "cell_type": "code",
   "execution_count": 48,
   "metadata": {},
   "outputs": [
    {
     "data": {
      "image/png": "[encoded data removed]",
      "text/plain": [
       "<Figure size 1296x720 with 12 Axes>"
      ]
     },
     "metadata": {
      "needs_background": "light"
     },
     "output_type": "display_data"
    }
   ],
   "source": [
    "df.hist(figsize=(18,10))\n",
    "plt.show()"
   ]
  },
  {
   "cell_type": "markdown",
   "metadata": {},
   "source": [
    "### Observations:    \n",
    "    From above plots it is clear that skewness exists."
   ]
  },
  {
   "cell_type": "code",
   "execution_count": 49,
   "metadata": {},
   "outputs": [
    {
     "data": {
      "text/plain": [
       "AveragePrice   -0.109444\n",
       "Total Volume    6.200138\n",
       "4046            6.051830\n",
       "4225            6.394926\n",
       "4770            5.405164\n",
       "Total Bags      5.366378\n",
       "Small Bags      5.355185\n",
       "Large Bags      5.144495\n",
       "XLarge Bags     5.775077\n",
       "type            0.000000\n",
       "year            1.828332\n",
       "region          0.288146\n",
       "dtype: float64"
      ]
     },
     "execution_count": 49,
     "metadata": {},
     "output_type": "execute_result"
    }
   ],
   "source": [
    "df.skew()"
   ]
  },
  {
   "cell_type": "markdown",
   "metadata": {},
   "source": [
    "### Observations:    \n",
    "    Acceptable range of skewness is +\\- 0.5, hence data is skewed."
   ]
  },
  {
   "cell_type": "markdown",
   "metadata": {},
   "source": [
    "## Splitting Data"
   ]
  },
  {
   "cell_type": "code",
   "execution_count": 50,
   "metadata": {},
   "outputs": [],
   "source": [
    "regres=df.copy()\n",
    "classi=df.copy()"
   ]
  },
  {
   "cell_type": "markdown",
   "metadata": {},
   "source": [
    "### For Regression"
   ]
  },
  {
   "cell_type": "code",
   "execution_count": 51,
   "metadata": {},
   "outputs": [],
   "source": [
    "x=regres.drop('AveragePrice',axis=1)\n",
    "y=regres['AveragePrice']"
   ]
  },
  {
   "cell_type": "code",
   "execution_count": 52,
   "metadata": {},
   "outputs": [
    {
     "data": {
      "text/plain": [
       "(1517, 11)"
      ]
     },
     "execution_count": 52,
     "metadata": {},
     "output_type": "execute_result"
    }
   ],
   "source": [
    "x.shape"
   ]
  },
  {
   "cell_type": "code",
   "execution_count": 53,
   "metadata": {},
   "outputs": [
    {
     "data": {
      "text/plain": [
       "(1517,)"
      ]
     },
     "execution_count": 53,
     "metadata": {},
     "output_type": "execute_result"
    }
   ],
   "source": [
    "y.shape"
   ]
  },
  {
   "cell_type": "markdown",
   "metadata": {},
   "source": [
    "### For Classification"
   ]
  },
  {
   "cell_type": "code",
   "execution_count": 54,
   "metadata": {},
   "outputs": [],
   "source": [
    "x1=classi.drop('region',axis=1)\n",
    "y1=classi['region']"
   ]
  },
  {
   "cell_type": "code",
   "execution_count": 55,
   "metadata": {},
   "outputs": [
    {
     "data": {
      "text/plain": [
       "(1517, 11)"
      ]
     },
     "execution_count": 55,
     "metadata": {},
     "output_type": "execute_result"
    }
   ],
   "source": [
    "x1.shape"
   ]
  },
  {
   "cell_type": "code",
   "execution_count": 56,
   "metadata": {},
   "outputs": [
    {
     "data": {
      "text/plain": [
       "(1517,)"
      ]
     },
     "execution_count": 56,
     "metadata": {},
     "output_type": "execute_result"
    }
   ],
   "source": [
    "y1.shape"
   ]
  },
  {
   "cell_type": "markdown",
   "metadata": {},
   "source": [
    "## Removing Skewness"
   ]
  },
  {
   "cell_type": "code",
   "execution_count": 57,
   "metadata": {},
   "outputs": [],
   "source": [
    "from sklearn.preprocessing import power_transform\n",
    "\n",
    "x=power_transform(x)\n",
    "x1=power_transform(x1)"
   ]
  },
  {
   "cell_type": "markdown",
   "metadata": {},
   "source": [
    "## Standardizing Data"
   ]
  },
  {
   "cell_type": "code",
   "execution_count": 58,
   "metadata": {},
   "outputs": [],
   "source": [
    "from sklearn.preprocessing import StandardScaler\n",
    "\n",
    "sc=StandardScaler()\n",
    "x=sc.fit_transform(x)\n",
    "x1=sc.fit_transform(x1)"
   ]
  },
  {
   "cell_type": "markdown",
   "metadata": {},
   "source": [
    "# Model Training And Testing"
   ]
  },
  {
   "cell_type": "markdown",
   "metadata": {},
   "source": [
    "# 1. Regression"
   ]
  },
  {
   "cell_type": "code",
   "execution_count": 59,
   "metadata": {},
   "outputs": [],
   "source": [
    "from sklearn.model_selection import train_test_split\n",
    "from sklearn.model_selection import cross_val_score\n",
    "from sklearn.linear_model import LinearRegression\n",
    "from sklearn.metrics import r2_score, mean_absolute_error, mean_squared_error"
   ]
  },
  {
   "cell_type": "code",
   "execution_count": 60,
   "metadata": {},
   "outputs": [
    {
     "name": "stdout",
     "output_type": "stream",
     "text": [
      " Best r2_score is 41.73950839903166 which is found on random_state 151\n"
     ]
    }
   ],
   "source": [
    "# finding the best random_state\n",
    "\n",
    "s=0\n",
    "for i in range(40,800):\n",
    "    x_train,x_test,y_train,y_test=train_test_split(x,y,test_size=.25,random_state=i)\n",
    "    lr=LinearRegression()\n",
    "    lr.fit(x_train,y_train)\n",
    "    y_pred=lr.predict(x_test)\n",
    "    mod_acc=r2_score(y_test,y_pred)\n",
    "    if mod_acc>s:\n",
    "        s=mod_acc\n",
    "        best_random_state=i\n",
    "        \n",
    "print(f\" Best r2_score is {s*100} which is found on random_state {best_random_state}\")"
   ]
  },
  {
   "cell_type": "code",
   "execution_count": 61,
   "metadata": {},
   "outputs": [
    {
     "name": "stdout",
     "output_type": "stream",
     "text": [
      " Best Cross_val_score is 10.617539627249277 which is found on cv = 3\n"
     ]
    }
   ],
   "source": [
    "# finding the best cv\n",
    "\n",
    "cv=0\n",
    "for i in range(2,10):\n",
    "    cv_score=cross_val_score(lr,x,y,cv=i).mean()\n",
    "    if cv_score>cv:\n",
    "        cv=cv_score\n",
    "        best_cv=i\n",
    "        \n",
    "print(f\" Best Cross_val_score is {cv*100} which is found on cv = {best_cv}\")        "
   ]
  },
  {
   "cell_type": "code",
   "execution_count": 62,
   "metadata": {},
   "outputs": [],
   "source": [
    "x_train,x_test,y_train,y_test=train_test_split(x,y,test_size=.25,random_state=best_random_state)"
   ]
  },
  {
   "cell_type": "markdown",
   "metadata": {},
   "source": [
    "# Finding The Best Model"
   ]
  },
  {
   "cell_type": "code",
   "execution_count": 63,
   "metadata": {},
   "outputs": [],
   "source": [
    "from sklearn.linear_model import Lasso\n",
    "from sklearn.linear_model import Ridge\n",
    "from sklearn.linear_model import ElasticNet\n",
    "from sklearn.linear_model import GammaRegressor\n",
    "from sklearn.linear_model import SGDRegressor\n",
    "from sklearn.tree import DecisionTreeRegressor\n",
    "from sklearn.svm import SVR\n",
    "from sklearn.neighbors import KNeighborsRegressor\n",
    "from sklearn.ensemble import RandomForestRegressor\n",
    "from sklearn.ensemble import AdaBoostRegressor\n",
    "from sklearn.ensemble import GradientBoostingRegressor"
   ]
  },
  {
   "cell_type": "code",
   "execution_count": 64,
   "metadata": {},
   "outputs": [],
   "source": [
    "mod_list=[Lasso(),Ridge(),ElasticNet(),GammaRegressor(),SGDRegressor(),DecisionTreeRegressor(),\n",
    "         SVR(),KNeighborsRegressor(),RandomForestRegressor(),AdaBoostRegressor(),GradientBoostingRegressor()]"
   ]
  },
  {
   "cell_type": "code",
   "execution_count": 65,
   "metadata": {},
   "outputs": [
    {
     "name": "stdout",
     "output_type": "stream",
     "text": [
      "Lasso()\n",
      "r2_score: -0.16222752322909706\n",
      "cross_val_score: -0.8796381756158933\n",
      "Difference b\\w r2_score & cross_val_score is: 0.7174106523867962\n",
      "Training score: 0.0\n",
      "Error:\n",
      "Mean absolute error: 0.14750796185714946\n",
      "Mean squared error: 0.03596537797366086\n",
      "Root mean squared error: 0.1896454006129884\n",
      "\n",
      "\n",
      "Ridge()\n",
      "r2_score: 41.544250756674664\n",
      "cross_val_score: 12.034130771955788\n",
      "Difference b\\w r2_score & cross_val_score is: 29.510119984718877\n",
      "Training score: 29.970031623327753\n",
      "Error:\n",
      "Mean absolute error: 0.11363476900987858\n",
      "Mean squared error: 0.020989779962532904\n",
      "Root mean squared error: 0.1448785006912099\n",
      "\n",
      "\n",
      "ElasticNet()\n",
      "r2_score: -0.16222752322909706\n",
      "cross_val_score: -0.8796381756158933\n",
      "Difference b\\w r2_score & cross_val_score is: 0.7174106523867962\n",
      "Training score: 0.0\n",
      "Error:\n",
      "Mean absolute error: 0.14750796185714946\n",
      "Mean squared error: 0.03596537797366086\n",
      "Root mean squared error: 0.1896454006129884\n",
      "\n",
      "\n",
      "GammaRegressor()\n",
      "r2_score: 25.254876832956818\n",
      "cross_val_score: 14.983307583558581\n",
      "Difference b\\w r2_score & cross_val_score is: 10.271569249398237\n",
      "Training score: 18.596034768851442\n",
      "Error:\n",
      "Mean absolute error: 0.12798553843528426\n",
      "Mean squared error: 0.026838826101057922\n",
      "Root mean squared error: 0.163825596599121\n",
      "\n",
      "\n",
      "SGDRegressor()\n",
      "r2_score: 38.26404228779451\n",
      "cross_val_score: 19.854082127179026\n",
      "Difference b\\w r2_score & cross_val_score is: 18.409960160615483\n",
      "Training score: 28.171142336272936\n",
      "Error:\n",
      "Mean absolute error: 0.11782127676700764\n",
      "Mean squared error: 0.0221676085745046\n",
      "Root mean squared error: 0.14888790607199967\n",
      "\n",
      "\n",
      "DecisionTreeRegressor()\n",
      "r2_score: 73.9496077243441\n",
      "cross_val_score: -82.30764226780357\n",
      "Difference b\\w r2_score & cross_val_score is: 156.25724999214768\n",
      "Training score: 100.0\n",
      "Error:\n",
      "Mean absolute error: 0.06839473684210526\n",
      "Mean squared error: 0.009353947368421054\n",
      "Root mean squared error: 0.0967158072313986\n",
      "\n",
      "\n",
      "SVR()\n",
      "r2_score: 75.66122276972072\n",
      "cross_val_score: -13.36641283400678\n",
      "Difference b\\w r2_score & cross_val_score is: 89.0276356037275\n",
      "Training score: 74.85493106663772\n",
      "Error:\n",
      "Mean absolute error: 0.07449459053272399\n",
      "Mean squared error: 0.00873935558492564\n",
      "Root mean squared error: 0.09348452056316939\n",
      "\n",
      "\n",
      "KNeighborsRegressor()\n",
      "r2_score: 79.42279184347755\n",
      "cross_val_score: -33.0851876027516\n",
      "Difference b\\w r2_score & cross_val_score is: 112.50797944622916\n",
      "Training score: 85.24248156511585\n",
      "Error:\n",
      "Mean absolute error: 0.06472105263157896\n",
      "Mean squared error: 0.007388684210526315\n",
      "Root mean squared error: 0.0859574558169698\n",
      "\n",
      "\n",
      "RandomForestRegressor()\n",
      "r2_score: 84.48548480844443\n",
      "cross_val_score: -0.08544623314667618\n",
      "Difference b\\w r2_score & cross_val_score is: 84.5709310415911\n",
      "Training score: 97.03377849339576\n",
      "Error:\n",
      "Mean absolute error: 0.05667052631578945\n",
      "Mean squared error: 0.005570816631578952\n",
      "Root mean squared error: 0.07463790345112162\n",
      "\n",
      "\n",
      "AdaBoostRegressor()\n",
      "r2_score: 58.99174579490288\n",
      "cross_val_score: -5.016316001011481\n",
      "Difference b\\w r2_score & cross_val_score is: 64.00806179591436\n",
      "Training score: 58.56226474441127\n",
      "Error:\n",
      "Mean absolute error: 0.09784541235584289\n",
      "Mean squared error: 0.014724885807718678\n",
      "Root mean squared error: 0.1213461404731056\n",
      "\n",
      "\n",
      "GradientBoostingRegressor()\n",
      "r2_score: 75.5708864745158\n",
      "cross_val_score: -5.000802566144716\n",
      "Difference b\\w r2_score & cross_val_score is: 80.57168904066052\n",
      "Training score: 82.42219334467907\n",
      "Error:\n",
      "Mean absolute error: 0.07349385605870565\n",
      "Mean squared error: 0.008771792752929233\n",
      "Root mean squared error: 0.09365784939303931\n",
      "\n",
      "\n"
     ]
    }
   ],
   "source": [
    "for i in mod_list:\n",
    "    print(i)\n",
    "    i.fit(x_train,y_train)\n",
    "    y_pred=i.predict(x_test)\n",
    "    mod_acc=r2_score(y_test,y_pred)\n",
    "    print('r2_score:',mod_acc*100)\n",
    "    cv_score=cross_val_score(i,x,y,cv=best_cv).mean()\n",
    "    print('cross_val_score:',cv_score*100)\n",
    "    print('Difference b\\w r2_score & cross_val_score is:',(mod_acc*100)-(cv_score*100))\n",
    "    print('Training score:',i.score(x_train,y_train)*100)\n",
    "    print('Error:')\n",
    "    print('Mean absolute error:',mean_absolute_error(y_test,y_pred))\n",
    "    print('Mean squared error:',mean_squared_error(y_test,y_pred))\n",
    "    print('Root mean squared error:',np.sqrt(mean_squared_error(y_test,y_pred)))\n",
    "    print('\\n')"
   ]
  },
  {
   "cell_type": "markdown",
   "metadata": {},
   "source": [
    "### Observations:    \n",
    "    From above it is clear that Random Forest Regressor is performing better, with r2_score of 80%-85%.   "
   ]
  },
  {
   "cell_type": "markdown",
   "metadata": {},
   "source": [
    "### Let's perform hyper-parameter tuning on Random Forest Regressor model."
   ]
  },
  {
   "cell_type": "code",
   "execution_count": 66,
   "metadata": {},
   "outputs": [
    {
     "name": "stdout",
     "output_type": "stream",
     "text": [
      "r2_score: 84.6684964178613\n",
      "cross_val_score: -3.0270720507522846\n",
      "Difference b\\w r2_score & cross_val_score is: 87.69556846861359\n",
      "Training score: 96.9794512071715\n",
      "Error:\n",
      "Mean absolute error: 0.055922105263157905\n",
      "Mean squared error: 0.005505102421052638\n",
      "Root mean squared error: 0.07419637741192381\n",
      "\n",
      "\n"
     ]
    }
   ],
   "source": [
    "rfr=RandomForestRegressor()\n",
    "rfr.fit(x_train,y_train)\n",
    "y_pred=rfr.predict(x_test)\n",
    "mod_acc=r2_score(y_test,y_pred)\n",
    "print('r2_score:',mod_acc*100)\n",
    "cv_score=cross_val_score(rfr,x,y,cv=best_cv).mean()\n",
    "print('cross_val_score:',cv_score*100)\n",
    "print('Difference b\\w r2_score & cross_val_score is:',(mod_acc*100)-(cv_score*100))\n",
    "print('Training score:',rfr.score(x_train,y_train)*100)\n",
    "print('Error:')\n",
    "print('Mean absolute error:',mean_absolute_error(y_test,y_pred))\n",
    "print('Mean squared error:',mean_squared_error(y_test,y_pred))\n",
    "print('Root mean squared error:',np.sqrt(mean_squared_error(y_test,y_pred)))\n",
    "print('\\n')"
   ]
  },
  {
   "cell_type": "markdown",
   "metadata": {},
   "source": [
    "## Hyper-parameter Tuning"
   ]
  },
  {
   "cell_type": "code",
   "execution_count": 67,
   "metadata": {},
   "outputs": [],
   "source": [
    "from sklearn.model_selection import GridSearchCV\n",
    "\n",
    "parameters={\n",
    "    'n_estimators':[100,150],\n",
    "    'criterion':['mse','mae'],\n",
    "    'max_features':['auto','sqrt','log2']\n",
    "}"
   ]
  },
  {
   "cell_type": "code",
   "execution_count": 68,
   "metadata": {},
   "outputs": [
    {
     "data": {
      "text/plain": [
       "GridSearchCV(cv=3, estimator=RandomForestRegressor(),\n",
       "             param_grid={'criterion': ['mse', 'mae'],\n",
       "                         'max_features': ['auto', 'sqrt', 'log2'],\n",
       "                         'n_estimators': [100, 150]},\n",
       "             scoring='r2')"
      ]
     },
     "execution_count": 68,
     "metadata": {},
     "output_type": "execute_result"
    }
   ],
   "source": [
    "gscv=GridSearchCV(rfr,parameters,scoring='r2',cv=best_cv)\n",
    "gscv.fit(x_train,y_train)"
   ]
  },
  {
   "cell_type": "code",
   "execution_count": 69,
   "metadata": {},
   "outputs": [
    {
     "data": {
      "text/plain": [
       "{'criterion': 'mse', 'max_features': 'sqrt', 'n_estimators': 150}"
      ]
     },
     "execution_count": 69,
     "metadata": {},
     "output_type": "execute_result"
    }
   ],
   "source": [
    "gscv.best_params_"
   ]
  },
  {
   "cell_type": "code",
   "execution_count": 70,
   "metadata": {},
   "outputs": [
    {
     "name": "stdout",
     "output_type": "stream",
     "text": [
      "r2_score: 85.09189637790712\n",
      "cross_val_score: 16.41119571863927\n",
      "Difference b\\w r2_score & cross_val_score is: 68.68070065926784\n",
      "Training score: 97.26387726939011\n",
      "Error:\n",
      "Mean absolute error: 0.056031052631578905\n",
      "Mean squared error: 0.005353071660818707\n",
      "Root mean squared error: 0.07316468861970717\n"
     ]
    }
   ],
   "source": [
    "rfr_gs=RandomForestRegressor(n_estimators=150,criterion='mse',max_features='sqrt')\n",
    "rfr_gs.fit(x_train,y_train)\n",
    "y_pred=rfr_gs.predict(x_test)\n",
    "mod_acc=r2_score(y_test,y_pred)\n",
    "print('r2_score:',mod_acc*100)\n",
    "cv_score=cross_val_score(rfr_gs,x,y,cv=best_cv).mean()\n",
    "print('cross_val_score:',cv_score*100)\n",
    "print('Difference b\\w r2_score & cross_val_score is:',(mod_acc*100)-(cv_score*100))\n",
    "print('Training score:',rfr_gs.score(x_train,y_train)*100)\n",
    "print('Error:')\n",
    "print('Mean absolute error:',mean_absolute_error(y_test,y_pred))\n",
    "print('Mean squared error:',mean_squared_error(y_test,y_pred))\n",
    "print('Root mean squared error:',np.sqrt(mean_squared_error(y_test,y_pred)))"
   ]
  },
  {
   "cell_type": "code",
   "execution_count": 71,
   "metadata": {},
   "outputs": [
    {
     "data": {
      "image/png": "[encoded data removed]",
      "text/plain": [
       "<Figure size 432x288 with 1 Axes>"
      ]
     },
     "metadata": {
      "needs_background": "light"
     },
     "output_type": "display_data"
    }
   ],
   "source": [
    "plt.scatter(y_test,y_pred,color='r')\n",
    "plt.plot(y_test,y_test,color='k')\n",
    "plt.xlabel('Actual Average_price')\n",
    "plt.xlabel('predicted Average_price')\n",
    "plt.title('Random Forest Regressor')\n",
    "plt.show()"
   ]
  },
  {
   "cell_type": "markdown",
   "metadata": {},
   "source": [
    "## Conclusion"
   ]
  },
  {
   "cell_type": "code",
   "execution_count": 72,
   "metadata": {},
   "outputs": [
    {
     "data": {
      "text/html": [
       "<div>\n",
       "<style scoped>\n",
       "    .dataframe tbody tr th:only-of-type {\n",
       "        vertical-align: middle;\n",
       "    }\n",
       "\n",
       "    .dataframe tbody tr th {\n",
       "        vertical-align: top;\n",
       "    }\n",
       "\n",
       "    .dataframe thead th {\n",
       "        text-align: right;\n",
       "    }\n",
       "</style>\n",
       "<table border=\"1\" class=\"dataframe\">\n",
       "  <thead>\n",
       "    <tr style=\"text-align: right;\">\n",
       "      <th></th>\n",
       "      <th>Actual Average_price</th>\n",
       "      <th>Predicted Average_price</th>\n",
       "    </tr>\n",
       "  </thead>\n",
       "  <tbody>\n",
       "    <tr>\n",
       "      <th>414</th>\n",
       "      <td>1.15</td>\n",
       "      <td>1.125467</td>\n",
       "    </tr>\n",
       "    <tr>\n",
       "      <th>197</th>\n",
       "      <td>0.98</td>\n",
       "      <td>1.032867</td>\n",
       "    </tr>\n",
       "    <tr>\n",
       "      <th>70</th>\n",
       "      <td>1.12</td>\n",
       "      <td>1.107600</td>\n",
       "    </tr>\n",
       "    <tr>\n",
       "      <th>1130</th>\n",
       "      <td>1.40</td>\n",
       "      <td>1.345400</td>\n",
       "    </tr>\n",
       "    <tr>\n",
       "      <th>698</th>\n",
       "      <td>1.17</td>\n",
       "      <td>1.161533</td>\n",
       "    </tr>\n",
       "    <tr>\n",
       "      <th>...</th>\n",
       "      <td>...</td>\n",
       "      <td>...</td>\n",
       "    </tr>\n",
       "    <tr>\n",
       "      <th>833</th>\n",
       "      <td>1.43</td>\n",
       "      <td>1.221600</td>\n",
       "    </tr>\n",
       "    <tr>\n",
       "      <th>175</th>\n",
       "      <td>1.35</td>\n",
       "      <td>1.347867</td>\n",
       "    </tr>\n",
       "    <tr>\n",
       "      <th>1163</th>\n",
       "      <td>1.10</td>\n",
       "      <td>1.043733</td>\n",
       "    </tr>\n",
       "    <tr>\n",
       "      <th>716</th>\n",
       "      <td>1.23</td>\n",
       "      <td>1.160600</td>\n",
       "    </tr>\n",
       "    <tr>\n",
       "      <th>898</th>\n",
       "      <td>0.94</td>\n",
       "      <td>1.009467</td>\n",
       "    </tr>\n",
       "  </tbody>\n",
       "</table>\n",
       "<p>380 rows × 2 columns</p>\n",
       "</div>"
      ],
      "text/plain": [
       "      Actual Average_price  Predicted Average_price\n",
       "414                   1.15                 1.125467\n",
       "197                   0.98                 1.032867\n",
       "70                    1.12                 1.107600\n",
       "1130                  1.40                 1.345400\n",
       "698                   1.17                 1.161533\n",
       "...                    ...                      ...\n",
       "833                   1.43                 1.221600\n",
       "175                   1.35                 1.347867\n",
       "1163                  1.10                 1.043733\n",
       "716                   1.23                 1.160600\n",
       "898                   0.94                 1.009467\n",
       "\n",
       "[380 rows x 2 columns]"
      ]
     },
     "execution_count": 72,
     "metadata": {},
     "output_type": "execute_result"
    }
   ],
   "source": [
    "df1=pd.DataFrame({'Actual Average_price':y_test,'Predicted Average_price':y_pred})\n",
    "df1"
   ]
  },
  {
   "cell_type": "markdown",
   "metadata": {},
   "source": [
    "### From above table it is clear that model is performing better."
   ]
  },
  {
   "cell_type": "code",
   "execution_count": 73,
   "metadata": {},
   "outputs": [],
   "source": [
    "import joblib"
   ]
  },
  {
   "cell_type": "code",
   "execution_count": 74,
   "metadata": {},
   "outputs": [
    {
     "data": {
      "text/plain": [
       "['Average-Price Predicted.csv']"
      ]
     },
     "execution_count": 74,
     "metadata": {},
     "output_type": "execute_result"
    }
   ],
   "source": [
    "joblib.dump(y_pred,'Average-Price Predicted.csv')"
   ]
  },
  {
   "cell_type": "code",
   "execution_count": 75,
   "metadata": {},
   "outputs": [
    {
     "data": {
      "text/plain": [
       "['Avocado-Average-Price Model.obj']"
      ]
     },
     "execution_count": 75,
     "metadata": {},
     "output_type": "execute_result"
    }
   ],
   "source": [
    "joblib.dump(rfr_gs,'Avocado-Average-Price Model.obj')"
   ]
  },
  {
   "cell_type": "markdown",
   "metadata": {},
   "source": [
    "# 2. Classification"
   ]
  },
  {
   "cell_type": "code",
   "execution_count": 76,
   "metadata": {},
   "outputs": [
    {
     "data": {
      "text/plain": [
       "(1517, 11)"
      ]
     },
     "execution_count": 76,
     "metadata": {},
     "output_type": "execute_result"
    }
   ],
   "source": [
    "x1.shape"
   ]
  },
  {
   "cell_type": "code",
   "execution_count": 77,
   "metadata": {},
   "outputs": [
    {
     "data": {
      "text/plain": [
       "(1517,)"
      ]
     },
     "execution_count": 77,
     "metadata": {},
     "output_type": "execute_result"
    }
   ],
   "source": [
    "y1.shape"
   ]
  },
  {
   "cell_type": "code",
   "execution_count": 78,
   "metadata": {},
   "outputs": [],
   "source": [
    "from sklearn.tree import DecisionTreeClassifier\n",
    "from sklearn.metrics import accuracy_score, confusion_matrix, classification_report"
   ]
  },
  {
   "cell_type": "code",
   "execution_count": 79,
   "metadata": {},
   "outputs": [
    {
     "name": "stdout",
     "output_type": "stream",
     "text": [
      " Best Accuracy score is 93.42105263157895 which is found on random_state 744\n"
     ]
    }
   ],
   "source": [
    "# finding the best random_state\n",
    "\n",
    "acc=0\n",
    "for i in range(40,800):\n",
    "    x_train,x_test,y_train,y_test=train_test_split(x1,y1,test_size=.25,random_state=i)\n",
    "    dtc=DecisionTreeClassifier()\n",
    "    dtc.fit(x_train,y_train)\n",
    "    y_pred=dtc.predict(x_test)\n",
    "    mod_acc=accuracy_score(y_test,y_pred)\n",
    "    if mod_acc>acc:\n",
    "        acc=mod_acc\n",
    "        best_random_state=i\n",
    "        \n",
    "print(f\" Best Accuracy score is {acc*100} which is found on random_state {best_random_state}\")"
   ]
  },
  {
   "cell_type": "code",
   "execution_count": 80,
   "metadata": {},
   "outputs": [
    {
     "name": "stdout",
     "output_type": "stream",
     "text": [
      " Best Cross_val_score is 84.57532720690615 which is found on cv = 8\n"
     ]
    }
   ],
   "source": [
    "# finding the best cv\n",
    "\n",
    "cv=0\n",
    "for i in range(2,10):\n",
    "    cv_score=cross_val_score(dtc,x1,y1,cv=i).mean()\n",
    "    if cv_score>cv:\n",
    "        cv=cv_score\n",
    "        best_cv=i\n",
    "        \n",
    "print(f\" Best Cross_val_score is {cv*100} which is found on cv = {best_cv}\")        "
   ]
  },
  {
   "cell_type": "markdown",
   "metadata": {},
   "source": [
    "# Finding The Best Model"
   ]
  },
  {
   "cell_type": "code",
   "execution_count": 81,
   "metadata": {},
   "outputs": [],
   "source": [
    "from sklearn.linear_model import SGDClassifier\n",
    "from sklearn.svm import SVC\n",
    "from sklearn.neighbors import KNeighborsClassifier\n",
    "from sklearn.ensemble import RandomForestClassifier\n",
    "from sklearn.ensemble import AdaBoostClassifier\n",
    "from sklearn.ensemble import GradientBoostingClassifier"
   ]
  },
  {
   "cell_type": "code",
   "execution_count": 82,
   "metadata": {},
   "outputs": [],
   "source": [
    "mod_list1=[DecisionTreeClassifier(),SGDClassifier(),SVC(),KNeighborsClassifier(),RandomForestClassifier(),\n",
    "           AdaBoostClassifier(),GradientBoostingClassifier()]"
   ]
  },
  {
   "cell_type": "code",
   "execution_count": 83,
   "metadata": {},
   "outputs": [
    {
     "name": "stdout",
     "output_type": "stream",
     "text": [
      "DecisionTreeClassifier()\n",
      "Accuracy score: 87.89473684210526\n",
      "Cross_val_score: 83.12238930659983\n",
      "Difference b\\w Accuracy score & Cross_val_score is: 4.772347535505432\n",
      "Training score: 100.0\n",
      "[[13  0  0 ...  0  0  0]\n",
      " [ 0 13  0 ...  0  0  0]\n",
      " [ 0  0 20 ...  0  0  0]\n",
      " ...\n",
      " [ 0  0  0 ...  3  0  0]\n",
      " [ 0  0  0 ...  0  3  0]\n",
      " [ 0  0  0 ...  0  0  4]]\n",
      "\n",
      "\n",
      "SGDClassifier()\n",
      "Accuracy score: 67.10526315789474\n",
      "Cross_val_score: 65.39404065719856\n",
      "Difference b\\w Accuracy score & Cross_val_score is: 1.7112225006961808\n",
      "Training score: 71.67985927880387\n",
      "[[13  0  0 ...  0  0  0]\n",
      " [ 0 12  0 ...  0  0  0]\n",
      " [ 0  0 12 ...  0  0  0]\n",
      " ...\n",
      " [ 0  0  0 ...  3  0  0]\n",
      " [ 0  0  0 ...  0  3  0]\n",
      " [ 0  0  0 ...  0  0  5]]\n",
      "\n",
      "\n",
      "SVC()\n",
      "Accuracy score: 88.1578947368421\n",
      "Cross_val_score: 89.78070175438597\n",
      "Difference b\\w Accuracy score & Cross_val_score is: -1.6228070175438774\n",
      "Training score: 91.90853122251539\n",
      "[[13  0  0 ...  0  0  0]\n",
      " [ 0 14  0 ...  0  0  0]\n",
      " [ 0  0 22 ...  0  0  0]\n",
      " ...\n",
      " [ 0  0  0 ...  3  0  0]\n",
      " [ 0  0  0 ...  0  3  0]\n",
      " [ 0  0  0 ...  0  0  7]]\n",
      "\n",
      "\n",
      "KNeighborsClassifier()\n",
      "Accuracy score: 94.47368421052632\n",
      "Cross_val_score: 91.23259537733222\n",
      "Difference b\\w Accuracy score & Cross_val_score is: 3.241088833194098\n",
      "Training score: 95.42656112576957\n",
      "[[13  0  0 ...  0  0  0]\n",
      " [ 0 15  0 ...  0  0  0]\n",
      " [ 0  0 22 ...  0  0  0]\n",
      " ...\n",
      " [ 0  0  0 ...  3  0  0]\n",
      " [ 0  0  0 ...  0  4  0]\n",
      " [ 0  0  0 ...  0  0  7]]\n",
      "\n",
      "\n",
      "RandomForestClassifier()\n",
      "Accuracy score: 95.52631578947368\n",
      "Cross_val_score: 94.33061821219717\n",
      "Difference b\\w Accuracy score & Cross_val_score is: 1.195697577276519\n",
      "Training score: 100.0\n",
      "[[13  0  0 ...  0  0  0]\n",
      " [ 0 15  0 ...  0  0  0]\n",
      " [ 0  0 22 ...  0  0  0]\n",
      " ...\n",
      " [ 0  0  0 ...  3  0  0]\n",
      " [ 0  0  0 ...  0  3  0]\n",
      " [ 0  0  0 ...  0  0  6]]\n",
      "\n",
      "\n",
      "AdaBoostClassifier()\n",
      "Accuracy score: 9.473684210526317\n",
      "Cross_val_score: 10.285087719298245\n",
      "Difference b\\w Accuracy score & Cross_val_score is: -0.811403508771928\n",
      "Training score: 11.609498680738787\n",
      "[[13  0  0 ...  0  0  0]\n",
      " [15  0  0 ...  0  0  0]\n",
      " [22  0  0 ...  0  0  0]\n",
      " ...\n",
      " [ 0  0  0 ...  3  0  0]\n",
      " [ 0  0  0 ...  0  0  0]\n",
      " [ 7  0  0 ...  0  0  0]]\n",
      "\n",
      "\n",
      "GradientBoostingClassifier()\n",
      "Accuracy score: 86.05263157894737\n",
      "Cross_val_score: 87.47250069618491\n",
      "Difference b\\w Accuracy score & Cross_val_score is: -1.419869117237539\n",
      "Training score: 100.0\n",
      "[[13  0  0 ...  0  0  0]\n",
      " [ 0 14  0 ...  0  0  0]\n",
      " [ 0  0 21 ...  0  0  0]\n",
      " ...\n",
      " [ 0  0  0 ...  3  0  0]\n",
      " [ 0  0  0 ...  0  3  0]\n",
      " [ 0  0  0 ...  0  0  6]]\n",
      "\n",
      "\n"
     ]
    }
   ],
   "source": [
    "for i in mod_list1:\n",
    "    print(i)\n",
    "    i.fit(x_train,y_train)\n",
    "    y_pred=i.predict(x_test)\n",
    "    mod_acc=accuracy_score(y_test,y_pred)\n",
    "    print('Accuracy score:',mod_acc*100)\n",
    "    cv_score=cross_val_score(i,x1,y1,cv=best_cv).mean()\n",
    "    print('Cross_val_score:',cv_score*100)\n",
    "    print('Difference b\\w Accuracy score & Cross_val_score is:',(mod_acc*100)-(cv_score*100))\n",
    "    print('Training score:',i.score(x_train,y_train)*100)\n",
    "    print(confusion_matrix(y_test,y_pred))\n",
    "#     print(classification_report(y_test,y_pred))\n",
    "    print('\\n')"
   ]
  },
  {
   "cell_type": "markdown",
   "metadata": {},
   "source": [
    "### Observations:\n",
    "        From above it is clear that Random Forest Classifier is performing better, with accuracy score of 94%-96%.         "
   ]
  },
  {
   "cell_type": "markdown",
   "metadata": {},
   "source": [
    "### Let's perform hyper-parameter tuning on Random Forest Classifier model."
   ]
  },
  {
   "cell_type": "code",
   "execution_count": 84,
   "metadata": {},
   "outputs": [
    {
     "name": "stdout",
     "output_type": "stream",
     "text": [
      "Accuracy score: 96.05263157894737\n",
      "Cross_val_score: 94.92376775271512\n",
      "Difference b\\w Accuracy score & Cross_val_score is: 1.128863826232248\n",
      "Training score: 100.0\n",
      "[[13  0  0 ...  0  0  0]\n",
      " [ 0 15  0 ...  0  0  0]\n",
      " [ 0  0 22 ...  0  0  0]\n",
      " ...\n",
      " [ 0  0  0 ...  3  0  0]\n",
      " [ 0  0  0 ...  0  3  0]\n",
      " [ 0  0  0 ...  0  0  6]]\n",
      "              precision    recall  f1-score   support\n",
      "\n",
      "           0       0.93      1.00      0.96        13\n",
      "           1       0.88      1.00      0.94        15\n",
      "           2       0.96      1.00      0.98        22\n",
      "           3       1.00      1.00      1.00        15\n",
      "           4       0.92      0.92      0.92        12\n",
      "           5       0.89      0.89      0.89         9\n",
      "           6       1.00      1.00      1.00        20\n",
      "           7       0.92      1.00      0.96        12\n",
      "           8       1.00      1.00      1.00         7\n",
      "           9       1.00      1.00      1.00        14\n",
      "          10       1.00      1.00      1.00         4\n",
      "          11       1.00      1.00      1.00         4\n",
      "          12       1.00      1.00      1.00         6\n",
      "          13       1.00      1.00      1.00         2\n",
      "          14       1.00      1.00      1.00         3\n",
      "          15       1.00      1.00      1.00         4\n",
      "          16       1.00      1.00      1.00         3\n",
      "          17       0.86      1.00      0.92         6\n",
      "          18       1.00      1.00      1.00         8\n",
      "          19       1.00      1.00      1.00        10\n",
      "          20       1.00      1.00      1.00         5\n",
      "          22       1.00      1.00      1.00         6\n",
      "          23       0.88      1.00      0.93         7\n",
      "          24       1.00      1.00      1.00         6\n",
      "          25       1.00      1.00      1.00         4\n",
      "          26       1.00      1.00      1.00        13\n",
      "          27       1.00      1.00      1.00         3\n",
      "          28       1.00      0.89      0.94         9\n",
      "          29       0.67      0.50      0.57         4\n",
      "          30       1.00      1.00      1.00         3\n",
      "          31       0.94      0.94      0.94        16\n",
      "          32       1.00      1.00      1.00         6\n",
      "          33       1.00      1.00      1.00         4\n",
      "          34       0.75      1.00      0.86         6\n",
      "          35       1.00      0.80      0.89         5\n",
      "          36       1.00      1.00      1.00         7\n",
      "          37       1.00      1.00      1.00         2\n",
      "          38       1.00      1.00      1.00         7\n",
      "          39       1.00      1.00      1.00         4\n",
      "          40       1.00      0.50      0.67         4\n",
      "          41       1.00      1.00      1.00         8\n",
      "          42       0.92      0.92      0.92        13\n",
      "          43       1.00      1.00      1.00         3\n",
      "          44       1.00      1.00      1.00        13\n",
      "          45       1.00      1.00      1.00         4\n",
      "          46       1.00      0.86      0.92         7\n",
      "          47       1.00      0.75      0.86         8\n",
      "          48       1.00      1.00      1.00         3\n",
      "          49       0.75      0.75      0.75         4\n",
      "          50       1.00      0.86      0.92         7\n",
      "\n",
      "    accuracy                           0.96       380\n",
      "   macro avg       0.97      0.95      0.95       380\n",
      "weighted avg       0.96      0.96      0.96       380\n",
      "\n"
     ]
    }
   ],
   "source": [
    "rfc=RandomForestClassifier()\n",
    "rfc.fit(x_train,y_train)\n",
    "y_pred=rfc.predict(x_test)\n",
    "mod_acc=accuracy_score(y_test,y_pred)\n",
    "print('Accuracy score:',mod_acc*100)\n",
    "cv_score=cross_val_score(rfc,x1,y1,cv=best_cv).mean()\n",
    "print('Cross_val_score:',cv_score*100)\n",
    "print('Difference b\\w Accuracy score & Cross_val_score is:',(mod_acc*100)-(cv_score*100))\n",
    "print('Training score:',rfc.score(x_train,y_train)*100)\n",
    "print(confusion_matrix(y_test,y_pred))\n",
    "print(classification_report(y_test,y_pred))"
   ]
  },
  {
   "cell_type": "markdown",
   "metadata": {},
   "source": [
    "## Hyper-parameter Tuning"
   ]
  },
  {
   "cell_type": "code",
   "execution_count": 85,
   "metadata": {},
   "outputs": [],
   "source": [
    "para={\n",
    "    'n_estimators':[100,150],\n",
    "    'criterion':['gini','entropy'],\n",
    "    'max_features':['auto','sqrt','log2'],\n",
    "#     'class_weight':['balanced','balanced_subsample']\n",
    "    }"
   ]
  },
  {
   "cell_type": "code",
   "execution_count": 86,
   "metadata": {},
   "outputs": [
    {
     "data": {
      "text/plain": [
       "GridSearchCV(cv=8, estimator=RandomForestClassifier(),\n",
       "             param_grid={'criterion': ['gini', 'entropy'],\n",
       "                         'max_features': ['auto', 'sqrt', 'log2'],\n",
       "                         'n_estimators': [100, 150]},\n",
       "             scoring='accuracy')"
      ]
     },
     "execution_count": 86,
     "metadata": {},
     "output_type": "execute_result"
    }
   ],
   "source": [
    "gscv1=GridSearchCV(rfc,para,scoring='accuracy',cv=best_cv)\n",
    "gscv1.fit(x_train,y_train)"
   ]
  },
  {
   "cell_type": "code",
   "execution_count": 87,
   "metadata": {},
   "outputs": [
    {
     "data": {
      "text/plain": [
       "{'criterion': 'gini', 'max_features': 'sqrt', 'n_estimators': 100}"
      ]
     },
     "execution_count": 87,
     "metadata": {},
     "output_type": "execute_result"
    }
   ],
   "source": [
    "gscv1.best_params_"
   ]
  },
  {
   "cell_type": "code",
   "execution_count": 88,
   "metadata": {},
   "outputs": [
    {
     "name": "stdout",
     "output_type": "stream",
     "text": [
      "Accuracy score: 96.57894736842105\n",
      "Cross_val_score: 94.19799498746868\n",
      "Difference b\\w Accuracy score & Cross_val_score is: 2.3809523809523796\n",
      "Training score: 100.0\n",
      "[[13  0  0 ...  0  0  0]\n",
      " [ 0 15  0 ...  0  0  0]\n",
      " [ 0  0 22 ...  0  0  0]\n",
      " ...\n",
      " [ 0  0  0 ...  3  0  0]\n",
      " [ 0  0  0 ...  0  3  0]\n",
      " [ 0  0  0 ...  0  0  7]]\n",
      "              precision    recall  f1-score   support\n",
      "\n",
      "           0       0.93      1.00      0.96        13\n",
      "           1       0.88      1.00      0.94        15\n",
      "           2       0.96      1.00      0.98        22\n",
      "           3       1.00      1.00      1.00        15\n",
      "           4       0.92      0.92      0.92        12\n",
      "           5       0.80      0.89      0.84         9\n",
      "           6       1.00      1.00      1.00        20\n",
      "           7       0.92      1.00      0.96        12\n",
      "           8       1.00      1.00      1.00         7\n",
      "           9       1.00      1.00      1.00        14\n",
      "          10       1.00      1.00      1.00         4\n",
      "          11       1.00      1.00      1.00         4\n",
      "          12       1.00      1.00      1.00         6\n",
      "          13       1.00      1.00      1.00         2\n",
      "          14       0.75      1.00      0.86         3\n",
      "          15       1.00      1.00      1.00         4\n",
      "          16       1.00      1.00      1.00         3\n",
      "          17       0.86      1.00      0.92         6\n",
      "          18       1.00      1.00      1.00         8\n",
      "          19       1.00      1.00      1.00        10\n",
      "          20       1.00      0.80      0.89         5\n",
      "          22       1.00      1.00      1.00         6\n",
      "          23       1.00      1.00      1.00         7\n",
      "          24       1.00      0.83      0.91         6\n",
      "          25       1.00      1.00      1.00         4\n",
      "          26       1.00      1.00      1.00        13\n",
      "          27       1.00      1.00      1.00         3\n",
      "          28       1.00      0.89      0.94         9\n",
      "          29       1.00      0.75      0.86         4\n",
      "          30       1.00      1.00      1.00         3\n",
      "          31       1.00      0.94      0.97        16\n",
      "          32       1.00      1.00      1.00         6\n",
      "          33       1.00      1.00      1.00         4\n",
      "          34       1.00      1.00      1.00         6\n",
      "          35       1.00      0.80      0.89         5\n",
      "          36       0.88      1.00      0.93         7\n",
      "          37       1.00      1.00      1.00         2\n",
      "          38       1.00      1.00      1.00         7\n",
      "          39       1.00      1.00      1.00         4\n",
      "          40       1.00      1.00      1.00         4\n",
      "          41       1.00      1.00      1.00         8\n",
      "          42       0.92      0.92      0.92        13\n",
      "          43       1.00      1.00      1.00         3\n",
      "          44       1.00      1.00      1.00        13\n",
      "          45       1.00      1.00      1.00         4\n",
      "          46       1.00      0.71      0.83         7\n",
      "          47       1.00      0.88      0.93         8\n",
      "          48       1.00      1.00      1.00         3\n",
      "          49       0.75      0.75      0.75         4\n",
      "          50       1.00      1.00      1.00         7\n",
      "\n",
      "    accuracy                           0.97       380\n",
      "   macro avg       0.97      0.96      0.96       380\n",
      "weighted avg       0.97      0.97      0.97       380\n",
      "\n"
     ]
    }
   ],
   "source": [
    "rfc_gs=RandomForestClassifier(n_estimators=150,criterion='gini',max_features='sqrt')\n",
    "rfc_gs.fit(x_train,y_train)\n",
    "y_pred=rfc_gs.predict(x_test)\n",
    "mod_acc=accuracy_score(y_test,y_pred)\n",
    "print('Accuracy score:',mod_acc*100)\n",
    "cv_score=cross_val_score(rfc_gs,x1,y1,cv=best_cv).mean()\n",
    "print('Cross_val_score:',cv_score*100)\n",
    "print('Difference b\\w Accuracy score & Cross_val_score is:',(mod_acc*100)-(cv_score*100))\n",
    "print('Training score:',rfc.score(x_train,y_train)*100)\n",
    "print(confusion_matrix(y_test,y_pred))\n",
    "print(classification_report(y_test,y_pred))"
   ]
  },
  {
   "cell_type": "markdown",
   "metadata": {},
   "source": [
    "## Conclusion"
   ]
  },
  {
   "cell_type": "code",
   "execution_count": 89,
   "metadata": {},
   "outputs": [
    {
     "data": {
      "text/html": [
       "<div>\n",
       "<style scoped>\n",
       "    .dataframe tbody tr th:only-of-type {\n",
       "        vertical-align: middle;\n",
       "    }\n",
       "\n",
       "    .dataframe tbody tr th {\n",
       "        vertical-align: top;\n",
       "    }\n",
       "\n",
       "    .dataframe thead th {\n",
       "        text-align: right;\n",
       "    }\n",
       "</style>\n",
       "<table border=\"1\" class=\"dataframe\">\n",
       "  <thead>\n",
       "    <tr style=\"text-align: right;\">\n",
       "      <th></th>\n",
       "      <th>Region</th>\n",
       "      <th>Predicted_Region</th>\n",
       "    </tr>\n",
       "  </thead>\n",
       "  <tbody>\n",
       "    <tr>\n",
       "      <th>1462</th>\n",
       "      <td>6</td>\n",
       "      <td>6</td>\n",
       "    </tr>\n",
       "    <tr>\n",
       "      <th>662</th>\n",
       "      <td>26</td>\n",
       "      <td>26</td>\n",
       "    </tr>\n",
       "    <tr>\n",
       "      <th>774</th>\n",
       "      <td>31</td>\n",
       "      <td>17</td>\n",
       "    </tr>\n",
       "    <tr>\n",
       "      <th>1308</th>\n",
       "      <td>2</td>\n",
       "      <td>2</td>\n",
       "    </tr>\n",
       "    <tr>\n",
       "      <th>791</th>\n",
       "      <td>31</td>\n",
       "      <td>31</td>\n",
       "    </tr>\n",
       "    <tr>\n",
       "      <th>...</th>\n",
       "      <td>...</td>\n",
       "      <td>...</td>\n",
       "    </tr>\n",
       "    <tr>\n",
       "      <th>534</th>\n",
       "      <td>20</td>\n",
       "      <td>20</td>\n",
       "    </tr>\n",
       "    <tr>\n",
       "      <th>238</th>\n",
       "      <td>8</td>\n",
       "      <td>8</td>\n",
       "    </tr>\n",
       "    <tr>\n",
       "      <th>821</th>\n",
       "      <td>32</td>\n",
       "      <td>32</td>\n",
       "    </tr>\n",
       "    <tr>\n",
       "      <th>676</th>\n",
       "      <td>26</td>\n",
       "      <td>26</td>\n",
       "    </tr>\n",
       "    <tr>\n",
       "      <th>480</th>\n",
       "      <td>18</td>\n",
       "      <td>18</td>\n",
       "    </tr>\n",
       "  </tbody>\n",
       "</table>\n",
       "<p>380 rows × 2 columns</p>\n",
       "</div>"
      ],
      "text/plain": [
       "      Region  Predicted_Region\n",
       "1462       6                 6\n",
       "662       26                26\n",
       "774       31                17\n",
       "1308       2                 2\n",
       "791       31                31\n",
       "...      ...               ...\n",
       "534       20                20\n",
       "238        8                 8\n",
       "821       32                32\n",
       "676       26                26\n",
       "480       18                18\n",
       "\n",
       "[380 rows x 2 columns]"
      ]
     },
     "execution_count": 89,
     "metadata": {},
     "output_type": "execute_result"
    }
   ],
   "source": [
    "df2=pd.DataFrame({'Region':y_test,'Predicted_Region':y_pred})\n",
    "df2"
   ]
  },
  {
   "cell_type": "markdown",
   "metadata": {},
   "source": [
    "### From above table it is clear that model is performing better with 92%-96% accuracy."
   ]
  },
  {
   "cell_type": "code",
   "execution_count": 90,
   "metadata": {},
   "outputs": [],
   "source": [
    "import joblib"
   ]
  },
  {
   "cell_type": "code",
   "execution_count": 91,
   "metadata": {},
   "outputs": [
    {
     "data": {
      "text/plain": [
       "['Region Predicted.csv']"
      ]
     },
     "execution_count": 91,
     "metadata": {},
     "output_type": "execute_result"
    }
   ],
   "source": [
    "joblib.dump(y_pred,'Region Predicted.csv')"
   ]
  },
  {
   "cell_type": "code",
   "execution_count": 92,
   "metadata": {},
   "outputs": [
    {
     "data": {
      "text/plain": [
       "['Avocado-Region Model.obj']"
      ]
     },
     "execution_count": 92,
     "metadata": {},
     "output_type": "execute_result"
    }
   ],
   "source": [
    "# Saving the best model for production\n",
    "joblib.dump(rfc_gs,'Avocado-Region Model.obj')"
   ]
  }
 ],
 "metadata": {
  "kernelspec": {
   "display_name": "Python 3",
   "language": "python",
   "name": "python3"
  },
  "language_info": {
   "codemirror_mode": {
    "name": "ipython",
    "version": 3
   },
   "file_extension": ".py",
   "mimetype": "text/x-python",
   "name": "python",
   "nbconvert_exporter": "python",
   "pygments_lexer": "ipython3",
   "version": "3.8.3"
  }
 },
 "nbformat": 4,
 "nbformat_minor": 4
}
