{
 "cells": [
  {
   "cell_type": "markdown",
   "metadata": {},
   "source": [
    "# Predicting Doctor's Consultation Fee"
   ]
  },
  {
   "cell_type": "markdown",
   "metadata": {},
   "source": [
    "    We have all been in situation where we go to a doctor in emergency and find that the consultation fees are too high. As a data scientist we all should do better. What if you have data that records important details about a doctor and you get to build a model to predict the doctor’s consulting fee?"
   ]
  },
  {
   "cell_type": "code",
   "execution_count": 1,
   "metadata": {},
   "outputs": [],
   "source": [
    "import pandas as pd\n",
    "import numpy as np\n",
    "import matplotlib.pyplot as plt\n",
    "import seaborn as sns\n",
    "import warnings\n",
    "warnings.filterwarnings('ignore')"
   ]
  },
  {
   "cell_type": "markdown",
   "metadata": {},
   "source": [
    "## Training Dataset"
   ]
  },
  {
   "cell_type": "code",
   "execution_count": 2,
   "metadata": {},
   "outputs": [
    {
     "data": {
      "text/html": [
       "<div>\n",
       "<style scoped>\n",
       "    .dataframe tbody tr th:only-of-type {\n",
       "        vertical-align: middle;\n",
       "    }\n",
       "\n",
       "    .dataframe tbody tr th {\n",
       "        vertical-align: top;\n",
       "    }\n",
       "\n",
       "    .dataframe thead th {\n",
       "        text-align: right;\n",
       "    }\n",
       "</style>\n",
       "<table border=\"1\" class=\"dataframe\">\n",
       "  <thead>\n",
       "    <tr style=\"text-align: right;\">\n",
       "      <th></th>\n",
       "      <th>Qualification</th>\n",
       "      <th>Experience</th>\n",
       "      <th>Rating</th>\n",
       "      <th>Place</th>\n",
       "      <th>Profile</th>\n",
       "      <th>Miscellaneous_Info</th>\n",
       "      <th>Fees</th>\n",
       "    </tr>\n",
       "  </thead>\n",
       "  <tbody>\n",
       "    <tr>\n",
       "      <th>0</th>\n",
       "      <td>BHMS, MD - Homeopathy</td>\n",
       "      <td>24 years experience</td>\n",
       "      <td>100%</td>\n",
       "      <td>Kakkanad, Ernakulam</td>\n",
       "      <td>Homeopath</td>\n",
       "      <td>100% 16 Feedback Kakkanad, Ernakulam</td>\n",
       "      <td>100</td>\n",
       "    </tr>\n",
       "    <tr>\n",
       "      <th>1</th>\n",
       "      <td>BAMS, MD - Ayurveda Medicine</td>\n",
       "      <td>12 years experience</td>\n",
       "      <td>98%</td>\n",
       "      <td>Whitefield, Bangalore</td>\n",
       "      <td>Ayurveda</td>\n",
       "      <td>98% 76 Feedback Whitefield, Bangalore</td>\n",
       "      <td>350</td>\n",
       "    </tr>\n",
       "    <tr>\n",
       "      <th>2</th>\n",
       "      <td>MBBS, MS - Otorhinolaryngology</td>\n",
       "      <td>9 years experience</td>\n",
       "      <td>NaN</td>\n",
       "      <td>Mathikere - BEL, Bangalore</td>\n",
       "      <td>ENT Specialist</td>\n",
       "      <td>NaN</td>\n",
       "      <td>300</td>\n",
       "    </tr>\n",
       "    <tr>\n",
       "      <th>3</th>\n",
       "      <td>BSc - Zoology, BAMS</td>\n",
       "      <td>12 years experience</td>\n",
       "      <td>NaN</td>\n",
       "      <td>Bannerghatta Road, Bangalore</td>\n",
       "      <td>Ayurveda</td>\n",
       "      <td>Bannerghatta Road, Bangalore ₹250 Available on...</td>\n",
       "      <td>250</td>\n",
       "    </tr>\n",
       "    <tr>\n",
       "      <th>4</th>\n",
       "      <td>BAMS</td>\n",
       "      <td>20 years experience</td>\n",
       "      <td>100%</td>\n",
       "      <td>Keelkattalai, Chennai</td>\n",
       "      <td>Ayurveda</td>\n",
       "      <td>100% 4 Feedback Keelkattalai, Chennai</td>\n",
       "      <td>250</td>\n",
       "    </tr>\n",
       "    <tr>\n",
       "      <th>...</th>\n",
       "      <td>...</td>\n",
       "      <td>...</td>\n",
       "      <td>...</td>\n",
       "      <td>...</td>\n",
       "      <td>...</td>\n",
       "      <td>...</td>\n",
       "      <td>...</td>\n",
       "    </tr>\n",
       "    <tr>\n",
       "      <th>5956</th>\n",
       "      <td>MBBS, MS - ENT</td>\n",
       "      <td>19 years experience</td>\n",
       "      <td>98%</td>\n",
       "      <td>Basavanagudi, Bangalore</td>\n",
       "      <td>ENT Specialist</td>\n",
       "      <td>98% 45 Feedback Basavanagudi, Bangalore</td>\n",
       "      <td>300</td>\n",
       "    </tr>\n",
       "    <tr>\n",
       "      <th>5957</th>\n",
       "      <td>MBBS</td>\n",
       "      <td>33 years experience</td>\n",
       "      <td>NaN</td>\n",
       "      <td>Nungambakkam, Chennai</td>\n",
       "      <td>General Medicine</td>\n",
       "      <td>NaN</td>\n",
       "      <td>100</td>\n",
       "    </tr>\n",
       "    <tr>\n",
       "      <th>5958</th>\n",
       "      <td>MBBS</td>\n",
       "      <td>41 years experience</td>\n",
       "      <td>97%</td>\n",
       "      <td>Greater Kailash Part 2, Delhi</td>\n",
       "      <td>General Medicine</td>\n",
       "      <td>97% 11 Feedback Greater Kailash Part 2, Delhi</td>\n",
       "      <td>600</td>\n",
       "    </tr>\n",
       "    <tr>\n",
       "      <th>5959</th>\n",
       "      <td>MBBS, MD - General Medicine</td>\n",
       "      <td>15 years experience</td>\n",
       "      <td>90%</td>\n",
       "      <td>Vileparle West, Mumbai</td>\n",
       "      <td>General Medicine</td>\n",
       "      <td>General Medical Consultation Viral Fever Treat...</td>\n",
       "      <td>100</td>\n",
       "    </tr>\n",
       "    <tr>\n",
       "      <th>5960</th>\n",
       "      <td>BDS, MDS - Orthodontics</td>\n",
       "      <td>17 years experience</td>\n",
       "      <td>100%</td>\n",
       "      <td>Pitampura, Delhi</td>\n",
       "      <td>Dentist</td>\n",
       "      <td>Acrylic Partial Denture Crowns and Bridges Fix...</td>\n",
       "      <td>200</td>\n",
       "    </tr>\n",
       "  </tbody>\n",
       "</table>\n",
       "<p>5961 rows × 7 columns</p>\n",
       "</div>"
      ],
      "text/plain": [
       "                       Qualification           Experience Rating  \\\n",
       "0              BHMS, MD - Homeopathy  24 years experience   100%   \n",
       "1       BAMS, MD - Ayurveda Medicine  12 years experience    98%   \n",
       "2     MBBS, MS - Otorhinolaryngology   9 years experience    NaN   \n",
       "3                BSc - Zoology, BAMS  12 years experience    NaN   \n",
       "4                               BAMS  20 years experience   100%   \n",
       "...                              ...                  ...    ...   \n",
       "5956                  MBBS, MS - ENT  19 years experience    98%   \n",
       "5957                            MBBS  33 years experience    NaN   \n",
       "5958                            MBBS  41 years experience    97%   \n",
       "5959     MBBS, MD - General Medicine  15 years experience    90%   \n",
       "5960         BDS, MDS - Orthodontics  17 years experience   100%   \n",
       "\n",
       "                              Place           Profile  \\\n",
       "0               Kakkanad, Ernakulam         Homeopath   \n",
       "1             Whitefield, Bangalore          Ayurveda   \n",
       "2        Mathikere - BEL, Bangalore    ENT Specialist   \n",
       "3      Bannerghatta Road, Bangalore          Ayurveda   \n",
       "4             Keelkattalai, Chennai          Ayurveda   \n",
       "...                             ...               ...   \n",
       "5956        Basavanagudi, Bangalore    ENT Specialist   \n",
       "5957          Nungambakkam, Chennai  General Medicine   \n",
       "5958  Greater Kailash Part 2, Delhi  General Medicine   \n",
       "5959         Vileparle West, Mumbai  General Medicine   \n",
       "5960               Pitampura, Delhi           Dentist   \n",
       "\n",
       "                                     Miscellaneous_Info  Fees  \n",
       "0                  100% 16 Feedback Kakkanad, Ernakulam   100  \n",
       "1                 98% 76 Feedback Whitefield, Bangalore   350  \n",
       "2                                                   NaN   300  \n",
       "3     Bannerghatta Road, Bangalore ₹250 Available on...   250  \n",
       "4                 100% 4 Feedback Keelkattalai, Chennai   250  \n",
       "...                                                 ...   ...  \n",
       "5956            98% 45 Feedback Basavanagudi, Bangalore   300  \n",
       "5957                                                NaN   100  \n",
       "5958      97% 11 Feedback Greater Kailash Part 2, Delhi   600  \n",
       "5959  General Medical Consultation Viral Fever Treat...   100  \n",
       "5960  Acrylic Partial Denture Crowns and Bridges Fix...   200  \n",
       "\n",
       "[5961 rows x 7 columns]"
      ]
     },
     "execution_count": 2,
     "metadata": {},
     "output_type": "execute_result"
    }
   ],
   "source": [
    "df = pd.read_excel('Doc_Train.xlsx')\n",
    "df"
   ]
  },
  {
   "cell_type": "markdown",
   "metadata": {},
   "source": [
    "## Test Dataset"
   ]
  },
  {
   "cell_type": "code",
   "execution_count": 3,
   "metadata": {},
   "outputs": [
    {
     "data": {
      "text/html": [
       "<div>\n",
       "<style scoped>\n",
       "    .dataframe tbody tr th:only-of-type {\n",
       "        vertical-align: middle;\n",
       "    }\n",
       "\n",
       "    .dataframe tbody tr th {\n",
       "        vertical-align: top;\n",
       "    }\n",
       "\n",
       "    .dataframe thead th {\n",
       "        text-align: right;\n",
       "    }\n",
       "</style>\n",
       "<table border=\"1\" class=\"dataframe\">\n",
       "  <thead>\n",
       "    <tr style=\"text-align: right;\">\n",
       "      <th></th>\n",
       "      <th>Qualification</th>\n",
       "      <th>Experience</th>\n",
       "      <th>Rating</th>\n",
       "      <th>Place</th>\n",
       "      <th>Profile</th>\n",
       "      <th>Miscellaneous_Info</th>\n",
       "    </tr>\n",
       "  </thead>\n",
       "  <tbody>\n",
       "    <tr>\n",
       "      <th>0</th>\n",
       "      <td>MBBS</td>\n",
       "      <td>35 years experience</td>\n",
       "      <td>NaN</td>\n",
       "      <td>Ghatkopar East, Mumbai</td>\n",
       "      <td>General Medicine</td>\n",
       "      <td>NaN</td>\n",
       "    </tr>\n",
       "    <tr>\n",
       "      <th>1</th>\n",
       "      <td>MBBS, Diploma in Otorhinolaryngology (DLO)</td>\n",
       "      <td>31 years experience</td>\n",
       "      <td>NaN</td>\n",
       "      <td>West Marredpally, Hyderabad</td>\n",
       "      <td>ENT Specialist</td>\n",
       "      <td>NaN</td>\n",
       "    </tr>\n",
       "    <tr>\n",
       "      <th>2</th>\n",
       "      <td>MBBS, DDVL</td>\n",
       "      <td>40 years experience</td>\n",
       "      <td>70%</td>\n",
       "      <td>KK Nagar, Chennai</td>\n",
       "      <td>Dermatologists</td>\n",
       "      <td>70% 4 Feedback KK Nagar, Chennai</td>\n",
       "    </tr>\n",
       "    <tr>\n",
       "      <th>3</th>\n",
       "      <td>BAMS</td>\n",
       "      <td>0 years experience</td>\n",
       "      <td>NaN</td>\n",
       "      <td>New Ashok Nagar, Delhi</td>\n",
       "      <td>Ayurveda</td>\n",
       "      <td>NaN</td>\n",
       "    </tr>\n",
       "    <tr>\n",
       "      <th>4</th>\n",
       "      <td>BDS, MDS - Conservative Dentistry &amp; Endodontics</td>\n",
       "      <td>16 years experience</td>\n",
       "      <td>100%</td>\n",
       "      <td>Kanakpura Road, Bangalore</td>\n",
       "      <td>Dentist</td>\n",
       "      <td>General Dentistry Conservative Dentistry Cosme...</td>\n",
       "    </tr>\n",
       "    <tr>\n",
       "      <th>...</th>\n",
       "      <td>...</td>\n",
       "      <td>...</td>\n",
       "      <td>...</td>\n",
       "      <td>...</td>\n",
       "      <td>...</td>\n",
       "      <td>...</td>\n",
       "    </tr>\n",
       "    <tr>\n",
       "      <th>1982</th>\n",
       "      <td>BAMS, Doctor of Medicine</td>\n",
       "      <td>10 years experience</td>\n",
       "      <td>NaN</td>\n",
       "      <td>Basavanagudi, Bangalore</td>\n",
       "      <td>Ayurveda</td>\n",
       "      <td>NaN</td>\n",
       "    </tr>\n",
       "    <tr>\n",
       "      <th>1983</th>\n",
       "      <td>MD - Dermatology , Venereology &amp; Leprosy, MBBS</td>\n",
       "      <td>4 years experience</td>\n",
       "      <td>NaN</td>\n",
       "      <td>Choolai, Chennai</td>\n",
       "      <td>Dermatologists</td>\n",
       "      <td>NaN</td>\n",
       "    </tr>\n",
       "    <tr>\n",
       "      <th>1984</th>\n",
       "      <td>MBBS, MD / MS - Obstetrics &amp; Gynaecology</td>\n",
       "      <td>9 years experience</td>\n",
       "      <td>NaN</td>\n",
       "      <td>Porur, Chennai</td>\n",
       "      <td>General Medicine</td>\n",
       "      <td>NaN</td>\n",
       "    </tr>\n",
       "    <tr>\n",
       "      <th>1985</th>\n",
       "      <td>BDS</td>\n",
       "      <td>12 years experience</td>\n",
       "      <td>98%</td>\n",
       "      <td>Arekere, Bangalore</td>\n",
       "      <td>Dentist</td>\n",
       "      <td>RCT - Root Canal Treatment Root Canal Treatmen...</td>\n",
       "    </tr>\n",
       "    <tr>\n",
       "      <th>1986</th>\n",
       "      <td>MBBS, MD - Dermatology , Venereology &amp; Leprosy</td>\n",
       "      <td>8 years experience</td>\n",
       "      <td>NaN</td>\n",
       "      <td>Pallikaranai, Chennai</td>\n",
       "      <td>Dermatologists</td>\n",
       "      <td>1 Feedback Pallikaranai, Chennai ₹500</td>\n",
       "    </tr>\n",
       "  </tbody>\n",
       "</table>\n",
       "<p>1987 rows × 6 columns</p>\n",
       "</div>"
      ],
      "text/plain": [
       "                                        Qualification           Experience  \\\n",
       "0                                                MBBS  35 years experience   \n",
       "1          MBBS, Diploma in Otorhinolaryngology (DLO)  31 years experience   \n",
       "2                                          MBBS, DDVL  40 years experience   \n",
       "3                                                BAMS   0 years experience   \n",
       "4     BDS, MDS - Conservative Dentistry & Endodontics  16 years experience   \n",
       "...                                               ...                  ...   \n",
       "1982                         BAMS, Doctor of Medicine  10 years experience   \n",
       "1983   MD - Dermatology , Venereology & Leprosy, MBBS   4 years experience   \n",
       "1984         MBBS, MD / MS - Obstetrics & Gynaecology   9 years experience   \n",
       "1985                                              BDS  12 years experience   \n",
       "1986   MBBS, MD - Dermatology , Venereology & Leprosy   8 years experience   \n",
       "\n",
       "     Rating                        Place           Profile  \\\n",
       "0       NaN       Ghatkopar East, Mumbai  General Medicine   \n",
       "1       NaN  West Marredpally, Hyderabad    ENT Specialist   \n",
       "2       70%            KK Nagar, Chennai    Dermatologists   \n",
       "3       NaN       New Ashok Nagar, Delhi          Ayurveda   \n",
       "4      100%    Kanakpura Road, Bangalore           Dentist   \n",
       "...     ...                          ...               ...   \n",
       "1982    NaN      Basavanagudi, Bangalore          Ayurveda   \n",
       "1983    NaN             Choolai, Chennai    Dermatologists   \n",
       "1984    NaN               Porur, Chennai  General Medicine   \n",
       "1985    98%           Arekere, Bangalore           Dentist   \n",
       "1986    NaN        Pallikaranai, Chennai    Dermatologists   \n",
       "\n",
       "                                     Miscellaneous_Info  \n",
       "0                                                   NaN  \n",
       "1                                                   NaN  \n",
       "2                      70% 4 Feedback KK Nagar, Chennai  \n",
       "3                                                   NaN  \n",
       "4     General Dentistry Conservative Dentistry Cosme...  \n",
       "...                                                 ...  \n",
       "1982                                                NaN  \n",
       "1983                                                NaN  \n",
       "1984                                                NaN  \n",
       "1985  RCT - Root Canal Treatment Root Canal Treatmen...  \n",
       "1986              1 Feedback Pallikaranai, Chennai ₹500  \n",
       "\n",
       "[1987 rows x 6 columns]"
      ]
     },
     "execution_count": 3,
     "metadata": {},
     "output_type": "execute_result"
    }
   ],
   "source": [
    "td = pd.read_excel('Doc_Test.xlsx')\n",
    "td"
   ]
  },
  {
   "cell_type": "markdown",
   "metadata": {},
   "source": [
    "## Columns Description:"
   ]
  },
  {
   "cell_type": "markdown",
   "metadata": {},
   "source": [
    "    - Qualification: Qualifications and Degrees held by the Doctor\n",
    "\n",
    "    - Experience: Experience of the Doctor in number of years\n",
    "\n",
    "    - Rating: Rating given by patients\n",
    "\n",
    "    - Profile: Type of the Doctor\n",
    "\n",
    "    - Miscellaeous_Info: Extra information about the Doctor\n",
    "\n",
    "    - Fees: Fees charged by the Doctor\n",
    "\n",
    "    - Place: Area and the city where the Doctor is located"
   ]
  },
  {
   "cell_type": "markdown",
   "metadata": {},
   "source": [
    "## Let's Consider Training Dataset"
   ]
  },
  {
   "cell_type": "code",
   "execution_count": 4,
   "metadata": {},
   "outputs": [
    {
     "data": {
      "text/html": [
       "<div>\n",
       "<style scoped>\n",
       "    .dataframe tbody tr th:only-of-type {\n",
       "        vertical-align: middle;\n",
       "    }\n",
       "\n",
       "    .dataframe tbody tr th {\n",
       "        vertical-align: top;\n",
       "    }\n",
       "\n",
       "    .dataframe thead th {\n",
       "        text-align: right;\n",
       "    }\n",
       "</style>\n",
       "<table border=\"1\" class=\"dataframe\">\n",
       "  <thead>\n",
       "    <tr style=\"text-align: right;\">\n",
       "      <th></th>\n",
       "      <th>Qualification</th>\n",
       "      <th>Experience</th>\n",
       "      <th>Rating</th>\n",
       "      <th>Place</th>\n",
       "      <th>Profile</th>\n",
       "      <th>Miscellaneous_Info</th>\n",
       "      <th>Fees</th>\n",
       "    </tr>\n",
       "  </thead>\n",
       "  <tbody>\n",
       "    <tr>\n",
       "      <th>0</th>\n",
       "      <td>BHMS, MD - Homeopathy</td>\n",
       "      <td>24 years experience</td>\n",
       "      <td>100%</td>\n",
       "      <td>Kakkanad, Ernakulam</td>\n",
       "      <td>Homeopath</td>\n",
       "      <td>100% 16 Feedback Kakkanad, Ernakulam</td>\n",
       "      <td>100</td>\n",
       "    </tr>\n",
       "    <tr>\n",
       "      <th>1</th>\n",
       "      <td>BAMS, MD - Ayurveda Medicine</td>\n",
       "      <td>12 years experience</td>\n",
       "      <td>98%</td>\n",
       "      <td>Whitefield, Bangalore</td>\n",
       "      <td>Ayurveda</td>\n",
       "      <td>98% 76 Feedback Whitefield, Bangalore</td>\n",
       "      <td>350</td>\n",
       "    </tr>\n",
       "    <tr>\n",
       "      <th>2</th>\n",
       "      <td>MBBS, MS - Otorhinolaryngology</td>\n",
       "      <td>9 years experience</td>\n",
       "      <td>NaN</td>\n",
       "      <td>Mathikere - BEL, Bangalore</td>\n",
       "      <td>ENT Specialist</td>\n",
       "      <td>NaN</td>\n",
       "      <td>300</td>\n",
       "    </tr>\n",
       "    <tr>\n",
       "      <th>3</th>\n",
       "      <td>BSc - Zoology, BAMS</td>\n",
       "      <td>12 years experience</td>\n",
       "      <td>NaN</td>\n",
       "      <td>Bannerghatta Road, Bangalore</td>\n",
       "      <td>Ayurveda</td>\n",
       "      <td>Bannerghatta Road, Bangalore ₹250 Available on...</td>\n",
       "      <td>250</td>\n",
       "    </tr>\n",
       "    <tr>\n",
       "      <th>4</th>\n",
       "      <td>BAMS</td>\n",
       "      <td>20 years experience</td>\n",
       "      <td>100%</td>\n",
       "      <td>Keelkattalai, Chennai</td>\n",
       "      <td>Ayurveda</td>\n",
       "      <td>100% 4 Feedback Keelkattalai, Chennai</td>\n",
       "      <td>250</td>\n",
       "    </tr>\n",
       "    <tr>\n",
       "      <th>...</th>\n",
       "      <td>...</td>\n",
       "      <td>...</td>\n",
       "      <td>...</td>\n",
       "      <td>...</td>\n",
       "      <td>...</td>\n",
       "      <td>...</td>\n",
       "      <td>...</td>\n",
       "    </tr>\n",
       "    <tr>\n",
       "      <th>5956</th>\n",
       "      <td>MBBS, MS - ENT</td>\n",
       "      <td>19 years experience</td>\n",
       "      <td>98%</td>\n",
       "      <td>Basavanagudi, Bangalore</td>\n",
       "      <td>ENT Specialist</td>\n",
       "      <td>98% 45 Feedback Basavanagudi, Bangalore</td>\n",
       "      <td>300</td>\n",
       "    </tr>\n",
       "    <tr>\n",
       "      <th>5957</th>\n",
       "      <td>MBBS</td>\n",
       "      <td>33 years experience</td>\n",
       "      <td>NaN</td>\n",
       "      <td>Nungambakkam, Chennai</td>\n",
       "      <td>General Medicine</td>\n",
       "      <td>NaN</td>\n",
       "      <td>100</td>\n",
       "    </tr>\n",
       "    <tr>\n",
       "      <th>5958</th>\n",
       "      <td>MBBS</td>\n",
       "      <td>41 years experience</td>\n",
       "      <td>97%</td>\n",
       "      <td>Greater Kailash Part 2, Delhi</td>\n",
       "      <td>General Medicine</td>\n",
       "      <td>97% 11 Feedback Greater Kailash Part 2, Delhi</td>\n",
       "      <td>600</td>\n",
       "    </tr>\n",
       "    <tr>\n",
       "      <th>5959</th>\n",
       "      <td>MBBS, MD - General Medicine</td>\n",
       "      <td>15 years experience</td>\n",
       "      <td>90%</td>\n",
       "      <td>Vileparle West, Mumbai</td>\n",
       "      <td>General Medicine</td>\n",
       "      <td>General Medical Consultation Viral Fever Treat...</td>\n",
       "      <td>100</td>\n",
       "    </tr>\n",
       "    <tr>\n",
       "      <th>5960</th>\n",
       "      <td>BDS, MDS - Orthodontics</td>\n",
       "      <td>17 years experience</td>\n",
       "      <td>100%</td>\n",
       "      <td>Pitampura, Delhi</td>\n",
       "      <td>Dentist</td>\n",
       "      <td>Acrylic Partial Denture Crowns and Bridges Fix...</td>\n",
       "      <td>200</td>\n",
       "    </tr>\n",
       "  </tbody>\n",
       "</table>\n",
       "<p>5961 rows × 7 columns</p>\n",
       "</div>"
      ],
      "text/plain": [
       "                       Qualification           Experience Rating  \\\n",
       "0              BHMS, MD - Homeopathy  24 years experience   100%   \n",
       "1       BAMS, MD - Ayurveda Medicine  12 years experience    98%   \n",
       "2     MBBS, MS - Otorhinolaryngology   9 years experience    NaN   \n",
       "3                BSc - Zoology, BAMS  12 years experience    NaN   \n",
       "4                               BAMS  20 years experience   100%   \n",
       "...                              ...                  ...    ...   \n",
       "5956                  MBBS, MS - ENT  19 years experience    98%   \n",
       "5957                            MBBS  33 years experience    NaN   \n",
       "5958                            MBBS  41 years experience    97%   \n",
       "5959     MBBS, MD - General Medicine  15 years experience    90%   \n",
       "5960         BDS, MDS - Orthodontics  17 years experience   100%   \n",
       "\n",
       "                              Place           Profile  \\\n",
       "0               Kakkanad, Ernakulam         Homeopath   \n",
       "1             Whitefield, Bangalore          Ayurveda   \n",
       "2        Mathikere - BEL, Bangalore    ENT Specialist   \n",
       "3      Bannerghatta Road, Bangalore          Ayurveda   \n",
       "4             Keelkattalai, Chennai          Ayurveda   \n",
       "...                             ...               ...   \n",
       "5956        Basavanagudi, Bangalore    ENT Specialist   \n",
       "5957          Nungambakkam, Chennai  General Medicine   \n",
       "5958  Greater Kailash Part 2, Delhi  General Medicine   \n",
       "5959         Vileparle West, Mumbai  General Medicine   \n",
       "5960               Pitampura, Delhi           Dentist   \n",
       "\n",
       "                                     Miscellaneous_Info  Fees  \n",
       "0                  100% 16 Feedback Kakkanad, Ernakulam   100  \n",
       "1                 98% 76 Feedback Whitefield, Bangalore   350  \n",
       "2                                                   NaN   300  \n",
       "3     Bannerghatta Road, Bangalore ₹250 Available on...   250  \n",
       "4                 100% 4 Feedback Keelkattalai, Chennai   250  \n",
       "...                                                 ...   ...  \n",
       "5956            98% 45 Feedback Basavanagudi, Bangalore   300  \n",
       "5957                                                NaN   100  \n",
       "5958      97% 11 Feedback Greater Kailash Part 2, Delhi   600  \n",
       "5959  General Medical Consultation Viral Fever Treat...   100  \n",
       "5960  Acrylic Partial Denture Crowns and Bridges Fix...   200  \n",
       "\n",
       "[5961 rows x 7 columns]"
      ]
     },
     "execution_count": 4,
     "metadata": {},
     "output_type": "execute_result"
    }
   ],
   "source": [
    "df"
   ]
  },
  {
   "cell_type": "code",
   "execution_count": 5,
   "metadata": {},
   "outputs": [
    {
     "data": {
      "text/plain": [
       "(5961, 7)"
      ]
     },
     "execution_count": 5,
     "metadata": {},
     "output_type": "execute_result"
    }
   ],
   "source": [
    "df.shape"
   ]
  },
  {
   "cell_type": "code",
   "execution_count": 6,
   "metadata": {},
   "outputs": [
    {
     "data": {
      "text/plain": [
       "Index(['Qualification', 'Experience', 'Rating', 'Place', 'Profile',\n",
       "       'Miscellaneous_Info', 'Fees'],\n",
       "      dtype='object')"
      ]
     },
     "execution_count": 6,
     "metadata": {},
     "output_type": "execute_result"
    }
   ],
   "source": [
    "df.columns"
   ]
  },
  {
   "cell_type": "code",
   "execution_count": 7,
   "metadata": {},
   "outputs": [
    {
     "data": {
      "text/plain": [
       "40"
      ]
     },
     "execution_count": 7,
     "metadata": {},
     "output_type": "execute_result"
    }
   ],
   "source": [
    "# checking any duplicate data\n",
    "df.duplicated().sum()"
   ]
  },
  {
   "cell_type": "code",
   "execution_count": 8,
   "metadata": {},
   "outputs": [],
   "source": [
    "# deleting duplocates\n",
    "df=df.drop_duplicates()"
   ]
  },
  {
   "cell_type": "code",
   "execution_count": 9,
   "metadata": {},
   "outputs": [
    {
     "name": "stdout",
     "output_type": "stream",
     "text": [
      "<class 'pandas.core.frame.DataFrame'>\n",
      "Int64Index: 5921 entries, 0 to 5960\n",
      "Data columns (total 7 columns):\n",
      " #   Column              Non-Null Count  Dtype \n",
      "---  ------              --------------  ----- \n",
      " 0   Qualification       5921 non-null   object\n",
      " 1   Experience          5921 non-null   object\n",
      " 2   Rating              2659 non-null   object\n",
      " 3   Place               5919 non-null   object\n",
      " 4   Profile             5921 non-null   object\n",
      " 5   Miscellaneous_Info  3340 non-null   object\n",
      " 6   Fees                5921 non-null   int64 \n",
      "dtypes: int64(1), object(6)\n",
      "memory usage: 370.1+ KB\n"
     ]
    }
   ],
   "source": [
    "df.info()"
   ]
  },
  {
   "cell_type": "markdown",
   "metadata": {},
   "source": [
    "### Observations:\n",
    "        - Fees column is in int Data-Type.\n",
    "        - Rest of the columns are in object Data-Types."
   ]
  },
  {
   "cell_type": "code",
   "execution_count": 10,
   "metadata": {},
   "outputs": [
    {
     "data": {
      "image/png": "[encoded data removed]",
      "text/plain": [
       "<Figure size 432x288 with 2 Axes>"
      ]
     },
     "metadata": {
      "needs_background": "light"
     },
     "output_type": "display_data"
    }
   ],
   "source": [
    "sns.heatmap(df.isnull())\n",
    "plt.show()"
   ]
  },
  {
   "cell_type": "markdown",
   "metadata": {},
   "source": [
    "### Observations:\n",
    "        Columns such as Rating, Place, Miscellaneous_Info has missing values."
   ]
  },
  {
   "cell_type": "markdown",
   "metadata": {},
   "source": [
    "# Data Cleaning & Handling the NaN values."
   ]
  },
  {
   "cell_type": "markdown",
   "metadata": {},
   "source": [
    "## 1. Experience Column"
   ]
  },
  {
   "cell_type": "markdown",
   "metadata": {},
   "source": [
    "### Removing 'years experience' from Experience column and Converting Experience column into 'int' Data-Type."
   ]
  },
  {
   "cell_type": "code",
   "execution_count": 11,
   "metadata": {},
   "outputs": [],
   "source": [
    "df['Experience']=df['Experience'].str.replace('years experience','')"
   ]
  },
  {
   "cell_type": "code",
   "execution_count": 12,
   "metadata": {},
   "outputs": [],
   "source": [
    "df['Experience']=df['Experience'].astype(int)"
   ]
  },
  {
   "cell_type": "markdown",
   "metadata": {},
   "source": [
    "## 2. Rating Column"
   ]
  },
  {
   "cell_type": "markdown",
   "metadata": {},
   "source": [
    "### Removing Special-Character (%) from Rating column and Converting Rating column into 'int' Data-Type."
   ]
  },
  {
   "cell_type": "code",
   "execution_count": 13,
   "metadata": {},
   "outputs": [],
   "source": [
    "df['Rating']=df['Rating'].str.replace('%','')"
   ]
  },
  {
   "cell_type": "code",
   "execution_count": 14,
   "metadata": {},
   "outputs": [],
   "source": [
    "df['Rating']=df['Rating'].replace(np.NaN,0)"
   ]
  },
  {
   "cell_type": "code",
   "execution_count": 15,
   "metadata": {},
   "outputs": [],
   "source": [
    "df['Rating']=df['Rating'].astype(int)"
   ]
  },
  {
   "cell_type": "code",
   "execution_count": 16,
   "metadata": {},
   "outputs": [],
   "source": [
    "df['Rating']=df['Rating'].replace(0,np.NaN)"
   ]
  },
  {
   "cell_type": "markdown",
   "metadata": {},
   "source": [
    "### Filling the NaN values in the Rating column."
   ]
  },
  {
   "cell_type": "code",
   "execution_count": 17,
   "metadata": {},
   "outputs": [
    {
     "data": {
      "image/png": "[encoded data removed]",
      "text/plain": [
       "<Figure size 432x288 with 1 Axes>"
      ]
     },
     "metadata": {
      "needs_background": "light"
     },
     "output_type": "display_data"
    }
   ],
   "source": [
    "sns.distplot(df['Rating'])\n",
    "plt.show()"
   ]
  },
  {
   "cell_type": "markdown",
   "metadata": {},
   "source": [
    "### Observations:\n",
    "        Since data is 'Not Normally Distributed', we can fill the NaN values with 'Median'."
   ]
  },
  {
   "cell_type": "code",
   "execution_count": 18,
   "metadata": {},
   "outputs": [],
   "source": [
    "df['Rating']=df['Rating'].fillna(df['Rating'].median())"
   ]
  },
  {
   "cell_type": "markdown",
   "metadata": {},
   "source": [
    "## 3. Place Column"
   ]
  },
  {
   "cell_type": "markdown",
   "metadata": {},
   "source": [
    "### Place column contains 'Area' and the 'City' where the Doctor is located.\n",
    "### Let's extract 'Area' and 'City' names from Place column."
   ]
  },
  {
   "cell_type": "code",
   "execution_count": 19,
   "metadata": {},
   "outputs": [],
   "source": [
    "df['Area']=df['Place'].str.split(',').str[0]"
   ]
  },
  {
   "cell_type": "code",
   "execution_count": 20,
   "metadata": {},
   "outputs": [],
   "source": [
    "df['City']=df['Place'].str.split(',').str[1]"
   ]
  },
  {
   "cell_type": "markdown",
   "metadata": {},
   "source": [
    "### Handling the NaN Values in 'Area' & 'City' column"
   ]
  },
  {
   "cell_type": "code",
   "execution_count": 21,
   "metadata": {},
   "outputs": [
    {
     "data": {
      "text/plain": [
       "2"
      ]
     },
     "execution_count": 21,
     "metadata": {},
     "output_type": "execute_result"
    }
   ],
   "source": [
    "df['Area'].isnull().sum()"
   ]
  },
  {
   "cell_type": "code",
   "execution_count": 22,
   "metadata": {},
   "outputs": [
    {
     "data": {
      "text/plain": [
       "3"
      ]
     },
     "execution_count": 22,
     "metadata": {},
     "output_type": "execute_result"
    }
   ],
   "source": [
    "df['City'].isnull().sum()"
   ]
  },
  {
   "cell_type": "markdown",
   "metadata": {},
   "source": [
    "### Since 'Area' & 'City' column has Categorical values, we can fill the NaN values with 'most frequently repeated values' (Mode values)."
   ]
  },
  {
   "cell_type": "code",
   "execution_count": 23,
   "metadata": {},
   "outputs": [],
   "source": [
    "df['Area'].fillna(df['Area'].mode()[0],inplace=True)"
   ]
  },
  {
   "cell_type": "code",
   "execution_count": 24,
   "metadata": {},
   "outputs": [],
   "source": [
    "df['City'].fillna(df['City'].mode()[0],inplace=True)"
   ]
  },
  {
   "cell_type": "markdown",
   "metadata": {},
   "source": [
    "### Since we extracted relevant information from Place column, we can drop this column."
   ]
  },
  {
   "cell_type": "code",
   "execution_count": 25,
   "metadata": {},
   "outputs": [],
   "source": [
    "df.drop('Place',axis=1,inplace=True)"
   ]
  },
  {
   "cell_type": "markdown",
   "metadata": {},
   "source": [
    "## 4. Qualification Column"
   ]
  },
  {
   "cell_type": "code",
   "execution_count": 26,
   "metadata": {},
   "outputs": [
    {
     "data": {
      "text/plain": [
       "1420"
      ]
     },
     "execution_count": 26,
     "metadata": {},
     "output_type": "execute_result"
    }
   ],
   "source": [
    "len(df['Qualification'].unique())"
   ]
  },
  {
   "cell_type": "code",
   "execution_count": 27,
   "metadata": {},
   "outputs": [
    {
     "data": {
      "text/plain": [
       "array(['BHMS, MD - Homeopathy', 'BAMS, MD - Ayurveda Medicine',\n",
       "       'MBBS, MS - Otorhinolaryngology', 'BSc - Zoology, BAMS', 'BAMS',\n",
       "       'BHMS', 'BDS', 'MBBS, MD - General Medicine', 'BSc, BDS',\n",
       "       'MBBS, MS, DNB - ENT', 'BDS, MDS',\n",
       "       'BDS, MDS - Oral & Maxillofacial Surgery',\n",
       "       'MBBS, Diploma in Otorhinolaryngology (DLO), DNB - ENT',\n",
       "       'MBBS, Diploma in Otorhinolaryngology (DLO)',\n",
       "       'MBBS, MF- Homeopathy', 'MBBS, MS - ENT', 'MBBS', 'MDS, DNB, BDS',\n",
       "       'MBBS, DNB - ENT',\n",
       "       'MBBS, Fellowship of College of General Practice (FCGP)',\n",
       "       'MBBS, DDVL', 'MBBS, IBCLC (USA)',\n",
       "       'MBBS, MD - General Medicine, Post Graduate Diploma in Diabetology (PGDD)',\n",
       "       'Diploma in Dermatology, MBBS',\n",
       "       'MBBS, DDVL, Fellowship in Aesthetic Medicine',\n",
       "       'DM - Neurology, MD - Pediatrics, MBBS',\n",
       "       'BDS, MDS - Oral & Maxillofacial Surgery, Fellowship in Cleft Lip and Craniofacial Surgery',\n",
       "       'BHMS, Diploma in Cosmetology', 'MBBS, MS - ENT, DNB - ENT',\n",
       "       'MBBS, AFIH', 'BDS, MDS - Prosthodontist And Crown Bridge',\n",
       "       'BHMS, M. D. Hom. (Practice of Medicine)',\n",
       "       'BAMS, Diploma in Emergency Medicine, Diploma in Counselling Skills',\n",
       "       'MD - Homeopathy, DHMS (Diploma in Homeopathic Medicine and Surgery)',\n",
       "       'MBBS, MD - Dermatology , Venereology & Leprosy',\n",
       "       'BDS, MDS - Oral and Maxillofacial Pathology',\n",
       "       'BDS, MDS - Oral & Maxillofacial Surgery, MFDS RCS',\n",
       "       'MBBS, MS - ENT, MRCS (UK)',\n",
       "       'MBBS, MD - Dermatology , Venereology & Leprosy, FRGUHS, Fellowship in Dermatological Laser Surgery',\n",
       "       'MBBS, Member of the Royal College of Physicians, UK (MRCP UK), DNB, MNAMS- Family Medicine, MD - Medicine'],\n",
       "      dtype=object)"
      ]
     },
     "execution_count": 27,
     "metadata": {},
     "output_type": "execute_result"
    }
   ],
   "source": [
    "df['Qualification'].unique()[:40]"
   ]
  },
  {
   "cell_type": "markdown",
   "metadata": {},
   "source": [
    "### Observations:\n",
    "\n",
    "        - Qualification column has lots of Data/Information. \n",
    "        - Some Doctors have only 'Single Degree', some have 'Double Degree', and some Doctors have 'Multiple Degree'.       "
   ]
  },
  {
   "cell_type": "markdown",
   "metadata": {},
   "source": [
    "### Let's Convert 'Qualification' column into 'Total No. Of Qualification' column."
   ]
  },
  {
   "cell_type": "code",
   "execution_count": 28,
   "metadata": {},
   "outputs": [],
   "source": [
    "Qualification = list(df['Qualification'])\n",
    "\n",
    "Total_No_Of_Qualification=[]\n",
    "for i in Qualification:\n",
    "    Total_No_Of_Qualification.append(len(i.split(',')))"
   ]
  },
  {
   "cell_type": "code",
   "execution_count": 29,
   "metadata": {},
   "outputs": [],
   "source": [
    "df['Total No. Of Qualification']=Total_No_Of_Qualification"
   ]
  },
  {
   "cell_type": "markdown",
   "metadata": {},
   "source": [
    "### Since we extracted relevant information from 'Qualification' column, we can therefore drop this column."
   ]
  },
  {
   "cell_type": "code",
   "execution_count": 30,
   "metadata": {},
   "outputs": [],
   "source": [
    "df.drop('Qualification',axis=1,inplace=True)"
   ]
  },
  {
   "cell_type": "code",
   "execution_count": 31,
   "metadata": {},
   "outputs": [
    {
     "data": {
      "text/html": [
       "<div>\n",
       "<style scoped>\n",
       "    .dataframe tbody tr th:only-of-type {\n",
       "        vertical-align: middle;\n",
       "    }\n",
       "\n",
       "    .dataframe tbody tr th {\n",
       "        vertical-align: top;\n",
       "    }\n",
       "\n",
       "    .dataframe thead th {\n",
       "        text-align: right;\n",
       "    }\n",
       "</style>\n",
       "<table border=\"1\" class=\"dataframe\">\n",
       "  <thead>\n",
       "    <tr style=\"text-align: right;\">\n",
       "      <th></th>\n",
       "      <th>Experience</th>\n",
       "      <th>Rating</th>\n",
       "      <th>Profile</th>\n",
       "      <th>Miscellaneous_Info</th>\n",
       "      <th>Fees</th>\n",
       "      <th>Area</th>\n",
       "      <th>City</th>\n",
       "      <th>Total No. Of Qualification</th>\n",
       "    </tr>\n",
       "  </thead>\n",
       "  <tbody>\n",
       "    <tr>\n",
       "      <th>0</th>\n",
       "      <td>24</td>\n",
       "      <td>100.0</td>\n",
       "      <td>Homeopath</td>\n",
       "      <td>100% 16 Feedback Kakkanad, Ernakulam</td>\n",
       "      <td>100</td>\n",
       "      <td>Kakkanad</td>\n",
       "      <td>Ernakulam</td>\n",
       "      <td>2</td>\n",
       "    </tr>\n",
       "    <tr>\n",
       "      <th>1</th>\n",
       "      <td>12</td>\n",
       "      <td>98.0</td>\n",
       "      <td>Ayurveda</td>\n",
       "      <td>98% 76 Feedback Whitefield, Bangalore</td>\n",
       "      <td>350</td>\n",
       "      <td>Whitefield</td>\n",
       "      <td>Bangalore</td>\n",
       "      <td>2</td>\n",
       "    </tr>\n",
       "    <tr>\n",
       "      <th>2</th>\n",
       "      <td>9</td>\n",
       "      <td>97.0</td>\n",
       "      <td>ENT Specialist</td>\n",
       "      <td>NaN</td>\n",
       "      <td>300</td>\n",
       "      <td>Mathikere - BEL</td>\n",
       "      <td>Bangalore</td>\n",
       "      <td>2</td>\n",
       "    </tr>\n",
       "    <tr>\n",
       "      <th>3</th>\n",
       "      <td>12</td>\n",
       "      <td>97.0</td>\n",
       "      <td>Ayurveda</td>\n",
       "      <td>Bannerghatta Road, Bangalore ₹250 Available on...</td>\n",
       "      <td>250</td>\n",
       "      <td>Bannerghatta Road</td>\n",
       "      <td>Bangalore</td>\n",
       "      <td>2</td>\n",
       "    </tr>\n",
       "    <tr>\n",
       "      <th>4</th>\n",
       "      <td>20</td>\n",
       "      <td>100.0</td>\n",
       "      <td>Ayurveda</td>\n",
       "      <td>100% 4 Feedback Keelkattalai, Chennai</td>\n",
       "      <td>250</td>\n",
       "      <td>Keelkattalai</td>\n",
       "      <td>Chennai</td>\n",
       "      <td>1</td>\n",
       "    </tr>\n",
       "  </tbody>\n",
       "</table>\n",
       "</div>"
      ],
      "text/plain": [
       "   Experience  Rating         Profile  \\\n",
       "0          24   100.0       Homeopath   \n",
       "1          12    98.0        Ayurveda   \n",
       "2           9    97.0  ENT Specialist   \n",
       "3          12    97.0        Ayurveda   \n",
       "4          20   100.0        Ayurveda   \n",
       "\n",
       "                                  Miscellaneous_Info  Fees               Area  \\\n",
       "0               100% 16 Feedback Kakkanad, Ernakulam   100           Kakkanad   \n",
       "1              98% 76 Feedback Whitefield, Bangalore   350         Whitefield   \n",
       "2                                                NaN   300    Mathikere - BEL   \n",
       "3  Bannerghatta Road, Bangalore ₹250 Available on...   250  Bannerghatta Road   \n",
       "4              100% 4 Feedback Keelkattalai, Chennai   250       Keelkattalai   \n",
       "\n",
       "         City  Total No. Of Qualification  \n",
       "0   Ernakulam                           2  \n",
       "1   Bangalore                           2  \n",
       "2   Bangalore                           2  \n",
       "3   Bangalore                           2  \n",
       "4     Chennai                           1  "
      ]
     },
     "execution_count": 31,
     "metadata": {},
     "output_type": "execute_result"
    }
   ],
   "source": [
    "df.head()"
   ]
  },
  {
   "cell_type": "markdown",
   "metadata": {},
   "source": [
    "## 5. Miscellaneous_Info Column"
   ]
  },
  {
   "cell_type": "markdown",
   "metadata": {},
   "source": [
    "### Observations:\n",
    "        Since this column gives information such as 'Rating', 'Area', 'City', which are already known to us, hence we can drop this column."
   ]
  },
  {
   "cell_type": "code",
   "execution_count": 32,
   "metadata": {},
   "outputs": [],
   "source": [
    "df.drop('Miscellaneous_Info',axis=1,inplace=True)"
   ]
  },
  {
   "cell_type": "code",
   "execution_count": 33,
   "metadata": {},
   "outputs": [
    {
     "data": {
      "text/html": [
       "<div>\n",
       "<style scoped>\n",
       "    .dataframe tbody tr th:only-of-type {\n",
       "        vertical-align: middle;\n",
       "    }\n",
       "\n",
       "    .dataframe tbody tr th {\n",
       "        vertical-align: top;\n",
       "    }\n",
       "\n",
       "    .dataframe thead th {\n",
       "        text-align: right;\n",
       "    }\n",
       "</style>\n",
       "<table border=\"1\" class=\"dataframe\">\n",
       "  <thead>\n",
       "    <tr style=\"text-align: right;\">\n",
       "      <th></th>\n",
       "      <th>Experience</th>\n",
       "      <th>Rating</th>\n",
       "      <th>Profile</th>\n",
       "      <th>Fees</th>\n",
       "      <th>Area</th>\n",
       "      <th>City</th>\n",
       "      <th>Total No. Of Qualification</th>\n",
       "    </tr>\n",
       "  </thead>\n",
       "  <tbody>\n",
       "    <tr>\n",
       "      <th>0</th>\n",
       "      <td>24</td>\n",
       "      <td>100.0</td>\n",
       "      <td>Homeopath</td>\n",
       "      <td>100</td>\n",
       "      <td>Kakkanad</td>\n",
       "      <td>Ernakulam</td>\n",
       "      <td>2</td>\n",
       "    </tr>\n",
       "    <tr>\n",
       "      <th>1</th>\n",
       "      <td>12</td>\n",
       "      <td>98.0</td>\n",
       "      <td>Ayurveda</td>\n",
       "      <td>350</td>\n",
       "      <td>Whitefield</td>\n",
       "      <td>Bangalore</td>\n",
       "      <td>2</td>\n",
       "    </tr>\n",
       "    <tr>\n",
       "      <th>2</th>\n",
       "      <td>9</td>\n",
       "      <td>97.0</td>\n",
       "      <td>ENT Specialist</td>\n",
       "      <td>300</td>\n",
       "      <td>Mathikere - BEL</td>\n",
       "      <td>Bangalore</td>\n",
       "      <td>2</td>\n",
       "    </tr>\n",
       "    <tr>\n",
       "      <th>3</th>\n",
       "      <td>12</td>\n",
       "      <td>97.0</td>\n",
       "      <td>Ayurveda</td>\n",
       "      <td>250</td>\n",
       "      <td>Bannerghatta Road</td>\n",
       "      <td>Bangalore</td>\n",
       "      <td>2</td>\n",
       "    </tr>\n",
       "    <tr>\n",
       "      <th>4</th>\n",
       "      <td>20</td>\n",
       "      <td>100.0</td>\n",
       "      <td>Ayurveda</td>\n",
       "      <td>250</td>\n",
       "      <td>Keelkattalai</td>\n",
       "      <td>Chennai</td>\n",
       "      <td>1</td>\n",
       "    </tr>\n",
       "  </tbody>\n",
       "</table>\n",
       "</div>"
      ],
      "text/plain": [
       "   Experience  Rating         Profile  Fees               Area        City  \\\n",
       "0          24   100.0       Homeopath   100           Kakkanad   Ernakulam   \n",
       "1          12    98.0        Ayurveda   350         Whitefield   Bangalore   \n",
       "2           9    97.0  ENT Specialist   300    Mathikere - BEL   Bangalore   \n",
       "3          12    97.0        Ayurveda   250  Bannerghatta Road   Bangalore   \n",
       "4          20   100.0        Ayurveda   250       Keelkattalai     Chennai   \n",
       "\n",
       "   Total No. Of Qualification  \n",
       "0                           2  \n",
       "1                           2  \n",
       "2                           2  \n",
       "3                           2  \n",
       "4                           1  "
      ]
     },
     "execution_count": 33,
     "metadata": {},
     "output_type": "execute_result"
    }
   ],
   "source": [
    "df.head()"
   ]
  },
  {
   "cell_type": "markdown",
   "metadata": {},
   "source": [
    "# EDA"
   ]
  },
  {
   "cell_type": "markdown",
   "metadata": {},
   "source": [
    "## Univariate Analysis"
   ]
  },
  {
   "cell_type": "code",
   "execution_count": 34,
   "metadata": {},
   "outputs": [
    {
     "data": {
      "image/png": "[encoded data removed]",
      "text/plain": [
       "<Figure size 432x288 with 1 Axes>"
      ]
     },
     "metadata": {
      "needs_background": "light"
     },
     "output_type": "display_data"
    }
   ],
   "source": [
    "plt.hist(df['Fees'])\n",
    "plt.show()"
   ]
  },
  {
   "cell_type": "markdown",
   "metadata": {},
   "source": [
    "### Observations:\n",
    "        - Doctors 'Fees' ranges from 5 to 950.\n",
    "        - Majority of Doctors 'Fees' ranges from 100 to 500."
   ]
  },
  {
   "cell_type": "code",
   "execution_count": 35,
   "metadata": {},
   "outputs": [
    {
     "data": {
      "image/png": "[encoded data removed]",
      "text/plain": [
       "<Figure size 432x288 with 1 Axes>"
      ]
     },
     "metadata": {
      "needs_background": "light"
     },
     "output_type": "display_data"
    }
   ],
   "source": [
    "plt.hist(df['Experience'])\n",
    "plt.show()"
   ]
  },
  {
   "cell_type": "markdown",
   "metadata": {},
   "source": [
    "### Observations:\n",
    "        - Doctors 'Experience' ranges from 0 to 70 years.\n",
    "        - Majority of Doctors 'Experience' ranges from 10 to 20 years."
   ]
  },
  {
   "cell_type": "code",
   "execution_count": 36,
   "metadata": {},
   "outputs": [
    {
     "data": {
      "image/png": "[encoded data removed]",
      "text/plain": [
       "<Figure size 432x288 with 1 Axes>"
      ]
     },
     "metadata": {
      "needs_background": "light"
     },
     "output_type": "display_data"
    }
   ],
   "source": [
    "plt.hist(df['Rating'])\n",
    "plt.show()"
   ]
  },
  {
   "cell_type": "markdown",
   "metadata": {},
   "source": [
    "### Observations:\n",
    "        Majority of Doctors have 'Rating' of 90% to 100%."
   ]
  },
  {
   "cell_type": "code",
   "execution_count": 37,
   "metadata": {},
   "outputs": [
    {
     "data": {
      "image/png": "[encoded data removed]",
      "text/plain": [
       "<Figure size 432x288 with 1 Axes>"
      ]
     },
     "metadata": {
      "needs_background": "light"
     },
     "output_type": "display_data"
    }
   ],
   "source": [
    "sns.countplot(df['Profile'])\n",
    "plt.xticks(rotation=45)\n",
    "plt.show()"
   ]
  },
  {
   "cell_type": "markdown",
   "metadata": {},
   "source": [
    "### Observations:\n",
    "        Majority of Doctors are Dentist, General Medicine practitioner, Dermatologists, Homeopath.   "
   ]
  },
  {
   "cell_type": "code",
   "execution_count": 38,
   "metadata": {},
   "outputs": [
    {
     "data": {
      "image/png": "[encoded data removed]",
      "text/plain": [
       "<Figure size 720x360 with 1 Axes>"
      ]
     },
     "metadata": {
      "needs_background": "light"
     },
     "output_type": "display_data"
    }
   ],
   "source": [
    "plt.figure(figsize=(10,5))\n",
    "sns.countplot(df['City'])\n",
    "plt.xticks(rotation=45)\n",
    "plt.show()"
   ]
  },
  {
   "cell_type": "markdown",
   "metadata": {},
   "source": [
    "### Observations:\n",
    "        Majority of Doctors are from Bangalore, Mumbai, Delhi, Hyderabad.               "
   ]
  },
  {
   "cell_type": "code",
   "execution_count": 39,
   "metadata": {},
   "outputs": [
    {
     "data": {
      "image/png": "[encoded data removed]",
      "text/plain": [
       "<Figure size 432x288 with 1 Axes>"
      ]
     },
     "metadata": {
      "needs_background": "light"
     },
     "output_type": "display_data"
    }
   ],
   "source": [
    "sns.countplot(df['Total No. Of Qualification'])\n",
    "plt.show()"
   ]
  },
  {
   "cell_type": "markdown",
   "metadata": {},
   "source": [
    "### Observations:\n",
    "        Majority of Doctors have Single to Double Degree. "
   ]
  },
  {
   "cell_type": "markdown",
   "metadata": {},
   "source": [
    "## Bivariate Analysis"
   ]
  },
  {
   "cell_type": "code",
   "execution_count": 40,
   "metadata": {},
   "outputs": [
    {
     "data": {
      "image/png": "[encoded data removed]",
      "text/plain": [
       "<Figure size 432x288 with 1 Axes>"
      ]
     },
     "metadata": {
      "needs_background": "light"
     },
     "output_type": "display_data"
    }
   ],
   "source": [
    "sns.scatterplot(df['Rating'],df['Fees'])\n",
    "plt.show()"
   ]
  },
  {
   "cell_type": "markdown",
   "metadata": {},
   "source": [
    "### Observations:\n",
    "        Doctors having higher 'Rating' charge higher 'Fees'."
   ]
  },
  {
   "cell_type": "code",
   "execution_count": 41,
   "metadata": {},
   "outputs": [
    {
     "data": {
      "image/png": "[encoded data removed]",
      "text/plain": [
       "<Figure size 720x432 with 1 Axes>"
      ]
     },
     "metadata": {
      "needs_background": "light"
     },
     "output_type": "display_data"
    }
   ],
   "source": [
    "plt.figure(figsize=(10,6))\n",
    "sns.scatterplot(df['Profile'],df['Fees'])\n",
    "plt.xticks(rotation=45)\n",
    "plt.show()"
   ]
  },
  {
   "cell_type": "markdown",
   "metadata": {},
   "source": [
    "### Observations:\n",
    "        General Medicine practitioner, Homeopath practitioner charge higher 'Fees'."
   ]
  },
  {
   "cell_type": "code",
   "execution_count": 42,
   "metadata": {},
   "outputs": [
    {
     "data": {
      "image/png": "[encoded data removed]",
      "text/plain": [
       "<Figure size 720x288 with 1 Axes>"
      ]
     },
     "metadata": {
      "needs_background": "light"
     },
     "output_type": "display_data"
    }
   ],
   "source": [
    "plt.figure(figsize=(10,4))\n",
    "sns.scatterplot(df['City'],df['Fees'])\n",
    "plt.xticks(rotation=45)\n",
    "plt.show()"
   ]
  },
  {
   "cell_type": "markdown",
   "metadata": {},
   "source": [
    "### Observations:\n",
    "        Doctors 'Fees' are higher in Chennai, Mumbai, Delhi, Bangalore."
   ]
  },
  {
   "cell_type": "code",
   "execution_count": 43,
   "metadata": {},
   "outputs": [
    {
     "data": {
      "image/png": "[encoded data removed]",
      "text/plain": [
       "<Figure size 432x288 with 1 Axes>"
      ]
     },
     "metadata": {
      "needs_background": "light"
     },
     "output_type": "display_data"
    }
   ],
   "source": [
    "sns.scatterplot(df['Total No. Of Qualification'],df['Fees'])\n",
    "plt.show()"
   ]
  },
  {
   "cell_type": "markdown",
   "metadata": {},
   "source": [
    "### Observations:\n",
    "        Doctors with 3, 2, 4, 5 Degrees charge higher 'Fees'."
   ]
  },
  {
   "cell_type": "markdown",
   "metadata": {},
   "source": [
    "## Correlation Matrix"
   ]
  },
  {
   "cell_type": "code",
   "execution_count": 44,
   "metadata": {},
   "outputs": [
    {
     "data": {
      "image/png": "[encoded data removed]",
      "text/plain": [
       "<Figure size 432x288 with 2 Axes>"
      ]
     },
     "metadata": {
      "needs_background": "light"
     },
     "output_type": "display_data"
    }
   ],
   "source": [
    "sns.heatmap(df.corr(),annot=True,fmt='.2f',linewidth=0.5)\n",
    "plt.show()"
   ]
  },
  {
   "cell_type": "markdown",
   "metadata": {},
   "source": [
    "### Observations:\n",
    "        Total No. Of Qualification column has good correlation with Target column."
   ]
  },
  {
   "cell_type": "markdown",
   "metadata": {},
   "source": [
    "## City wise 'Fees' analysis."
   ]
  },
  {
   "cell_type": "markdown",
   "metadata": {},
   "source": [
    "### 1. Bangalore"
   ]
  },
  {
   "cell_type": "code",
   "execution_count": 45,
   "metadata": {},
   "outputs": [
    {
     "data": {
      "text/html": [
       "<div>\n",
       "<style scoped>\n",
       "    .dataframe tbody tr th:only-of-type {\n",
       "        vertical-align: middle;\n",
       "    }\n",
       "\n",
       "    .dataframe tbody tr th {\n",
       "        vertical-align: top;\n",
       "    }\n",
       "\n",
       "    .dataframe thead th {\n",
       "        text-align: right;\n",
       "    }\n",
       "</style>\n",
       "<table border=\"1\" class=\"dataframe\">\n",
       "  <thead>\n",
       "    <tr style=\"text-align: right;\">\n",
       "      <th></th>\n",
       "      <th>Experience</th>\n",
       "      <th>Rating</th>\n",
       "      <th>Profile</th>\n",
       "      <th>Fees</th>\n",
       "      <th>Area</th>\n",
       "      <th>City</th>\n",
       "      <th>Total No. Of Qualification</th>\n",
       "    </tr>\n",
       "  </thead>\n",
       "  <tbody>\n",
       "    <tr>\n",
       "      <th>1</th>\n",
       "      <td>12</td>\n",
       "      <td>98.0</td>\n",
       "      <td>Ayurveda</td>\n",
       "      <td>350</td>\n",
       "      <td>Whitefield</td>\n",
       "      <td>Bangalore</td>\n",
       "      <td>2</td>\n",
       "    </tr>\n",
       "    <tr>\n",
       "      <th>2</th>\n",
       "      <td>9</td>\n",
       "      <td>97.0</td>\n",
       "      <td>ENT Specialist</td>\n",
       "      <td>300</td>\n",
       "      <td>Mathikere - BEL</td>\n",
       "      <td>Bangalore</td>\n",
       "      <td>2</td>\n",
       "    </tr>\n",
       "    <tr>\n",
       "      <th>3</th>\n",
       "      <td>12</td>\n",
       "      <td>97.0</td>\n",
       "      <td>Ayurveda</td>\n",
       "      <td>250</td>\n",
       "      <td>Bannerghatta Road</td>\n",
       "      <td>Bangalore</td>\n",
       "      <td>2</td>\n",
       "    </tr>\n",
       "    <tr>\n",
       "      <th>7</th>\n",
       "      <td>10</td>\n",
       "      <td>99.0</td>\n",
       "      <td>Dentist</td>\n",
       "      <td>200</td>\n",
       "      <td>Arekere</td>\n",
       "      <td>Bangalore</td>\n",
       "      <td>1</td>\n",
       "    </tr>\n",
       "    <tr>\n",
       "      <th>19</th>\n",
       "      <td>19</td>\n",
       "      <td>100.0</td>\n",
       "      <td>General Medicine</td>\n",
       "      <td>150</td>\n",
       "      <td>HSR Layout</td>\n",
       "      <td>Bangalore</td>\n",
       "      <td>1</td>\n",
       "    </tr>\n",
       "    <tr>\n",
       "      <th>...</th>\n",
       "      <td>...</td>\n",
       "      <td>...</td>\n",
       "      <td>...</td>\n",
       "      <td>...</td>\n",
       "      <td>...</td>\n",
       "      <td>...</td>\n",
       "      <td>...</td>\n",
       "    </tr>\n",
       "    <tr>\n",
       "      <th>5947</th>\n",
       "      <td>6</td>\n",
       "      <td>97.0</td>\n",
       "      <td>Homeopath</td>\n",
       "      <td>100</td>\n",
       "      <td>Malleswaram</td>\n",
       "      <td>Bangalore</td>\n",
       "      <td>1</td>\n",
       "    </tr>\n",
       "    <tr>\n",
       "      <th>5950</th>\n",
       "      <td>4</td>\n",
       "      <td>100.0</td>\n",
       "      <td>Dermatologists</td>\n",
       "      <td>350</td>\n",
       "      <td>Konanakunte</td>\n",
       "      <td>Bangalore</td>\n",
       "      <td>4</td>\n",
       "    </tr>\n",
       "    <tr>\n",
       "      <th>5951</th>\n",
       "      <td>4</td>\n",
       "      <td>97.0</td>\n",
       "      <td>Dentist</td>\n",
       "      <td>200</td>\n",
       "      <td>HAL</td>\n",
       "      <td>Bangalore</td>\n",
       "      <td>2</td>\n",
       "    </tr>\n",
       "    <tr>\n",
       "      <th>5953</th>\n",
       "      <td>35</td>\n",
       "      <td>92.0</td>\n",
       "      <td>Homeopath</td>\n",
       "      <td>100</td>\n",
       "      <td>Malleswaram</td>\n",
       "      <td>Bangalore</td>\n",
       "      <td>3</td>\n",
       "    </tr>\n",
       "    <tr>\n",
       "      <th>5956</th>\n",
       "      <td>19</td>\n",
       "      <td>98.0</td>\n",
       "      <td>ENT Specialist</td>\n",
       "      <td>300</td>\n",
       "      <td>Basavanagudi</td>\n",
       "      <td>Bangalore</td>\n",
       "      <td>2</td>\n",
       "    </tr>\n",
       "  </tbody>\n",
       "</table>\n",
       "<p>1259 rows × 7 columns</p>\n",
       "</div>"
      ],
      "text/plain": [
       "      Experience  Rating           Profile  Fees               Area  \\\n",
       "1             12    98.0          Ayurveda   350         Whitefield   \n",
       "2              9    97.0    ENT Specialist   300    Mathikere - BEL   \n",
       "3             12    97.0          Ayurveda   250  Bannerghatta Road   \n",
       "7             10    99.0           Dentist   200            Arekere   \n",
       "19            19   100.0  General Medicine   150         HSR Layout   \n",
       "...          ...     ...               ...   ...                ...   \n",
       "5947           6    97.0         Homeopath   100        Malleswaram   \n",
       "5950           4   100.0    Dermatologists   350        Konanakunte   \n",
       "5951           4    97.0           Dentist   200                HAL   \n",
       "5953          35    92.0         Homeopath   100        Malleswaram   \n",
       "5956          19    98.0    ENT Specialist   300       Basavanagudi   \n",
       "\n",
       "            City  Total No. Of Qualification  \n",
       "1      Bangalore                           2  \n",
       "2      Bangalore                           2  \n",
       "3      Bangalore                           2  \n",
       "7      Bangalore                           1  \n",
       "19     Bangalore                           1  \n",
       "...          ...                         ...  \n",
       "5947   Bangalore                           1  \n",
       "5950   Bangalore                           4  \n",
       "5951   Bangalore                           2  \n",
       "5953   Bangalore                           3  \n",
       "5956   Bangalore                           2  \n",
       "\n",
       "[1259 rows x 7 columns]"
      ]
     },
     "execution_count": 45,
     "metadata": {},
     "output_type": "execute_result"
    }
   ],
   "source": [
    "Bangalore = df.groupby('City').get_group(' Bangalore')\n",
    "Bangalore"
   ]
  },
  {
   "cell_type": "code",
   "execution_count": 46,
   "metadata": {},
   "outputs": [
    {
     "data": {
      "text/html": [
       "<div>\n",
       "<style scoped>\n",
       "    .dataframe tbody tr th:only-of-type {\n",
       "        vertical-align: middle;\n",
       "    }\n",
       "\n",
       "    .dataframe tbody tr th {\n",
       "        vertical-align: top;\n",
       "    }\n",
       "\n",
       "    .dataframe thead th {\n",
       "        text-align: right;\n",
       "    }\n",
       "</style>\n",
       "<table border=\"1\" class=\"dataframe\">\n",
       "  <thead>\n",
       "    <tr style=\"text-align: right;\">\n",
       "      <th></th>\n",
       "      <th>Area</th>\n",
       "      <th>Fees</th>\n",
       "    </tr>\n",
       "  </thead>\n",
       "  <tbody>\n",
       "    <tr>\n",
       "      <th>0</th>\n",
       "      <td>AECS Layout</td>\n",
       "      <td>500.000000</td>\n",
       "    </tr>\n",
       "    <tr>\n",
       "      <th>1</th>\n",
       "      <td>Abbigere</td>\n",
       "      <td>100.000000</td>\n",
       "    </tr>\n",
       "    <tr>\n",
       "      <th>2</th>\n",
       "      <td>Adugodi</td>\n",
       "      <td>225.000000</td>\n",
       "    </tr>\n",
       "    <tr>\n",
       "      <th>3</th>\n",
       "      <td>Akshaya nagar</td>\n",
       "      <td>250.000000</td>\n",
       "    </tr>\n",
       "    <tr>\n",
       "      <th>4</th>\n",
       "      <td>Arekere</td>\n",
       "      <td>208.333333</td>\n",
       "    </tr>\n",
       "    <tr>\n",
       "      <th>...</th>\n",
       "      <td>...</td>\n",
       "      <td>...</td>\n",
       "    </tr>\n",
       "    <tr>\n",
       "      <th>149</th>\n",
       "      <td>Wilson Garden</td>\n",
       "      <td>300.000000</td>\n",
       "    </tr>\n",
       "    <tr>\n",
       "      <th>150</th>\n",
       "      <td>Yelahanka</td>\n",
       "      <td>330.344828</td>\n",
       "    </tr>\n",
       "    <tr>\n",
       "      <th>151</th>\n",
       "      <td>Yelahanka New Town</td>\n",
       "      <td>314.285714</td>\n",
       "    </tr>\n",
       "    <tr>\n",
       "      <th>152</th>\n",
       "      <td>Yeshwanthpur</td>\n",
       "      <td>383.333333</td>\n",
       "    </tr>\n",
       "    <tr>\n",
       "      <th>153</th>\n",
       "      <td>e</td>\n",
       "      <td>250.000000</td>\n",
       "    </tr>\n",
       "  </tbody>\n",
       "</table>\n",
       "<p>154 rows × 2 columns</p>\n",
       "</div>"
      ],
      "text/plain": [
       "                   Area        Fees\n",
       "0           AECS Layout  500.000000\n",
       "1              Abbigere  100.000000\n",
       "2               Adugodi  225.000000\n",
       "3         Akshaya nagar  250.000000\n",
       "4               Arekere  208.333333\n",
       "..                  ...         ...\n",
       "149       Wilson Garden  300.000000\n",
       "150           Yelahanka  330.344828\n",
       "151  Yelahanka New Town  314.285714\n",
       "152        Yeshwanthpur  383.333333\n",
       "153                   e  250.000000\n",
       "\n",
       "[154 rows x 2 columns]"
      ]
     },
     "execution_count": 46,
     "metadata": {},
     "output_type": "execute_result"
    }
   ],
   "source": [
    "Bangalore_Areas=Bangalore.groupby('Area')['Fees'].mean().reset_index()\n",
    "Bangalore_Areas"
   ]
  },
  {
   "cell_type": "code",
   "execution_count": 47,
   "metadata": {},
   "outputs": [
    {
     "data": {
      "text/html": [
       "<div>\n",
       "<style scoped>\n",
       "    .dataframe tbody tr th:only-of-type {\n",
       "        vertical-align: middle;\n",
       "    }\n",
       "\n",
       "    .dataframe tbody tr th {\n",
       "        vertical-align: top;\n",
       "    }\n",
       "\n",
       "    .dataframe thead th {\n",
       "        text-align: right;\n",
       "    }\n",
       "</style>\n",
       "<table border=\"1\" class=\"dataframe\">\n",
       "  <thead>\n",
       "    <tr style=\"text-align: right;\">\n",
       "      <th></th>\n",
       "      <th>Area</th>\n",
       "      <th>Fees</th>\n",
       "    </tr>\n",
       "  </thead>\n",
       "  <tbody>\n",
       "    <tr>\n",
       "      <th>39</th>\n",
       "      <td>Harlur</td>\n",
       "      <td>700.000000</td>\n",
       "    </tr>\n",
       "    <tr>\n",
       "      <th>109</th>\n",
       "      <td>Old Airport Road</td>\n",
       "      <td>667.857143</td>\n",
       "    </tr>\n",
       "    <tr>\n",
       "      <th>101</th>\n",
       "      <td>Millers Road</td>\n",
       "      <td>633.333333</td>\n",
       "    </tr>\n",
       "    <tr>\n",
       "      <th>26</th>\n",
       "      <td>Dickenson Road</td>\n",
       "      <td>600.000000</td>\n",
       "    </tr>\n",
       "    <tr>\n",
       "      <th>24</th>\n",
       "      <td>Cunningham Road</td>\n",
       "      <td>600.000000</td>\n",
       "    </tr>\n",
       "  </tbody>\n",
       "</table>\n",
       "</div>"
      ],
      "text/plain": [
       "                 Area        Fees\n",
       "39             Harlur  700.000000\n",
       "109  Old Airport Road  667.857143\n",
       "101      Millers Road  633.333333\n",
       "26     Dickenson Road  600.000000\n",
       "24    Cunningham Road  600.000000"
      ]
     },
     "execution_count": 47,
     "metadata": {},
     "output_type": "execute_result"
    }
   ],
   "source": [
    "Bangalore_Areas.sort_values('Fees',ascending=False)[:5]"
   ]
  },
  {
   "cell_type": "markdown",
   "metadata": {},
   "source": [
    "### Observations:\n",
    "        In Bangalore, Doctors 'Fees' are higher in Areas of Harlur, Old Airport Road."
   ]
  },
  {
   "cell_type": "markdown",
   "metadata": {},
   "source": [
    "## 2. Ernakulam"
   ]
  },
  {
   "cell_type": "code",
   "execution_count": 48,
   "metadata": {},
   "outputs": [
    {
     "data": {
      "text/html": [
       "<div>\n",
       "<style scoped>\n",
       "    .dataframe tbody tr th:only-of-type {\n",
       "        vertical-align: middle;\n",
       "    }\n",
       "\n",
       "    .dataframe tbody tr th {\n",
       "        vertical-align: top;\n",
       "    }\n",
       "\n",
       "    .dataframe thead th {\n",
       "        text-align: right;\n",
       "    }\n",
       "</style>\n",
       "<table border=\"1\" class=\"dataframe\">\n",
       "  <thead>\n",
       "    <tr style=\"text-align: right;\">\n",
       "      <th></th>\n",
       "      <th>Experience</th>\n",
       "      <th>Rating</th>\n",
       "      <th>Profile</th>\n",
       "      <th>Fees</th>\n",
       "      <th>Area</th>\n",
       "      <th>City</th>\n",
       "      <th>Total No. Of Qualification</th>\n",
       "    </tr>\n",
       "  </thead>\n",
       "  <tbody>\n",
       "    <tr>\n",
       "      <th>0</th>\n",
       "      <td>24</td>\n",
       "      <td>100.0</td>\n",
       "      <td>Homeopath</td>\n",
       "      <td>100</td>\n",
       "      <td>Kakkanad</td>\n",
       "      <td>Ernakulam</td>\n",
       "      <td>2</td>\n",
       "    </tr>\n",
       "    <tr>\n",
       "      <th>9</th>\n",
       "      <td>23</td>\n",
       "      <td>97.0</td>\n",
       "      <td>Dentist</td>\n",
       "      <td>100</td>\n",
       "      <td>Athani</td>\n",
       "      <td>Ernakulam</td>\n",
       "      <td>2</td>\n",
       "    </tr>\n",
       "    <tr>\n",
       "      <th>23</th>\n",
       "      <td>31</td>\n",
       "      <td>97.0</td>\n",
       "      <td>General Medicine</td>\n",
       "      <td>100</td>\n",
       "      <td>Thammanam</td>\n",
       "      <td>Ernakulam</td>\n",
       "      <td>2</td>\n",
       "    </tr>\n",
       "    <tr>\n",
       "      <th>104</th>\n",
       "      <td>30</td>\n",
       "      <td>98.0</td>\n",
       "      <td>Dentist</td>\n",
       "      <td>300</td>\n",
       "      <td>Kadavanthra</td>\n",
       "      <td>Ernakulam</td>\n",
       "      <td>2</td>\n",
       "    </tr>\n",
       "    <tr>\n",
       "      <th>116</th>\n",
       "      <td>9</td>\n",
       "      <td>97.0</td>\n",
       "      <td>Dentist</td>\n",
       "      <td>200</td>\n",
       "      <td>Vyttila</td>\n",
       "      <td>Ernakulam</td>\n",
       "      <td>1</td>\n",
       "    </tr>\n",
       "    <tr>\n",
       "      <th>...</th>\n",
       "      <td>...</td>\n",
       "      <td>...</td>\n",
       "      <td>...</td>\n",
       "      <td>...</td>\n",
       "      <td>...</td>\n",
       "      <td>...</td>\n",
       "      <td>...</td>\n",
       "    </tr>\n",
       "    <tr>\n",
       "      <th>5601</th>\n",
       "      <td>6</td>\n",
       "      <td>97.0</td>\n",
       "      <td>Dentist</td>\n",
       "      <td>200</td>\n",
       "      <td>Ernakulam North</td>\n",
       "      <td>Ernakulam</td>\n",
       "      <td>2</td>\n",
       "    </tr>\n",
       "    <tr>\n",
       "      <th>5789</th>\n",
       "      <td>44</td>\n",
       "      <td>97.0</td>\n",
       "      <td>General Medicine</td>\n",
       "      <td>100</td>\n",
       "      <td>Edapally</td>\n",
       "      <td>Ernakulam</td>\n",
       "      <td>2</td>\n",
       "    </tr>\n",
       "    <tr>\n",
       "      <th>5863</th>\n",
       "      <td>14</td>\n",
       "      <td>94.0</td>\n",
       "      <td>Dermatologists</td>\n",
       "      <td>300</td>\n",
       "      <td>Kadavanthra</td>\n",
       "      <td>Ernakulam</td>\n",
       "      <td>2</td>\n",
       "    </tr>\n",
       "    <tr>\n",
       "      <th>5908</th>\n",
       "      <td>13</td>\n",
       "      <td>97.0</td>\n",
       "      <td>ENT Specialist</td>\n",
       "      <td>200</td>\n",
       "      <td>Edapally</td>\n",
       "      <td>Ernakulam</td>\n",
       "      <td>3</td>\n",
       "    </tr>\n",
       "    <tr>\n",
       "      <th>5925</th>\n",
       "      <td>46</td>\n",
       "      <td>94.0</td>\n",
       "      <td>General Medicine</td>\n",
       "      <td>100</td>\n",
       "      <td>Pattimattam</td>\n",
       "      <td>Ernakulam</td>\n",
       "      <td>2</td>\n",
       "    </tr>\n",
       "  </tbody>\n",
       "</table>\n",
       "<p>153 rows × 7 columns</p>\n",
       "</div>"
      ],
      "text/plain": [
       "      Experience  Rating           Profile  Fees             Area        City  \\\n",
       "0             24   100.0         Homeopath   100         Kakkanad   Ernakulam   \n",
       "9             23    97.0           Dentist   100           Athani   Ernakulam   \n",
       "23            31    97.0  General Medicine   100        Thammanam   Ernakulam   \n",
       "104           30    98.0           Dentist   300      Kadavanthra   Ernakulam   \n",
       "116            9    97.0           Dentist   200          Vyttila   Ernakulam   \n",
       "...          ...     ...               ...   ...              ...         ...   \n",
       "5601           6    97.0           Dentist   200  Ernakulam North   Ernakulam   \n",
       "5789          44    97.0  General Medicine   100         Edapally   Ernakulam   \n",
       "5863          14    94.0    Dermatologists   300      Kadavanthra   Ernakulam   \n",
       "5908          13    97.0    ENT Specialist   200         Edapally   Ernakulam   \n",
       "5925          46    94.0  General Medicine   100      Pattimattam   Ernakulam   \n",
       "\n",
       "      Total No. Of Qualification  \n",
       "0                              2  \n",
       "9                              2  \n",
       "23                             2  \n",
       "104                            2  \n",
       "116                            1  \n",
       "...                          ...  \n",
       "5601                           2  \n",
       "5789                           2  \n",
       "5863                           2  \n",
       "5908                           3  \n",
       "5925                           2  \n",
       "\n",
       "[153 rows x 7 columns]"
      ]
     },
     "execution_count": 48,
     "metadata": {},
     "output_type": "execute_result"
    }
   ],
   "source": [
    "Ernakulam = df.groupby('City').get_group(' Ernakulam')\n",
    "Ernakulam"
   ]
  },
  {
   "cell_type": "code",
   "execution_count": 49,
   "metadata": {},
   "outputs": [
    {
     "data": {
      "text/html": [
       "<div>\n",
       "<style scoped>\n",
       "    .dataframe tbody tr th:only-of-type {\n",
       "        vertical-align: middle;\n",
       "    }\n",
       "\n",
       "    .dataframe tbody tr th {\n",
       "        vertical-align: top;\n",
       "    }\n",
       "\n",
       "    .dataframe thead th {\n",
       "        text-align: right;\n",
       "    }\n",
       "</style>\n",
       "<table border=\"1\" class=\"dataframe\">\n",
       "  <thead>\n",
       "    <tr style=\"text-align: right;\">\n",
       "      <th></th>\n",
       "      <th>Area</th>\n",
       "      <th>Fees</th>\n",
       "    </tr>\n",
       "  </thead>\n",
       "  <tbody>\n",
       "    <tr>\n",
       "      <th>0</th>\n",
       "      <td>Aluva</td>\n",
       "      <td>200.000000</td>\n",
       "    </tr>\n",
       "    <tr>\n",
       "      <th>1</th>\n",
       "      <td>Angamaly</td>\n",
       "      <td>100.000000</td>\n",
       "    </tr>\n",
       "    <tr>\n",
       "      <th>2</th>\n",
       "      <td>Athani</td>\n",
       "      <td>100.000000</td>\n",
       "    </tr>\n",
       "    <tr>\n",
       "      <th>3</th>\n",
       "      <td>Banerji Road</td>\n",
       "      <td>137.500000</td>\n",
       "    </tr>\n",
       "    <tr>\n",
       "      <th>4</th>\n",
       "      <td>Changampuzha Nagar</td>\n",
       "      <td>250.000000</td>\n",
       "    </tr>\n",
       "    <tr>\n",
       "      <th>5</th>\n",
       "      <td>Cherai</td>\n",
       "      <td>500.000000</td>\n",
       "    </tr>\n",
       "    <tr>\n",
       "      <th>6</th>\n",
       "      <td>Chullickal</td>\n",
       "      <td>100.000000</td>\n",
       "    </tr>\n",
       "    <tr>\n",
       "      <th>7</th>\n",
       "      <td>Edakochi</td>\n",
       "      <td>200.000000</td>\n",
       "    </tr>\n",
       "    <tr>\n",
       "      <th>8</th>\n",
       "      <td>Edapally</td>\n",
       "      <td>186.363636</td>\n",
       "    </tr>\n",
       "    <tr>\n",
       "      <th>9</th>\n",
       "      <td>Edapally North</td>\n",
       "      <td>100.000000</td>\n",
       "    </tr>\n",
       "    <tr>\n",
       "      <th>10</th>\n",
       "      <td>Elamakkara</td>\n",
       "      <td>100.000000</td>\n",
       "    </tr>\n",
       "    <tr>\n",
       "      <th>11</th>\n",
       "      <td>Ernakulam College</td>\n",
       "      <td>150.000000</td>\n",
       "    </tr>\n",
       "    <tr>\n",
       "      <th>12</th>\n",
       "      <td>Ernakulam North</td>\n",
       "      <td>300.000000</td>\n",
       "    </tr>\n",
       "    <tr>\n",
       "      <th>13</th>\n",
       "      <td>Eroor South</td>\n",
       "      <td>250.000000</td>\n",
       "    </tr>\n",
       "    <tr>\n",
       "      <th>14</th>\n",
       "      <td>Kadavanthra</td>\n",
       "      <td>300.000000</td>\n",
       "    </tr>\n",
       "    <tr>\n",
       "      <th>15</th>\n",
       "      <td>Kakkanad</td>\n",
       "      <td>186.153846</td>\n",
       "    </tr>\n",
       "    <tr>\n",
       "      <th>16</th>\n",
       "      <td>Kakkanad West</td>\n",
       "      <td>300.000000</td>\n",
       "    </tr>\n",
       "    <tr>\n",
       "      <th>17</th>\n",
       "      <td>Kalady</td>\n",
       "      <td>100.000000</td>\n",
       "    </tr>\n",
       "    <tr>\n",
       "      <th>18</th>\n",
       "      <td>Kalamassery</td>\n",
       "      <td>137.500000</td>\n",
       "    </tr>\n",
       "    <tr>\n",
       "      <th>19</th>\n",
       "      <td>Kaloor</td>\n",
       "      <td>210.000000</td>\n",
       "    </tr>\n",
       "    <tr>\n",
       "      <th>20</th>\n",
       "      <td>Karukappilli</td>\n",
       "      <td>50.000000</td>\n",
       "    </tr>\n",
       "    <tr>\n",
       "      <th>21</th>\n",
       "      <td>Kochi</td>\n",
       "      <td>200.000000</td>\n",
       "    </tr>\n",
       "    <tr>\n",
       "      <th>22</th>\n",
       "      <td>Kochi M.G.Road</td>\n",
       "      <td>150.000000</td>\n",
       "    </tr>\n",
       "    <tr>\n",
       "      <th>23</th>\n",
       "      <td>Kolenchery</td>\n",
       "      <td>183.333333</td>\n",
       "    </tr>\n",
       "    <tr>\n",
       "      <th>24</th>\n",
       "      <td>Koothattukulam</td>\n",
       "      <td>100.000000</td>\n",
       "    </tr>\n",
       "    <tr>\n",
       "      <th>25</th>\n",
       "      <td>Koovappady</td>\n",
       "      <td>100.000000</td>\n",
       "    </tr>\n",
       "    <tr>\n",
       "      <th>26</th>\n",
       "      <td>Kothamangalam</td>\n",
       "      <td>70.000000</td>\n",
       "    </tr>\n",
       "    <tr>\n",
       "      <th>27</th>\n",
       "      <td>Manjapra</td>\n",
       "      <td>100.000000</td>\n",
       "    </tr>\n",
       "    <tr>\n",
       "      <th>28</th>\n",
       "      <td>Marine Drive</td>\n",
       "      <td>200.000000</td>\n",
       "    </tr>\n",
       "    <tr>\n",
       "      <th>29</th>\n",
       "      <td>Mulanthuruthy</td>\n",
       "      <td>100.000000</td>\n",
       "    </tr>\n",
       "    <tr>\n",
       "      <th>30</th>\n",
       "      <td>Muvattupuzha</td>\n",
       "      <td>100.000000</td>\n",
       "    </tr>\n",
       "    <tr>\n",
       "      <th>31</th>\n",
       "      <td>Nettoor</td>\n",
       "      <td>100.000000</td>\n",
       "    </tr>\n",
       "    <tr>\n",
       "      <th>32</th>\n",
       "      <td>Pachalam</td>\n",
       "      <td>250.000000</td>\n",
       "    </tr>\n",
       "    <tr>\n",
       "      <th>33</th>\n",
       "      <td>Palarivattom</td>\n",
       "      <td>187.500000</td>\n",
       "    </tr>\n",
       "    <tr>\n",
       "      <th>34</th>\n",
       "      <td>Palluruthy</td>\n",
       "      <td>150.000000</td>\n",
       "    </tr>\n",
       "    <tr>\n",
       "      <th>35</th>\n",
       "      <td>Panampilly Nagar</td>\n",
       "      <td>260.000000</td>\n",
       "    </tr>\n",
       "    <tr>\n",
       "      <th>36</th>\n",
       "      <td>Paravur</td>\n",
       "      <td>150.000000</td>\n",
       "    </tr>\n",
       "    <tr>\n",
       "      <th>37</th>\n",
       "      <td>Pattimattam</td>\n",
       "      <td>100.000000</td>\n",
       "    </tr>\n",
       "    <tr>\n",
       "      <th>38</th>\n",
       "      <td>Perumbavoor</td>\n",
       "      <td>110.000000</td>\n",
       "    </tr>\n",
       "    <tr>\n",
       "      <th>39</th>\n",
       "      <td>Pezhakkappilly</td>\n",
       "      <td>100.000000</td>\n",
       "    </tr>\n",
       "    <tr>\n",
       "      <th>40</th>\n",
       "      <td>Piravom</td>\n",
       "      <td>200.000000</td>\n",
       "    </tr>\n",
       "    <tr>\n",
       "      <th>41</th>\n",
       "      <td>Puthenvelikkara</td>\n",
       "      <td>100.000000</td>\n",
       "    </tr>\n",
       "    <tr>\n",
       "      <th>42</th>\n",
       "      <td>Ramamangalam</td>\n",
       "      <td>150.000000</td>\n",
       "    </tr>\n",
       "    <tr>\n",
       "      <th>43</th>\n",
       "      <td>Thammanam</td>\n",
       "      <td>150.000000</td>\n",
       "    </tr>\n",
       "    <tr>\n",
       "      <th>44</th>\n",
       "      <td>Thevara</td>\n",
       "      <td>100.000000</td>\n",
       "    </tr>\n",
       "    <tr>\n",
       "      <th>45</th>\n",
       "      <td>Thoppumpady</td>\n",
       "      <td>116.666667</td>\n",
       "    </tr>\n",
       "    <tr>\n",
       "      <th>46</th>\n",
       "      <td>Thrikkakara</td>\n",
       "      <td>275.000000</td>\n",
       "    </tr>\n",
       "    <tr>\n",
       "      <th>47</th>\n",
       "      <td>Tripunithura</td>\n",
       "      <td>271.666667</td>\n",
       "    </tr>\n",
       "    <tr>\n",
       "      <th>48</th>\n",
       "      <td>Vaduthala</td>\n",
       "      <td>100.000000</td>\n",
       "    </tr>\n",
       "    <tr>\n",
       "      <th>49</th>\n",
       "      <td>Vazhakulam</td>\n",
       "      <td>100.000000</td>\n",
       "    </tr>\n",
       "    <tr>\n",
       "      <th>50</th>\n",
       "      <td>Vennala</td>\n",
       "      <td>133.333333</td>\n",
       "    </tr>\n",
       "    <tr>\n",
       "      <th>51</th>\n",
       "      <td>Vyttila</td>\n",
       "      <td>207.692308</td>\n",
       "    </tr>\n",
       "  </tbody>\n",
       "</table>\n",
       "</div>"
      ],
      "text/plain": [
       "                  Area        Fees\n",
       "0                Aluva  200.000000\n",
       "1             Angamaly  100.000000\n",
       "2               Athani  100.000000\n",
       "3         Banerji Road  137.500000\n",
       "4   Changampuzha Nagar  250.000000\n",
       "5               Cherai  500.000000\n",
       "6           Chullickal  100.000000\n",
       "7             Edakochi  200.000000\n",
       "8             Edapally  186.363636\n",
       "9       Edapally North  100.000000\n",
       "10          Elamakkara  100.000000\n",
       "11   Ernakulam College  150.000000\n",
       "12     Ernakulam North  300.000000\n",
       "13         Eroor South  250.000000\n",
       "14         Kadavanthra  300.000000\n",
       "15            Kakkanad  186.153846\n",
       "16       Kakkanad West  300.000000\n",
       "17              Kalady  100.000000\n",
       "18         Kalamassery  137.500000\n",
       "19              Kaloor  210.000000\n",
       "20        Karukappilli   50.000000\n",
       "21               Kochi  200.000000\n",
       "22      Kochi M.G.Road  150.000000\n",
       "23          Kolenchery  183.333333\n",
       "24      Koothattukulam  100.000000\n",
       "25          Koovappady  100.000000\n",
       "26       Kothamangalam   70.000000\n",
       "27            Manjapra  100.000000\n",
       "28        Marine Drive  200.000000\n",
       "29       Mulanthuruthy  100.000000\n",
       "30        Muvattupuzha  100.000000\n",
       "31             Nettoor  100.000000\n",
       "32            Pachalam  250.000000\n",
       "33        Palarivattom  187.500000\n",
       "34          Palluruthy  150.000000\n",
       "35    Panampilly Nagar  260.000000\n",
       "36             Paravur  150.000000\n",
       "37         Pattimattam  100.000000\n",
       "38         Perumbavoor  110.000000\n",
       "39      Pezhakkappilly  100.000000\n",
       "40             Piravom  200.000000\n",
       "41     Puthenvelikkara  100.000000\n",
       "42        Ramamangalam  150.000000\n",
       "43           Thammanam  150.000000\n",
       "44             Thevara  100.000000\n",
       "45         Thoppumpady  116.666667\n",
       "46         Thrikkakara  275.000000\n",
       "47        Tripunithura  271.666667\n",
       "48           Vaduthala  100.000000\n",
       "49          Vazhakulam  100.000000\n",
       "50             Vennala  133.333333\n",
       "51             Vyttila  207.692308"
      ]
     },
     "execution_count": 49,
     "metadata": {},
     "output_type": "execute_result"
    }
   ],
   "source": [
    "Ernakulam_Areas=Ernakulam.groupby('Area')['Fees'].mean().reset_index()\n",
    "Ernakulam_Areas"
   ]
  },
  {
   "cell_type": "code",
   "execution_count": 50,
   "metadata": {},
   "outputs": [
    {
     "data": {
      "text/html": [
       "<div>\n",
       "<style scoped>\n",
       "    .dataframe tbody tr th:only-of-type {\n",
       "        vertical-align: middle;\n",
       "    }\n",
       "\n",
       "    .dataframe tbody tr th {\n",
       "        vertical-align: top;\n",
       "    }\n",
       "\n",
       "    .dataframe thead th {\n",
       "        text-align: right;\n",
       "    }\n",
       "</style>\n",
       "<table border=\"1\" class=\"dataframe\">\n",
       "  <thead>\n",
       "    <tr style=\"text-align: right;\">\n",
       "      <th></th>\n",
       "      <th>Area</th>\n",
       "      <th>Fees</th>\n",
       "    </tr>\n",
       "  </thead>\n",
       "  <tbody>\n",
       "    <tr>\n",
       "      <th>5</th>\n",
       "      <td>Cherai</td>\n",
       "      <td>500.0</td>\n",
       "    </tr>\n",
       "    <tr>\n",
       "      <th>16</th>\n",
       "      <td>Kakkanad West</td>\n",
       "      <td>300.0</td>\n",
       "    </tr>\n",
       "    <tr>\n",
       "      <th>12</th>\n",
       "      <td>Ernakulam North</td>\n",
       "      <td>300.0</td>\n",
       "    </tr>\n",
       "    <tr>\n",
       "      <th>14</th>\n",
       "      <td>Kadavanthra</td>\n",
       "      <td>300.0</td>\n",
       "    </tr>\n",
       "    <tr>\n",
       "      <th>46</th>\n",
       "      <td>Thrikkakara</td>\n",
       "      <td>275.0</td>\n",
       "    </tr>\n",
       "  </tbody>\n",
       "</table>\n",
       "</div>"
      ],
      "text/plain": [
       "               Area   Fees\n",
       "5            Cherai  500.0\n",
       "16    Kakkanad West  300.0\n",
       "12  Ernakulam North  300.0\n",
       "14      Kadavanthra  300.0\n",
       "46      Thrikkakara  275.0"
      ]
     },
     "execution_count": 50,
     "metadata": {},
     "output_type": "execute_result"
    }
   ],
   "source": [
    "Ernakulam_Areas.sort_values('Fees',ascending=False)[:5]"
   ]
  },
  {
   "cell_type": "markdown",
   "metadata": {},
   "source": [
    "### Observations:\n",
    "        In Ernakulam, Doctors 'Fees' are higher in Areas of Cherai, Kakkanad West."
   ]
  },
  {
   "cell_type": "code",
   "execution_count": 51,
   "metadata": {},
   "outputs": [
    {
     "data": {
      "text/html": [
       "<div>\n",
       "<style scoped>\n",
       "    .dataframe tbody tr th:only-of-type {\n",
       "        vertical-align: middle;\n",
       "    }\n",
       "\n",
       "    .dataframe tbody tr th {\n",
       "        vertical-align: top;\n",
       "    }\n",
       "\n",
       "    .dataframe thead th {\n",
       "        text-align: right;\n",
       "    }\n",
       "</style>\n",
       "<table border=\"1\" class=\"dataframe\">\n",
       "  <thead>\n",
       "    <tr style=\"text-align: right;\">\n",
       "      <th></th>\n",
       "      <th>Experience</th>\n",
       "      <th>Rating</th>\n",
       "      <th>Profile</th>\n",
       "      <th>Fees</th>\n",
       "      <th>Area</th>\n",
       "      <th>City</th>\n",
       "      <th>Total No. Of Qualification</th>\n",
       "    </tr>\n",
       "  </thead>\n",
       "  <tbody>\n",
       "    <tr>\n",
       "      <th>0</th>\n",
       "      <td>24</td>\n",
       "      <td>100.0</td>\n",
       "      <td>Homeopath</td>\n",
       "      <td>100</td>\n",
       "      <td>Kakkanad</td>\n",
       "      <td>Ernakulam</td>\n",
       "      <td>2</td>\n",
       "    </tr>\n",
       "    <tr>\n",
       "      <th>1</th>\n",
       "      <td>12</td>\n",
       "      <td>98.0</td>\n",
       "      <td>Ayurveda</td>\n",
       "      <td>350</td>\n",
       "      <td>Whitefield</td>\n",
       "      <td>Bangalore</td>\n",
       "      <td>2</td>\n",
       "    </tr>\n",
       "    <tr>\n",
       "      <th>2</th>\n",
       "      <td>9</td>\n",
       "      <td>97.0</td>\n",
       "      <td>ENT Specialist</td>\n",
       "      <td>300</td>\n",
       "      <td>Mathikere - BEL</td>\n",
       "      <td>Bangalore</td>\n",
       "      <td>2</td>\n",
       "    </tr>\n",
       "    <tr>\n",
       "      <th>3</th>\n",
       "      <td>12</td>\n",
       "      <td>97.0</td>\n",
       "      <td>Ayurveda</td>\n",
       "      <td>250</td>\n",
       "      <td>Bannerghatta Road</td>\n",
       "      <td>Bangalore</td>\n",
       "      <td>2</td>\n",
       "    </tr>\n",
       "    <tr>\n",
       "      <th>4</th>\n",
       "      <td>20</td>\n",
       "      <td>100.0</td>\n",
       "      <td>Ayurveda</td>\n",
       "      <td>250</td>\n",
       "      <td>Keelkattalai</td>\n",
       "      <td>Chennai</td>\n",
       "      <td>1</td>\n",
       "    </tr>\n",
       "  </tbody>\n",
       "</table>\n",
       "</div>"
      ],
      "text/plain": [
       "   Experience  Rating         Profile  Fees               Area        City  \\\n",
       "0          24   100.0       Homeopath   100           Kakkanad   Ernakulam   \n",
       "1          12    98.0        Ayurveda   350         Whitefield   Bangalore   \n",
       "2           9    97.0  ENT Specialist   300    Mathikere - BEL   Bangalore   \n",
       "3          12    97.0        Ayurveda   250  Bannerghatta Road   Bangalore   \n",
       "4          20   100.0        Ayurveda   250       Keelkattalai     Chennai   \n",
       "\n",
       "   Total No. Of Qualification  \n",
       "0                           2  \n",
       "1                           2  \n",
       "2                           2  \n",
       "3                           2  \n",
       "4                           1  "
      ]
     },
     "execution_count": 51,
     "metadata": {},
     "output_type": "execute_result"
    }
   ],
   "source": [
    "df.head()"
   ]
  },
  {
   "cell_type": "code",
   "execution_count": 52,
   "metadata": {},
   "outputs": [
    {
     "data": {
      "text/plain": [
       "array(['Kakkanad', 'Whitefield', 'Mathikere - BEL', 'Bannerghatta Road',\n",
       "       'Keelkattalai', 'Porur', 'Karol Bagh', 'Arekere', 'Old City',\n",
       "       'Athani', 'Thousand Lights', 'Somajiguda', 'Coimbatore Racecourse',\n",
       "       'Jubilee Hills', 'Kondli', 'Saroor Nagar', 'Tambaram West',\n",
       "       'Purasawakkam', 'KPHB', 'HSR Layout', 'Pollachi',\n",
       "       'Vasundhra Enclave', 'Chembur', 'Thammanam', 'Andheri', 'Pattom',\n",
       "       'Kukatpally', 'Vadavalli', 'Defence Colony', 'Banjara Hills',\n",
       "       'Sion West', 'CR Park', 'Mogappair East', 'IP Extension',\n",
       "       'Safdarjung Enclave', 'New Friends Colony', 'Borivali West',\n",
       "       'Saket', 'Malad', 'Hyder Nagar', 'Dahisar West', 'RT Nagar',\n",
       "       'Powai', 'Basheerbagh', 'Musheerabad', 'AS Rao Nagar', 'Madhapur',\n",
       "       'Gandhinagar', 'Chetpet', 'Vileparle East', 'Yelahanka New Town',\n",
       "       'Kodambakkam', 'Malleswaram', 'Pallikaranai', 'Nallakunta',\n",
       "       'Paschim Vihar', 'Meera Bagh', 'Chattarpur', 'Andheri West',\n",
       "       'Himayat Nagar', 'Adambakkam', 'Punjabi Bagh', 'Mahalaxmi',\n",
       "       'Kalina', 'Attapur', 'Lakdikapul', 'Ambattur', 'Ramnagar',\n",
       "       'Shalimar Bagh', 'Nungambakkam', 'Miyapur', 'Sagarpur', 'Girgaon',\n",
       "       'Jayanagar', 'Palayam', 'Munirka', 'Tuglakabad', 'Moosarambagh',\n",
       "       'Anna Nagar East', 'Bandra West', 'Kanakpura Road', 'Green Park',\n",
       "       'Maduravoyal', 'Dahisar East', 'Moosapet', 'Koramangala',\n",
       "       'TV Medical College', 'Kadavanthra', 'Greams Road', 'Bommanahalli',\n",
       "       'T Nagar', 'Yelahanka', 'Hazrat Nizamuddin', 'Old Rajendra Nagar',\n",
       "       'Dadar West', 'Indiranagar', 'Perumbakkam', 'Shaikpet', 'Vyttila',\n",
       "       'Khar West', 'Goregaon West', 'Bakkarwala', 'Nesapakkam',\n",
       "       'BTM Layout 2nd Stage', 'Ashok Nagar', 'Chandivali', 'Uttam Nagar',\n",
       "       'Gujranwala Town', 'Greater Kailash Part 1', 'Panchsheel Park',\n",
       "       'Thoraipakkam', 'South Extension 2', 'Kandivali East', 'Pitampura',\n",
       "       'Banashankari 3rd Stage', 'Kolenchery', 'Kumaraswamy Layout',\n",
       "       'Vadapalani', 'Manikonda', 'Gandhipuram', 'Yeshwanthpur',\n",
       "       'Ayanavaram', 'Basaveshwaranagar', 'Malad West', 'Vikas Puri',\n",
       "       'Kondapur', 'Andheri East', 'Sulur', 'Adyar', 'Krishna Nagar',\n",
       "       'Langer House', 'Thiruvanmiyur', 'Dwarka', 'Bhandup West',\n",
       "       'Janak Puri', 'Rajajinagar', 'South Extension 1', 'Kemps Corner',\n",
       "       'Peelamedu', 'Kandivali West', 'Thevara', 'Wilson Garden',\n",
       "       'Wadala', 'Pahar Ganj', 'Chanchalguda', 'Chikkadpally',\n",
       "       'Pasur-avanashi', 'Nagarbhavi', 'Lajpat Nagar', 'Mayur Vihar Ph-I',\n",
       "       'Dilshad Garden', 'Vijayanagar', 'Alwarpet', 'Pappanamcode',\n",
       "       'Aluva', 'Nariman Point', 'Kilkattalai', 'Dilsukhnagar',\n",
       "       'Kurla West', 'Begumpet', 'Kaloor', 'Hitech City', 'Goregaon East',\n",
       "       'Velandipalayam', 'Ghatkopar East', 'Mulund West', 'Yousufguda',\n",
       "       'Ghatkopar West', 'TVM Beach', 'Vanagaram', 'Worli',\n",
       "       'Koramangala 1 Block', 'Saki Vihar Road', 'Versova',\n",
       "       'CV Raman Nagar', 'Secunderabad', 'BTM Layout 1st Stage',\n",
       "       'Ramkoti', 'MRC Nagar', 'Malkajgiri', 'Gachibowli',\n",
       "       'Mogappair West', 'Mayur Vihar Ph-III', 'Kurla East',\n",
       "       'Ashok Vihar', 'Mahim', 'Villivakkam', 'Srinagar Colony',\n",
       "       'Chromepet', 'Pammal', 'Banashankari', 'Velachery', 'Chanakyapuri',\n",
       "       'Kalyan Nagar', 'Oshiwara', 'Karapakkam', 'Borivali', 'Mylapore',\n",
       "       'Electronics City', 'Perungudi', 'Basavanagudi', 'MG Road',\n",
       "       'Thiruvottiyur', 'Greater Kailash Part 2', 'Bilekahalli',\n",
       "       'Nanganallur', 'Rohini', 'Thrikkakara', 'Manapakkam', 'Bellandur',\n",
       "       'Ameerpet', 'Thiruvallom', 'R.S. Puram', 'Kumarapuram',\n",
       "       'Palam Colony', 'Manali', 'Valasaravakkam', 'Barkatpura',\n",
       "       'Singanallur', 'Mulund', 'Dadar East', 'Borabanda', 'Model Town 3',\n",
       "       'Ulsoor', 'Bhayandar West', 'Hari Nagar', 'Horamavu',\n",
       "       'Santacruz East', 'OMR Road', 'Kammana Halli', 'Tilak Nagar',\n",
       "       'Panathur', 'Rajarajeshwarinagar', 'Paravur', 'Preet Vihar',\n",
       "       'Chembur East', 'Jakkur', 'Vanasthalipuram', 'Mandaveli',\n",
       "       'Kumara Park West', 'Domlur', 'Jeevanbhimanagar', 'Santacruz West',\n",
       "       'Shankar Vihar', 'Jogeshwari East', 'Kasavanahalli', 'Ambalamukku',\n",
       "       'Jhilmil Colony', 'Dwarka Sector 7', 'Tatabad', 'Marine Lines',\n",
       "       'Tolichowki', 'Sundarapuram', 'Kothanur', 'Chinmaya Nagar',\n",
       "       'Vasant Vihar', 'Mehdipatnam', 'Kadugodi', 'Ganapathy', 'SR Nagar',\n",
       "       'Perambur', 'Opera House', 'Selvapuram', 'Karkardooma',\n",
       "       'Alwarthirunagar', 'KR Puram', 'Ramesh Nagar', 'Malakpet',\n",
       "       'Tondiarpet', 'Vikrampuri Colony', 'Besant Nagar', 'Vasant Kunj',\n",
       "       'Banaswadi', 'BTM Layout', 'Medavakkam', 'Vileparle West',\n",
       "       'Sahakaranagar', 'LB Nagar', 'Punjagutta', 'Yamuna Vihar',\n",
       "       'Marathahalli', 'JP Nagar 2 Phase', 'Rani Bagh', 'Jayamahal',\n",
       "       'Nagpada', 'Kundalahalli', 'Kailash Colony', 'Pandav Nagar',\n",
       "       'Karkhana', 'West Mambalam', 'Aminjikarai', 'Madipakkam',\n",
       "       'Charkop', 'Adarsh Nagar', 'Dadar', 'Kaggadasapura', 'Matunga',\n",
       "       'Sun city', 'Mahadevapura', 'Kalady', 'Anna Nagar West',\n",
       "       'Mayur Vihar Ph-II', 'Tis Hazari', 'Vennala', 'Mira Road', 'Alwal',\n",
       "       'Trimulgherry', 'Raja Annamalai Puram', 'JP Nagar 7 Phase',\n",
       "       'Old Bowenpally', 'Santosh Nagar', 'Hope College', 'Mulund East',\n",
       "       'Mount Road', 'Patel Nagar West', 'Jayanagar 4 Block',\n",
       "       'West Marredpally', 'Jagriti Enclave', 'Sarita Vihar',\n",
       "       'Rajendra Nagar', 'Thudiyalur', 'Bhayandar East', 'Narayanguda',\n",
       "       'Kothapet', 'KK Nagar', 'Tripunithura', 'Model Town',\n",
       "       'Suchitra Circle', 'Pusa Road', 'Vijaynagar Colony', 'Alandur',\n",
       "       'Cuffe Parade', 'Kalkaji', 'Saibaba Colony', 'Kattakada',\n",
       "       'Jogeshwari West', 'Erragadda', 'Edapally', 'Patparganj',\n",
       "       'Sainikpuri', 'Nanjundapuram', 'Nizampet', 'Kolathur',\n",
       "       'Chamarajpet', 'Kala Ghoda', 'Padmarao Nagar', 'Uppal',\n",
       "       'Guduvanchery', 'Satya Niketan', 'Chanda Nagar', 'Sowripalayam',\n",
       "       'Vikhroli West', 'Rajouri Garden', 'Alaknanda', 'Millers Road',\n",
       "       'Kandanchavadi', 'Vigyan Vihar', 'Bandra East', 'Vilankurichi',\n",
       "       'Malad East', 'Prabhadevi', 'Ulloor', 'Rajakilpakkam',\n",
       "       'Greater Kailash', 'Madinaguda', 'Borivali East', 'Juhu',\n",
       "       'Mugalivakkam', 'Hebbal', 'Kirti Nagar', 'Balaramapuram',\n",
       "       'Bhandup East', 'VV Puram', 'Kilpauk', 'Jacob Circle',\n",
       "       'Singasandra', 'Khairatabad', 'Coimbatore Aerodrome', 'J.C Nagar',\n",
       "       'Naraina Vihar', 'Virugambakkam', 'RK Puram',\n",
       "       'Banashankari 1st Stage', 'Lajpat Nagar 4', 'Jayanagar 5 Block',\n",
       "       'Kalyanpuri', 'Tambaram', 'Laxmi Nagar', 'Anand Vihar',\n",
       "       'Charni Road', 'Patel Nagar East', 'Jayanagar 9 Block', 'Ecil',\n",
       "       'Ramamurthy Nagar', 'Raj Nagar - 2', 'Chunabhatti',\n",
       "       'Vikhroli East', 'Shakarpur', 'Shahdara', 'Govandi',\n",
       "       'Mira Bhayandar', 'Doddanekundi', 'Madhu Vihar', 'Guindy',\n",
       "       'Palarivattom', 'Charminar', 'Old Airport Road', 'Sarjapur Road',\n",
       "       'Okhla', 'Baghlingampally', 'Trombay', 'HRBR Layout', 'Fort',\n",
       "       'Shastri Nagar', 'Red Hills', 'New BEL Road', 'Park Town',\n",
       "       'Frazer Town', 'Falaknuma', 'Rohini Sector 7', 'East Of Kailash',\n",
       "       'Chintadripet', 'Tagore Garden', 'Tri Nagar', 'Muttada',\n",
       "       'Munnekollal', 'TV Museum', 'Shivalik', 'Neb Sarai',\n",
       "       'Mahalakshmi Layout', 'Mankhurd', 'Kamla Nagar', 'Saravanampatti',\n",
       "       'Selaiyur', 'Saligramam', 'Thirumullaivoyal', 'Teynampet', 'Kochi',\n",
       "       'Vidyaranyapura', 'Mogappair', 'Mazgaon', 'Shivaji Nagar',\n",
       "       'Jangpura', 'Kaudiar Square', 'Arumbakkam', 'Cherai',\n",
       "       'Mira-Bhayandar Road', 'Ram Nagar', 'Parel', 'Thanisandra',\n",
       "       'Pragathi Nagar', 'Karamana', 'AECS Layout', 'Nizamuddin East',\n",
       "       'Ramanathapuram', 'Anna Nagar', 'Shenoy Nagar', 'Siddhapudur',\n",
       "       'Keshav Puram', 'Edakochi', 'Nagawara', 'Chintal', 'Malviya Nagar',\n",
       "       'Karwan', 'Vazhakulam', 'PMG Jn', 'Dwarka Sector 6', 'Viveknagar',\n",
       "       'Balapur', 'Banashankari 2nd Stage', 'Azadpur', 'Moti Nagar',\n",
       "       'Sakinaka', 'Thoppumpady', 'Sanath Nagar', 'Royapettah',\n",
       "       'Koramangala 5 Block', 'Kanjurmarg', 'Ernakulam College',\n",
       "       'Urapakkam', 'Coimbatore Ukkadam', 'Sreekaryam', 'Ernakulam North',\n",
       "       'Sultanpur', 'Banerji Road', 'Balkampet', 'Kavundampalayam',\n",
       "       'Kanchanbagh', 'Patel Nagar', 'Kilokri', 'Hoodi', 'New Seemapuri',\n",
       "       'Seshadripuram', 'Vijaynagar', 'Bowenpally', 'Ondipudur',\n",
       "       'Triplicane', 'Richmond Town', 'New Rajendra Nagar',\n",
       "       'Jahangirpuri', 'Vivek Vihar', 'Malleshpalya', 'Pezhakkappilly',\n",
       "       'Lingampally', 'Jamia Nagar', 'Begum Bazar', 'Lower Parel',\n",
       "       'ECR Road', 'Nangloi', 'Chintalmet', 'West Of Chord Road',\n",
       "       'SV Road', 'JP Nagar 5 Phase', 'Sanjay Nagar', 'Panampilly Nagar',\n",
       "       'Dharavi', 'Abbigere', 'Manacaud', 'Poonamalle', 'Najafgarh',\n",
       "       'Uttarahalli', 'Sembakkam', 'Tarnaka', 'Nandanam', 'Saidapet',\n",
       "       'Choolaimedu', 'Perungalathur', 'Gulabi Bagh', 'Jasola',\n",
       "       'JP Nagar 3 Phase', 'Uppilipalayam', 'Sadashivanagar',\n",
       "       'Rohini Sector 24', 'Muvattupuzha', 'Khan Market', 'Abids',\n",
       "       'Geeta Colony', 'Madandapuram', 'Dwarka Sector 22', 'Grant Road',\n",
       "       'Jeedimetla', 'Tambaram East', 'Kothaguda', 'Hauz Khas',\n",
       "       'Habsiguda', 'Breach Candy', 'Vidyanagar', 'Begur', 'Dahisar',\n",
       "       'Pachalam', 'Perumbavoor', 'Avadi', 'Coimbatore Central',\n",
       "       'Lokhandwala', 'Tiruvottiyur', 'Ullal Upanagara', 'Perurkada',\n",
       "       'Ashok Vihar Phase 3', 'Walkeshwar', 'Saidabad',\n",
       "       'Koramangala 6 Block', 'New Ashok Nagar', 'Peddar Road',\n",
       "       'Aya Nagar', 'JP Nagar', 'Sasthamangalam', 'Yakutpura',\n",
       "       'Sampangiramnagar', 'Kasturi nagar', 'Pallavaram', 'Moti Bagh',\n",
       "       'Mukherjee Nagar', 'Byculla', 'Peeragarhi', 'Amberpet',\n",
       "       'JP Nagar 6 Phase', 'Sholinganallur', 'Langford Road',\n",
       "       'Cumballa Hill', 'Colaba', 'Qutab Institutional Area',\n",
       "       'Dommasandra', 'Malabar Hill', 'Koramangala 8 Block',\n",
       "       'Rohini Sector 22', 'Lothkunta', 'HAL 2nd Stage',\n",
       "       'Jayanagar 7 Block', 'Vadasserikonam', 'East Marredpally',\n",
       "       'Kelambakkam', 'Chinchpokli', 'Delhi Cantt', 'Padmanabhanagar',\n",
       "       'Sheikh Sarai', 'Washermenpet', 'Konanakunte',\n",
       "       'Ashok Vihar Phase 1', 'Thirumala', 'Sarjapura',\n",
       "       'JP Nagar 1 Phase', 'JB Nagar', 'Paruthippara', 'Vikhroli',\n",
       "       'JP Nagar 8 Phase', 'GTB Nagar', 'Masab Tank', 'Hafeezpet',\n",
       "       'Jeevan Park', 'Dwarka Sector 5', 'Civil Lines', 'Anand Niketan',\n",
       "       'Pappanaickenpalayam', 'Koovappady', 'Srirampuram', 'Korattur',\n",
       "       'Pappanaickenpudur', 'Gandhi Nagar', 'Vignan Nagar', 'Ganganagar',\n",
       "       'Elamakkara', 'Boduppal', 'Khetwadi', 'Kengeri', 'Sion East',\n",
       "       'Rohini Sector 6', 'Kazhakuttam', 'Goregaon', 'Peroor',\n",
       "       'New Thippasandra', 'Jalahalli', 'King Koti', 'Kallambalam',\n",
       "       'Dwarka Sector 13', 'Residency Road', 'Radhakrishnan Salai',\n",
       "       'Hulimavu', 'Dasarahalli', 'Vileparle', 'Delhi', 'Kachiguda',\n",
       "       'Venkitapuram', 'Kuniamuthur', 'TV Chalai', 'Serilingampally',\n",
       "       'RMV 2nd Stage', 'Champapet', 'Surya Niketan', 'Kovilpalayam',\n",
       "       'Nampally', 'Siddapura', 'Neredmet', 'Vellakinar', 'Egmore',\n",
       "       'Katwaria Sarai', 'Navalur', 'Mehrauli', 'HBR Layout',\n",
       "       'Subhash Nagar', 'Mallepally', 'Eroor South', 'Lajpat Nagar III',\n",
       "       'Kodungaiyur', 'Kuppakonanpudur', 'Paradise', 'Rohini Sector 4',\n",
       "       'Koramangala 4 Block', 'Dwarka Sector 3', 'Durga Puri',\n",
       "       'Kalamassery', 'Gulmohar Park', 'Adugodi', 'Nallagandla',\n",
       "       'Gowrivakkam', 'Periyar Nagar', 'Austin Town', 'Afzalgunj',\n",
       "       'Cotton Hill', 'Goldwins', 'Kuravankonam', 'Rohini Sector 3',\n",
       "       'Lado Sarai', 'Koramangala 2 Block', 'Madangir', 'Marine Drive',\n",
       "       'Angamaly', 'Neelankarai', 'Churchgate', 'Kalapatti', 'Nand Nagri',\n",
       "       'Kandivali', 'Madanpura', 'Hegde Nagar', 'Domalguda',\n",
       "       'Mumbai Central', 'Vasanthnagar', 'Kapashera',\n",
       "       'August Kranti Marg', 'Lal baug', 'Perumathura', 'Molarband',\n",
       "       'Piravom', 'Neeti Bagh', 'Kishanbagh', 'Shantinagar', 'Poojapura',\n",
       "       'Rathinapuri', 'Model Town 1', 'Koothattukulam', 'Anand Lok',\n",
       "       'Pappanaickenpalayam West', 'Subzi Mandi', 'Sion', 'Nagole',\n",
       "       'TVM Pettah', 'Changampuzha Nagar', 'Puzhal', 'Vanchiyur',\n",
       "       'Sukh Vihar', 'Kovalam', 'Swasthya Vihar', 'Tardeo',\n",
       "       'Vishnu Garden', 'Jayanagar 1 Block', 'Sion Koliwada', 'Marol',\n",
       "       'Kalkere', 'Sindhi Colony', 'Silampur', 'Varthur', 'Model Town 2',\n",
       "       'Surajmal Vihar', 'Chandni Chowk', 'Veerakeralam', 'T Dasarahalli',\n",
       "       'Kaggalipura', 'Thonnakkal', 'Manjapra', 'Yellareddyguda',\n",
       "       'Kovilambakkam', 'Broadway', 'Podanur', 'Kompally', 'Kottivakkam',\n",
       "       'Mansarover Garden', 'Mandapeshwar', 'Rohini Sector 15',\n",
       "       'Vaduthala', 'Hebbal Kempapura', 'Sithalapakkam', 'MKB Nagar',\n",
       "       'Darya Ganj', 'Venjaramoodu', 'Kotturpuram', 'Ramapuram',\n",
       "       'Karmanghat', 'Moula Ali', 'Netaji Nagar', 'Chandra Layout',\n",
       "       'Akshaya nagar', 'Nirman Vihar', 'Vasant Enclave',\n",
       "       'St Thomas Mount', 'Royapuram', 'Abhiramapuram', 'Inder Puri',\n",
       "       'Edayarpalayam', 'Deoli', 'Mulanthuruthy', 'Sukhdev Vihar', 'e',\n",
       "       'Kothamangalam', 'Harlur', 'Bolarum', 'Richards Town', 'Narela',\n",
       "       'Nehru Place', 'Ramanthapur', 'Bali Nagar', 'Palavakkam',\n",
       "       'Balanagar', 'Hyderguda', 'Cherannagar', 'Rohini Sector 11',\n",
       "       'Dwarka Sector 4', 'Palluruthy', 'Vizhinjam', 'Santacruz',\n",
       "       'Ganesh Nagar', 'Vengal Rao Nagar', 'Deonar', 'Edapally North',\n",
       "       'IDA Jeedimetla', 'Mettupalayam', 'Hayathnagar', 'Kakkanad West',\n",
       "       'Khajaguda', 'Rohini Sector 5', 'Saraswati Vihar', 'Kingsway Camp',\n",
       "       'Ramamangalam', 'Indirapuram', 'Parassala', 'Connaught Place',\n",
       "       'Gottigerre', 'Shivrampally', 'Vyasarpadi', 'Kovaipudur',\n",
       "       'Vallakkadavoo', 'Kattupakkam', 'Nellimoodu', 'Pondy Bazaar',\n",
       "       'Prashant Vihar', 'Chullickal', 'Murugeshpalya', 'Khanpur',\n",
       "       'Madiwala', 'Dwarka Sector 23', 'Badarpur', 'Peyad', 'Uday Park',\n",
       "       'Bandlaguda', 'Karukappilli', 'Rana Pratap Bagh', 'Kochi M.G.Road',\n",
       "       'Gopalapuram', 'Puthenvelikkara', 'Sowcarpet', 'Chitlapakkam',\n",
       "       'Malumichampatti', 'Rohini Sector 8', 'Rohini Sector 2',\n",
       "       'Dwarka Sector 10', 'Agaram', 'Poovachal', 'Shanti Niketan',\n",
       "       'Pothencode', 'Dickenson Road', 'RTC X Road', 'Film Nagar',\n",
       "       'Lodhi Colony', 'SG Palya (Kormangla)', 'Palkulangara',\n",
       "       'Mahalingapuram', 'Matunga West', 'Nettoor', 'Rani Khera',\n",
       "       'Beeramguda', 'Ramachandrapuram', 'Neyyattinkara Town', 'Gorai',\n",
       "       'Jayanagar 3 Block', 'Shakti Nagar', 'Sangam Vihar', 'Shakurpur',\n",
       "       'Chaitanyapuri', 'TVM Fort', 'JP Nagar 4 Phase', 'Nayandahalli',\n",
       "       'Valiathura', 'Kowdiar', 'Cunningham Road', 'Hennur', 'Peenya',\n",
       "       'Pattimattam', 'HAL'], dtype=object)"
      ]
     },
     "execution_count": 52,
     "metadata": {},
     "output_type": "execute_result"
    }
   ],
   "source": [
    "df['Area'].unique()"
   ]
  },
  {
   "cell_type": "code",
   "execution_count": 53,
   "metadata": {},
   "outputs": [],
   "source": [
    "df.drop('Area',axis=1,inplace=True)"
   ]
  },
  {
   "cell_type": "markdown",
   "metadata": {},
   "source": [
    "### Let's Convert Categorical column into Numerical column."
   ]
  },
  {
   "cell_type": "code",
   "execution_count": 54,
   "metadata": {},
   "outputs": [
    {
     "data": {
      "text/html": [
       "<div>\n",
       "<style scoped>\n",
       "    .dataframe tbody tr th:only-of-type {\n",
       "        vertical-align: middle;\n",
       "    }\n",
       "\n",
       "    .dataframe tbody tr th {\n",
       "        vertical-align: top;\n",
       "    }\n",
       "\n",
       "    .dataframe thead th {\n",
       "        text-align: right;\n",
       "    }\n",
       "</style>\n",
       "<table border=\"1\" class=\"dataframe\">\n",
       "  <thead>\n",
       "    <tr style=\"text-align: right;\">\n",
       "      <th></th>\n",
       "      <th>Ayurveda</th>\n",
       "      <th>Dentist</th>\n",
       "      <th>Dermatologists</th>\n",
       "      <th>ENT Specialist</th>\n",
       "      <th>General Medicine</th>\n",
       "      <th>Homeopath</th>\n",
       "    </tr>\n",
       "  </thead>\n",
       "  <tbody>\n",
       "    <tr>\n",
       "      <th>0</th>\n",
       "      <td>0</td>\n",
       "      <td>0</td>\n",
       "      <td>0</td>\n",
       "      <td>0</td>\n",
       "      <td>0</td>\n",
       "      <td>1</td>\n",
       "    </tr>\n",
       "    <tr>\n",
       "      <th>1</th>\n",
       "      <td>1</td>\n",
       "      <td>0</td>\n",
       "      <td>0</td>\n",
       "      <td>0</td>\n",
       "      <td>0</td>\n",
       "      <td>0</td>\n",
       "    </tr>\n",
       "    <tr>\n",
       "      <th>2</th>\n",
       "      <td>0</td>\n",
       "      <td>0</td>\n",
       "      <td>0</td>\n",
       "      <td>1</td>\n",
       "      <td>0</td>\n",
       "      <td>0</td>\n",
       "    </tr>\n",
       "    <tr>\n",
       "      <th>3</th>\n",
       "      <td>1</td>\n",
       "      <td>0</td>\n",
       "      <td>0</td>\n",
       "      <td>0</td>\n",
       "      <td>0</td>\n",
       "      <td>0</td>\n",
       "    </tr>\n",
       "    <tr>\n",
       "      <th>4</th>\n",
       "      <td>1</td>\n",
       "      <td>0</td>\n",
       "      <td>0</td>\n",
       "      <td>0</td>\n",
       "      <td>0</td>\n",
       "      <td>0</td>\n",
       "    </tr>\n",
       "  </tbody>\n",
       "</table>\n",
       "</div>"
      ],
      "text/plain": [
       "   Ayurveda  Dentist  Dermatologists  ENT Specialist  General Medicine  \\\n",
       "0         0        0               0               0                 0   \n",
       "1         1        0               0               0                 0   \n",
       "2         0        0               0               1                 0   \n",
       "3         1        0               0               0                 0   \n",
       "4         1        0               0               0                 0   \n",
       "\n",
       "   Homeopath  \n",
       "0          1  \n",
       "1          0  \n",
       "2          0  \n",
       "3          0  \n",
       "4          0  "
      ]
     },
     "execution_count": 54,
     "metadata": {},
     "output_type": "execute_result"
    }
   ],
   "source": [
    "profile=df['Profile']\n",
    "profile=pd.get_dummies(profile)\n",
    "profile.head()"
   ]
  },
  {
   "cell_type": "code",
   "execution_count": 55,
   "metadata": {},
   "outputs": [
    {
     "data": {
      "text/html": [
       "<div>\n",
       "<style scoped>\n",
       "    .dataframe tbody tr th:only-of-type {\n",
       "        vertical-align: middle;\n",
       "    }\n",
       "\n",
       "    .dataframe tbody tr th {\n",
       "        vertical-align: top;\n",
       "    }\n",
       "\n",
       "    .dataframe thead th {\n",
       "        text-align: right;\n",
       "    }\n",
       "</style>\n",
       "<table border=\"1\" class=\"dataframe\">\n",
       "  <thead>\n",
       "    <tr style=\"text-align: right;\">\n",
       "      <th></th>\n",
       "      <th>Bangalore</th>\n",
       "      <th>Chennai</th>\n",
       "      <th>Coimbatore</th>\n",
       "      <th>Delhi</th>\n",
       "      <th>Ernakulam</th>\n",
       "      <th>Hyderabad</th>\n",
       "      <th>Mumbai</th>\n",
       "      <th>Sector 5</th>\n",
       "      <th>Thiruvananthapuram</th>\n",
       "    </tr>\n",
       "  </thead>\n",
       "  <tbody>\n",
       "    <tr>\n",
       "      <th>0</th>\n",
       "      <td>0</td>\n",
       "      <td>0</td>\n",
       "      <td>0</td>\n",
       "      <td>0</td>\n",
       "      <td>1</td>\n",
       "      <td>0</td>\n",
       "      <td>0</td>\n",
       "      <td>0</td>\n",
       "      <td>0</td>\n",
       "    </tr>\n",
       "    <tr>\n",
       "      <th>1</th>\n",
       "      <td>1</td>\n",
       "      <td>0</td>\n",
       "      <td>0</td>\n",
       "      <td>0</td>\n",
       "      <td>0</td>\n",
       "      <td>0</td>\n",
       "      <td>0</td>\n",
       "      <td>0</td>\n",
       "      <td>0</td>\n",
       "    </tr>\n",
       "    <tr>\n",
       "      <th>2</th>\n",
       "      <td>1</td>\n",
       "      <td>0</td>\n",
       "      <td>0</td>\n",
       "      <td>0</td>\n",
       "      <td>0</td>\n",
       "      <td>0</td>\n",
       "      <td>0</td>\n",
       "      <td>0</td>\n",
       "      <td>0</td>\n",
       "    </tr>\n",
       "    <tr>\n",
       "      <th>3</th>\n",
       "      <td>1</td>\n",
       "      <td>0</td>\n",
       "      <td>0</td>\n",
       "      <td>0</td>\n",
       "      <td>0</td>\n",
       "      <td>0</td>\n",
       "      <td>0</td>\n",
       "      <td>0</td>\n",
       "      <td>0</td>\n",
       "    </tr>\n",
       "    <tr>\n",
       "      <th>4</th>\n",
       "      <td>0</td>\n",
       "      <td>1</td>\n",
       "      <td>0</td>\n",
       "      <td>0</td>\n",
       "      <td>0</td>\n",
       "      <td>0</td>\n",
       "      <td>0</td>\n",
       "      <td>0</td>\n",
       "      <td>0</td>\n",
       "    </tr>\n",
       "  </tbody>\n",
       "</table>\n",
       "</div>"
      ],
      "text/plain": [
       "    Bangalore   Chennai   Coimbatore   Delhi   Ernakulam   Hyderabad   Mumbai  \\\n",
       "0           0         0            0       0           1           0        0   \n",
       "1           1         0            0       0           0           0        0   \n",
       "2           1         0            0       0           0           0        0   \n",
       "3           1         0            0       0           0           0        0   \n",
       "4           0         1            0       0           0           0        0   \n",
       "\n",
       "    Sector 5   Thiruvananthapuram  \n",
       "0          0                    0  \n",
       "1          0                    0  \n",
       "2          0                    0  \n",
       "3          0                    0  \n",
       "4          0                    0  "
      ]
     },
     "execution_count": 55,
     "metadata": {},
     "output_type": "execute_result"
    }
   ],
   "source": [
    "city=df['City']\n",
    "city=pd.get_dummies(city)\n",
    "city.head()"
   ]
  },
  {
   "cell_type": "code",
   "execution_count": 56,
   "metadata": {},
   "outputs": [],
   "source": [
    "df=pd.concat([df,profile,city],axis=1)"
   ]
  },
  {
   "cell_type": "code",
   "execution_count": 57,
   "metadata": {},
   "outputs": [
    {
     "data": {
      "text/html": [
       "<div>\n",
       "<style scoped>\n",
       "    .dataframe tbody tr th:only-of-type {\n",
       "        vertical-align: middle;\n",
       "    }\n",
       "\n",
       "    .dataframe tbody tr th {\n",
       "        vertical-align: top;\n",
       "    }\n",
       "\n",
       "    .dataframe thead th {\n",
       "        text-align: right;\n",
       "    }\n",
       "</style>\n",
       "<table border=\"1\" class=\"dataframe\">\n",
       "  <thead>\n",
       "    <tr style=\"text-align: right;\">\n",
       "      <th></th>\n",
       "      <th>Experience</th>\n",
       "      <th>Rating</th>\n",
       "      <th>Profile</th>\n",
       "      <th>Fees</th>\n",
       "      <th>City</th>\n",
       "      <th>Total No. Of Qualification</th>\n",
       "      <th>Ayurveda</th>\n",
       "      <th>Dentist</th>\n",
       "      <th>Dermatologists</th>\n",
       "      <th>ENT Specialist</th>\n",
       "      <th>...</th>\n",
       "      <th>Homeopath</th>\n",
       "      <th>Bangalore</th>\n",
       "      <th>Chennai</th>\n",
       "      <th>Coimbatore</th>\n",
       "      <th>Delhi</th>\n",
       "      <th>Ernakulam</th>\n",
       "      <th>Hyderabad</th>\n",
       "      <th>Mumbai</th>\n",
       "      <th>Sector 5</th>\n",
       "      <th>Thiruvananthapuram</th>\n",
       "    </tr>\n",
       "  </thead>\n",
       "  <tbody>\n",
       "    <tr>\n",
       "      <th>0</th>\n",
       "      <td>24</td>\n",
       "      <td>100.0</td>\n",
       "      <td>Homeopath</td>\n",
       "      <td>100</td>\n",
       "      <td>Ernakulam</td>\n",
       "      <td>2</td>\n",
       "      <td>0</td>\n",
       "      <td>0</td>\n",
       "      <td>0</td>\n",
       "      <td>0</td>\n",
       "      <td>...</td>\n",
       "      <td>1</td>\n",
       "      <td>0</td>\n",
       "      <td>0</td>\n",
       "      <td>0</td>\n",
       "      <td>0</td>\n",
       "      <td>1</td>\n",
       "      <td>0</td>\n",
       "      <td>0</td>\n",
       "      <td>0</td>\n",
       "      <td>0</td>\n",
       "    </tr>\n",
       "    <tr>\n",
       "      <th>1</th>\n",
       "      <td>12</td>\n",
       "      <td>98.0</td>\n",
       "      <td>Ayurveda</td>\n",
       "      <td>350</td>\n",
       "      <td>Bangalore</td>\n",
       "      <td>2</td>\n",
       "      <td>1</td>\n",
       "      <td>0</td>\n",
       "      <td>0</td>\n",
       "      <td>0</td>\n",
       "      <td>...</td>\n",
       "      <td>0</td>\n",
       "      <td>1</td>\n",
       "      <td>0</td>\n",
       "      <td>0</td>\n",
       "      <td>0</td>\n",
       "      <td>0</td>\n",
       "      <td>0</td>\n",
       "      <td>0</td>\n",
       "      <td>0</td>\n",
       "      <td>0</td>\n",
       "    </tr>\n",
       "    <tr>\n",
       "      <th>2</th>\n",
       "      <td>9</td>\n",
       "      <td>97.0</td>\n",
       "      <td>ENT Specialist</td>\n",
       "      <td>300</td>\n",
       "      <td>Bangalore</td>\n",
       "      <td>2</td>\n",
       "      <td>0</td>\n",
       "      <td>0</td>\n",
       "      <td>0</td>\n",
       "      <td>1</td>\n",
       "      <td>...</td>\n",
       "      <td>0</td>\n",
       "      <td>1</td>\n",
       "      <td>0</td>\n",
       "      <td>0</td>\n",
       "      <td>0</td>\n",
       "      <td>0</td>\n",
       "      <td>0</td>\n",
       "      <td>0</td>\n",
       "      <td>0</td>\n",
       "      <td>0</td>\n",
       "    </tr>\n",
       "    <tr>\n",
       "      <th>3</th>\n",
       "      <td>12</td>\n",
       "      <td>97.0</td>\n",
       "      <td>Ayurveda</td>\n",
       "      <td>250</td>\n",
       "      <td>Bangalore</td>\n",
       "      <td>2</td>\n",
       "      <td>1</td>\n",
       "      <td>0</td>\n",
       "      <td>0</td>\n",
       "      <td>0</td>\n",
       "      <td>...</td>\n",
       "      <td>0</td>\n",
       "      <td>1</td>\n",
       "      <td>0</td>\n",
       "      <td>0</td>\n",
       "      <td>0</td>\n",
       "      <td>0</td>\n",
       "      <td>0</td>\n",
       "      <td>0</td>\n",
       "      <td>0</td>\n",
       "      <td>0</td>\n",
       "    </tr>\n",
       "    <tr>\n",
       "      <th>4</th>\n",
       "      <td>20</td>\n",
       "      <td>100.0</td>\n",
       "      <td>Ayurveda</td>\n",
       "      <td>250</td>\n",
       "      <td>Chennai</td>\n",
       "      <td>1</td>\n",
       "      <td>1</td>\n",
       "      <td>0</td>\n",
       "      <td>0</td>\n",
       "      <td>0</td>\n",
       "      <td>...</td>\n",
       "      <td>0</td>\n",
       "      <td>0</td>\n",
       "      <td>1</td>\n",
       "      <td>0</td>\n",
       "      <td>0</td>\n",
       "      <td>0</td>\n",
       "      <td>0</td>\n",
       "      <td>0</td>\n",
       "      <td>0</td>\n",
       "      <td>0</td>\n",
       "    </tr>\n",
       "  </tbody>\n",
       "</table>\n",
       "<p>5 rows × 21 columns</p>\n",
       "</div>"
      ],
      "text/plain": [
       "   Experience  Rating         Profile  Fees        City  \\\n",
       "0          24   100.0       Homeopath   100   Ernakulam   \n",
       "1          12    98.0        Ayurveda   350   Bangalore   \n",
       "2           9    97.0  ENT Specialist   300   Bangalore   \n",
       "3          12    97.0        Ayurveda   250   Bangalore   \n",
       "4          20   100.0        Ayurveda   250     Chennai   \n",
       "\n",
       "   Total No. Of Qualification  Ayurveda  Dentist  Dermatologists  \\\n",
       "0                           2         0        0               0   \n",
       "1                           2         1        0               0   \n",
       "2                           2         0        0               0   \n",
       "3                           2         1        0               0   \n",
       "4                           1         1        0               0   \n",
       "\n",
       "   ENT Specialist  ...  Homeopath   Bangalore   Chennai   Coimbatore   Delhi  \\\n",
       "0               0  ...          1           0         0            0       0   \n",
       "1               0  ...          0           1         0            0       0   \n",
       "2               1  ...          0           1         0            0       0   \n",
       "3               0  ...          0           1         0            0       0   \n",
       "4               0  ...          0           0         1            0       0   \n",
       "\n",
       "    Ernakulam   Hyderabad   Mumbai   Sector 5   Thiruvananthapuram  \n",
       "0           1           0        0          0                    0  \n",
       "1           0           0        0          0                    0  \n",
       "2           0           0        0          0                    0  \n",
       "3           0           0        0          0                    0  \n",
       "4           0           0        0          0                    0  \n",
       "\n",
       "[5 rows x 21 columns]"
      ]
     },
     "execution_count": 57,
     "metadata": {},
     "output_type": "execute_result"
    }
   ],
   "source": [
    "df.head()"
   ]
  },
  {
   "cell_type": "code",
   "execution_count": 58,
   "metadata": {},
   "outputs": [],
   "source": [
    "df.drop(['Profile','City',' Sector 5'],axis=1,inplace=True)"
   ]
  },
  {
   "cell_type": "markdown",
   "metadata": {},
   "source": [
    "## Checking Outliers"
   ]
  },
  {
   "cell_type": "code",
   "execution_count": 59,
   "metadata": {},
   "outputs": [
    {
     "data": {
      "image/png": "[encoded data removed]",
      "text/plain": [
       "<Figure size 432x288 with 1 Axes>"
      ]
     },
     "metadata": {
      "needs_background": "light"
     },
     "output_type": "display_data"
    },
    {
     "data": {
      "image/png": "[encoded data removed]",
      "text/plain": [
       "<Figure size 432x288 with 1 Axes>"
      ]
     },
     "metadata": {
      "needs_background": "light"
     },
     "output_type": "display_data"
    },
    {
     "data": {
      "image/png": "[encoded data removed]",
      "text/plain": [
       "<Figure size 432x288 with 1 Axes>"
      ]
     },
     "metadata": {
      "needs_background": "light"
     },
     "output_type": "display_data"
    }
   ],
   "source": [
    "for i in ['Fees','Experience','Rating']:\n",
    "    sns.boxplot(df[i])\n",
    "    plt.show()"
   ]
  },
  {
   "cell_type": "markdown",
   "metadata": {},
   "source": [
    "### Observations:\n",
    "        From above boxplots it is evident that outliers exists."
   ]
  },
  {
   "cell_type": "markdown",
   "metadata": {},
   "source": [
    "## Removing Outliers"
   ]
  },
  {
   "cell_type": "markdown",
   "metadata": {},
   "source": [
    "### 1. Z-score Method"
   ]
  },
  {
   "cell_type": "code",
   "execution_count": 60,
   "metadata": {},
   "outputs": [],
   "source": [
    "from scipy.stats import zscore\n",
    "\n",
    "z=np.abs(zscore(df))"
   ]
  },
  {
   "cell_type": "code",
   "execution_count": 61,
   "metadata": {},
   "outputs": [
    {
     "data": {
      "text/plain": [
       "(array([   0,    9,   12,   18,   20,   23,   25,   28,   49,   55,   57,\n",
       "          58,   67,   70,   77,   80,   85,  102,  104,  105,  110,  116,\n",
       "         118,  140,  144,  148,  151,  159,  174,  176,  178,  183,  185,\n",
       "         203,  204,  209,  209,  210,  211,  218,  227,  239,  261,  266,\n",
       "         275,  291,  293,  298,  308,  309,  312,  316,  317,  322,  325,\n",
       "         333,  344,  353,  363,  372,  373,  376,  377,  379,  391,  394,\n",
       "         409,  414,  458,  465,  471,  472,  490,  497,  501,  517,  533,\n",
       "         545,  550,  553,  560,  572,  579,  580,  583,  588,  592,  600,\n",
       "         606,  627,  628,  635,  651,  652,  669,  675,  682,  688,  694,\n",
       "         703,  713,  721,  726,  744,  757,  782,  783,  793,  805,  810,\n",
       "         811,  825,  830,  840,  846,  848,  863,  890,  896,  896,  897,\n",
       "         899,  906,  913,  917,  917,  936,  950,  963,  974,  975,  982,\n",
       "         985,  986,  990,  993, 1003, 1010, 1012, 1015, 1019, 1038, 1043,\n",
       "        1046, 1056, 1057, 1066, 1069, 1079, 1099, 1102, 1104, 1118, 1120,\n",
       "        1129, 1143, 1151, 1163, 1167, 1174, 1194, 1196, 1201, 1211, 1220,\n",
       "        1221, 1225, 1232, 1234, 1238, 1242, 1250, 1264, 1268, 1282, 1284,\n",
       "        1295, 1296, 1301, 1304, 1306, 1309, 1321, 1322, 1339, 1359, 1362,\n",
       "        1384, 1387, 1399, 1407, 1411, 1417, 1424, 1425, 1429, 1436, 1461,\n",
       "        1462, 1467, 1470, 1473, 1489, 1492, 1504, 1539, 1548, 1552, 1569,\n",
       "        1584, 1585, 1586, 1597, 1600, 1601, 1603, 1606, 1607, 1608, 1612,\n",
       "        1615, 1623, 1625, 1627, 1640, 1642, 1656, 1678, 1689, 1692, 1702,\n",
       "        1709, 1712, 1715, 1720, 1725, 1733, 1735, 1739, 1748, 1760, 1768,\n",
       "        1770, 1780, 1784, 1788, 1790, 1791, 1817, 1820, 1829, 1840, 1844,\n",
       "        1852, 1861, 1867, 1869, 1872, 1876, 1888, 1901, 1922, 1927, 1929,\n",
       "        1935, 1940, 1973, 1985, 2004, 2005, 2011, 2014, 2015, 2027, 2036,\n",
       "        2049, 2054, 2055, 2080, 2090, 2091, 2109, 2132, 2134, 2152, 2153,\n",
       "        2155, 2156, 2156, 2159, 2161, 2179, 2192, 2193, 2201, 2233, 2241,\n",
       "        2242, 2252, 2253, 2255, 2260, 2267, 2271, 2276, 2281, 2293, 2299,\n",
       "        2300, 2312, 2313, 2315, 2317, 2325, 2330, 2337, 2344, 2354, 2367,\n",
       "        2380, 2380, 2382, 2386, 2389, 2417, 2424, 2425, 2436, 2443, 2450,\n",
       "        2459, 2463, 2466, 2480, 2482, 2488, 2490, 2504, 2510, 2524, 2536,\n",
       "        2540, 2547, 2554, 2560, 2570, 2573, 2587, 2590, 2592, 2605, 2607,\n",
       "        2611, 2613, 2619, 2619, 2620, 2628, 2634, 2644, 2647, 2658, 2663,\n",
       "        2668, 2678, 2696, 2702, 2703, 2714, 2719, 2726, 2746, 2749, 2755,\n",
       "        2764, 2776, 2788, 2791, 2810, 2814, 2817, 2821, 2822, 2825, 2832,\n",
       "        2838, 2839, 2855, 2866, 2877, 2880, 2888, 2890, 2897, 2904, 2905,\n",
       "        2909, 2916, 2919, 2928, 2933, 2934, 2936, 2942, 2950, 2955, 2957,\n",
       "        2975, 2979, 2987, 2992, 2993, 3011, 3026, 3034, 3044, 3071, 3073,\n",
       "        3079, 3081, 3095, 3096, 3100, 3103, 3107, 3112, 3113, 3115, 3119,\n",
       "        3121, 3127, 3131, 3140, 3142, 3145, 3154, 3158, 3161, 3167, 3167,\n",
       "        3175, 3191, 3196, 3202, 3209, 3224, 3228, 3231, 3235, 3236, 3240,\n",
       "        3247, 3252, 3256, 3267, 3275, 3277, 3281, 3288, 3289, 3297, 3319,\n",
       "        3334, 3340, 3344, 3351, 3353, 3357, 3364, 3370, 3375, 3381, 3388,\n",
       "        3433, 3442, 3445, 3447, 3448, 3462, 3466, 3469, 3477, 3477, 3486,\n",
       "        3488, 3492, 3509, 3516, 3519, 3520, 3525, 3530, 3536, 3545, 3545,\n",
       "        3549, 3558, 3563, 3565, 3576, 3586, 3590, 3590, 3597, 3602, 3608,\n",
       "        3609, 3612, 3643, 3653, 3658, 3668, 3672, 3676, 3682, 3699, 3715,\n",
       "        3726, 3739, 3747, 3759, 3764, 3765, 3769, 3784, 3785, 3786, 3788,\n",
       "        3795, 3800, 3820, 3827, 3841, 3847, 3851, 3853, 3869, 3870, 3871,\n",
       "        3882, 3892, 3896, 3902, 3912, 3914, 3922, 3923, 3931, 3936, 3940,\n",
       "        3947, 3959, 3962, 3983, 3987, 3993, 4006, 4017, 4022, 4029, 4030,\n",
       "        4032, 4035, 4041, 4043, 4057, 4089, 4092, 4111, 4143, 4144, 4150,\n",
       "        4150, 4154, 4167, 4188, 4188, 4195, 4200, 4218, 4227, 4232, 4240,\n",
       "        4246, 4254, 4261, 4287, 4295, 4298, 4299, 4311, 4319, 4320, 4333,\n",
       "        4350, 4355, 4361, 4427, 4431, 4431, 4444, 4446, 4449, 4450, 4450,\n",
       "        4470, 4481, 4482, 4503, 4505, 4508, 4514, 4530, 4540, 4542, 4547,\n",
       "        4552, 4563, 4578, 4579, 4580, 4583, 4621, 4626, 4638, 4639, 4644,\n",
       "        4648, 4661, 4673, 4674, 4678, 4680, 4701, 4704, 4716, 4717, 4720,\n",
       "        4730, 4733, 4733, 4744, 4745, 4758, 4770, 4778, 4781, 4783, 4795,\n",
       "        4805, 4806, 4813, 4816, 4820, 4823, 4835, 4847, 4849, 4857, 4872,\n",
       "        4882, 4891, 4895, 4898, 4902, 4917, 4919, 4940, 4961, 4966, 4969,\n",
       "        4995, 4996, 4997, 5006, 5007, 5021, 5026, 5054, 5062, 5073, 5074,\n",
       "        5078, 5081, 5087, 5095, 5107, 5116, 5126, 5131, 5133, 5138, 5158,\n",
       "        5160, 5162, 5166, 5170, 5187, 5188, 5192, 5211, 5216, 5217, 5229,\n",
       "        5232, 5239, 5241, 5244, 5249, 5254, 5265, 5271, 5278, 5282, 5283,\n",
       "        5288, 5307, 5318, 5342, 5350, 5360, 5373, 5377, 5378, 5388, 5388,\n",
       "        5406, 5426, 5436, 5437, 5463, 5467, 5471, 5476, 5482, 5485, 5488,\n",
       "        5496, 5497, 5551, 5551, 5562, 5564, 5565, 5576, 5579, 5582, 5593,\n",
       "        5600, 5601, 5611, 5626, 5627, 5628, 5631, 5650, 5656, 5683, 5696,\n",
       "        5701, 5742, 5749, 5752, 5767, 5785, 5800, 5802, 5804, 5822, 5823,\n",
       "        5852, 5868, 5885, 5889, 5891, 5892, 5902], dtype=int64),\n",
       " array([14, 14, 12,  1, 12, 14, 17, 12, 12,  1,  3,  3,  1,  3, 12,  3, 17,\n",
       "        17, 14,  0,  0, 14, 14,  1, 14, 12, 14, 12, 12, 14,  1,  0, 12, 17,\n",
       "        14,  1,  3, 14, 12, 12, 17,  3, 14, 12,  2,  3,  2, 14, 14,  1, 17,\n",
       "        12, 17, 12,  0,  1, 14,  3, 17,  0, 17, 12,  1, 12, 12, 12, 12, 12,\n",
       "         1,  1, 12,  3, 14, 14, 12, 12, 12, 12, 14, 12, 14,  3, 12, 17,  1,\n",
       "         1, 14, 14, 12, 12,  1,  3, 12, 12, 12, 17, 12,  1, 17,  3, 12, 17,\n",
       "         1, 12,  3,  1,  1,  3,  1,  1, 14, 14, 12,  3,  1,  3, 12, 17,  0,\n",
       "        12, 17, 12,  1,  1,  3, 12, 14, 12,  1,  1, 14,  2,  1, 12, 17,  1,\n",
       "         0,  1,  1, 14, 12, 14, 17, 14, 12, 17, 12, 17, 12, 14, 12,  0, 14,\n",
       "        17,  3,  3, 12,  1, 12, 14, 12,  3,  3, 14,  3,  3, 12,  1, 17, 14,\n",
       "         3, 14, 14, 12, 12, 12,  1, 12, 12, 12,  2,  3, 12, 17, 12, 17, 14,\n",
       "         1,  3, 12, 14,  3,  1, 17,  1,  1,  1,  3, 12,  1,  3, 12, 12,  3,\n",
       "        14,  3,  3, 14, 14,  1,  3,  1, 12, 12,  3, 14,  1, 14, 12,  3, 12,\n",
       "         2, 12,  1,  1, 14, 12, 14, 12, 14, 17,  1, 17, 12,  3, 14,  1,  1,\n",
       "         1, 12,  3, 14,  1, 14, 12,  1, 12, 17,  3, 12, 14, 17,  1,  0, 12,\n",
       "        12,  1, 14,  3,  3, 12, 17, 14,  1, 14, 17,  0, 12, 12, 17, 12,  3,\n",
       "         0,  3, 12,  3,  0, 17,  1, 12,  3,  3,  3,  3,  1, 12,  3,  2,  3,\n",
       "        14, 14, 14,  0,  3, 12, 14, 12,  2,  0, 12, 14, 14,  1,  0, 14,  3,\n",
       "         3,  1, 17, 14,  1,  3, 17, 12, 12,  3, 17, 12, 14,  1,  3,  2, 14,\n",
       "        12,  2, 12, 12, 12, 17, 12,  3, 17,  1, 12, 12,  1, 12, 12,  2, 14,\n",
       "         1, 12, 12, 12, 12,  3,  1, 14, 14, 12,  3,  3,  2, 14,  0, 17, 12,\n",
       "        14,  1, 12, 12,  1, 14, 14, 17,  2, 12,  1,  1,  3,  1,  1, 12, 17,\n",
       "        12, 17, 12, 12, 14,  3,  1,  1, 12,  3,  3, 12, 14, 14, 17, 12, 12,\n",
       "        12, 14, 14, 14, 14, 12, 12, 17,  3, 12,  3, 17, 12,  1,  3, 12, 12,\n",
       "         1, 17, 12, 12, 12, 14, 17, 14, 12,  3, 17,  1, 12, 17,  3, 12,  1,\n",
       "        12,  1, 12, 14, 14, 12,  1, 14, 17, 12, 17, 12, 17,  0, 12,  3, 14,\n",
       "        17, 17,  1, 14, 17, 12, 14, 14,  1, 12,  3,  1,  3, 14, 12,  1, 17,\n",
       "        14, 14,  1, 12, 12, 12,  2,  1,  3, 12,  3,  3, 12, 12, 17, 14, 12,\n",
       "         1, 12,  0, 14, 14,  0, 14, 12, 14, 12,  1, 14, 17,  1, 12, 14,  3,\n",
       "         3, 12, 12, 12,  3, 14,  1,  1,  0, 12,  1,  3, 14,  1, 12,  1, 14,\n",
       "         1, 12,  1, 12, 17, 14,  3, 14, 14,  1, 14,  1, 12, 12,  3, 17, 12,\n",
       "         3, 17,  1,  3, 12,  1, 14,  3, 14, 12, 17, 17, 17, 14, 12, 12,  3,\n",
       "         3,  0, 12, 12, 14,  0, 12, 14, 14, 12,  3, 14, 12,  2,  3,  1, 12,\n",
       "         1,  1,  3, 14, 14, 14, 12,  1,  0,  3,  1,  3, 12,  3,  0,  1,  1,\n",
       "        12, 12, 12,  0, 12, 14, 12, 12, 12, 14,  3, 17, 12,  0, 12, 17, 14,\n",
       "        14,  3, 14,  1, 14, 12,  1, 12,  1,  3, 14,  1, 12, 12, 17,  3, 12,\n",
       "        14, 14, 17, 12,  2, 12, 12,  1,  1,  1,  3,  3,  3, 17, 14, 14, 12,\n",
       "        12, 17, 12,  3,  2, 12, 14, 12, 17,  3,  0, 12, 14,  0,  3, 12,  1,\n",
       "         3, 14,  1,  2, 14,  1, 12,  1, 14, 12, 14,  1, 12, 14,  3, 14,  3,\n",
       "        17,  3, 17, 12,  1, 12, 14, 12, 14,  3,  1, 12,  3, 14, 12, 17,  3,\n",
       "        14, 12, 14, 12, 12,  1, 14, 14,  3, 14, 14, 12, 14, 17,  2,  3, 12,\n",
       "         3, 12, 12,  1,  1,  2,  1,  0,  3, 12,  0, 14, 17,  1, 17,  2, 12,\n",
       "         1, 12, 14,  1, 12, 17, 12, 12,  0, 12,  0,  1, 14,  1, 14, 17, 17,\n",
       "         1,  3,  3, 14,  3,  1,  1, 14,  0, 12, 14,  3, 14,  1,  1, 17, 12,\n",
       "         1,  0,  1, 12,  1,  0,  3, 12,  3,  0, 17, 12, 12, 14, 17,  0, 17,\n",
       "         1, 12, 17,  1, 14,  1, 14, 14,  1,  3, 12,  0], dtype=int64))"
      ]
     },
     "execution_count": 61,
     "metadata": {},
     "output_type": "execute_result"
    }
   ],
   "source": [
    "np.where(z>3)"
   ]
  },
  {
   "cell_type": "code",
   "execution_count": 62,
   "metadata": {},
   "outputs": [],
   "source": [
    "# Threshold\n",
    "cf = df[(z<3).all(axis=1)]"
   ]
  },
  {
   "cell_type": "code",
   "execution_count": 63,
   "metadata": {},
   "outputs": [
    {
     "name": "stdout",
     "output_type": "stream",
     "text": [
      "(5921, 18) \t\t (5161, 18)\n"
     ]
    }
   ],
   "source": [
    "print(df.shape, '\\t\\t' ,cf.shape)"
   ]
  },
  {
   "cell_type": "code",
   "execution_count": 64,
   "metadata": {},
   "outputs": [
    {
     "data": {
      "text/plain": [
       "12.835669650396891"
      ]
     },
     "execution_count": 64,
     "metadata": {},
     "output_type": "execute_result"
    }
   ],
   "source": [
    "# percentage loss of data\n",
    "per_loss = ((5921-5161)/5921)*100\n",
    "per_loss"
   ]
  },
  {
   "cell_type": "markdown",
   "metadata": {},
   "source": [
    "### Since significant amount (> 5%) of data is lost during outlier removal, we are not going with Z-score method of removing outliers."
   ]
  },
  {
   "cell_type": "markdown",
   "metadata": {},
   "source": [
    "## Checking Skewness"
   ]
  },
  {
   "cell_type": "code",
   "execution_count": 65,
   "metadata": {},
   "outputs": [
    {
     "data": {
      "text/plain": [
       "Experience                    1.001498\n",
       "Rating                       -5.237719\n",
       "Fees                          0.746366\n",
       "Total No. Of Qualification    1.431267\n",
       "Ayurveda                      2.173977\n",
       "Dentist                       1.250802\n",
       "Dermatologists                1.750439\n",
       "ENT Specialist                2.296977\n",
       "General Medicine              1.520587\n",
       "Homeopath                     2.053355\n",
       " Bangalore                    1.404989\n",
       " Chennai                      2.027752\n",
       " Coimbatore                   4.833932\n",
       " Delhi                        1.501965\n",
       " Ernakulam                    5.978627\n",
       " Hyderabad                    1.854225\n",
       " Mumbai                       1.460312\n",
       " Thiruvananthapuram           8.218072\n",
       "dtype: float64"
      ]
     },
     "execution_count": 65,
     "metadata": {},
     "output_type": "execute_result"
    }
   ],
   "source": [
    "df.skew()"
   ]
  },
  {
   "cell_type": "markdown",
   "metadata": {},
   "source": [
    "### Observations:\n",
    "        Acceptable range of skewness is +/- 0.5, hence data is skewed."
   ]
  },
  {
   "cell_type": "markdown",
   "metadata": {},
   "source": [
    "## Splitting Data"
   ]
  },
  {
   "cell_type": "code",
   "execution_count": 66,
   "metadata": {},
   "outputs": [],
   "source": [
    "x=df.drop('Fees',axis=1)\n",
    "y=df['Fees']"
   ]
  },
  {
   "cell_type": "code",
   "execution_count": 67,
   "metadata": {},
   "outputs": [
    {
     "name": "stdout",
     "output_type": "stream",
     "text": [
      "(5921, 17) \t\t (5921,)\n"
     ]
    }
   ],
   "source": [
    "print(x.shape,'\\t\\t',y.shape)"
   ]
  },
  {
   "cell_type": "markdown",
   "metadata": {},
   "source": [
    "## Removing Skewness"
   ]
  },
  {
   "cell_type": "code",
   "execution_count": 68,
   "metadata": {},
   "outputs": [],
   "source": [
    "from sklearn.preprocessing import power_transform\n",
    "\n",
    "x=power_transform(x,method='yeo-johnson')"
   ]
  },
  {
   "cell_type": "markdown",
   "metadata": {},
   "source": [
    "## Standardizing Data"
   ]
  },
  {
   "cell_type": "code",
   "execution_count": 69,
   "metadata": {},
   "outputs": [],
   "source": [
    "from sklearn.preprocessing import StandardScaler\n",
    "\n",
    "sc=StandardScaler()\n",
    "x=sc.fit_transform(x)"
   ]
  },
  {
   "cell_type": "markdown",
   "metadata": {},
   "source": [
    "# Model Training And Testing"
   ]
  },
  {
   "cell_type": "code",
   "execution_count": 70,
   "metadata": {},
   "outputs": [],
   "source": [
    "from sklearn.model_selection import train_test_split, cross_val_score\n",
    "from sklearn.linear_model import LinearRegression\n",
    "from sklearn.linear_model import Lasso\n",
    "from sklearn.linear_model import Ridge\n",
    "from sklearn.linear_model import ElasticNet\n",
    "from sklearn.linear_model import SGDRegressor\n",
    "from sklearn.linear_model import GammaRegressor\n",
    "from sklearn.tree import DecisionTreeRegressor\n",
    "from sklearn.neighbors import KNeighborsRegressor\n",
    "from sklearn.svm import SVR\n",
    "from sklearn.ensemble import RandomForestRegressor\n",
    "from sklearn.ensemble import AdaBoostRegressor\n",
    "from sklearn.ensemble import GradientBoostingRegressor\n",
    "from sklearn.metrics import r2_score, mean_absolute_error, mean_squared_error"
   ]
  },
  {
   "cell_type": "code",
   "execution_count": 71,
   "metadata": {},
   "outputs": [
    {
     "name": "stdout",
     "output_type": "stream",
     "text": [
      " Best r2_score is 21.71546886971736 which is found on random_state 298\n"
     ]
    }
   ],
   "source": [
    "# finding the best random_state\n",
    "\n",
    "s=0\n",
    "for i in range(40,800):\n",
    "    x_train,x_test,y_train,y_test=train_test_split(x,y,test_size=0.25,random_state=i)\n",
    "    lr=LinearRegression()\n",
    "    lr.fit(x_train,y_train)\n",
    "    y_pred=lr.predict(x_test)\n",
    "    r2=r2_score(y_test,y_pred)\n",
    "    if r2>s:\n",
    "        s=r2\n",
    "        best_random_state=i\n",
    "        \n",
    "print(f\" Best r2_score is {s*100} which is found on random_state {best_random_state}\")"
   ]
  },
  {
   "cell_type": "code",
   "execution_count": 72,
   "metadata": {},
   "outputs": [],
   "source": [
    "x_train,x_test,y_train,y_test=train_test_split(x,y,test_size=0.25,random_state=best_random_state)"
   ]
  },
  {
   "cell_type": "markdown",
   "metadata": {},
   "source": [
    "# Finding The Best Model"
   ]
  },
  {
   "cell_type": "code",
   "execution_count": 73,
   "metadata": {},
   "outputs": [],
   "source": [
    "mod_list=[LinearRegression(),Lasso(),Ridge(),ElasticNet(),SGDRegressor(),GammaRegressor(),SVR(),\n",
    "         DecisionTreeRegressor(),KNeighborsRegressor(),RandomForestRegressor(),AdaBoostRegressor(),\n",
    "         GradientBoostingRegressor()]"
   ]
  },
  {
   "cell_type": "code",
   "execution_count": 74,
   "metadata": {},
   "outputs": [
    {
     "name": "stdout",
     "output_type": "stream",
     "text": [
      "LinearRegression()\n",
      "r2_score: 21.71546886971736\n",
      "Training score: 15.75165355192788\n",
      "Error:\n",
      "Mean absolute error: 132.00967949600792\n",
      "Mean squared error: 28689.122942307687\n",
      "Root mean squared error: 169.37863779800477\n",
      "*****************************************************************************************\n",
      "Lasso()\n",
      "r2_score: 21.455157097440015\n",
      "Training score: 15.724042624490265\n",
      "Error:\n",
      "Mean absolute error: 132.31665499153672\n",
      "Mean squared error: 28784.5200320056\n",
      "Root mean squared error: 169.66001306143295\n",
      "*****************************************************************************************\n",
      "Ridge()\n",
      "r2_score: 21.73901903142793\n",
      "Training score: 15.759481277871412\n",
      "Error:\n",
      "Mean absolute error: 131.93557859000381\n",
      "Mean squared error: 28680.49245714196\n",
      "Root mean squared error: 169.3531589818801\n",
      "*****************************************************************************************\n",
      "ElasticNet()\n",
      "r2_score: 19.30539663657044\n",
      "Training score: 14.639735610270765\n",
      "Error:\n",
      "Mean absolute error: 135.77302931828612\n",
      "Mean squared error: 29572.347988153913\n",
      "Root mean squared error: 171.96612453664795\n",
      "*****************************************************************************************\n",
      "SGDRegressor()\n",
      "r2_score: 21.628207854894367\n",
      "Training score: 15.488746557284594\n",
      "Error:\n",
      "Mean absolute error: 131.73716528712166\n",
      "Mean squared error: 28721.10169910909\n",
      "Root mean squared error: 169.47301171310167\n",
      "*****************************************************************************************\n",
      "GammaRegressor()\n",
      "r2_score: 17.298912149869693\n",
      "Training score: 13.172929095989227\n",
      "Error:\n",
      "Mean absolute error: 137.46708996401495\n",
      "Mean squared error: 30307.66924881256\n",
      "Root mean squared error: 174.09097980312637\n",
      "*****************************************************************************************\n",
      "SVR()\n",
      "r2_score: 10.32352826944769\n",
      "Training score: 8.661976070188304\n",
      "Error:\n",
      "Mean absolute error: 137.58905797569966\n",
      "Mean squared error: 32863.95518200898\n",
      "Root mean squared error: 181.28418348551253\n",
      "*****************************************************************************************\n",
      "DecisionTreeRegressor()\n",
      "r2_score: -43.96392902704245\n",
      "Training score: 81.25629061960849\n",
      "Error:\n",
      "Mean absolute error: 168.04695186649946\n",
      "Mean squared error: 52758.81198344181\n",
      "Root mean squared error: 229.69286445913338\n",
      "*****************************************************************************************\n",
      "KNeighborsRegressor()\n",
      "r2_score: 11.52485421020909\n",
      "Training score: 35.702776669359395\n",
      "Error:\n",
      "Mean absolute error: 136.43821742066172\n",
      "Mean squared error: 32423.70233625928\n",
      "Root mean squared error: 180.0658277860052\n",
      "*****************************************************************************************\n",
      "RandomForestRegressor()\n",
      "r2_score: 6.393683519442639\n",
      "Training score: 72.77124518474783\n",
      "Error:\n",
      "Mean absolute error: 140.4248441960358\n",
      "Mean squared error: 34304.13496656241\n",
      "Root mean squared error: 185.2137547985095\n",
      "*****************************************************************************************\n",
      "AdaBoostRegressor()\n",
      "r2_score: 14.528333425458516\n",
      "Training score: 10.960105449854652\n",
      "Error:\n",
      "Mean absolute error: 145.9419147251622\n",
      "Mean squared error: 31323.009987249035\n",
      "Root mean squared error: 176.9830782511397\n",
      "*****************************************************************************************\n",
      "GradientBoostingRegressor()\n",
      "r2_score: 23.579852525455735\n",
      "Training score: 23.520752052876503\n",
      "Error:\n",
      "Mean absolute error: 129.96871525005244\n",
      "Mean squared error: 28005.877719543405\n",
      "Root mean squared error: 167.34956743159933\n",
      "*****************************************************************************************\n"
     ]
    }
   ],
   "source": [
    "for i in mod_list:\n",
    "    print(i)\n",
    "    i.fit(x_train,y_train)\n",
    "    y_pred=i.predict(x_test)\n",
    "    r2=r2_score(y_test,y_pred)\n",
    "    print('r2_score:',r2*100)\n",
    "    print('Training score:',i.score(x_train,y_train)*100)\n",
    "    print('Error:')\n",
    "    print('Mean absolute error:',mean_absolute_error(y_test,y_pred))\n",
    "    print('Mean squared error:',mean_squared_error(y_test,y_pred))\n",
    "    print('Root mean squared error:',np.sqrt(mean_squared_error(y_test,y_pred)))\n",
    "    print('*****************************************************************************************')"
   ]
  },
  {
   "cell_type": "markdown",
   "metadata": {},
   "source": [
    "### Observations:\n",
    "        - From above it is evident that we are getting low 'r2 score'.\n",
    "        - Let's select Gradient Boosting Regressor and perform hyperparameter tuning and see what is the 'r2 score' we are going to get."
   ]
  },
  {
   "cell_type": "code",
   "execution_count": 75,
   "metadata": {},
   "outputs": [
    {
     "name": "stdout",
     "output_type": "stream",
     "text": [
      "r2_score: 23.617674107311835\n",
      "Training score: 23.520752052876492\n",
      "Error:\n",
      "Mean absolute error: 129.94377865065317\n",
      "Mean squared error: 27992.017152250275\n",
      "Root mean squared error: 167.30815028638108\n"
     ]
    }
   ],
   "source": [
    "gbr=GradientBoostingRegressor()\n",
    "gbr.fit(x_train,y_train)\n",
    "y_pred=gbr.predict(x_test)\n",
    "r2=r2_score(y_test,y_pred)\n",
    "print('r2_score:',r2*100)\n",
    "print('Training score:',gbr.score(x_train,y_train)*100)\n",
    "print('Error:')\n",
    "print('Mean absolute error:',mean_absolute_error(y_test,y_pred))\n",
    "print('Mean squared error:',mean_squared_error(y_test,y_pred))\n",
    "print('Root mean squared error:',np.sqrt(mean_squared_error(y_test,y_pred)))"
   ]
  },
  {
   "cell_type": "markdown",
   "metadata": {},
   "source": [
    "## Hyper-parameter Tuning"
   ]
  },
  {
   "cell_type": "code",
   "execution_count": 76,
   "metadata": {},
   "outputs": [],
   "source": [
    "from sklearn.model_selection import GridSearchCV\n",
    "\n",
    "para = {\n",
    "    'loss':['ls','lad','huber','quantile'],\n",
    "#     'criterion':['friedman_mse','mse','mae'],\n",
    "    'max_features':['auto','sqrt','log2'],\n",
    "    'warm_start':[True,False]\n",
    "}"
   ]
  },
  {
   "cell_type": "code",
   "execution_count": 77,
   "metadata": {},
   "outputs": [
    {
     "data": {
      "text/plain": [
       "GridSearchCV(cv=2, estimator=GradientBoostingRegressor(),\n",
       "             param_grid={'loss': ['ls', 'lad', 'huber', 'quantile'],\n",
       "                         'max_features': ['auto', 'sqrt', 'log2'],\n",
       "                         'warm_start': [True, False]},\n",
       "             scoring='r2')"
      ]
     },
     "execution_count": 77,
     "metadata": {},
     "output_type": "execute_result"
    }
   ],
   "source": [
    "gscv=GridSearchCV(gbr,para,scoring='r2',cv=2)\n",
    "gscv.fit(x_train,y_train)"
   ]
  },
  {
   "cell_type": "code",
   "execution_count": 78,
   "metadata": {},
   "outputs": [
    {
     "data": {
      "text/plain": [
       "{'loss': 'ls', 'max_features': 'log2', 'warm_start': False}"
      ]
     },
     "execution_count": 78,
     "metadata": {},
     "output_type": "execute_result"
    }
   ],
   "source": [
    "gscv.best_params_"
   ]
  },
  {
   "cell_type": "code",
   "execution_count": 79,
   "metadata": {},
   "outputs": [
    {
     "name": "stdout",
     "output_type": "stream",
     "text": [
      "r2_score: 24.010141233973282\n",
      "Training score: 21.849556825296823\n",
      "Error:\n",
      "Mean absolute error: 129.70197736939437\n",
      "Mean squared error: 27848.18876770179\n",
      "Root mean squared error: 166.87776594771933\n"
     ]
    }
   ],
   "source": [
    "gbr=GradientBoostingRegressor(loss='ls',max_features='log2',warm_start=False)\n",
    "gbr.fit(x_train,y_train)\n",
    "y_pred=gbr.predict(x_test)\n",
    "r2=r2_score(y_test,y_pred)\n",
    "print('r2_score:',r2*100)\n",
    "print('Training score:',gbr.score(x_train,y_train)*100)\n",
    "print('Error:')\n",
    "print('Mean absolute error:',mean_absolute_error(y_test,y_pred))\n",
    "print('Mean squared error:',mean_squared_error(y_test,y_pred))\n",
    "print('Root mean squared error:',np.sqrt(mean_squared_error(y_test,y_pred)))"
   ]
  },
  {
   "cell_type": "markdown",
   "metadata": {},
   "source": [
    "### Observations:\n",
    "        - we are getting low 'r2 score'."
   ]
  },
  {
   "cell_type": "markdown",
   "metadata": {},
   "source": [
    "    Since we are getting low 'r2 score'.\n",
    "    Let's consider Target column and convert Fees amount into 4 groups,\n",
    "        - 0 -- 0 to 250 Rs\n",
    "        - 1 -- 251 to 500 Rs\n",
    "        - 2 -- 501 to 750 Rs \n",
    "        - 3 -- 751 and above"
   ]
  },
  {
   "cell_type": "code",
   "execution_count": 80,
   "metadata": {},
   "outputs": [],
   "source": [
    "fees = list(df['Fees'])\n",
    "\n",
    "Fees=[]\n",
    "for i in fees:\n",
    "    if i>=0 and i<=250:\n",
    "        Fees.append(0)\n",
    "    elif i>=251 and i<=500:\n",
    "        Fees.append(1)\n",
    "    elif i>=501 and i<=750:\n",
    "        Fees.append(2)\n",
    "    else:\n",
    "        Fees.append(3)"
   ]
  },
  {
   "cell_type": "code",
   "execution_count": 81,
   "metadata": {},
   "outputs": [],
   "source": [
    "df['Doc Fees']=Fees"
   ]
  },
  {
   "cell_type": "code",
   "execution_count": 82,
   "metadata": {},
   "outputs": [],
   "source": [
    "df.drop('Fees',axis=1,inplace=True)"
   ]
  },
  {
   "cell_type": "code",
   "execution_count": 83,
   "metadata": {},
   "outputs": [
    {
     "data": {
      "text/plain": [
       "array([0, 1, 2, 3], dtype=int64)"
      ]
     },
     "execution_count": 83,
     "metadata": {},
     "output_type": "execute_result"
    }
   ],
   "source": [
    "df['Doc Fees'].unique()"
   ]
  },
  {
   "cell_type": "markdown",
   "metadata": {},
   "source": [
    "### Observations:\n",
    "        - 0 -- 0 to 250 Rs\n",
    "        - 1 -- 251 to 500 Rs\n",
    "        - 2 -- 501 to 750 Rs \n",
    "        - 3 -- 751 and above"
   ]
  },
  {
   "cell_type": "code",
   "execution_count": 84,
   "metadata": {},
   "outputs": [],
   "source": [
    "# Splitting Data\n",
    "x=df.drop('Doc Fees',axis=1)\n",
    "y=df['Doc Fees']\n",
    "\n",
    "\n",
    "# Removing Skewness\n",
    "from sklearn.preprocessing import power_transform\n",
    "x=power_transform(x,method='yeo-johnson')\n",
    "\n",
    "\n",
    "# Standardizing Data\n",
    "from sklearn.preprocessing import StandardScaler\n",
    "sc=StandardScaler()\n",
    "x=sc.fit_transform(x)"
   ]
  },
  {
   "cell_type": "markdown",
   "metadata": {},
   "source": [
    "# Model Training And Testing"
   ]
  },
  {
   "cell_type": "code",
   "execution_count": 85,
   "metadata": {},
   "outputs": [],
   "source": [
    "from sklearn.tree import DecisionTreeClassifier\n",
    "from sklearn.neighbors import KNeighborsClassifier\n",
    "from sklearn.svm import SVC\n",
    "from sklearn.ensemble import RandomForestClassifier\n",
    "from sklearn.ensemble import AdaBoostClassifier\n",
    "from sklearn.ensemble import GradientBoostingClassifier\n",
    "from sklearn.linear_model import SGDClassifier\n",
    "from sklearn.metrics import accuracy_score, confusion_matrix, classification_report"
   ]
  },
  {
   "cell_type": "code",
   "execution_count": 86,
   "metadata": {},
   "outputs": [
    {
     "name": "stdout",
     "output_type": "stream",
     "text": [
      " Best Accuracy score is 55.232950708980425 which is found on random_state 664\n"
     ]
    }
   ],
   "source": [
    "# finding the best random_state\n",
    "\n",
    "acc=0\n",
    "for i in range(40,800):\n",
    "    x_train,x_test,y_train,y_test=train_test_split(x,y,test_size=0.25,random_state=i)\n",
    "    mod=DecisionTreeClassifier()\n",
    "    mod.fit(x_train,y_train)\n",
    "    y_pred=mod.predict(x_test)\n",
    "    mod_acc=accuracy_score(y_test,y_pred)\n",
    "    if mod_acc>acc:\n",
    "        acc=mod_acc\n",
    "        best_random_state=i\n",
    "        \n",
    "print(f\" Best Accuracy score is {acc*100} which is found on random_state {best_random_state}\")"
   ]
  },
  {
   "cell_type": "code",
   "execution_count": 87,
   "metadata": {},
   "outputs": [
    {
     "name": "stdout",
     "output_type": "stream",
     "text": [
      " Best Cross val score is 52.15336834133255 which is found on cv = 4\n"
     ]
    }
   ],
   "source": [
    "# finding the best cv\n",
    "\n",
    "cv=0\n",
    "for i in range(2,20):\n",
    "    cv_score=cross_val_score(mod,x,y,cv=i).mean()\n",
    "    if cv_score>cv:\n",
    "        cv=cv_score\n",
    "        best_cv=i\n",
    "        \n",
    "print(f\" Best Cross val score is {cv*100} which is found on cv = {best_cv}\")"
   ]
  },
  {
   "cell_type": "markdown",
   "metadata": {},
   "source": [
    "# Finding The Best Model"
   ]
  },
  {
   "cell_type": "code",
   "execution_count": 88,
   "metadata": {},
   "outputs": [],
   "source": [
    "mod_list=[DecisionTreeClassifier(),SVC(),KNeighborsClassifier(),RandomForestClassifier(),\n",
    "         AdaBoostClassifier(),GradientBoostingClassifier(),SGDClassifier()]"
   ]
  },
  {
   "cell_type": "code",
   "execution_count": 89,
   "metadata": {},
   "outputs": [
    {
     "name": "stdout",
     "output_type": "stream",
     "text": [
      "DecisionTreeClassifier()\n",
      "Training score 89.009009009009\n",
      "Accuracy score: 49.696151249155974\n",
      "Cross val score: 51.76452911898842\n",
      "[[452 228  31   7]\n",
      " [274 265  62  12]\n",
      " [ 37  56  14   2]\n",
      " [ 19   7  10   5]]\n",
      "              precision    recall  f1-score   support\n",
      "\n",
      "           0       0.58      0.63      0.60       718\n",
      "           1       0.48      0.43      0.45       613\n",
      "           2       0.12      0.13      0.12       109\n",
      "           3       0.19      0.12      0.15        41\n",
      "\n",
      "    accuracy                           0.50      1481\n",
      "   macro avg       0.34      0.33      0.33      1481\n",
      "weighted avg       0.49      0.50      0.49      1481\n",
      "\n",
      "*****************************************************************************************\n",
      "SVC()\n",
      "Training score 61.95945945945947\n",
      "Accuracy score: 60.76975016880486\n",
      "Cross val score: 59.8041991573046\n",
      "[[553 165   0   0]\n",
      " [266 347   0   0]\n",
      " [ 40  69   0   0]\n",
      " [ 20  21   0   0]]\n",
      "              precision    recall  f1-score   support\n",
      "\n",
      "           0       0.63      0.77      0.69       718\n",
      "           1       0.58      0.57      0.57       613\n",
      "           2       0.00      0.00      0.00       109\n",
      "           3       0.00      0.00      0.00        41\n",
      "\n",
      "    accuracy                           0.61      1481\n",
      "   macro avg       0.30      0.33      0.32      1481\n",
      "weighted avg       0.54      0.61      0.57      1481\n",
      "\n",
      "*****************************************************************************************\n",
      "KNeighborsClassifier()\n",
      "Training score 68.76126126126127\n",
      "Accuracy score: 56.11073598919649\n",
      "Cross val score: 56.41058185905029\n",
      "[[508 198   8   4]\n",
      " [288 317   8   0]\n",
      " [ 46  58   4   1]\n",
      " [ 21  15   3   2]]\n",
      "              precision    recall  f1-score   support\n",
      "\n",
      "           0       0.59      0.71      0.64       718\n",
      "           1       0.54      0.52      0.53       613\n",
      "           2       0.17      0.04      0.06       109\n",
      "           3       0.29      0.05      0.08        41\n",
      "\n",
      "    accuracy                           0.56      1481\n",
      "   macro avg       0.40      0.33      0.33      1481\n",
      "weighted avg       0.53      0.56      0.54      1481\n",
      "\n",
      "*****************************************************************************************\n",
      "RandomForestClassifier()\n",
      "Training score 88.98648648648648\n",
      "Accuracy score: 54.01755570560432\n",
      "Cross val score: 53.84365873873405\n",
      "[[450 232  24  12]\n",
      " [244 327  34   8]\n",
      " [ 31  59  17   2]\n",
      " [ 17  11   7   6]]\n",
      "              precision    recall  f1-score   support\n",
      "\n",
      "           0       0.61      0.63      0.62       718\n",
      "           1       0.52      0.53      0.53       613\n",
      "           2       0.21      0.16      0.18       109\n",
      "           3       0.21      0.15      0.17        41\n",
      "\n",
      "    accuracy                           0.54      1481\n",
      "   macro avg       0.39      0.37      0.37      1481\n",
      "weighted avg       0.53      0.54      0.53      1481\n",
      "\n",
      "*****************************************************************************************\n",
      "AdaBoostClassifier()\n",
      "Training score 57.0945945945946\n",
      "Accuracy score: 58.13639432815665\n",
      "Cross val score: 56.89918898160563\n",
      "[[468 247   2   1]\n",
      " [221 390   0   2]\n",
      " [ 29  78   2   0]\n",
      " [ 14  26   0   1]]\n",
      "              precision    recall  f1-score   support\n",
      "\n",
      "           0       0.64      0.65      0.65       718\n",
      "           1       0.53      0.64      0.58       613\n",
      "           2       0.50      0.02      0.04       109\n",
      "           3       0.25      0.02      0.04        41\n",
      "\n",
      "    accuracy                           0.58      1481\n",
      "   macro avg       0.48      0.33      0.33      1481\n",
      "weighted avg       0.57      0.58      0.56      1481\n",
      "\n",
      "*****************************************************************************************\n",
      "GradientBoostingClassifier()\n",
      "Training score 63.94144144144144\n",
      "Accuracy score: 61.174881836596896\n",
      "Cross val score: 60.04052922313203\n",
      "[[536 174   6   2]\n",
      " [243 363   5   2]\n",
      " [ 27  78   4   0]\n",
      " [  8  25   5   3]]\n",
      "              precision    recall  f1-score   support\n",
      "\n",
      "           0       0.66      0.75      0.70       718\n",
      "           1       0.57      0.59      0.58       613\n",
      "           2       0.20      0.04      0.06       109\n",
      "           3       0.43      0.07      0.12        41\n",
      "\n",
      "    accuracy                           0.61      1481\n",
      "   macro avg       0.46      0.36      0.37      1481\n",
      "weighted avg       0.58      0.61      0.59      1481\n",
      "\n",
      "*****************************************************************************************\n",
      "SGDClassifier()\n",
      "Training score 57.117117117117125\n",
      "Accuracy score: 57.528696826468604\n",
      "Cross val score: 56.12272240085744\n",
      "[[497 215   4   2]\n",
      " [252 352   5   4]\n",
      " [ 29  77   3   0]\n",
      " [ 11  28   2   0]]\n",
      "              precision    recall  f1-score   support\n",
      "\n",
      "           0       0.63      0.69      0.66       718\n",
      "           1       0.52      0.57      0.55       613\n",
      "           2       0.21      0.03      0.05       109\n",
      "           3       0.00      0.00      0.00        41\n",
      "\n",
      "    accuracy                           0.58      1481\n",
      "   macro avg       0.34      0.32      0.31      1481\n",
      "weighted avg       0.54      0.58      0.55      1481\n",
      "\n",
      "*****************************************************************************************\n"
     ]
    }
   ],
   "source": [
    "for mod in mod_list:\n",
    "    print(mod)\n",
    "    mod.fit(x_train,y_train)\n",
    "    y_pred=mod.predict(x_test)\n",
    "    print('Training score',mod.score(x_train,y_train)*100)\n",
    "    mod_acc=accuracy_score(y_test,y_pred)\n",
    "    print('Accuracy score:',mod_acc*100)\n",
    "    cv_score=cross_val_score(mod,x,y,cv=i).mean()\n",
    "    print('Cross val score:',cv_score*100)\n",
    "    print(confusion_matrix(y_test,y_pred))\n",
    "    print(classification_report(y_test,y_pred))\n",
    "    print('*****************************************************************************************')"
   ]
  },
  {
   "cell_type": "markdown",
   "metadata": {},
   "source": [
    "### Observations:\n",
    "        - From above it is evident that Gradient Boosting Classifier is performing better.\n",
    "        - Lets's perform hyperparameter tuning on Gradient Boosting Classifier model."
   ]
  },
  {
   "cell_type": "code",
   "execution_count": 90,
   "metadata": {},
   "outputs": [
    {
     "name": "stdout",
     "output_type": "stream",
     "text": [
      "Training score 63.94144144144144\n",
      "Accuracy score: 61.10735989196488\n",
      "Cross val score: 60.04052922313203\n",
      "[[535 175   6   2]\n",
      " [243 363   5   2]\n",
      " [ 27  78   4   0]\n",
      " [  8  25   5   3]]\n",
      "              precision    recall  f1-score   support\n",
      "\n",
      "           0       0.66      0.75      0.70       718\n",
      "           1       0.57      0.59      0.58       613\n",
      "           2       0.20      0.04      0.06       109\n",
      "           3       0.43      0.07      0.12        41\n",
      "\n",
      "    accuracy                           0.61      1481\n",
      "   macro avg       0.46      0.36      0.37      1481\n",
      "weighted avg       0.58      0.61      0.59      1481\n",
      "\n"
     ]
    }
   ],
   "source": [
    "gbc=GradientBoostingClassifier()\n",
    "gbc.fit(x_train,y_train)\n",
    "y_pred=gbc.predict(x_test)\n",
    "print('Training score',gbc.score(x_train,y_train)*100)\n",
    "mod_acc=accuracy_score(y_test,y_pred)\n",
    "print('Accuracy score:',mod_acc*100)\n",
    "cv_score=cross_val_score(gbc,x,y,cv=i).mean()\n",
    "print('Cross val score:',cv_score*100)\n",
    "print(confusion_matrix(y_test,y_pred))\n",
    "print(classification_report(y_test,y_pred))"
   ]
  },
  {
   "cell_type": "markdown",
   "metadata": {},
   "source": [
    "## Hyper-parameter Tuning"
   ]
  },
  {
   "cell_type": "code",
   "execution_count": 91,
   "metadata": {},
   "outputs": [],
   "source": [
    "parameter = {\n",
    "    'loss':['deviance','exponential'],\n",
    "#     'criterion':['friedman_mse','mse','mae'],\n",
    "    'max_features':['auto','sqrt','log2'],\n",
    "    'warm_start':[True,False]\n",
    "}"
   ]
  },
  {
   "cell_type": "code",
   "execution_count": 92,
   "metadata": {},
   "outputs": [
    {
     "data": {
      "text/plain": [
       "GridSearchCV(cv=4, estimator=GradientBoostingClassifier(),\n",
       "             param_grid={'loss': ['deviance', 'exponential'],\n",
       "                         'max_features': ['auto', 'sqrt', 'log2'],\n",
       "                         'warm_start': [True, False]},\n",
       "             scoring='accuracy')"
      ]
     },
     "execution_count": 92,
     "metadata": {},
     "output_type": "execute_result"
    }
   ],
   "source": [
    "gscv=GridSearchCV(gbc,parameter,scoring='accuracy',cv=best_cv)\n",
    "gscv.fit(x_train,y_train)"
   ]
  },
  {
   "cell_type": "code",
   "execution_count": 93,
   "metadata": {},
   "outputs": [
    {
     "data": {
      "text/plain": [
       "{'loss': 'deviance', 'max_features': 'log2', 'warm_start': True}"
      ]
     },
     "execution_count": 93,
     "metadata": {},
     "output_type": "execute_result"
    }
   ],
   "source": [
    "gscv.best_params_"
   ]
  },
  {
   "cell_type": "code",
   "execution_count": 94,
   "metadata": {},
   "outputs": [
    {
     "name": "stdout",
     "output_type": "stream",
     "text": [
      "Training score 63.17567567567568\n",
      "Accuracy score: 60.97231600270088\n",
      "Cross val score: 59.854914927685286\n",
      "[[537 174   7   0]\n",
      " [245 364   4   0]\n",
      " [ 29  78   2   0]\n",
      " [ 11  27   3   0]]\n",
      "              precision    recall  f1-score   support\n",
      "\n",
      "           0       0.65      0.75      0.70       718\n",
      "           1       0.57      0.59      0.58       613\n",
      "           2       0.12      0.02      0.03       109\n",
      "           3       0.00      0.00      0.00        41\n",
      "\n",
      "    accuracy                           0.61      1481\n",
      "   macro avg       0.34      0.34      0.33      1481\n",
      "weighted avg       0.56      0.61      0.58      1481\n",
      "\n"
     ]
    }
   ],
   "source": [
    "gbc=GradientBoostingClassifier(loss='deviance',max_features='log2',warm_start=True)\n",
    "gbc.fit(x_train,y_train)\n",
    "y_pred=gbc.predict(x_test)\n",
    "print('Training score',gbc.score(x_train,y_train)*100)\n",
    "mod_acc=accuracy_score(y_test,y_pred)\n",
    "print('Accuracy score:',mod_acc*100)\n",
    "cv_score=cross_val_score(gbc,x,y,cv=i).mean()\n",
    "print('Cross val score:',cv_score*100)\n",
    "print(confusion_matrix(y_test,y_pred))\n",
    "print(classification_report(y_test,y_pred))"
   ]
  },
  {
   "cell_type": "code",
   "execution_count": 95,
   "metadata": {},
   "outputs": [],
   "source": [
    "import joblib"
   ]
  },
  {
   "cell_type": "code",
   "execution_count": 96,
   "metadata": {},
   "outputs": [],
   "source": [
    "# Saving the best model for production"
   ]
  },
  {
   "cell_type": "code",
   "execution_count": 97,
   "metadata": {},
   "outputs": [
    {
     "data": {
      "text/plain": [
       "['Fees_Model(Regressor).obj']"
      ]
     },
     "execution_count": 97,
     "metadata": {},
     "output_type": "execute_result"
    }
   ],
   "source": [
    "joblib.dump(gbr,'Fees_Model(Regressor).obj')"
   ]
  },
  {
   "cell_type": "code",
   "execution_count": 98,
   "metadata": {},
   "outputs": [
    {
     "data": {
      "text/plain": [
       "['Fees_Model(Classifier).obj']"
      ]
     },
     "execution_count": 98,
     "metadata": {},
     "output_type": "execute_result"
    }
   ],
   "source": [
    "joblib.dump(gbc,'Fees_Model(Classifier).obj')"
   ]
  },
  {
   "cell_type": "markdown",
   "metadata": {},
   "source": [
    "## Let's Consider Test Dataset"
   ]
  },
  {
   "cell_type": "code",
   "execution_count": 99,
   "metadata": {},
   "outputs": [
    {
     "data": {
      "text/html": [
       "<div>\n",
       "<style scoped>\n",
       "    .dataframe tbody tr th:only-of-type {\n",
       "        vertical-align: middle;\n",
       "    }\n",
       "\n",
       "    .dataframe tbody tr th {\n",
       "        vertical-align: top;\n",
       "    }\n",
       "\n",
       "    .dataframe thead th {\n",
       "        text-align: right;\n",
       "    }\n",
       "</style>\n",
       "<table border=\"1\" class=\"dataframe\">\n",
       "  <thead>\n",
       "    <tr style=\"text-align: right;\">\n",
       "      <th></th>\n",
       "      <th>Qualification</th>\n",
       "      <th>Experience</th>\n",
       "      <th>Rating</th>\n",
       "      <th>Place</th>\n",
       "      <th>Profile</th>\n",
       "      <th>Miscellaneous_Info</th>\n",
       "    </tr>\n",
       "  </thead>\n",
       "  <tbody>\n",
       "    <tr>\n",
       "      <th>0</th>\n",
       "      <td>MBBS</td>\n",
       "      <td>35 years experience</td>\n",
       "      <td>NaN</td>\n",
       "      <td>Ghatkopar East, Mumbai</td>\n",
       "      <td>General Medicine</td>\n",
       "      <td>NaN</td>\n",
       "    </tr>\n",
       "    <tr>\n",
       "      <th>1</th>\n",
       "      <td>MBBS, Diploma in Otorhinolaryngology (DLO)</td>\n",
       "      <td>31 years experience</td>\n",
       "      <td>NaN</td>\n",
       "      <td>West Marredpally, Hyderabad</td>\n",
       "      <td>ENT Specialist</td>\n",
       "      <td>NaN</td>\n",
       "    </tr>\n",
       "    <tr>\n",
       "      <th>2</th>\n",
       "      <td>MBBS, DDVL</td>\n",
       "      <td>40 years experience</td>\n",
       "      <td>70%</td>\n",
       "      <td>KK Nagar, Chennai</td>\n",
       "      <td>Dermatologists</td>\n",
       "      <td>70% 4 Feedback KK Nagar, Chennai</td>\n",
       "    </tr>\n",
       "    <tr>\n",
       "      <th>3</th>\n",
       "      <td>BAMS</td>\n",
       "      <td>0 years experience</td>\n",
       "      <td>NaN</td>\n",
       "      <td>New Ashok Nagar, Delhi</td>\n",
       "      <td>Ayurveda</td>\n",
       "      <td>NaN</td>\n",
       "    </tr>\n",
       "    <tr>\n",
       "      <th>4</th>\n",
       "      <td>BDS, MDS - Conservative Dentistry &amp; Endodontics</td>\n",
       "      <td>16 years experience</td>\n",
       "      <td>100%</td>\n",
       "      <td>Kanakpura Road, Bangalore</td>\n",
       "      <td>Dentist</td>\n",
       "      <td>General Dentistry Conservative Dentistry Cosme...</td>\n",
       "    </tr>\n",
       "    <tr>\n",
       "      <th>...</th>\n",
       "      <td>...</td>\n",
       "      <td>...</td>\n",
       "      <td>...</td>\n",
       "      <td>...</td>\n",
       "      <td>...</td>\n",
       "      <td>...</td>\n",
       "    </tr>\n",
       "    <tr>\n",
       "      <th>1982</th>\n",
       "      <td>BAMS, Doctor of Medicine</td>\n",
       "      <td>10 years experience</td>\n",
       "      <td>NaN</td>\n",
       "      <td>Basavanagudi, Bangalore</td>\n",
       "      <td>Ayurveda</td>\n",
       "      <td>NaN</td>\n",
       "    </tr>\n",
       "    <tr>\n",
       "      <th>1983</th>\n",
       "      <td>MD - Dermatology , Venereology &amp; Leprosy, MBBS</td>\n",
       "      <td>4 years experience</td>\n",
       "      <td>NaN</td>\n",
       "      <td>Choolai, Chennai</td>\n",
       "      <td>Dermatologists</td>\n",
       "      <td>NaN</td>\n",
       "    </tr>\n",
       "    <tr>\n",
       "      <th>1984</th>\n",
       "      <td>MBBS, MD / MS - Obstetrics &amp; Gynaecology</td>\n",
       "      <td>9 years experience</td>\n",
       "      <td>NaN</td>\n",
       "      <td>Porur, Chennai</td>\n",
       "      <td>General Medicine</td>\n",
       "      <td>NaN</td>\n",
       "    </tr>\n",
       "    <tr>\n",
       "      <th>1985</th>\n",
       "      <td>BDS</td>\n",
       "      <td>12 years experience</td>\n",
       "      <td>98%</td>\n",
       "      <td>Arekere, Bangalore</td>\n",
       "      <td>Dentist</td>\n",
       "      <td>RCT - Root Canal Treatment Root Canal Treatmen...</td>\n",
       "    </tr>\n",
       "    <tr>\n",
       "      <th>1986</th>\n",
       "      <td>MBBS, MD - Dermatology , Venereology &amp; Leprosy</td>\n",
       "      <td>8 years experience</td>\n",
       "      <td>NaN</td>\n",
       "      <td>Pallikaranai, Chennai</td>\n",
       "      <td>Dermatologists</td>\n",
       "      <td>1 Feedback Pallikaranai, Chennai ₹500</td>\n",
       "    </tr>\n",
       "  </tbody>\n",
       "</table>\n",
       "<p>1987 rows × 6 columns</p>\n",
       "</div>"
      ],
      "text/plain": [
       "                                        Qualification           Experience  \\\n",
       "0                                                MBBS  35 years experience   \n",
       "1          MBBS, Diploma in Otorhinolaryngology (DLO)  31 years experience   \n",
       "2                                          MBBS, DDVL  40 years experience   \n",
       "3                                                BAMS   0 years experience   \n",
       "4     BDS, MDS - Conservative Dentistry & Endodontics  16 years experience   \n",
       "...                                               ...                  ...   \n",
       "1982                         BAMS, Doctor of Medicine  10 years experience   \n",
       "1983   MD - Dermatology , Venereology & Leprosy, MBBS   4 years experience   \n",
       "1984         MBBS, MD / MS - Obstetrics & Gynaecology   9 years experience   \n",
       "1985                                              BDS  12 years experience   \n",
       "1986   MBBS, MD - Dermatology , Venereology & Leprosy   8 years experience   \n",
       "\n",
       "     Rating                        Place           Profile  \\\n",
       "0       NaN       Ghatkopar East, Mumbai  General Medicine   \n",
       "1       NaN  West Marredpally, Hyderabad    ENT Specialist   \n",
       "2       70%            KK Nagar, Chennai    Dermatologists   \n",
       "3       NaN       New Ashok Nagar, Delhi          Ayurveda   \n",
       "4      100%    Kanakpura Road, Bangalore           Dentist   \n",
       "...     ...                          ...               ...   \n",
       "1982    NaN      Basavanagudi, Bangalore          Ayurveda   \n",
       "1983    NaN             Choolai, Chennai    Dermatologists   \n",
       "1984    NaN               Porur, Chennai  General Medicine   \n",
       "1985    98%           Arekere, Bangalore           Dentist   \n",
       "1986    NaN        Pallikaranai, Chennai    Dermatologists   \n",
       "\n",
       "                                     Miscellaneous_Info  \n",
       "0                                                   NaN  \n",
       "1                                                   NaN  \n",
       "2                      70% 4 Feedback KK Nagar, Chennai  \n",
       "3                                                   NaN  \n",
       "4     General Dentistry Conservative Dentistry Cosme...  \n",
       "...                                                 ...  \n",
       "1982                                                NaN  \n",
       "1983                                                NaN  \n",
       "1984                                                NaN  \n",
       "1985  RCT - Root Canal Treatment Root Canal Treatmen...  \n",
       "1986              1 Feedback Pallikaranai, Chennai ₹500  \n",
       "\n",
       "[1987 rows x 6 columns]"
      ]
     },
     "execution_count": 99,
     "metadata": {},
     "output_type": "execute_result"
    }
   ],
   "source": [
    "td"
   ]
  },
  {
   "cell_type": "code",
   "execution_count": 100,
   "metadata": {},
   "outputs": [
    {
     "data": {
      "text/plain": [
       "(1987, 6)"
      ]
     },
     "execution_count": 100,
     "metadata": {},
     "output_type": "execute_result"
    }
   ],
   "source": [
    "td.shape"
   ]
  },
  {
   "cell_type": "code",
   "execution_count": 101,
   "metadata": {},
   "outputs": [
    {
     "data": {
      "text/plain": [
       "Index(['Qualification', 'Experience', 'Rating', 'Place', 'Profile',\n",
       "       'Miscellaneous_Info'],\n",
       "      dtype='object')"
      ]
     },
     "execution_count": 101,
     "metadata": {},
     "output_type": "execute_result"
    }
   ],
   "source": [
    "td.columns"
   ]
  },
  {
   "cell_type": "code",
   "execution_count": 102,
   "metadata": {},
   "outputs": [
    {
     "data": {
      "text/plain": [
       "11"
      ]
     },
     "execution_count": 102,
     "metadata": {},
     "output_type": "execute_result"
    }
   ],
   "source": [
    "# checking any duplicate data\n",
    "td.duplicated().sum()"
   ]
  },
  {
   "cell_type": "code",
   "execution_count": 103,
   "metadata": {},
   "outputs": [],
   "source": [
    "# deleting duplocates\n",
    "td=td.drop_duplicates()"
   ]
  },
  {
   "cell_type": "code",
   "execution_count": 104,
   "metadata": {},
   "outputs": [
    {
     "name": "stdout",
     "output_type": "stream",
     "text": [
      "<class 'pandas.core.frame.DataFrame'>\n",
      "Int64Index: 1976 entries, 0 to 1986\n",
      "Data columns (total 6 columns):\n",
      " #   Column              Non-Null Count  Dtype \n",
      "---  ------              --------------  ----- \n",
      " 0   Qualification       1976 non-null   object\n",
      " 1   Experience          1976 non-null   object\n",
      " 2   Rating              897 non-null    object\n",
      " 3   Place               1975 non-null   object\n",
      " 4   Profile             1976 non-null   object\n",
      " 5   Miscellaneous_Info  1153 non-null   object\n",
      "dtypes: object(6)\n",
      "memory usage: 108.1+ KB\n"
     ]
    }
   ],
   "source": [
    "td.info()"
   ]
  },
  {
   "cell_type": "markdown",
   "metadata": {},
   "source": [
    "### Observations:\n",
    "        - All columns are in object Data-Types."
   ]
  },
  {
   "cell_type": "code",
   "execution_count": 105,
   "metadata": {},
   "outputs": [
    {
     "data": {
      "image/png": "[encoded data removed]",
      "text/plain": [
       "<Figure size 432x288 with 2 Axes>"
      ]
     },
     "metadata": {
      "needs_background": "light"
     },
     "output_type": "display_data"
    }
   ],
   "source": [
    "sns.heatmap(td.isnull())\n",
    "plt.show()"
   ]
  },
  {
   "cell_type": "markdown",
   "metadata": {},
   "source": [
    "### Observations:\n",
    "        Columns such as Rating, Place, Miscellaneous_Info has missing values."
   ]
  },
  {
   "cell_type": "markdown",
   "metadata": {},
   "source": [
    "# Data Cleaning And Handling the NaN values."
   ]
  },
  {
   "cell_type": "markdown",
   "metadata": {},
   "source": [
    "## 1. Experience column"
   ]
  },
  {
   "cell_type": "markdown",
   "metadata": {},
   "source": [
    "### Removing 'years experience' from Experience column and Converting Experience column into 'int' Data-Type."
   ]
  },
  {
   "cell_type": "code",
   "execution_count": 106,
   "metadata": {},
   "outputs": [],
   "source": [
    "td['Experience']=td['Experience'].str.replace('years experience','')"
   ]
  },
  {
   "cell_type": "code",
   "execution_count": 107,
   "metadata": {},
   "outputs": [],
   "source": [
    "td['Experience']=td['Experience'].astype(int)"
   ]
  },
  {
   "cell_type": "markdown",
   "metadata": {},
   "source": [
    "## 2. Rating column"
   ]
  },
  {
   "cell_type": "markdown",
   "metadata": {},
   "source": [
    "### Removing Special-Character (%) from Rating column and Converting Rating column into 'int' Data-Type."
   ]
  },
  {
   "cell_type": "code",
   "execution_count": 108,
   "metadata": {},
   "outputs": [],
   "source": [
    "td['Rating']=td['Rating'].str.replace('%','')"
   ]
  },
  {
   "cell_type": "code",
   "execution_count": 109,
   "metadata": {},
   "outputs": [],
   "source": [
    "td['Rating']=td['Rating'].replace(np.NaN,0)"
   ]
  },
  {
   "cell_type": "code",
   "execution_count": 110,
   "metadata": {},
   "outputs": [],
   "source": [
    "td['Rating']=td['Rating'].astype(int)"
   ]
  },
  {
   "cell_type": "code",
   "execution_count": 111,
   "metadata": {},
   "outputs": [],
   "source": [
    "td['Rating']=td['Rating'].replace(0,np.NaN)"
   ]
  },
  {
   "cell_type": "markdown",
   "metadata": {},
   "source": [
    "### Filling the NaN values in the Rating column."
   ]
  },
  {
   "cell_type": "code",
   "execution_count": 113,
   "metadata": {},
   "outputs": [
    {
     "data": {
      "image/png": "[encoded data removed]",
      "text/plain": [
       "<Figure size 432x288 with 1 Axes>"
      ]
     },
     "metadata": {
      "needs_background": "light"
     },
     "output_type": "display_data"
    }
   ],
   "source": [
    "sns.distplot(td['Rating'])\n",
    "plt.show()"
   ]
  },
  {
   "cell_type": "markdown",
   "metadata": {},
   "source": [
    "### Observations:\n",
    "        Since data is 'Not Normally Distributed', we can fill the NaN values with 'Median'."
   ]
  },
  {
   "cell_type": "code",
   "execution_count": 114,
   "metadata": {},
   "outputs": [],
   "source": [
    "td['Rating']=td['Rating'].fillna(td['Rating'].median())"
   ]
  },
  {
   "cell_type": "markdown",
   "metadata": {},
   "source": [
    "## 3. Place column"
   ]
  },
  {
   "cell_type": "markdown",
   "metadata": {},
   "source": [
    "### Place column contains 'Area' and the 'City' where the Doctor is located.\n",
    "### Let's extract 'Area' and 'City' names from Place column."
   ]
  },
  {
   "cell_type": "code",
   "execution_count": 115,
   "metadata": {},
   "outputs": [],
   "source": [
    "td['Area']=td['Place'].str.split(',').str[0]"
   ]
  },
  {
   "cell_type": "code",
   "execution_count": 116,
   "metadata": {},
   "outputs": [],
   "source": [
    "td['City']=td['Place'].str.split(',').str[1]"
   ]
  },
  {
   "cell_type": "markdown",
   "metadata": {},
   "source": [
    "### Handling the NaN Values in 'Area' & 'City' column"
   ]
  },
  {
   "cell_type": "code",
   "execution_count": 117,
   "metadata": {},
   "outputs": [
    {
     "data": {
      "text/plain": [
       "1"
      ]
     },
     "execution_count": 117,
     "metadata": {},
     "output_type": "execute_result"
    }
   ],
   "source": [
    "td['Area'].isnull().sum()"
   ]
  },
  {
   "cell_type": "code",
   "execution_count": 118,
   "metadata": {},
   "outputs": [
    {
     "data": {
      "text/plain": [
       "1"
      ]
     },
     "execution_count": 118,
     "metadata": {},
     "output_type": "execute_result"
    }
   ],
   "source": [
    "td['City'].isnull().sum()"
   ]
  },
  {
   "cell_type": "markdown",
   "metadata": {},
   "source": [
    "### Since 'Area' & 'City' column has Categorical values, we can fill the NaN values with 'most frequently repeated values' (Mode values)."
   ]
  },
  {
   "cell_type": "code",
   "execution_count": 119,
   "metadata": {},
   "outputs": [],
   "source": [
    "td['Area'].fillna(td['Area'].mode()[0],inplace=True)"
   ]
  },
  {
   "cell_type": "code",
   "execution_count": 120,
   "metadata": {},
   "outputs": [],
   "source": [
    "td['City'].fillna(td['City'].mode()[0],inplace=True)"
   ]
  },
  {
   "cell_type": "markdown",
   "metadata": {},
   "source": [
    "### Since we extracted relevant information from Place column, we can drop this column."
   ]
  },
  {
   "cell_type": "code",
   "execution_count": 121,
   "metadata": {},
   "outputs": [],
   "source": [
    "td.drop('Place',axis=1,inplace=True)"
   ]
  },
  {
   "cell_type": "markdown",
   "metadata": {},
   "source": [
    "## 4. Qualification column"
   ]
  },
  {
   "cell_type": "code",
   "execution_count": 122,
   "metadata": {},
   "outputs": [
    {
     "data": {
      "text/plain": [
       "630"
      ]
     },
     "execution_count": 122,
     "metadata": {},
     "output_type": "execute_result"
    }
   ],
   "source": [
    "len(td['Qualification'].unique())"
   ]
  },
  {
   "cell_type": "code",
   "execution_count": 123,
   "metadata": {},
   "outputs": [
    {
     "data": {
      "text/plain": [
       "array(['MBBS', 'MBBS, Diploma in Otorhinolaryngology (DLO)', 'MBBS, DDVL',\n",
       "       'BAMS', 'BDS, MDS - Conservative Dentistry & Endodontics',\n",
       "       'BDS, MDS', 'BDS, MDS - Pedodontics',\n",
       "       'MD - Ayurveda Medicine, BAMS, Yoga Teachers Training Course, M. D. IN KAYACHIKISTA',\n",
       "       'BHMS', 'BDS', 'MBBS, FCD - Diabetology', 'MBBS, DDV',\n",
       "       'MBBS, MD - Dermatology', 'MS - ENT',\n",
       "       'MBBS, Diploma in Otorhinolaryngology (DLO), MS - ENT, DNB - ENT, MNAMS (Membership of the National Academy)',\n",
       "       'BHMS, Diploma in Naturopathy & Yogic Science (DNYS), Diploma in Diet and Nutrition, Diploma in Cosmetology',\n",
       "       'MBBS, PG Diploma In Clinical Cosmetology (PGDCC)',\n",
       "       'BDS, MDS - Periodontics', 'BDS, MDS- Oral Pathology',\n",
       "       'MBBS, MD - General Medicine', 'MS - ENT, MBBS',\n",
       "       'MBBS, Diploma in Otorhinolaryngology (DLO), DNB - ENT',\n",
       "       'MBBS, MS - ENT, DNB - Otorhinolaryngology',\n",
       "       'BDS, PhD - Endodontics, MDS - Conservative Dentistry & Endodontics',\n",
       "       'BSc, LCEH', 'BAMS, MD - Ayurveda Medicine',\n",
       "       'MBBS, DGO, MD - Obstetrics & Gynaecology',\n",
       "       'BHMS, MD - Homeopathy', 'BHMS, DM - Oncology',\n",
       "       'MBBS, DNB - Dermatology, Venereology & Leprosy, DVD',\n",
       "       'MBBS, MS - Otorhinolaryngology',\n",
       "       'Fellowship in Aesthetic Medicine, MD - Dermatology',\n",
       "       'BDS, Fellowship in Oral implantlogy',\n",
       "       'MBBS, MD - Dermatology, Fellowship in Aesthetic Medicine',\n",
       "       'MBBS, MS - Ophthalmology',\n",
       "       'MDS - Conservative Dentistry & Endodontics, BDS',\n",
       "       'MBBS, MS - Otorhinolaryngology, Diploma in Otorhinolaryngology (DLO)',\n",
       "       'BAMS, PGCR',\n",
       "       'BHMS, MS - Counselling and Psychotherapy, Certificate Course in Advanced Homoeopathy (C.C.A.H)',\n",
       "       'MBBS, MS - ENT, Diploma in Otorhinolaryngology (DLO)',\n",
       "       'MBBS, FRCS - Otolaryngology, Diploma in Otorhinolaryngology (DLO), Diploma in Acupuncture',\n",
       "       'MBBS, MD - Medicine, DM - Cardiology',\n",
       "       'BDS, Post-Graduate Certificate in Oral Implantology (PGCOI), MDS - Periodontology and Oral Implantology',\n",
       "       'LCEH', 'MBBS, MS - ENT', 'MBBS, MD - Medicine',\n",
       "       'DM - Nephrology, MD - Internal Medicine, MBBS',\n",
       "       'MBBS, DDVL, FRGUHS',\n",
       "       'MBBS, Diploma in Otorhinolaryngology (DLO), FRCS - General Surgery',\n",
       "       'BDS, MDS - Oral & Maxillofacial Surgery, Fellowship in Cleft Lip & Palate, Fellowship in TMJ Surgery',\n",
       "       'MBBS, DNB - Otorhinolaryngology',\n",
       "       'Post Graduate Diploma in Diabetology (PGDD)(Madras Medical College), MBBS',\n",
       "       'Certificate in Dental Implants, MDS - Oral Medicine and Radiology, Certification in Aesthetic Dentistry, Certification in Full Mouth Rehabilitation, BDS',\n",
       "       'BDS, MDS - Orthodontics and Dentofacial Orthopaedics',\n",
       "       'MBBS, MD - Internal Medicine',\n",
       "       'MBBS, MD - General Medicine, DNB - General Medicine, Fellowship in Diabetology, DAA - Diploma in Allergy Asthma and Immunology, Certificate in Pulmonology',\n",
       "       'MD - Tuberculosis & Respiratory Diseases/Medicine, MBBS',\n",
       "       'MBBS, DDV, MD - Dermatology, Fellowship In Cosmetic Dermatology',\n",
       "       'B.Sc, MBBS, FCCP - Pulmonary Medicine',\n",
       "       'MBBS, MS - General Surgery',\n",
       "       'MBBS, MRCOG(UK), Diploma of the Faculty of Family Planning (DFFP), DRCOG, Member of the Royal College of General Practitioners UK (MRCGP), Fellowship in Diabetes (UK)',\n",
       "       'BDS, MDS - Paedodontics And Preventive Dentistry',\n",
       "       'BHMS, MS - Psychology', 'MD - General Medicine',\n",
       "       'BDS, Fellow of Academy of General Education (FAGE)',\n",
       "       'MD - Skin & VD', 'MBBS, MD - Dermatology , Venereology & Leprosy',\n",
       "       'BDS, MDS - Periodontology and Oral Implantology', 'MBBS, DNB',\n",
       "       'MDS - Orthodontics, BDS', 'BHMS, Diploma in Dermatology',\n",
       "       'MBBS, MD - Pulmonary Medicine, MD - Tuberculosis & Respiratory Diseases / Pulmonary Medicine',\n",
       "       'MDS - Prosthodontist And Crown Bridge, BDS',\n",
       "       'MBBS, Diploma in Orthopaedics',\n",
       "       'MBBS, DNB - ENT, Diploma in Otorhinolaryngology (DLO)',\n",
       "       'BDS, MDS - Prosthodontics',\n",
       "       'MD - Dermatology, MBBS, DNB - Dermatology, Venereology & Leprosy, FRGUHS',\n",
       "       'MDS - Oral & Maxillofacial Surgery, BDS',\n",
       "       'MBBS, MD - Dermatology, DDV',\n",
       "       'MBBS, Diploma in Aesthetic Medicine, DDV',\n",
       "       'MBBS, Diploma in Tuberculosis and Chest Diseases (DTCD), DNB -Chest, Post Graduate Diploma in Diabetes',\n",
       "       'BDS, MDS - Orthodontics', 'BDS, Diploma in Laser Dentistry, MDS',\n",
       "       'BDS, MDS - Oral Medicine and Radiology',\n",
       "       'MBBS, Diploma in Anesthesiology, Certificate in Acupuncture',\n",
       "       \"BAMS, Yoga Instructor's Course, Diploma in Nutrition and Health Education\",\n",
       "       'MD - Dermatology, DDV, MBBS',\n",
       "       'MBBS, DNB - Family Medicine, Fellowship in Diabetology',\n",
       "       'MBBS, MS - ENT, MRCS (UK), Diploma in Otorhinolaryngology (DLO)',\n",
       "       'DVD, MBBS', 'DDVL, MBBS', 'MBBS, MD - Obstetrics & Gynaecology',\n",
       "       'MBBS, Diploma in Dermatology',\n",
       "       'BHMS, PGDPC (Post Graduation Diploma In Psychological Counselling)',\n",
       "       'BAMS, PGD Yoga', 'MDS - Prosthodontics, BDS',\n",
       "       'BAMS, MBA - Healthcare Services', 'DNB - ENT, MD - Physician',\n",
       "       'MDS - Paedodontics And Preventive Dentistry, Membership of the Faculty of Dental Surgeons(MFDS)',\n",
       "       'MBBS, PGDHHM, PGDMLS', 'MBBS, DNB - Dermatology & Venereology',\n",
       "       'MBBS, MD - Obstetrics & Gynaecology, MRCOG(UK)',\n",
       "       'DNB - Otorhinolaryngology, MNAMS - General Surgery, MS - Otorhinolaryngology, MBBS',\n",
       "       'BDS, PhD - Orthodontics & Dentofacial Orthopaedics',\n",
       "       'MBBS, MD - Pediatrics', 'MD - Dermatology, MBBS',\n",
       "       'MBBS, MD - Internal Medicine, Post Graduate Diploma in Diabetology (PGDD)',\n",
       "       'BDS, Certificate of Oral Implantology',\n",
       "       'BDS, Doctor of Dental Surgery (DDS)',\n",
       "       'MBBS, Diploma in Dermatology, DDVL, DDV',\n",
       "       'MBBS, MD - Skin & VD, DDVL',\n",
       "       'MDS - Orthodontics and Dentofacial Orthopaedics',\n",
       "       'BHMS, Diploma in Cosmetology',\n",
       "       'MBBS, DDVL, DNB - Dermatology & Venereology, Fellowship In Dermatosurgery',\n",
       "       'BAMS, MBA - Hospital Management', 'MBBS, DDVL, MD - Dermatology',\n",
       "       'MBBS, Diploma in Otorhinolaryngology (DLO), MS - ENT',\n",
       "       'MBBS, MD - Dermatology, Fellowship In Dermatosurgery',\n",
       "       'MD - Dermatology , Venereology & Leprosy, MBBS',\n",
       "       'MDS - Oral & Maxillofacial Surgery',\n",
       "       'MBBS, MD - Dermatology, FRGUHS, Fellowship in Cosmetology',\n",
       "       'MBBS, MS - ENT, FRCS, MRCS (UK), Dip Otolaryngology and Head and neck Surgery',\n",
       "       'MBBS, DNB - General Medicine, MF- Homeopathy, MSc - Psychotherapy And Counselling, Post Graduate Diploma in Diabetology (PGDD)',\n",
       "       'MBBS, DNB - Family Medicine, CCEBDM',\n",
       "       'MBBS, Diploma in Laparoscopy, FRCS - General Surgery (Upper GI)',\n",
       "       'MBBS, DNB - General Medicine, Post Graduate Diploma in Diabetology (PGDD)',\n",
       "       'Doctor of Homeopathic Medicine (HMD)',\n",
       "       'DHMS (Diploma in Homeopathic Medicine and Surgery), Diploma in Clinical Cosmetology, Diploma in Trichology - Cosmetology',\n",
       "       'BHMS, Post Graduate Diploma in Clinical Research (PGDCR)',\n",
       "       'BHMS, Certificate in Child Health (CCH)',\n",
       "       'MDS, Advanced Certificate Course in Dental Implants, BDS',\n",
       "       'BDS, MDS - Prosthodontist And Crown Bridge',\n",
       "       'DNB - General Medicine, MBBS', 'MBBS, MNAMS- Family Medicine',\n",
       "       'MBBS, MD - Internal Medicine, FACP (USA)',\n",
       "       'MBBS, Diploma in Otorhinolaryngology (DLO), MD - Anatomy',\n",
       "       'BDS, FICD',\n",
       "       'FRCP, MRCPS, MBBS, MD - General Medicine, Diploma in Medical Law and Ethics (PGDMLE)',\n",
       "       'MBBS, MD - (Dermatology & STD)', 'MBBS, DVD, MD - Dermatology',\n",
       "       'MBBS, Diploma in Emergency Medicine',\n",
       "       'BDS, MBA, Certification in Aesthetic Dentistry',\n",
       "       'MBBS, Fellow of Academy of General Education (FAGE), MS - ENT, Fellowship in Advanced Endoscopic Sinus Surgery',\n",
       "       'BSc, DHMS (Diploma in Homeopathic Medicine and Surgery)',\n",
       "       'BHMS, Doctor of Homeopathic Medicine (HMD), MBA',\n",
       "       'MDS - Oral & Maxillofacial Surgery, Fellowship Program in Oral Implantology and LASER Dentistry, BDS',\n",
       "       'MBBS, MS - ENT, Fellowship in Head & Neck Surgery',\n",
       "       'BDS, MDS - Prosthodontist & Oral Implantologist',\n",
       "       'MD - Internal Medicine, MBBS, Diplomate from the American Board of Internal Medicine',\n",
       "       'BAMS, MD - Ayurveda Medicine, PhD- Ayurveda',\n",
       "       \"BAMS, PGD ND, Yoga Instructor's Course\",\n",
       "       'BDS, Fellowship Program in Aesthetic Dentistry and Occlusion',\n",
       "       'MBBS, Diploma in Public Health, MD - Community Medicine, Fellowship in Lifestyle Medicine',\n",
       "       'BAMS, MS - Ayurveda',\n",
       "       'Diploma in Otorhinolaryngology (DLO), Ph. D - ENT, MBBS, DNB - ENT',\n",
       "       'MDS - Orthodontics and Dentofacial Orthopaedics, BDS',\n",
       "       'MBBS, Diploma in Otorhinolaryngology (DLO), MS - Otorhinolaryngology',\n",
       "       'BSAM, BAMS, Fellow of Academy of General Education (FAGE)',\n",
       "       'MD - Homeopathy, BHMS', 'MBBS, DNB - Otorhinolaryngology, DLO',\n",
       "       'Get inspired by remarkable stories of people like you',\n",
       "       'MBBS, MD - General Medicine, Diploma in Diabetology',\n",
       "       'MD - Ayurveda Medicine',\n",
       "       'MD - Homeopathy, PG Diploma In Clinical Cosmetology (PGDCC), BHMS',\n",
       "       'DHMS (Diploma in Homeopathic Medicine and Surgery)',\n",
       "       'MD - Dermatology', 'MBBS, DDV, DNB',\n",
       "       'BDS, Post graduate diploma in Hospital Management',\n",
       "       'MBBS, Diploma in Anesthesiology',\n",
       "       'BDS, MDS - Oral & Maxillofacial Surgery, FDSRCS - Fellowship in Dental Surgery',\n",
       "       'MBBS, MD - Internal Medicine, Post Graduate Diploma in Diabetology (PGDD), DNB - General Medicine',\n",
       "       'BHMS, PG - Homeo, Integrated therapy in Cancer, Basic Course in Palliative Care',\n",
       "       'BHMS, Fellowship Course in Homoeopathic Dermatology, Masters in Counselling and Psychotherapy',\n",
       "       'MBBS, MD - Medicine, FCPS - General Surgery', 'BHMS, CSD',\n",
       "       'BHMS, MD (HOM) - Paeditrics, Fellowship Course in Homoeopathic Dermatology',\n",
       "       'M.S. (Ayurved) Stri Roga & Prasuti Tantra, BAMS',\n",
       "       'MBBS, MD - General Medicine, DNB - General Medicine',\n",
       "       'MBBS, MS - Otorhinolaryngology, Fellowship in laryngology',\n",
       "       'BDS, MDS - Prosthodontist And Crown Bridge, Certificate Course in Orthodontics',\n",
       "       'B.Sc, BAMS, MD - Ayurveda Medicine',\n",
       "       'DO, MS - Ophthalmology, MBBS', 'FRCS - General Surgery',\n",
       "       'BDS, MDS- Periodontist & Implantalogist',\n",
       "       'MBBS, MCh - Surgical Gastroenterology/G.I. Surgery',\n",
       "       'BDS, Certificate in Dental Implants',\n",
       "       'MBBS, DNB - General Medicine',\n",
       "       'MDS - Paedodontics And Preventive Dentistry, BDS',\n",
       "       'MBBS, Diploma in Tuberculosis and Chest Diseases (DTCD)',\n",
       "       'BAMS, MS - Ayurvedic General Surgery',\n",
       "       'MBBS, MD - Physician, DNB - General Medicine, Fellowship in Diabetology',\n",
       "       'MBBS, DNB - Internal Medicine',\n",
       "       'MBBS, FICA, MD - General Medicine',\n",
       "       'BDS, MDS - Periodontology and Oral Implantology, Current Concepts in American Dentistry Advances in Implantology and Oral Rehabilitation, Comprehensive Course in Modern Endodontics',\n",
       "       'MBBS, FACC, FCCP - Pulmonary Medicine', 'FWFO, FPFA',\n",
       "       'MBBS, MD - Internal Medicine, DM - Gastroenterology',\n",
       "       'MBBS, MD - General Medicine, DM - Cardiology',\n",
       "       'MBBS, DLO, MS - ENT',\n",
       "       'MS - ENT, Diploma in Otorhinolaryngology (DLO)',\n",
       "       'MBBS, Diploma in Family Medicine (DFM), Fellowship in Diabetology',\n",
       "       'BHMS, Diploma in Medical Cosmetology',\n",
       "       'MBBS, Diploma in Otorhinolaryngology (DLO), DNB - Otorhinolaryngology',\n",
       "       'MBBS, DDVL, Fellowship in Dermatological Laser Surgery, Fellowship In Cosmetic Dermatology',\n",
       "       'MBBS, MD - Family Medicine, Post Graduate Diploma in Diabetology (PGDD)',\n",
       "       'MBBS, MSc',\n",
       "       'Diploma in Otorhinolaryngology (DLO), MS - ENT, MBBS',\n",
       "       'MBBS, Diploma in Family Medicine (DFM)',\n",
       "       'MD - General Medicine, MBBS',\n",
       "       'DNB - ENT, Diploma in Otorhinolaryngology (DLO), MBBS',\n",
       "       'MBBS, MD - Dermatology, MD - Dermatology , Venereology & Leprosy',\n",
       "       'MBBS, Diploma in Child Health (DCH), DNB - Paediatrics',\n",
       "       'BSc, BHMS', 'BAMS, MD- Ayurveda Rasashastra',\n",
       "       'BAMS, PG Dip (Medical Education), Fellow of Academy of General Education (FAGE), MBA (Health Care)',\n",
       "       'MS - Otorhinolaryngology, MBBS',\n",
       "       'BAMS, MD - Alternate Medicine, Fellow of Academy of General Education (FAGE), Diploma in Preventive & Promotive Healthcare',\n",
       "       'BHMS, MD - General Medicine',\n",
       "       'MDS - Oral & Maxillofacial Surgery, Implant Training Course- Nobel Biocare, BDS',\n",
       "       'MBBS, Diploma in Dermatology, MD - Dermatology',\n",
       "       'MBBS, Certificate Course in Evidence Based Diabetes Management (CCEBDM)',\n",
       "       'DDVL', 'BHMS, DNHE', 'BAMS, Diploma in Clinical Nutrition',\n",
       "       'BHMS, MD - Alternate Medicine, Masters in Counselling and Psychotherapy',\n",
       "       'MBBS, MD - Internal Medicine, Post Graduate Diploma in Diabetology (PGDD), Fellowship in Diabetology',\n",
       "       'Diploma in Otorhinolaryngology (DLO), MBBS',\n",
       "       'MBBS, DNB - ENT, MS - ENT, FCPS - Oto-Rhino-Laryngology, Diploma in Otorhinolaryngology (DLO)',\n",
       "       'BDS, MDS - Paedodontics And Preventive Dentistry, Certification for Professional Chemical Peel Workshop',\n",
       "       'BHMS, Diploma in Cosmetology, MD - Dermatology',\n",
       "       'BAMS, M. D. IN KAYACHIKISTA', 'MBBS, MD - Pharmacology',\n",
       "       'MBBS, Fellowship of College of General Practice (FCGP)',\n",
       "       'MDS - Periodontology and Oral Implantology, BDS',\n",
       "       'MD - Homeopathy, PGDPC (Post Graduation Diploma In Psychological Counselling)',\n",
       "       'MBBS, DNB - Family Medicine',\n",
       "       'MBBS, MS - ENT, Diploma in Aesthetic Medicine',\n",
       "       'BDS, Post-Graduate Certificate in Oral Implantology (PGCOI)',\n",
       "       'BDS, MDS - Oral & Maxillofacial Surgery',\n",
       "       'MDS - Prosthodontist And Crown Bridge',\n",
       "       'MD - Homeopathy, BHMS, DNHE',\n",
       "       'MBBS, MD - Dermatology, Fellow of the American Academy of Dermatology (FAAD)',\n",
       "       'BAMS, MBA (HCS)', 'MBBS, DVD',\n",
       "       'MBBS, Diploma in Anesthesiology, Postgraduate Diploma Clinical Cardiology (PGDCC)',\n",
       "       'BHMS, MD - Ayurveda Medicine',\n",
       "       'MBBS, MASTERS IN MEDICAL SCIENCE AND TECHNOLOGY',\n",
       "       'DNB - Dermatology & Venereology, MBBS',\n",
       "       'BDS, MDS-Oral Pathology and Oral Microbiology',\n",
       "       'MBBS, MS - ENT, DNB',\n",
       "       'MBBS, Post Graduate Diploma in Diabetes, Fellowship in Diabetology',\n",
       "       'MD - Homeopathy, DHMS (Diploma in Homeopathic Medicine and Surgery)',\n",
       "       'MBBS, MS - ENT, DNB - ENT',\n",
       "       'MBBS, DDV, Diploma in Health Administration',\n",
       "       'BDS, Advanced Certificate Course in Dental Implants',\n",
       "       'MBBS, Diploma in Otorhinolaryngology (DLO), Fellow of Academy of General Education (FAGE), FRCS - General Surgery',\n",
       "       'BDS, MDS - Periodontics, Fellowship and Diplomate in Implantology from ICOI (USA), DICOI',\n",
       "       'MD - Dermatology , Venereology & Leprosy', 'BHMS, PGDHA',\n",
       "       'MBBS, MD - General Medicine, MRCP - General Medicine',\n",
       "       'BDS, MDS - Periodontics, MSc',\n",
       "       'BDS, Certification in Aesthetic Dentistry',\n",
       "       'MBBS, MD - Homeopathy, MD - General Medicine',\n",
       "       'MDS - Pedodontics, BDS',\n",
       "       'MBBS, MD - Dermatology, DNB - Dermatology & Venereology, F.C.P.S (Dermatology)',\n",
       "       'MD - Homeopathy',\n",
       "       'BDS, MDS - Oral & Maxillofacial Surgery, Training in Surgical Oncology',\n",
       "       'MBBS, MD - General Medicine, FCD - Diabetology',\n",
       "       'MBBS, Post Graduate Course in Diabetology, DipFM',\n",
       "       'Diploma in Child Health (DCH), MBBS',\n",
       "       'MD - General Medicine, DNB, Diploma in Geriatric Medicine',\n",
       "       'BAMS, Certificate Course in Kshar Sutra Surgery',\n",
       "       'MBBS, DORL (ENT), MS - ENT', 'MBBS, MD - Dermatology, DNB',\n",
       "       'MBBS, MD - General Medicine, Diploma in Cardiology',\n",
       "       'MBBS, MD - Oncology',\n",
       "       'BHMS, MD - Homeopathy, MA - Clinical Psychology',\n",
       "       'Diploma in Dermatology, MD - Dermatology',\n",
       "       'MBBS, PG in Diabetology, FCCP',\n",
       "       'MBBS, Diploma in Child Health (DCH), Diploma of The Australian Institute of Dermatology, PG Diploma in Endocrinology',\n",
       "       'MBBS, MD - Medicine, DM - Cardiology, FACC, FESC',\n",
       "       'BSc - Dietitics / Nutrition, MBBS, Diploma in Child Health (DCH)',\n",
       "       'MBBS, Diploma in Tuberculosis and Chest Diseases (DTCD), DNB - General Medicine',\n",
       "       'BHMS, MSc', 'MBBS, MD - General Medicine, CCEDM',\n",
       "       'BDS, MDS, Fellowship in Oral implantlogy',\n",
       "       'MBBS, MD - General Medicine, DM - Cardiology, FIAMS',\n",
       "       'BAMS, Certificate in Food and Nutrition, Diploma in Dietatics & Clinical Nutrition',\n",
       "       'MBBS, DNB - General Medicine, Fellowship in Diabetology(Johns Hopkins University School of Medicine, USA)',\n",
       "       'DDVL, Diploma in Dermatology',\n",
       "       'Diploma in Hospital Administration, BAMS',\n",
       "       'BAMS, MS - Ayurveda, Certificate in Child Health (CCH)',\n",
       "       'MBBS, MD - Internal Medicine, DNB - General Medicine, Post Graduate Diploma in Diabetology (PGDD)',\n",
       "       'MBBS, DDVL, Fellowship in Cosmetology and Dermatosurgery, Fellowship in Aesthetic Medicine',\n",
       "       'MBBS, MS - General Surgery, MS - Paediatrics Surgery',\n",
       "       'MBBS, MD - Dermatology, DVL - Dermatology & Venereology',\n",
       "       'MBBS, Post Graduate Course in Diabetology, FCPS - General Surgery',\n",
       "       'DMS, MD - Homeopathy', 'MDS, BDS', 'MDS - Pedodontics',\n",
       "       'BAMS, BSAM, MS - Counselling & Psychotherapy',\n",
       "       'MBBS, Advanced Certificate Course In Diabetes, PG in Diabetology, Post Graduate Diploma in Diabetology (PGDD)(University of Leicester, UK)',\n",
       "       'B.Sc, MBBS, MD - General Medicine, Master of Clinical Embryology, Diploma of Clinical Hypnotherapy',\n",
       "       'BDS, B.Sc - Zoology (Hons.)',\n",
       "       'MBBS, Fellowship in Diabetology, Diploma in Emergency Medicine',\n",
       "       'MBBS, PGD ND',\n",
       "       'DHMS (Diploma in Homeopathic Medicine and Surgery), MD - Homeopathy',\n",
       "       'MBBS, MD - Skin & VD',\n",
       "       'BHMS, Certificate Course in Advanced Homoeopathy (C.C.A.H), Post Graduate Diploma in Emergency Medical Services',\n",
       "       'BHMS, PG - Homeo',\n",
       "       'MBBS, DDV, FCPS - Dermatology, Venereology & Leprosy',\n",
       "       'B.Sc, BHMS, Certificate in Food and Nutrition, Certificate Course in Advanced Homoeopathy (C.C.A.H)',\n",
       "       'MBBS, MD - General Medicine, DNB - Nephrology',\n",
       "       'MBBS, MD - Dermatology, MNAMS - DERMATOLOGY, Diploma in Dermatology',\n",
       "       'MBBS, MD - Family Medicine',\n",
       "       'BAMS, Post Graduate Diploma in Emergency Services (PGDEMS), MS - Psychology',\n",
       "       'BHMS, CGO', 'MBBS, Post Graduate Diploma in Diabetology (PGDD)',\n",
       "       'MBBS, MD - General Medicine, DDV',\n",
       "       'MBBS, Fellowship in Emergency Medicine, Post Graduate Diploma in Diabetology (PGDD)(Madras Medical College), PG Diploma in Endocrinology',\n",
       "       'BDS, Professional Implantology Training Course (PITC), Advanced Surgical Training In Implants, Certification in Full Mouth Rehabilitation',\n",
       "       'MS - ENT, DNB - ENT',\n",
       "       'MBBS, MS - General Surgery, MCh - Neuro Surgery',\n",
       "       'MS - Otorhinolaryngology, DNB - Otorhinolaryngology, FCPS - Mid. & Gynae, MBBS',\n",
       "       'MBBS, Post Graduate Diploma in Diabetology (PGDD), MD - General Medicine',\n",
       "       'DNB - Family Medicine, MBBS, DHM',\n",
       "       'MBBS, Diploma in Child Health (DCH)',\n",
       "       'MDS - Operative Dentistry, BDS',\n",
       "       'BDS, Post Graduate Diploma In Aesthetic & Restorative Dentistry',\n",
       "       'MBBS, DDV, MD - Skin & VD',\n",
       "       'MBBS, DNB - ENT, DNB - Otorhinolaryngology',\n",
       "       'MBBS, MS - ENT, MCh - Oncology',\n",
       "       'MD - General Medicine, FRCP, FIAMS, MBBS',\n",
       "       'BDS, Diploma in Hospital Administration', 'MBBS, DM - Neurology',\n",
       "       'MS - ENT, DNB - ENT, MBBS',\n",
       "       'MBBS, MS - Otorhinolaryngology, MS - ENT, Fellowship in Rhinology and Endoscopic Skull Base Surgery, Fellowship in Head & Neck Surgery',\n",
       "       'MBBS, DDV, MD - Skin,VD & Leprosy',\n",
       "       'Post Graduate Certificate in Endodontics (PGCE), BDS',\n",
       "       'MBBS, D.D, MD - Dermatology',\n",
       "       'MBBS, MD - Dermatology, PhD - Dermatology & Venereology', 'BSAM',\n",
       "       'MBBS, MD - Dermatology, Fellowship in Dermatological Laser Surgery',\n",
       "       'MBBS, MD - Microbiology',\n",
       "       'BAMS, PG in Clinical Nutrition and Dietetics',\n",
       "       'MD-DVL, MBBS, DNB - Dermatology & Venereology',\n",
       "       'MBBS, MS - General Surgery, Diploma in Otorhinolaryngology (DLO)',\n",
       "       'MBBS, DNB - Obstetrics & Gynecology',\n",
       "       'MBBS, Diploma of the Faculty of Family Planning (DFFP), Diploma in Practical Dermatology, MRCGP',\n",
       "       'MBBS, DDV, Fellow of Academy of General Education (FAGE)',\n",
       "       'MBBS, Diploma in Cosmetology',\n",
       "       'MS - ENT, MBBS, DNB - Otorhinolaryngology', 'MS - Ayurveda, BAMS',\n",
       "       'MBBS, DDVL, Certificate of Completion of Specialist Training- Transplant Surgery (CCST-TS)',\n",
       "       'MBBS, MD - General Medicine, DM - Cardiology, Fellowship In Interventional Cardiology',\n",
       "       'MBBS, DNB - Dermatology & Venereology, Fellow of the American Academy of Dermatology (FAAD), DVD',\n",
       "       'MBBS, Fellowship in Diabetology', 'BAMS, MS - Psychology',\n",
       "       'MBBS, MS - MS.Medicine',\n",
       "       'MBBS, MD - Dermatology, Diploma in Medical Law and Ethics (PGDMLE), Diploma in Medical Cosmetology',\n",
       "       'MBBS, MD - Dermatology , Venereology & Leprosy, FRGUHS',\n",
       "       'MBBS, Diploma in Otorhinolaryngology (DLO), FAMS - Fellowship of the Academy Medicine',\n",
       "       'BDS, MDS - Prosthodontist & Oral Implantologist, Fellowship in Oral implantlogy',\n",
       "       'Diploma in Otorhinolaryngology (DLO), MBBS, DNB',\n",
       "       'BHMS, Post Graduate Diploma in Emergency Services (PGDEMS), PGDPC (Post Graduation Diploma In Psychological Counselling)',\n",
       "       'MBBS, DDV, DDVL', 'MBBS, MS - Orthopaedics',\n",
       "       'BDS, MDS - Endodontics',\n",
       "       'MBBS, Post Graduate Diploma in Maternity and Child Health (PGDMCH)',\n",
       "       'B.Sc, MSc, MBBS', 'BDS, Master of Public Health (MPH)',\n",
       "       'BHMS, Diploma in Nutrition and Health Education', 'MBBS, DGO',\n",
       "       'MBBS, Fellowship in Nephrology', 'MBBS, Diploma in Diabetology',\n",
       "       'BAMS, Post Graduate Diploma in Clinical Research (PGDCR)',\n",
       "       'BDS, Certificate Course in Implantology',\n",
       "       'BDS, Diploma in Health Administration', 'BDS, MBA (Health Care)',\n",
       "       'Diploma in Aesthetic Medicine, Certificate in Aesthetic Medicine, Diploma in Practical Dermatology, MBBS',\n",
       "       'MDS - Paedodontics And Preventive Dentistry, BDS, Certified in Inhalational Sedation',\n",
       "       'BHMS, PG Diploma in Preventive and Promotive Health Care (PGD PPHC), MSc. - Food Service Management & Dietetics, Certificate in Yoga & Meditation',\n",
       "       'MBBS, MD - Physiology, AFIH, Diploma in Diabetes Management Certificate Program',\n",
       "       'MBBS, MD - General Medicine, Post Graduate Diploma in Diabetology (PGDD), Post Graduate Diploma in Diabetology (PGDD)',\n",
       "       'MD - Ayurveda Medicine, BAMS',\n",
       "       'MBBS, DVD, DNB - Dermatology & Venereology',\n",
       "       'BDS, Certificate in Dental Implants, Certificate in Cosmetic Dentistry',\n",
       "       'MBBS, DDVL, DNB - Dermatology & Venereology, MNAMS (Membership of the National Academy)',\n",
       "       'BAMS, Post Graduate Diploma in Psychological Counseling',\n",
       "       'Diploma in Dermatology', 'BDS, MDS - Public Health Dentistry',\n",
       "       'MD - Dermatology , Venereology & Leprosy, DNB - Dermatology & Venereology',\n",
       "       'MBBS, DDVL, Certificate in Cosmetology',\n",
       "       'BHMS, PG - Homeo, Diploma in Diet and Nutrition', 'MBBS, DOMS',\n",
       "       'MS - Otorhinolaryngology, DNB - ENT, MBBS',\n",
       "       'BSc - Zoology, MBBS, Diploma in ENT, MS - ENT',\n",
       "       'MBBS, Diploma in Clinical Dermatology (UK)',\n",
       "       'Diploma in Ayurvedic Medicine (DAM)',\n",
       "       'MBBS, M.Med in Family Medicine, post graduate diploma in health Sciences in diabetology',\n",
       "       'MBBS, MS - ENT, Diploma in ENT',\n",
       "       'MBBS, Post Graduate Diploma in Dermotology (PGDD)',\n",
       "       'BAMS, MD - Alternate Medicine, Post Graduate Diploma in Clinical Research (PGDCR), Certificate in Aesthetic Medicine, Yoga Teachers Training Course, Certified in Ayurveda Approach to Diabetes mellitus, Certified in Ayurveda Beauty care',\n",
       "       'MBBS, DNB, DDVL', 'BAMS, PG Diploma in Panchakarma',\n",
       "       'MBBS, DNB, Master of Hospital Administration',\n",
       "       'BHMS, MD - Medicine',\n",
       "       'MBBS, DNB - Respiratory Diseases, FCCP - Pulmonary Medicine, DAA - Diploma in Allergy Asthma and Immunology, P.G Diploma in Diabetes Management, Fellowship in Clinical Cardiology',\n",
       "       'MBBS, MD - Dermatology, Diploma in Aesthetic Medicine, Diploma in International Academy of Aesthestic Medicine',\n",
       "       'MBBS, MD - Dermatology , Venereology & Leprosy, DNB - Dermatology & Venereology',\n",
       "       'MBBS, MS - General Surgery, DNB, FRCS - General Surgery, MCh - Surgical Gastroenterology/G.I. Surgery',\n",
       "       'BPTh/BPT, Masters Of Physiotheraphy, BAMS',\n",
       "       'MBBS, MD - Dermatology, Diploma in Dermatology',\n",
       "       'MBBS, MRCGP, Diploma in Child Health (DCH), DRCOG, Diploma of the Faculty of Family Planning (DFFP)',\n",
       "       'BDS, MDS - Operative Dentistry',\n",
       "       'MBBS, MD - Dermatology, Fellow of Academy of General Education (FAGE)',\n",
       "       'MBBS, MD - Dermatology, FRGUHS',\n",
       "       'BAMS, Diploma in Hospital Management',\n",
       "       'DDVL, MD - Dermatology , Venereology & Leprosy',\n",
       "       'BDS, Certificate in Orthodontics',\n",
       "       'MD - General Medicine, DNB - General Medicine, MBBS, European Diploma in Intensive Care Medicine (EDIC), Fellowship in Diabetology',\n",
       "       'MBBS, MD - TB & Chest',\n",
       "       'MBBS, DDVL, DNB - Dermatology & Venereology',\n",
       "       'MBBS, FRCS - Otolaryngology', 'BDS, MDS - Oral Medicine',\n",
       "       'MBBS, Diploma in Orthopaedics, MS - Orthopaedics',\n",
       "       'MD - Homeopathy, Diploma in Acupuncture',\n",
       "       'BDS, Fellowship in Aesthetic Medicine', 'MBBS, MD - Physician',\n",
       "       'MBBS, MD - General Medicine, Post Graduate Diploma in Diabetology (PGDD), Fellowship In Critical Care, Fellowship in Rheumatology',\n",
       "       'BDS, Fellowship in Oral implantlogy, Diploma in Laser Dentistry, Fellowship and Diplomate in Implantology from ICOI (USA)',\n",
       "       'MBBS, MD - Skin,VD & Leprosy',\n",
       "       'BAMS, Diploma in Emergency Medicine',\n",
       "       'BDS, PG Diploma in Conservative, Endodontics and Aesthetic Dentistry, Fellowship In Clinical Cosmetology, PG Diploma In Clinical Cosmetology (PGDCC), MBA - Hospital Management, Diploma in Cosmetic Dentistry, Fellow of Academy of General Education (FAGE), Advanced Retreatment Course in RCT, Advanced Endotontic Course On Root Canal, Certified Course in Oral Surgery, MIDA, Certification in Prosthodontics & Periodontology, Certified Advanced Course in Wisdom Tooth Extraction, Certificate in Cosmetic Dentistry, Fellowship in Aesthetic Dentistry (FAD), Post Graduate Certificate in Endodontics (PGCE)',\n",
       "       'FAMS - Fellowship of the Academy Medicine, MBBS, MS - ENT, Diploma in ENT, Specialized Training in Otology, Fellowship in Head & Neck Oncology Surgery, Advanced Endoscopy Training, Cochlear Implant Surgery, Advance Course on Diagnosis of Allergy and Immunotherapy',\n",
       "       'BDS, MDS - Conservative Dentistry & Endodontics, MD - Dental Laser',\n",
       "       'BHMS, MD - Homeopathy, MS - Counselling and Psychotherapy',\n",
       "       'BAMS, Fellowship in Medical Cosmetology',\n",
       "       'MDS - Periodontics, BDS, MDS',\n",
       "       'MBBS, MD - General Medicine, DM - Gastroenterology',\n",
       "       'MBBS, MS - Otorhinolaryngology, DNB',\n",
       "       'Diploma in Dermatology, MD - Skin,VD & Leprosy, MBBS',\n",
       "       'MBBS, MD - Alternate Medicine',\n",
       "       'BHMS, BHMS, Certificate in Child Health (CCH)',\n",
       "       'MBBS, MD - Aerospace Medicine, DIH, Diploma in Hospital Administration, Fellowship of College of General Practice (FCGP)',\n",
       "       'BDS, MDS - Orthodontics and Dentofacial Orthopaedics, Certificate of Oral Implantology',\n",
       "       'BHMS, MD - Alternate Medicine', 'MD - Skin & VD, MBBS',\n",
       "       'BAMS, Fellow of Academy of General Education (FAGE), Post Graduate Diploma In Yoga',\n",
       "       'MBBS, MSc - Clinical Dermatology',\n",
       "       'MBBS, Post Graduate Diploma in Medical Law and Ethics, Msc Clinical Research & Regulatory Affairs, Diploma in Family Medicine (DFM)',\n",
       "       'BDS, PGCAD',\n",
       "       'MBBS, MD - Cardiology, DM - Cardiology, FCCP - Pulmonary Medicine',\n",
       "       'DHMS (Diploma in Homeopathic Medicine and Surgery), Diploma in Trichology - Cosmetology, Diploma in Obesity & Pain management',\n",
       "       'BHMS, Diploma in Diet and Nutrition',\n",
       "       'MBBS, FCPS - Dermatology, Venereology & Leprosy',\n",
       "       'BDS, Certification in Clear Aligners, MDS - Orthodontics',\n",
       "       'MBBS, MD - General Medicine, Fellowship in Diabetes (UK), CCEBDM, CCT - Endocrinology and Diabetes Mellitus',\n",
       "       'MBBS, DNB - Dermatology & Venereology, DDV, DVD',\n",
       "       'MBBS, Fellowship in Diabetology, Certificate Course in Gestational Diabetes Mellitus',\n",
       "       'BHMS, MD - Homeopathy, MBA - Hospital Management',\n",
       "       'MBBS, DNB - Internal Medicine, M.H.Sc-Diabetology',\n",
       "       'DNB - Dermatology, Venereology & Leprosy, MBBS, DDVL',\n",
       "       'DNB - Pediatrics, MBBS',\n",
       "       'M.D. (Ayu.), Panchkarma, Consultant Rheumatologist (Ayu.), DYSc., BAMS',\n",
       "       'MBBS, Diploma in Clinical Dermatology (UK), Diploma In Skin Aesthetics',\n",
       "       'MBBS, MD - Medicine, DM - Nephrology',\n",
       "       'MBBS, MS - General Surgery, MD - Medicine',\n",
       "       'MD - Dermatology , Venereology & Leprosy, DNB, MRCP (UK)',\n",
       "       'MBBS, DDV, DNB, MD - Dermatology',\n",
       "       'MBBS, MS - ENT, Fellowship In Phonosurgery',\n",
       "       'Diploma in ENT, MBBS', 'BHMS, MD - Medicine, PhD - Medicine',\n",
       "       'BHMS, Certificate in Food and Nutrition',\n",
       "       'BAMS, DNHE, Certification In Yoga', 'MBBS, DLO, DNB - ENT',\n",
       "       'MBBS, MD - General Medicine, DM - Medical Oncology',\n",
       "       'MBBS, MD - Dermatology , Venereology & Leprosy, Fellowship In Dermatosurgery, Certificate Course In Cosmetic Dermatology & Lasers',\n",
       "       'MD - Practice Of Medicine, BHMS, Diploma in Trichology - Cosmetology, Certificate in Child Health (CCH), CGO, MBBS',\n",
       "       'MBBS, DPM (Psychiatry)',\n",
       "       'MBBS, Diploma in Otorhinolaryngology (DLO), MS - ENT, FRCS - General Surgery',\n",
       "       'MBBS, MD - Community Medicine',\n",
       "       'MBBS, MD - General Medicine, Post Graduate Diploma in Diabetology (PGDD)(Madras Medical College)',\n",
       "       'MD - Dermatology, DNB - Dermatology & Venereology, MBBS',\n",
       "       'MS - Otorhinolaryngology, DNB - ENT, DHM, MBBS',\n",
       "       'B.Sc, BAMS, MD - Yoga and Rehab', 'MBBS, MD - Skin & VD, MAMS',\n",
       "       'MBBS, PG Diploma In Emergency Trauma Care, ACLS',\n",
       "       'MBBS, DDVL, Fellowship in Pediatric Dermatology',\n",
       "       'MBBS, DNB - Dermatology, Venereology & Leprosy',\n",
       "       'MBBS, DDVL, Fellowship IN FUE Hair Transplant Technique',\n",
       "       'MBBS, Postgraduate Diploma Clinical Cardiology (PGDCC), PG Diploma in Human Rights',\n",
       "       'MBBS, DNB - Paediatrics, Diploma in Child Health (DCH)',\n",
       "       'MBBS, Diploma in Dermatology, Diploma in Medical Cosmetology',\n",
       "       'MBBS, DDVL, AFIH', 'MBBS, MS - Otorhinolaryngology, MS - ENT',\n",
       "       'MD - Panchakarma, BAMS', 'DNB - General Medicine, MD - Physician',\n",
       "       'MBBS, MD - Family Medicine, Post Graduate Diploma in Diabetes, Certification Course In Diabetes',\n",
       "       'MD - Dermatology , Venereology & Leprosy, Fellow of the American Academy of Dermatology (FAAD), MBBS',\n",
       "       'MD - Homeopathy, PGCR',\n",
       "       'BDS, MDS - Endodontics, Certification in Laser Dentistry',\n",
       "       'MBBS, Diploma in Otorhinolaryngology (DLO), DNB - Ophthalmology',\n",
       "       'BAMS, MD - Ayurveda Medicine, Fellowship in Sexual Medicine, Fellowship in Rheumatology',\n",
       "       'MBBS, MD - Dermatology, DNB - Dermatology & Venereology, Fellowship in Cosmetology',\n",
       "       'MDS - Community Dentistry, BDS', 'MBBS, DNB - Nephrology',\n",
       "       'MBBS, MD - General Medicine, Post Graduate Diploma in Diabetology (PGDD)',\n",
       "       'MBBS, MD - General Medicine, Post Graduate Diploma in Diabetology (PGDD), Certificate Course in Evidence Based Diabetes Management (CCEBDM), FRCP',\n",
       "       'BAMS, MD-Ayurvedic Vachaspati',\n",
       "       'BAMS, MD - Ayurveda Medicine, MBA - Hospital Management',\n",
       "       'MBBS, DNB - ENT, Fellowship in Neuro-Otology and Skull Base Surgery (USA)',\n",
       "       'BDS, MDS - Orthodontics and Dentofacial Orthopaedics, Certificate of Oral Implantology, Fellowship in Aesthetic Medicine, Invisalign Training Course',\n",
       "       'MBBS, MS - General Surgery, FRCS - General Surgery, MCh - Urology, DNB - Urology/Genito - Urinary Surgery',\n",
       "       'MBBS, AFIH, Fellowship in Diabetology',\n",
       "       'BDS, MDS - Prosthodontist And Crown Bridge, Fellowship in Oral implantlogy',\n",
       "       'MBBS, DVL, MD - Dermatology , Venereology & Leprosy',\n",
       "       'BHMS, Fellowship in Medical Cosmetology (FMC)',\n",
       "       'MBBS, MD - Dermatology, DNB - Dermatology & Venereology',\n",
       "       'MBBS, DDVL, Fellowship In Dermatosurgery',\n",
       "       \"BAMS, Master of Arts - Yoga, Yoga Instructor's Course\",\n",
       "       'MBBS, MS - Otorhinolaryngology, Fellowship in Head & Neck Oncology Surgery, Fellowship in Skull Base Surgery, Fellowship in Head & Neck Oncology Surgery',\n",
       "       'PhD - Orthodontics & Dentofacial Orthopaedics, BDS', 'FICD',\n",
       "       'MBBS, BDS, FDSRCS - Fellowship in Dental Surgery',\n",
       "       'MDS - Endodontics, BDS',\n",
       "       'MS - ENT, Diploma in Otorhinolaryngology (DLO), Diploma in Opthalmology, MBBS',\n",
       "       'BHMS, M.Phil - Psychology, MSc - Applied Psychology',\n",
       "       'MS - Otorhinolaryngology, Diploma in Otorhinolaryngology (DLO)',\n",
       "       'MBBS, DNB - ENT',\n",
       "       'MBBS, MS - Otrohinolaryngology, DNB - Otorhinolaryngology',\n",
       "       'MD - Internal Medicine, MBBS', 'DNB - ENT, MS - ENT, MBBS',\n",
       "       'BDS, MDS - Prosthodontist And Crown Bridge, FICOI',\n",
       "       'MBBS, MS - Otorhinolaryngology, Diploma in Otorhinolaryngology (DLO), Diploma in Health Administration',\n",
       "       'DEHM, BEMS',\n",
       "       'BDS, MDS - Conservative Dentistry & Endodontics, DNB',\n",
       "       'MBBS, MD - Dermatology , Venereology & Leprosy, DDV',\n",
       "       'BAMS, MSc - Yoga', 'MBBS, DPH & H',\n",
       "       'BHMS, Certificate Course in Advanced Homoeopathy (C.C.A.H)',\n",
       "       'MD - Medicine, MBBS',\n",
       "       'MBBS, DDV, Fellowship in Dermatological Laser Surgery',\n",
       "       'MBBS, DNB - Pediatrics, Fellowship in Paediatric gastroenterology & Hepatology, Fellowship In Transplant Hepatology',\n",
       "       'DNB - Dermatology & Venereology, MNAMS - DERMATOLOGY, F.C.P.S (Dermatology), DDV, MBBS',\n",
       "       'MS - Otorhinolaryngology, DNB - Otorhinolaryngology, MBBS',\n",
       "       'MBBS, MD - General Medicine, DNB', 'DDVL, MBBS, F.A.M',\n",
       "       'BAMS, MD - Internal Medicine, Diploma in Emergency Medicine, Post Graduate Diploma In Yoga',\n",
       "       'MBBS, Post Graduate Diploma in Diabetology (PGDD), PG in Diabetology(Johns Hopkins University School of Medicine, USA)',\n",
       "       'BHMS, Post Graduate Diploma In Yoga',\n",
       "       'MBBS, MD - General Medicine, DNB - Neurology',\n",
       "       'LCEH, MD - Homeopathy',\n",
       "       'MRCGP, Post Graduate Diploma in Diabetology (PGDD)(University of Leicester, UK), MBBS',\n",
       "       'MBBS, MD - Dermatology , Venereology & Leprosy, MRCPS', 'MDS',\n",
       "       'MBBS, Post Graduate Diploma in Diabetology (PGDD), Certificate Course in Evidence Based Diabetes Management (CCEBDM)',\n",
       "       'MBBS, MS - ENT, Diploma in Otorhinolaryngology (DLO), FRCS - General Surgery',\n",
       "       'MBBS, MD - General Medicine, DM - Nephrology',\n",
       "       'MBBS, MD - Dermatology, DVL',\n",
       "       'BHMS, MD - Homeopathy Psychiatry, Post Graduate Diploma in Clinical Research (PGDCR), MS - Psychology',\n",
       "       'BAMS, MS - Counselling and Psychotherapy',\n",
       "       'FPFA, BDS, FPFA, MDS - Conservative Dentistry & Endodontics',\n",
       "       'MBBS, MD - Internal Medicine, DNB - General Medicine',\n",
       "       'DHMS (Diploma in Homeopathic Medicine and Surgery), PhD - Homoeopathy',\n",
       "       'MBBS, Fellow of Academy of General Education (FAGE), BSc - Dietitics / Nutrition',\n",
       "       'MBBS, MS - Otorhinolaryngology, DNB - Otorhinolaryngology',\n",
       "       'MBBS, Post Graduate Diploma in Diabetology (PGDD), MD - Diabetology',\n",
       "       'MBBS, M.D. (Psychiatry)',\n",
       "       'MBBS, MBBS, MD - General Medicine, MD - Community Medicine, MD - Medicine',\n",
       "       'BDS, Certificate in Dental Implants, Certificate in Dental Implants',\n",
       "       'Diploma in Cardiology, MBBS, MD - General Medicine, PG in Diabetology',\n",
       "       'MBBS, MRCGP, Diploma in Diabetes',\n",
       "       'DHMS, DHMS (Diploma in Homeopathic Medicine and Surgery)',\n",
       "       'MBBS, MS - ENT, Specialized Training in Otology',\n",
       "       'MBBS, MD - Dermatology , Venereology & Leprosy, DLO',\n",
       "       'MBBS, MS - General Surgery, MCh - Plastic Surgery',\n",
       "       'MBBS, MD - Dermatology, DDV, DNB', 'MBBS, Diploma in Acupuncture',\n",
       "       'MBBS, Post Graduate Diploma in Diabetology (PGDD), Diploma in Family Medicine (DFM)',\n",
       "       'MRCS (UK), MBBS, MS - Otorhinolaryngology',\n",
       "       'MS - Otorhinolaryngology, DNB - ENT',\n",
       "       'MBBS, Graduate Diploma in Family Medicine, Singapore',\n",
       "       'BDS, Certification in Full Mouth Rehabilitation',\n",
       "       'MRCP (UK), Diploma in Dermatology, MBBS',\n",
       "       'MBBS, DDVL, MD - Skin & VD', 'BDS, Diploma in Laser Dentistry',\n",
       "       'DM - Pulmonary Medicine, MBBS, DM - Critical Care Medicine',\n",
       "       'BHMS, Diploma in Dermatology (Alt)',\n",
       "       'BDS, Certificate in Dental Implantology',\n",
       "       'MBBS, MS - General Surgery, Fellow of Academy of General Education (FAGE), Diploma in Laparoscopy',\n",
       "       'MBBS, MD - Skin,VD & Leprosy, Fellow of the American Academy of Dermatology (FAAD), DNB - Dermatology & Venereology',\n",
       "       'BHMS, PGDPC (Post Graduation Diploma In Psychological Counselling), Post Graduate Diploma in Emergency Services (PGDEMS)',\n",
       "       'BDS, MDS - Oral Pathology & Bacteriology',\n",
       "       'MDS - Orthodontics, BDS, MOrth', 'BAMS, DNHE',\n",
       "       'MBBS, MD - Tuberculosis & Respiratory Diseases / Pulmonary Medicine',\n",
       "       'MBBS, Post Graduate Diploma in Family Medicine (PGDFM)',\n",
       "       'MD - Physician, FDIAB, Post Graduate Diploma in Diabetology (PGDD)',\n",
       "       'MBBS, FCCP, CCEBDM', 'MS - Otorhinolaryngology, MBBS, DNB - ENT',\n",
       "       'MBBS, DM - Cardiology, MD - Medicine',\n",
       "       'MD - General Medicine, MBBS, DM - Cardiology',\n",
       "       'MDS - Prosthodontist And Crown Bridge, Certificate of Oral Implantology, BDS',\n",
       "       'MBBS, MD - Rheumatology',\n",
       "       'MD - Physician, PGDHSc, Diploma in Diabetology, Postgraduate Diploma Clinical Cardiology (PGDCC), Fellowship in Diabetology(Johns Hopkins University School of Medicine, USA)',\n",
       "       'MS - ENT, DNB - ENT, MBBS, MRCS (UK), MNAMS (Membership of the National Academy)',\n",
       "       'BDS, Fellowship in Oral implantlogy, Certificate of Oral Implantology',\n",
       "       'BAMS, D-Pharm',\n",
       "       'MBBS, MD - Medicine, Fellowship in Diabetes Management',\n",
       "       'BAMS, Diploma in Cosmetology, Diploma in Health Administration',\n",
       "       'MS - General Surgery, MBBS',\n",
       "       'BAMS, M.S. (Ayurved) Stri Roga & Prasuti Tantra',\n",
       "       'MBBS, DNB - Neurology, DNB - General Medicine', 'MBBS, DDVL, DDV',\n",
       "       'BHMS, Post Graduate Diploma in Emergency Medical Services, DHMS (Diploma in Homeopathic Medicine and Surgery)',\n",
       "       'Certification in Aesthetic Dentistry, MDS - Orthodontics, BDS',\n",
       "       'DPM (Psychiatry), MBBS', 'MBBS, MD - Dermatology, DDVL',\n",
       "       'BDS, MDS - Orthodontics, Certificate of Oral Implantology',\n",
       "       'MD - Acupuncture, PG Diploma In Clinical Cosmetology (PGDCC), BDS',\n",
       "       'MBBS, PGDHA',\n",
       "       'BDS, MDS - Prosthodontist And Crown Bridge, Certificate of Oral Implantology',\n",
       "       'MBBS, MRCOG(UK)',\n",
       "       'MD - Medicine, Post Graduate Diploma in Diabetology (PGDD), MBBS, FRCP - Internal Medicine',\n",
       "       'MDS - Periodontics', 'MBBS, MS - General Surgery, FAIS, FIAGES',\n",
       "       'MBBS, MD - Dermatology , Venereology & Leprosy, DNB - Dermatology, Venereology & Leprosy',\n",
       "       'BAMS, Doctor of Medicine',\n",
       "       'MBBS, MD / MS - Obstetrics & Gynaecology'], dtype=object)"
      ]
     },
     "execution_count": 123,
     "metadata": {},
     "output_type": "execute_result"
    }
   ],
   "source": [
    "td['Qualification'].unique()"
   ]
  },
  {
   "cell_type": "markdown",
   "metadata": {},
   "source": [
    "### Observations:\n",
    "\n",
    "        - Qualification column has lots of Data/Information. \n",
    "        - Some Doctors have only 'Single Degree', some have 'Double Degree', and some Doctors have 'Multiple Degree'.       "
   ]
  },
  {
   "cell_type": "markdown",
   "metadata": {},
   "source": [
    "### Let's Convert 'Qualification' column into 'Total No. Of Qualification' column."
   ]
  },
  {
   "cell_type": "code",
   "execution_count": 124,
   "metadata": {},
   "outputs": [],
   "source": [
    "Qualification = list(td['Qualification'])\n",
    "\n",
    "Total_No_Of_Qualification=[]\n",
    "for i in Qualification:\n",
    "    Total_No_Of_Qualification.append(len(i.split(',')))"
   ]
  },
  {
   "cell_type": "code",
   "execution_count": 125,
   "metadata": {},
   "outputs": [],
   "source": [
    "td['Total No. Of Qualification']=Total_No_Of_Qualification"
   ]
  },
  {
   "cell_type": "markdown",
   "metadata": {},
   "source": [
    "### Since we extracted relevant information from 'Qualification' column, we can therefore drop this column."
   ]
  },
  {
   "cell_type": "code",
   "execution_count": 126,
   "metadata": {},
   "outputs": [],
   "source": [
    "td.drop('Qualification',axis=1,inplace=True)"
   ]
  },
  {
   "cell_type": "markdown",
   "metadata": {},
   "source": [
    "## 5. Miscellaneous_Info Column"
   ]
  },
  {
   "cell_type": "markdown",
   "metadata": {},
   "source": [
    "### Observations:\n",
    "        Since this column gives information such as 'Rating', 'Area', 'City', which are already known to us, hence we can drop this column."
   ]
  },
  {
   "cell_type": "code",
   "execution_count": 127,
   "metadata": {},
   "outputs": [],
   "source": [
    "td.drop('Miscellaneous_Info',axis=1,inplace=True)"
   ]
  },
  {
   "cell_type": "markdown",
   "metadata": {},
   "source": [
    "# EDA"
   ]
  },
  {
   "cell_type": "markdown",
   "metadata": {},
   "source": [
    "## Univariate Analysis"
   ]
  },
  {
   "cell_type": "code",
   "execution_count": 128,
   "metadata": {},
   "outputs": [
    {
     "data": {
      "image/png": "[encoded data removed]",
      "text/plain": [
       "<Figure size 432x288 with 1 Axes>"
      ]
     },
     "metadata": {
      "needs_background": "light"
     },
     "output_type": "display_data"
    }
   ],
   "source": [
    "plt.hist(td['Experience'])\n",
    "plt.show()"
   ]
  },
  {
   "cell_type": "markdown",
   "metadata": {},
   "source": [
    "### Observations:\n",
    "        - Doctors 'Experience' ranges from 0 to 70 years.\n",
    "        - Majority of Doctors 'Experience' ranges from 10 to 20 years."
   ]
  },
  {
   "cell_type": "code",
   "execution_count": 129,
   "metadata": {},
   "outputs": [
    {
     "data": {
      "image/png": "[encoded data removed]",
      "text/plain": [
       "<Figure size 432x288 with 1 Axes>"
      ]
     },
     "metadata": {
      "needs_background": "light"
     },
     "output_type": "display_data"
    }
   ],
   "source": [
    "plt.hist(td['Rating'])\n",
    "plt.show()"
   ]
  },
  {
   "cell_type": "markdown",
   "metadata": {},
   "source": [
    "### Observations:\n",
    "        Majority of Doctors have 'Rating' of 90% to 100%."
   ]
  },
  {
   "cell_type": "code",
   "execution_count": 130,
   "metadata": {},
   "outputs": [
    {
     "data": {
      "image/png": "[encoded data removed]",
      "text/plain": [
       "<Figure size 432x288 with 1 Axes>"
      ]
     },
     "metadata": {
      "needs_background": "light"
     },
     "output_type": "display_data"
    }
   ],
   "source": [
    "sns.countplot(td['Profile'])\n",
    "plt.xticks(rotation=45)\n",
    "plt.show()"
   ]
  },
  {
   "cell_type": "markdown",
   "metadata": {},
   "source": [
    "### Observations:\n",
    "        Majority of Doctors are Dentist, General Medicine practitioner, Dermatologists, Homeopath.   "
   ]
  },
  {
   "cell_type": "code",
   "execution_count": 131,
   "metadata": {},
   "outputs": [
    {
     "data": {
      "image/png": "[encoded data removed]",
      "text/plain": [
       "<Figure size 720x360 with 1 Axes>"
      ]
     },
     "metadata": {
      "needs_background": "light"
     },
     "output_type": "display_data"
    }
   ],
   "source": [
    "plt.figure(figsize=(10,5))\n",
    "sns.countplot(td['City'])\n",
    "plt.xticks(rotation=45)\n",
    "plt.show()"
   ]
  },
  {
   "cell_type": "markdown",
   "metadata": {},
   "source": [
    "### Observations:\n",
    "        Majority of Doctors are from Bangalore, Delhi, Mumbai, Hyderabad.               "
   ]
  },
  {
   "cell_type": "code",
   "execution_count": 132,
   "metadata": {},
   "outputs": [
    {
     "data": {
      "image/png": "[encoded data removed]",
      "text/plain": [
       "<Figure size 432x288 with 1 Axes>"
      ]
     },
     "metadata": {
      "needs_background": "light"
     },
     "output_type": "display_data"
    }
   ],
   "source": [
    "sns.countplot(td['Total No. Of Qualification'])\n",
    "plt.show()"
   ]
  },
  {
   "cell_type": "markdown",
   "metadata": {},
   "source": [
    "### Observations:\n",
    "        Majority of Doctors have Single to Double Degree. "
   ]
  },
  {
   "cell_type": "markdown",
   "metadata": {},
   "source": [
    "## Bivariate Analysis"
   ]
  },
  {
   "cell_type": "code",
   "execution_count": 133,
   "metadata": {},
   "outputs": [
    {
     "data": {
      "image/png": "[encoded data removed]",
      "text/plain": [
       "<Figure size 432x288 with 1 Axes>"
      ]
     },
     "metadata": {
      "needs_background": "light"
     },
     "output_type": "display_data"
    }
   ],
   "source": [
    "sns.scatterplot(td['Experience'],td['Rating'])\n",
    "plt.show()"
   ]
  },
  {
   "cell_type": "markdown",
   "metadata": {},
   "source": [
    "### Observations:\n",
    "        Majority of Doctors above 10 years of Experience have good 'Rating'."
   ]
  },
  {
   "cell_type": "code",
   "execution_count": 134,
   "metadata": {},
   "outputs": [
    {
     "data": {
      "image/png": "[encoded data removed]",
      "text/plain": [
       "<Figure size 432x288 with 1 Axes>"
      ]
     },
     "metadata": {
      "needs_background": "light"
     },
     "output_type": "display_data"
    }
   ],
   "source": [
    "sns.scatterplot(td['City'],td['Rating'])\n",
    "plt.xticks(rotation=45)\n",
    "plt.show()"
   ]
  },
  {
   "cell_type": "markdown",
   "metadata": {},
   "source": [
    "### Observations:\n",
    "        Ernakulam, Thiruvananthapuram, Coimbatore, Mumbai Doctors have good 'Rating'."
   ]
  },
  {
   "cell_type": "code",
   "execution_count": 135,
   "metadata": {},
   "outputs": [
    {
     "data": {
      "text/plain": [
       "array(['Ghatkopar East', 'West Marredpally', 'KK Nagar',\n",
       "       'New Ashok Nagar', 'Kanakpura Road', 'Velachery', 'Frazer Town',\n",
       "       'Attapur', 'Banashankari', 'Mayur Vihar Ph-I', 'Erragadda',\n",
       "       'Gandhipuram', 'Kemps Corner', 'Banjara Hills', 'Madandapuram',\n",
       "       'Mukherjee Nagar', 'Tis Hazari', 'Banashankari 2nd Stage',\n",
       "       'Nagawara', 'Basavanagudi', 'Dadar', 'Kattakada', 'Villivakkam',\n",
       "       'Begumpet', 'Kottivakkam', 'Jeedimetla', 'Gachibowli', 'Chromepet',\n",
       "       'Mulund West', 'Bellandur', 'Kukatpally', 'Chandni Chowk',\n",
       "       'Vileparle West', 'Sakinaka', 'Bannerghatta Road', 'Marathahalli',\n",
       "       'Kolathur', 'Jayanagar 9 Block', 'Dilsukhnagar', 'Dahisar East',\n",
       "       'Keelkattalai', 'LB Nagar', 'Jayanagar 4 Block', 'Patparganj',\n",
       "       'Andheri East', 'Ganesh Nagar', 'Powai', 'Whitefield',\n",
       "       'Andheri West', 'Thanisandra', 'Gulmohar Park', 'Aminjikarai',\n",
       "       'HSR Layout', 'Greater Kailash Part 2', 'Tripunithura',\n",
       "       'Tambaram East', 'Chembur', 'Aluva', 'Madhavaram',\n",
       "       'Ramakrishna Puram', 'Rajarajeshwarinagar', 'Krishna Nagar',\n",
       "       'Vikas Nagar', 'Ashok Vihar', 'Shahdara', 'Malleshpalya',\n",
       "       'Karapakkam', 'Richmond Town', 'Malviya Nagar', 'Adyar',\n",
       "       'Kothapet', 'RT Nagar', 'Malleswaram', 'Sahakaranagar',\n",
       "       'Chamarajpet', 'Kalyan Nagar', 'Nagarbhavi', 'Teynampet',\n",
       "       'Balkampet', 'Mehrauli', 'Goregaon East', 'Goregaon West',\n",
       "       'Badarpur', 'Navalur', 'Chandrayangutta', 'Prabhadevi',\n",
       "       'Ernakulam', 'Peddar Road', 'Ashok Nagar', 'Edayarpalayam',\n",
       "       'Saket', 'Old Rajendra Nagar', 'T Nagar', 'Miyapur', 'Rohini',\n",
       "       'Tolichowki', 'Bhandup East', 'BTM Layout 2nd Stage',\n",
       "       'Kandivali West', 'Bandra West', 'Saravanampatti',\n",
       "       'Jeevanbhimanagar', 'Yeshwanthpur', 'Koramangala 5 Block',\n",
       "       'Himayat Nagar', 'Horamavu', 'KPHB', 'Dwarka Sector 6',\n",
       "       'Peeragarhi', 'Green Park', 'Aroor', 'Adambakkam', 'Pitampura',\n",
       "       'Shalimar Bagh', 'Nangloi', 'Borivali West', 'Safdarjung Enclave',\n",
       "       'Ganapathy', 'Thoraipakkam', 'Edapally', 'Rohini West',\n",
       "       'Uttarahalli', 'Churchgate', 'Malad West', 'Warasiguda',\n",
       "       'Palluruthy', 'Manikonda', 'Juhu', 'Borivali East', 'Kondapur',\n",
       "       'Anna Nagar', 'Secunderabad', 'Kammana Halli', 'Nungambakkam',\n",
       "       'Vishwas Nagar', 'Vasant Vihar', 'Preet Vihar', 'Nanganallur',\n",
       "       'Indiranagar', 'Gujranwala Town', 'Lower Parel', 'Santosh Nagar',\n",
       "       'Dahisar West', 'Dwarka', 'South Extension 2', 'Vikhroli East',\n",
       "       'Porur', 'Goregaon', 'Paschim Vihar', 'Ghatkopar West',\n",
       "       'Madinaguda', 'Chembur East', 'Mayur Vihar Ph-III',\n",
       "       'Padmarao Nagar', 'Punjabi Bagh', 'Bhandup', 'Shivaji Nagar',\n",
       "       'Parel', 'Defence Colony', 'Seshadripuram', 'Mahim',\n",
       "       'East Of Kailash', 'Velandipalayam', 'Rajakilpakkam', 'Dadar West',\n",
       "       'Muvattupuzha', 'New BEL Road', 'Okhla', 'JP Nagar 7 Phase',\n",
       "       'Kilpauk', 'Srinagar Colony', 'Hitech City', 'Perungudi',\n",
       "       'Khar West', 'IP Extension', 'Vidyanagar', 'Chickpet',\n",
       "       'Madambakkam', 'Delhi', 'Vileparle East', 'Sadashivanagar',\n",
       "       'Kadavanthra', 'Jubilee Hills', 'R.S. Puram', 'Perurkada',\n",
       "       'Darya Ganj', 'Madhapur', 'Vijaynagar Colony', 'Chanda Nagar',\n",
       "       'South Extension 1', 'Ullal Upanagara', 'Greams Road', 'Neb Sarai',\n",
       "       'Kaudiar', 'ECR Road', 'Kamla Nagar', 'Patel Nagar', 'Gandhinagar',\n",
       "       'Sion', 'Rajajinagar', 'Vijayanagar', 'Besant Nagar',\n",
       "       'Vasant Kunj', 'Sholinganallur', 'Janak Puri', 'Punjagutta',\n",
       "       'Cunningham Road', 'Millers Road', 'Rajouri Garden',\n",
       "       'Old Airport Road', 'Ambattur', 'Sanjay Nagar', 'Matunga',\n",
       "       'Mulund', 'Somajiguda', 'Rohini Sector 7', 'Ramesh Nagar', 'Alwal',\n",
       "       'Thrikkakara', 'Aya Nagar', 'Rani Bagh', 'Bhayandar West',\n",
       "       'Hennur', 'Koramangala', 'Trimulgherry', 'Yelahanka', 'Mira Road',\n",
       "       'Khar East', 'Nagole', 'Kirti Nagar', 'Uppilipalayam', 'Kalkere',\n",
       "       'Wilson Garden', 'Shaikpet', 'Malkajgiri', 'JB Nagar',\n",
       "       'Virugambakkam', 'Alwarpet', 'Tavarekere', 'RK Puram',\n",
       "       'Santacruz West', 'Sanath Nagar', 'Vadavalli', 'Kurla East',\n",
       "       'Munirka', 'Kurla', 'Basaveshwaranagar', 'Mahavir Enclave',\n",
       "       'Jayanagar 2 Block', 'Malad East', 'Kundalahalli', 'Sarita Vihar',\n",
       "       'Ameerpet', 'Nacharam', 'Colaba', 'Mazgaon', 'Peenya',\n",
       "       'Panchsheel Park', 'Chetpet', 'Kandivali East', 'Sarjapur Road',\n",
       "       'Vikhroli', 'Vanasthalipuram', 'Cheranalloor', 'Ramanathapuram',\n",
       "       'Saibaba Colony', 'Anand Lok', 'Laxmi Nagar', 'Jangpura',\n",
       "       'Ayanambakkam', 'Nirman Vihar', 'Mylapore', 'Kasturi nagar',\n",
       "       'Tarnaka', 'Bandra East', 'Jogeshwari East', 'Dindarpur',\n",
       "       'Moti Nagar', 'Banashankari 3rd Stage', 'Sion East',\n",
       "       'Chikkadpally', 'Arekere', 'Thoppumpady', 'Nariman Point',\n",
       "       'Pragathi Nagar', 'Tardeo', 'Varthur', 'Mumbai Central',\n",
       "       'JP Nagar 2 Phase', 'Anna Nagar West', 'Mogappair East',\n",
       "       'Dilshad Garden', 'HAL 2nd Stage', 'Arumbakkam', 'Kandanchavadi',\n",
       "       'Khanpur', 'Vyasarpadi', 'Dwarka Sector 3', 'Medavakkam',\n",
       "       'Cuffe Parade', 'Lajpat Nagar', 'Iyyappanthangal', 'Bhandup West',\n",
       "       'Domlur', 'Nanjundapuram', 'Yousufguda', 'New Friends Colony',\n",
       "       'Koramangala 4 Block', 'Malakpet', 'Pallikaranai', 'Worli',\n",
       "       'Chintal', 'Sarvapriya Vihar', 'Pattabiram', 'Kengeri',\n",
       "       'AS Rao Nagar', 'Kachiguda', 'SR Nagar', 'Kakkanad', 'CR Park',\n",
       "       'Mehdipatnam', 'Neelankarai', 'Patel Nagar West', 'Kumarapuram',\n",
       "       'New Rajendra Nagar', 'Mulanthuruthy', 'West Of Chord Road',\n",
       "       'Kudlu', 'Padmanabhanagar', 'Vikas Puri', 'Hauz Khas',\n",
       "       'Basheerbagh', 'Kadubeesanahalli', 'Vijaynagar', 'Hyderguda',\n",
       "       'Vanagaram', 'Ganganagar', 'Mulund East', 'Kishanbagh',\n",
       "       'Pusa Road', 'Suchitra Circle', 'Triplicane', 'Nemom',\n",
       "       'Panampilly Nagar', 'Vasundhra Enclave', 'Dwarka Sector 5',\n",
       "       'Thiruvanmiyur', 'Agaram', 'Bilekahalli', 'Shenoy Nagar', 'Jakkur',\n",
       "       'Hebbal', 'Shastri Nagar', 'Jayamahal', 'Naraina Vihar', 'Alipur',\n",
       "       'Ramnagar', 'Ambalamukku', 'Pappanaickenpalayam', 'Domalguda',\n",
       "       'Shakti Nagar', 'Adarsh Nagar', 'Karkhana', 'Ramamurthy Nagar',\n",
       "       'Kanjurmarg', 'Palam Colony', 'Girgaon', 'Dwarka Sector 23',\n",
       "       'Jayanagar', 'Shantinagar', 'Uday Park', 'Pattom', 'Anand Vihar',\n",
       "       'Kanjoor', 'Nedumbassery', 'Madipakkam', 'Sundarapuram',\n",
       "       'Koramangala 8 Block', 'Mogappair West', 'Kodambakkam',\n",
       "       'Sion West', 'Sasthamangalam', 'Kochi M.G.Road', 'Kalamassery',\n",
       "       'Safilguda', 'Hegde Nagar', 'Kilkattalai', 'Tilak Nagar',\n",
       "       'Gopalapuram', 'Electronics City', 'Hazrat Nizamuddin',\n",
       "       'Kattupakkam', 'Tuglakabad', 'JP Nagar 3 Phase', 'KR Puram',\n",
       "       'Guduvanchery', 'Kotturpuram', 'Hastsal', 'Tambaram West',\n",
       "       'Tv Thampanoor', 'Bhayandar East', 'Saroor Nagar', 'Singanallur',\n",
       "       'Mahipalpur', 'Mathikere - BEL', 'Pappanaickenpudur',\n",
       "       'Jayanagar 5 Block', 'Mahalakshmi Layout', 'Narayanguda',\n",
       "       'Grant Road', 'Dadar East', 'Vidyaranyapura', 'Washermenpet',\n",
       "       'Marine Lines', 'Tondiarpet', 'Kurla West', 'Mugalivakkam',\n",
       "       'Outer Ring Road', 'Kodungaiyur', 'Bhogal', 'Balanagar',\n",
       "       'Gulabi Bagh', 'Vadapalani', 'Dommasandra', 'Peelamedu', 'Marol',\n",
       "       'Byculla', 'Nallagandla', 'Nedumangad', 'Valasaravakkam',\n",
       "       'Mandaveli', 'Chattarpur', 'Koramangala 1 Block', 'Perumbakkam',\n",
       "       'Greater Kailash Part 1', 'Matunga West', 'Viveknagar',\n",
       "       'Lingarajapuram', 'Mansarover Garden', 'Paradise', 'BTM Layout',\n",
       "       'Kalapatti', 'JP Nagar', 'Burari', 'Ulsoor', 'Andheri',\n",
       "       'Kavundampalayam', 'Thiruvottiyur', 'Seeranaickenpalayam',\n",
       "       'Periyar Nagar', 'Kailash Colony', 'HRBR Layout', 'Abhiramapuram',\n",
       "       'JP Nagar 9 Phase', 'Ecil', 'Choolaimedu', 'Bachupally', 'Kalkaji',\n",
       "       'Perambur', 'Pahar Ganj', 'Vyttila', 'T Dasarahalli',\n",
       "       'BTM Layout 1st Stage', 'JP Nagar 6 Phase', 'Chaitanyapuri',\n",
       "       'Greater Kailash', 'Jafferkhanpet', 'Kumara Park West',\n",
       "       'Barkatpura', 'Yellareddyguda', 'Oshiwara', 'Nesapakkam',\n",
       "       'Vennala', 'Vaduthala', 'Nallakunta', 'Angamaly', 'Nandambakkam',\n",
       "       'Rohini Sector 20', 'Yamuna Vihar', 'Abids', 'Madhu Vihar',\n",
       "       'Banashankari 1st Stage', 'Jalahalli', 'HBR Layout',\n",
       "       'Tagore Garden', 'Alaknanda', 'RMV 2nd Stage', 'Thudiyalur',\n",
       "       'Khairatabad', 'Sriniwaspuri', 'Mira Bhayandar', 'Pammal',\n",
       "       'Habsiguda', 'Palghar', 'Lingampally', 'Kapra',\n",
       "       'Qutab Institutional Area', 'Kadugodi', 'Sagar Road',\n",
       "       'Kumaraswamy Layout', 'Saidabad', 'Wadala', 'Inder Puri',\n",
       "       'Siddhapudur', 'Yelahanka New Town', 'Gamdevi', 'Saidapet',\n",
       "       'JP Nagar 1 Phase', 'East Marredpally', 'Poothotta',\n",
       "       'Chandra Layout', 'Karamana', 'Koramangala 7 Block', 'Hari Nagar',\n",
       "       'Vileparle', 'KH Road', 'Neredmet', 'Kanchanbagh', 'Bali Nagar',\n",
       "       'Jhilmil Colony', 'Charni Road', 'Coimbatore Racecourse',\n",
       "       'Rohini Sector 3', 'Champapet', 'Srirampuram', 'Nizampet',\n",
       "       'Sukhdev Vihar', 'Hope College', 'Nandanam', 'Malabar Hill',\n",
       "       'Tambaram', 'Perungalathur', 'Delhi Cantonment', 'Vanchiyur',\n",
       "       'Kaggadasapura', 'Prashant Vihar', 'Manapakkam', 'Hasthinapuram',\n",
       "       'Jogeshwari West', 'Palarivattom', 'Balapur', 'OMR Road', 'Uppal',\n",
       "       'Ayanavaram', 'Moosapet', 'Periyanaickenpalayam', 'Marine Drive',\n",
       "       'Manchavilakom', 'Najafgarh', 'Govandi', 'Yemalur', 'Banaswadi',\n",
       "       'Meerpet', 'Moosarambagh', 'Begum Bazar', 'Kaloor', 'Sewri',\n",
       "       'Anna Nagar East', 'Padi', 'Patel Nagar East', 'Kazhakuttam',\n",
       "       'Ayyappankavu', 'Kingsway Camp', 'Model Town', 'Chintalmet',\n",
       "       'Kalu Sarai', 'Sreekaryam', 'Broadway', 'Pratap Nagar',\n",
       "       'Kapashera', 'Raja Annamalai Puram', 'Shadipur', 'Ramapuram',\n",
       "       'Hongasandra', 'Bakkarwala', 'Dwarka Sector 12',\n",
       "       'August Kranti Marg', 'Pollachi', 'Vikhroli West',\n",
       "       'JP Nagar 5 Phase', 'BHEL', 'Purasawakkam', 'Selvapuram',\n",
       "       'Boduppal', 'Abbigere', 'Sultanpur', 'Hosur Road', 'Choolai',\n",
       "       'Lajpat Nagar III'], dtype=object)"
      ]
     },
     "execution_count": 135,
     "metadata": {},
     "output_type": "execute_result"
    }
   ],
   "source": [
    "td['Area'].unique()"
   ]
  },
  {
   "cell_type": "code",
   "execution_count": 136,
   "metadata": {},
   "outputs": [],
   "source": [
    "td.drop('Area',axis=1,inplace=True)"
   ]
  },
  {
   "cell_type": "markdown",
   "metadata": {},
   "source": [
    "### Let's Convert Categorical column into Numerical column."
   ]
  },
  {
   "cell_type": "code",
   "execution_count": 137,
   "metadata": {},
   "outputs": [
    {
     "data": {
      "text/html": [
       "<div>\n",
       "<style scoped>\n",
       "    .dataframe tbody tr th:only-of-type {\n",
       "        vertical-align: middle;\n",
       "    }\n",
       "\n",
       "    .dataframe tbody tr th {\n",
       "        vertical-align: top;\n",
       "    }\n",
       "\n",
       "    .dataframe thead th {\n",
       "        text-align: right;\n",
       "    }\n",
       "</style>\n",
       "<table border=\"1\" class=\"dataframe\">\n",
       "  <thead>\n",
       "    <tr style=\"text-align: right;\">\n",
       "      <th></th>\n",
       "      <th>Ayurveda</th>\n",
       "      <th>Dentist</th>\n",
       "      <th>Dermatologists</th>\n",
       "      <th>ENT Specialist</th>\n",
       "      <th>General Medicine</th>\n",
       "      <th>Homeopath</th>\n",
       "    </tr>\n",
       "  </thead>\n",
       "  <tbody>\n",
       "    <tr>\n",
       "      <th>0</th>\n",
       "      <td>0</td>\n",
       "      <td>0</td>\n",
       "      <td>0</td>\n",
       "      <td>0</td>\n",
       "      <td>1</td>\n",
       "      <td>0</td>\n",
       "    </tr>\n",
       "    <tr>\n",
       "      <th>1</th>\n",
       "      <td>0</td>\n",
       "      <td>0</td>\n",
       "      <td>0</td>\n",
       "      <td>1</td>\n",
       "      <td>0</td>\n",
       "      <td>0</td>\n",
       "    </tr>\n",
       "    <tr>\n",
       "      <th>2</th>\n",
       "      <td>0</td>\n",
       "      <td>0</td>\n",
       "      <td>1</td>\n",
       "      <td>0</td>\n",
       "      <td>0</td>\n",
       "      <td>0</td>\n",
       "    </tr>\n",
       "    <tr>\n",
       "      <th>3</th>\n",
       "      <td>1</td>\n",
       "      <td>0</td>\n",
       "      <td>0</td>\n",
       "      <td>0</td>\n",
       "      <td>0</td>\n",
       "      <td>0</td>\n",
       "    </tr>\n",
       "    <tr>\n",
       "      <th>4</th>\n",
       "      <td>0</td>\n",
       "      <td>1</td>\n",
       "      <td>0</td>\n",
       "      <td>0</td>\n",
       "      <td>0</td>\n",
       "      <td>0</td>\n",
       "    </tr>\n",
       "  </tbody>\n",
       "</table>\n",
       "</div>"
      ],
      "text/plain": [
       "   Ayurveda  Dentist  Dermatologists  ENT Specialist  General Medicine  \\\n",
       "0         0        0               0               0                 1   \n",
       "1         0        0               0               1                 0   \n",
       "2         0        0               1               0                 0   \n",
       "3         1        0               0               0                 0   \n",
       "4         0        1               0               0                 0   \n",
       "\n",
       "   Homeopath  \n",
       "0          0  \n",
       "1          0  \n",
       "2          0  \n",
       "3          0  \n",
       "4          0  "
      ]
     },
     "execution_count": 137,
     "metadata": {},
     "output_type": "execute_result"
    }
   ],
   "source": [
    "profile=td['Profile']\n",
    "profile=pd.get_dummies(profile)\n",
    "profile.head()"
   ]
  },
  {
   "cell_type": "code",
   "execution_count": 138,
   "metadata": {},
   "outputs": [
    {
     "data": {
      "text/html": [
       "<div>\n",
       "<style scoped>\n",
       "    .dataframe tbody tr th:only-of-type {\n",
       "        vertical-align: middle;\n",
       "    }\n",
       "\n",
       "    .dataframe tbody tr th {\n",
       "        vertical-align: top;\n",
       "    }\n",
       "\n",
       "    .dataframe thead th {\n",
       "        text-align: right;\n",
       "    }\n",
       "</style>\n",
       "<table border=\"1\" class=\"dataframe\">\n",
       "  <thead>\n",
       "    <tr style=\"text-align: right;\">\n",
       "      <th></th>\n",
       "      <th>Bangalore</th>\n",
       "      <th>Chennai</th>\n",
       "      <th>Coimbatore</th>\n",
       "      <th>Delhi</th>\n",
       "      <th>Ernakulam</th>\n",
       "      <th>Hyderabad</th>\n",
       "      <th>Mumbai</th>\n",
       "      <th>Thiruvananthapuram</th>\n",
       "    </tr>\n",
       "  </thead>\n",
       "  <tbody>\n",
       "    <tr>\n",
       "      <th>0</th>\n",
       "      <td>0</td>\n",
       "      <td>0</td>\n",
       "      <td>0</td>\n",
       "      <td>0</td>\n",
       "      <td>0</td>\n",
       "      <td>0</td>\n",
       "      <td>1</td>\n",
       "      <td>0</td>\n",
       "    </tr>\n",
       "    <tr>\n",
       "      <th>1</th>\n",
       "      <td>0</td>\n",
       "      <td>0</td>\n",
       "      <td>0</td>\n",
       "      <td>0</td>\n",
       "      <td>0</td>\n",
       "      <td>1</td>\n",
       "      <td>0</td>\n",
       "      <td>0</td>\n",
       "    </tr>\n",
       "    <tr>\n",
       "      <th>2</th>\n",
       "      <td>0</td>\n",
       "      <td>1</td>\n",
       "      <td>0</td>\n",
       "      <td>0</td>\n",
       "      <td>0</td>\n",
       "      <td>0</td>\n",
       "      <td>0</td>\n",
       "      <td>0</td>\n",
       "    </tr>\n",
       "    <tr>\n",
       "      <th>3</th>\n",
       "      <td>0</td>\n",
       "      <td>0</td>\n",
       "      <td>0</td>\n",
       "      <td>1</td>\n",
       "      <td>0</td>\n",
       "      <td>0</td>\n",
       "      <td>0</td>\n",
       "      <td>0</td>\n",
       "    </tr>\n",
       "    <tr>\n",
       "      <th>4</th>\n",
       "      <td>1</td>\n",
       "      <td>0</td>\n",
       "      <td>0</td>\n",
       "      <td>0</td>\n",
       "      <td>0</td>\n",
       "      <td>0</td>\n",
       "      <td>0</td>\n",
       "      <td>0</td>\n",
       "    </tr>\n",
       "  </tbody>\n",
       "</table>\n",
       "</div>"
      ],
      "text/plain": [
       "    Bangalore   Chennai   Coimbatore   Delhi   Ernakulam   Hyderabad   Mumbai  \\\n",
       "0           0         0            0       0           0           0        1   \n",
       "1           0         0            0       0           0           1        0   \n",
       "2           0         1            0       0           0           0        0   \n",
       "3           0         0            0       1           0           0        0   \n",
       "4           1         0            0       0           0           0        0   \n",
       "\n",
       "    Thiruvananthapuram  \n",
       "0                    0  \n",
       "1                    0  \n",
       "2                    0  \n",
       "3                    0  \n",
       "4                    0  "
      ]
     },
     "execution_count": 138,
     "metadata": {},
     "output_type": "execute_result"
    }
   ],
   "source": [
    "city=td['City']\n",
    "city=pd.get_dummies(city)\n",
    "city.head()"
   ]
  },
  {
   "cell_type": "code",
   "execution_count": 139,
   "metadata": {},
   "outputs": [],
   "source": [
    "td=pd.concat([td,profile,city],axis=1)"
   ]
  },
  {
   "cell_type": "code",
   "execution_count": 140,
   "metadata": {},
   "outputs": [],
   "source": [
    "td.drop(['Profile','City'],axis=1,inplace=True)"
   ]
  },
  {
   "cell_type": "markdown",
   "metadata": {},
   "source": [
    "## Checking Outliers"
   ]
  },
  {
   "cell_type": "code",
   "execution_count": 141,
   "metadata": {},
   "outputs": [
    {
     "data": {
      "image/png": "[encoded data removed]",
      "text/plain": [
       "<Figure size 432x288 with 1 Axes>"
      ]
     },
     "metadata": {
      "needs_background": "light"
     },
     "output_type": "display_data"
    },
    {
     "data": {
      "image/png": "[encoded data removed]",
      "text/plain": [
       "<Figure size 432x288 with 1 Axes>"
      ]
     },
     "metadata": {
      "needs_background": "light"
     },
     "output_type": "display_data"
    }
   ],
   "source": [
    "for col in ['Experience','Rating']:\n",
    "    sns.boxplot(df[col])\n",
    "    plt.show()"
   ]
  },
  {
   "cell_type": "markdown",
   "metadata": {},
   "source": [
    "### Observations:\n",
    "        From above boxplots it is evident that outliers exists."
   ]
  },
  {
   "cell_type": "markdown",
   "metadata": {},
   "source": [
    "## Removing Outliers"
   ]
  },
  {
   "cell_type": "markdown",
   "metadata": {},
   "source": [
    "### 1. Z-score Method"
   ]
  },
  {
   "cell_type": "code",
   "execution_count": 144,
   "metadata": {},
   "outputs": [],
   "source": [
    "z=np.abs(zscore(td))"
   ]
  },
  {
   "cell_type": "code",
   "execution_count": 145,
   "metadata": {},
   "outputs": [
    {
     "data": {
      "text/plain": [
       "(array([   2,   11,   17,   21,   54,   58,   65,   72,   95,   96,  101,\n",
       "         104,  107,  118,  131,  139,  154,  157,  165,  168,  195,  214,\n",
       "         219,  222,  227,  258,  261,  264,  264,  265,  283,  303,  336,\n",
       "         355,  357,  362,  370,  386,  398,  406,  412,  436,  445,  446,\n",
       "         448,  449,  454,  481,  483,  488,  509,  513,  530,  564,  565,\n",
       "         593,  602,  604,  617,  622,  641,  651,  652,  664,  671,  676,\n",
       "         677,  699,  709,  723,  724,  729,  760,  769,  772,  773,  775,\n",
       "         776,  777,  781,  783,  793,  795,  800,  801,  818,  864,  866,\n",
       "         873,  877,  888,  894,  896,  928,  936,  938,  963,  968,  970,\n",
       "         975,  988,  989,  991,  991,  995, 1000, 1033, 1043, 1048, 1060,\n",
       "        1080, 1088, 1093, 1098, 1103, 1120, 1158, 1161, 1163, 1169, 1173,\n",
       "        1185, 1199, 1222, 1231, 1242, 1244, 1258, 1268, 1282, 1285, 1286,\n",
       "        1286, 1292, 1295, 1296, 1298, 1331, 1332, 1335, 1345, 1349, 1372,\n",
       "        1382, 1385, 1392, 1402, 1403, 1403, 1408, 1422, 1429, 1433, 1436,\n",
       "        1443, 1445, 1448, 1479, 1497, 1505, 1513, 1526, 1534, 1535, 1562,\n",
       "        1572, 1578, 1587, 1598, 1611, 1613, 1634, 1650, 1681, 1689, 1711,\n",
       "        1714, 1717, 1747, 1755, 1769, 1771, 1783, 1801, 1818, 1820, 1823,\n",
       "        1830, 1837, 1842, 1848, 1850, 1851, 1866, 1872, 1884, 1893, 1920,\n",
       "        1921, 1930, 1935, 1947, 1953, 1959], dtype=int64),\n",
       " array([ 1, 11,  1, 16, 13, 13,  1,  1, 13,  2, 11,  0,  2, 11, 13,  1, 11,\n",
       "        13, 13,  1,  1,  1, 11, 13, 11,  0, 13,  0, 11, 16, 16, 11, 13, 11,\n",
       "        11,  1, 13, 11,  0, 11,  1,  1, 13, 11, 11,  1,  1, 11, 13, 13, 11,\n",
       "        11, 11,  1, 11, 13, 16, 13,  0,  1,  0, 16,  1, 13,  1,  1, 11, 13,\n",
       "        13, 11, 16, 11, 13, 16,  1,  1, 11, 13, 13, 11, 13, 16, 13, 13, 13,\n",
       "        11, 16, 13, 11, 11, 11, 11, 11, 11, 13, 11,  1, 11, 11,  1, 11, 16,\n",
       "         0,  1,  1,  1, 11, 11, 11,  1, 11, 13,  1,  1, 13,  1, 13, 13, 11,\n",
       "        13,  2,  2,  1, 11,  1, 11,  0, 11, 11,  0,  2,  1,  2,  1,  0, 11,\n",
       "        11, 11, 13,  0, 13, 11, 13, 16, 13,  1, 11,  1, 11, 11,  1, 11, 11,\n",
       "        11,  2, 11,  1, 11,  1, 16, 11,  1, 13, 11,  1, 13, 13, 11, 11, 13,\n",
       "        16,  1,  1, 13, 13, 16, 13,  1, 13, 16,  1, 16,  1, 11,  1, 11,  1,\n",
       "        13, 11, 11,  1, 16, 13,  1, 11,  2, 11, 11, 11, 13, 13,  1, 11, 11],\n",
       "       dtype=int64))"
      ]
     },
     "execution_count": 145,
     "metadata": {},
     "output_type": "execute_result"
    }
   ],
   "source": [
    "np.where(z>3)"
   ]
  },
  {
   "cell_type": "code",
   "execution_count": 146,
   "metadata": {},
   "outputs": [],
   "source": [
    "# Threshold=3\n",
    "test=td[(z<3).all(axis=1)]"
   ]
  },
  {
   "cell_type": "code",
   "execution_count": 147,
   "metadata": {},
   "outputs": [
    {
     "name": "stdout",
     "output_type": "stream",
     "text": [
      "(1976, 17) \t\t (1776, 17)\n"
     ]
    }
   ],
   "source": [
    "print(td.shape,'\\t\\t',test.shape)"
   ]
  },
  {
   "cell_type": "code",
   "execution_count": 148,
   "metadata": {},
   "outputs": [
    {
     "data": {
      "text/plain": [
       "10.121457489878543"
      ]
     },
     "execution_count": 148,
     "metadata": {},
     "output_type": "execute_result"
    }
   ],
   "source": [
    "# percentage loss of data\n",
    "per_loss = ((1976-1776)/1976)*100\n",
    "per_loss"
   ]
  },
  {
   "cell_type": "markdown",
   "metadata": {},
   "source": [
    "### Since significant amount (> 5%) of data is lost during outlier removal, we are not going with Z-score method of removing outliers."
   ]
  },
  {
   "cell_type": "markdown",
   "metadata": {},
   "source": [
    "## Checking Skewness"
   ]
  },
  {
   "cell_type": "code",
   "execution_count": 149,
   "metadata": {},
   "outputs": [
    {
     "data": {
      "text/plain": [
       "Experience                     0.967446\n",
       "Rating                        -4.222297\n",
       "Total No. Of Qualification     2.688581\n",
       "Ayurveda                       2.255581\n",
       "Dentist                        1.330680\n",
       "Dermatologists                 1.767575\n",
       "ENT Specialist                 2.363737\n",
       "General Medicine               1.320194\n",
       "Homeopath                      2.092681\n",
       " Bangalore                     1.406303\n",
       " Chennai                       2.021020\n",
       " Coimbatore                    5.030279\n",
       " Delhi                         1.428667\n",
       " Ernakulam                     6.184628\n",
       " Hyderabad                     1.772394\n",
       " Mumbai                        1.529925\n",
       " Thiruvananthapuram           10.649701\n",
       "dtype: float64"
      ]
     },
     "execution_count": 149,
     "metadata": {},
     "output_type": "execute_result"
    }
   ],
   "source": [
    "td.skew()"
   ]
  },
  {
   "cell_type": "markdown",
   "metadata": {},
   "source": [
    "### Observations:\n",
    "        Acceptable range of skewness is +/- 0.5, hence data is skewed."
   ]
  },
  {
   "cell_type": "markdown",
   "metadata": {},
   "source": [
    "## Removing Skewness"
   ]
  },
  {
   "cell_type": "code",
   "execution_count": 150,
   "metadata": {},
   "outputs": [],
   "source": [
    "td=power_transform(td,method='yeo-johnson')"
   ]
  },
  {
   "cell_type": "markdown",
   "metadata": {},
   "source": [
    "## Standardizing Data"
   ]
  },
  {
   "cell_type": "code",
   "execution_count": 152,
   "metadata": {},
   "outputs": [],
   "source": [
    "sc=StandardScaler()\n",
    "td=sc.fit_transform(td)"
   ]
  },
  {
   "cell_type": "markdown",
   "metadata": {},
   "source": [
    "# Loading Model"
   ]
  },
  {
   "cell_type": "code",
   "execution_count": 153,
   "metadata": {},
   "outputs": [],
   "source": [
    "gbr = joblib.load('Fees_Model(Regressor).obj')"
   ]
  },
  {
   "cell_type": "markdown",
   "metadata": {},
   "source": [
    "## Predicting Doctors 'Fees' using Regressor Model"
   ]
  },
  {
   "cell_type": "code",
   "execution_count": 154,
   "metadata": {},
   "outputs": [],
   "source": [
    "f1 = gbr.predict(td)"
   ]
  },
  {
   "cell_type": "code",
   "execution_count": 155,
   "metadata": {},
   "outputs": [
    {
     "data": {
      "text/html": [
       "<div>\n",
       "<style scoped>\n",
       "    .dataframe tbody tr th:only-of-type {\n",
       "        vertical-align: middle;\n",
       "    }\n",
       "\n",
       "    .dataframe tbody tr th {\n",
       "        vertical-align: top;\n",
       "    }\n",
       "\n",
       "    .dataframe thead th {\n",
       "        text-align: right;\n",
       "    }\n",
       "</style>\n",
       "<table border=\"1\" class=\"dataframe\">\n",
       "  <thead>\n",
       "    <tr style=\"text-align: right;\">\n",
       "      <th></th>\n",
       "      <th>Fees1</th>\n",
       "    </tr>\n",
       "  </thead>\n",
       "  <tbody>\n",
       "    <tr>\n",
       "      <th>0</th>\n",
       "      <td>252.854050</td>\n",
       "    </tr>\n",
       "    <tr>\n",
       "      <th>1</th>\n",
       "      <td>365.720970</td>\n",
       "    </tr>\n",
       "    <tr>\n",
       "      <th>2</th>\n",
       "      <td>357.645894</td>\n",
       "    </tr>\n",
       "    <tr>\n",
       "      <th>3</th>\n",
       "      <td>246.238273</td>\n",
       "    </tr>\n",
       "    <tr>\n",
       "      <th>4</th>\n",
       "      <td>280.555458</td>\n",
       "    </tr>\n",
       "    <tr>\n",
       "      <th>...</th>\n",
       "      <td>...</td>\n",
       "    </tr>\n",
       "    <tr>\n",
       "      <th>1971</th>\n",
       "      <td>276.078743</td>\n",
       "    </tr>\n",
       "    <tr>\n",
       "      <th>1972</th>\n",
       "      <td>347.833325</td>\n",
       "    </tr>\n",
       "    <tr>\n",
       "      <th>1973</th>\n",
       "      <td>316.402725</td>\n",
       "    </tr>\n",
       "    <tr>\n",
       "      <th>1974</th>\n",
       "      <td>209.536771</td>\n",
       "    </tr>\n",
       "    <tr>\n",
       "      <th>1975</th>\n",
       "      <td>347.833325</td>\n",
       "    </tr>\n",
       "  </tbody>\n",
       "</table>\n",
       "<p>1976 rows × 1 columns</p>\n",
       "</div>"
      ],
      "text/plain": [
       "           Fees1\n",
       "0     252.854050\n",
       "1     365.720970\n",
       "2     357.645894\n",
       "3     246.238273\n",
       "4     280.555458\n",
       "...          ...\n",
       "1971  276.078743\n",
       "1972  347.833325\n",
       "1973  316.402725\n",
       "1974  209.536771\n",
       "1975  347.833325\n",
       "\n",
       "[1976 rows x 1 columns]"
      ]
     },
     "execution_count": 155,
     "metadata": {},
     "output_type": "execute_result"
    }
   ],
   "source": [
    "Fees1=pd.DataFrame({'Fees1':f1})\n",
    "Fees1"
   ]
  },
  {
   "cell_type": "code",
   "execution_count": 156,
   "metadata": {},
   "outputs": [],
   "source": [
    "# Saving the predicted 'Fees' in a csv file\n",
    "Fees1.to_csv('Fees1')"
   ]
  },
  {
   "cell_type": "code",
   "execution_count": 157,
   "metadata": {},
   "outputs": [],
   "source": [
    "gbc = joblib.load('Fees_Model(Classifier).obj')"
   ]
  },
  {
   "cell_type": "markdown",
   "metadata": {},
   "source": [
    "## Predicting Doctors 'Fees' using Classifier Model"
   ]
  },
  {
   "cell_type": "code",
   "execution_count": 158,
   "metadata": {},
   "outputs": [],
   "source": [
    "f2 = gbc.predict(td)"
   ]
  },
  {
   "cell_type": "code",
   "execution_count": 159,
   "metadata": {},
   "outputs": [
    {
     "data": {
      "text/html": [
       "<div>\n",
       "<style scoped>\n",
       "    .dataframe tbody tr th:only-of-type {\n",
       "        vertical-align: middle;\n",
       "    }\n",
       "\n",
       "    .dataframe tbody tr th {\n",
       "        vertical-align: top;\n",
       "    }\n",
       "\n",
       "    .dataframe thead th {\n",
       "        text-align: right;\n",
       "    }\n",
       "</style>\n",
       "<table border=\"1\" class=\"dataframe\">\n",
       "  <thead>\n",
       "    <tr style=\"text-align: right;\">\n",
       "      <th></th>\n",
       "      <th>Fees2</th>\n",
       "    </tr>\n",
       "  </thead>\n",
       "  <tbody>\n",
       "    <tr>\n",
       "      <th>0</th>\n",
       "      <td>0</td>\n",
       "    </tr>\n",
       "    <tr>\n",
       "      <th>1</th>\n",
       "      <td>1</td>\n",
       "    </tr>\n",
       "    <tr>\n",
       "      <th>2</th>\n",
       "      <td>1</td>\n",
       "    </tr>\n",
       "    <tr>\n",
       "      <th>3</th>\n",
       "      <td>0</td>\n",
       "    </tr>\n",
       "    <tr>\n",
       "      <th>4</th>\n",
       "      <td>0</td>\n",
       "    </tr>\n",
       "    <tr>\n",
       "      <th>...</th>\n",
       "      <td>...</td>\n",
       "    </tr>\n",
       "    <tr>\n",
       "      <th>1971</th>\n",
       "      <td>0</td>\n",
       "    </tr>\n",
       "    <tr>\n",
       "      <th>1972</th>\n",
       "      <td>1</td>\n",
       "    </tr>\n",
       "    <tr>\n",
       "      <th>1973</th>\n",
       "      <td>0</td>\n",
       "    </tr>\n",
       "    <tr>\n",
       "      <th>1974</th>\n",
       "      <td>0</td>\n",
       "    </tr>\n",
       "    <tr>\n",
       "      <th>1975</th>\n",
       "      <td>1</td>\n",
       "    </tr>\n",
       "  </tbody>\n",
       "</table>\n",
       "<p>1976 rows × 1 columns</p>\n",
       "</div>"
      ],
      "text/plain": [
       "      Fees2\n",
       "0         0\n",
       "1         1\n",
       "2         1\n",
       "3         0\n",
       "4         0\n",
       "...     ...\n",
       "1971      0\n",
       "1972      1\n",
       "1973      0\n",
       "1974      0\n",
       "1975      1\n",
       "\n",
       "[1976 rows x 1 columns]"
      ]
     },
     "execution_count": 159,
     "metadata": {},
     "output_type": "execute_result"
    }
   ],
   "source": [
    "Fees2=pd.DataFrame({'Fees2':f2})\n",
    "Fees2"
   ]
  },
  {
   "cell_type": "code",
   "execution_count": 160,
   "metadata": {},
   "outputs": [],
   "source": [
    "# Saving the predicted 'Fees' in a csv file\n",
    "Fees2.to_csv('Fees2')"
   ]
  }
 ],
 "metadata": {
  "kernelspec": {
   "display_name": "Python 3",
   "language": "python",
   "name": "python3"
  },
  "language_info": {
   "codemirror_mode": {
    "name": "ipython",
    "version": 3
   },
   "file_extension": ".py",
   "mimetype": "text/x-python",
   "name": "python",
   "nbconvert_exporter": "python",
   "pygments_lexer": "ipython3",
   "version": "3.8.3"
  }
 },
 "nbformat": 4,
 "nbformat_minor": 4
}
