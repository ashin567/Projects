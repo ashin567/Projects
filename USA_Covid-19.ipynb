{
 "cells": [
  {
   "cell_type": "markdown",
   "metadata": {},
   "source": [
    "# UnitedStates_COVID_19_Dataset"
   ]
  },
  {
   "cell_type": "markdown",
   "metadata": {},
   "source": [
    "    This is the data repository for the 2019 Novel Coronavirus Visual Dashboard operated by the Johns Hopkins University Center for Systems Science and Engineering (JHU CSSE). Also, Supported by ESRI Living Atlas Team and the Johns Hopkins University Applied Physics Lab (JHU APL)."
   ]
  },
  {
   "cell_type": "markdown",
   "metadata": {},
   "source": [
    "Coronavirus is a family of viruses that can cause illness, which can vary from common cold and cough to sometimes more severe disease. Middle East Respiratory Syndrome (MERS-CoV) and Severe Acute Respiratory Syndrome (SARS-CoV) were such severe cases with the world already has faced. SARS-CoV-2 (n-coronavirus) is the new virus of the coronavirus family, which first discovered in 2019, which has not been identified in humans before. It is a contiguous virus which started from Wuhan in December 2019. Which later declared as Pandemic by WHO due to high rate spreads throughout the world. Currently (on the date 20 May 2020), this leads to a total of 300K+ Deaths across the globe, including 90K+ deaths alone in USA."
   ]
  },
  {
   "cell_type": "markdown",
   "metadata": {},
   "source": [
    "## Task"
   ]
  },
  {
   "cell_type": "markdown",
   "metadata": {},
   "source": [
    "    The dataset is provided to identify the deaths and recovered cases."
   ]
  },
  {
   "cell_type": "code",
   "execution_count": 1,
   "metadata": {},
   "outputs": [],
   "source": [
    "import pandas as pd\n",
    "import numpy as np\n",
    "import matplotlib.pyplot as plt\n",
    "import seaborn as sns\n",
    "import warnings\n",
    "warnings.filterwarnings('ignore')"
   ]
  },
  {
   "cell_type": "code",
   "execution_count": 2,
   "metadata": {},
   "outputs": [
    {
     "data": {
      "text/html": [
       "<div>\n",
       "<style scoped>\n",
       "    .dataframe tbody tr th:only-of-type {\n",
       "        vertical-align: middle;\n",
       "    }\n",
       "\n",
       "    .dataframe tbody tr th {\n",
       "        vertical-align: top;\n",
       "    }\n",
       "\n",
       "    .dataframe thead th {\n",
       "        text-align: right;\n",
       "    }\n",
       "</style>\n",
       "<table border=\"1\" class=\"dataframe\">\n",
       "  <thead>\n",
       "    <tr style=\"text-align: right;\">\n",
       "      <th></th>\n",
       "      <th>Province_State</th>\n",
       "      <th>Country_Region</th>\n",
       "      <th>Last_Update</th>\n",
       "      <th>Lat</th>\n",
       "      <th>Long_</th>\n",
       "      <th>Confirmed</th>\n",
       "      <th>Deaths</th>\n",
       "      <th>Recovered</th>\n",
       "      <th>Active</th>\n",
       "      <th>FIPS</th>\n",
       "      <th>Incident_Rate</th>\n",
       "      <th>People_Tested</th>\n",
       "      <th>People_Hospitalized</th>\n",
       "      <th>Mortality_Rate</th>\n",
       "      <th>UID</th>\n",
       "      <th>ISO3</th>\n",
       "      <th>Testing_Rate</th>\n",
       "      <th>Hospitalization_Rate</th>\n",
       "    </tr>\n",
       "  </thead>\n",
       "  <tbody>\n",
       "    <tr>\n",
       "      <th>0</th>\n",
       "      <td>Alabama</td>\n",
       "      <td>US</td>\n",
       "      <td>2020-05-21 02:32:54</td>\n",
       "      <td>32.3182</td>\n",
       "      <td>-86.9023</td>\n",
       "      <td>13052</td>\n",
       "      <td>522</td>\n",
       "      <td>NaN</td>\n",
       "      <td>12530.0</td>\n",
       "      <td>1</td>\n",
       "      <td>266.194321</td>\n",
       "      <td>164450.0</td>\n",
       "      <td>1493.0</td>\n",
       "      <td>3.999387</td>\n",
       "      <td>84000001</td>\n",
       "      <td>USA</td>\n",
       "      <td>3353.942386</td>\n",
       "      <td>11.438860</td>\n",
       "    </tr>\n",
       "    <tr>\n",
       "      <th>1</th>\n",
       "      <td>Alaska</td>\n",
       "      <td>US</td>\n",
       "      <td>2020-05-21 02:32:54</td>\n",
       "      <td>61.3707</td>\n",
       "      <td>-152.4044</td>\n",
       "      <td>401</td>\n",
       "      <td>10</td>\n",
       "      <td>352.0</td>\n",
       "      <td>39.0</td>\n",
       "      <td>2</td>\n",
       "      <td>54.815493</td>\n",
       "      <td>37045.0</td>\n",
       "      <td>NaN</td>\n",
       "      <td>2.493766</td>\n",
       "      <td>84000002</td>\n",
       "      <td>USA</td>\n",
       "      <td>5063.940017</td>\n",
       "      <td>NaN</td>\n",
       "    </tr>\n",
       "    <tr>\n",
       "      <th>2</th>\n",
       "      <td>American Samoa</td>\n",
       "      <td>US</td>\n",
       "      <td>2020-05-21 02:32:54</td>\n",
       "      <td>-14.2710</td>\n",
       "      <td>-170.1320</td>\n",
       "      <td>0</td>\n",
       "      <td>0</td>\n",
       "      <td>NaN</td>\n",
       "      <td>0.0</td>\n",
       "      <td>60</td>\n",
       "      <td>0.000000</td>\n",
       "      <td>124.0</td>\n",
       "      <td>NaN</td>\n",
       "      <td>NaN</td>\n",
       "      <td>16</td>\n",
       "      <td>ASM</td>\n",
       "      <td>222.857246</td>\n",
       "      <td>NaN</td>\n",
       "    </tr>\n",
       "    <tr>\n",
       "      <th>3</th>\n",
       "      <td>Arizona</td>\n",
       "      <td>US</td>\n",
       "      <td>2020-05-21 02:32:54</td>\n",
       "      <td>33.7298</td>\n",
       "      <td>-111.4312</td>\n",
       "      <td>14906</td>\n",
       "      <td>747</td>\n",
       "      <td>3773.0</td>\n",
       "      <td>10386.0</td>\n",
       "      <td>4</td>\n",
       "      <td>204.788838</td>\n",
       "      <td>165435.0</td>\n",
       "      <td>1792.0</td>\n",
       "      <td>5.011405</td>\n",
       "      <td>84000004</td>\n",
       "      <td>USA</td>\n",
       "      <td>2272.859351</td>\n",
       "      <td>12.022005</td>\n",
       "    </tr>\n",
       "    <tr>\n",
       "      <th>4</th>\n",
       "      <td>Arkansas</td>\n",
       "      <td>US</td>\n",
       "      <td>2020-05-21 02:32:54</td>\n",
       "      <td>34.9697</td>\n",
       "      <td>-92.3731</td>\n",
       "      <td>5003</td>\n",
       "      <td>107</td>\n",
       "      <td>3852.0</td>\n",
       "      <td>1044.0</td>\n",
       "      <td>5</td>\n",
       "      <td>165.782801</td>\n",
       "      <td>96258.0</td>\n",
       "      <td>535.0</td>\n",
       "      <td>2.138717</td>\n",
       "      <td>84000005</td>\n",
       "      <td>USA</td>\n",
       "      <td>3189.670370</td>\n",
       "      <td>10.693584</td>\n",
       "    </tr>\n",
       "    <tr>\n",
       "      <th>5</th>\n",
       "      <td>California</td>\n",
       "      <td>US</td>\n",
       "      <td>2020-05-21 02:32:54</td>\n",
       "      <td>36.1162</td>\n",
       "      <td>-119.6816</td>\n",
       "      <td>85997</td>\n",
       "      <td>3497</td>\n",
       "      <td>NaN</td>\n",
       "      <td>82500.0</td>\n",
       "      <td>6</td>\n",
       "      <td>217.646575</td>\n",
       "      <td>1380120.0</td>\n",
       "      <td>NaN</td>\n",
       "      <td>4.066421</td>\n",
       "      <td>84000006</td>\n",
       "      <td>USA</td>\n",
       "      <td>3492.893832</td>\n",
       "      <td>NaN</td>\n",
       "    </tr>\n",
       "    <tr>\n",
       "      <th>6</th>\n",
       "      <td>Colorado</td>\n",
       "      <td>US</td>\n",
       "      <td>2020-05-21 02:32:54</td>\n",
       "      <td>39.0598</td>\n",
       "      <td>-105.3111</td>\n",
       "      <td>22797</td>\n",
       "      <td>1299</td>\n",
       "      <td>3478.0</td>\n",
       "      <td>18020.0</td>\n",
       "      <td>8</td>\n",
       "      <td>395.868121</td>\n",
       "      <td>131837.0</td>\n",
       "      <td>3955.0</td>\n",
       "      <td>5.698118</td>\n",
       "      <td>84000008</td>\n",
       "      <td>USA</td>\n",
       "      <td>2289.339188</td>\n",
       "      <td>17.348774</td>\n",
       "    </tr>\n",
       "    <tr>\n",
       "      <th>7</th>\n",
       "      <td>Connecticut</td>\n",
       "      <td>US</td>\n",
       "      <td>2020-05-21 02:32:54</td>\n",
       "      <td>41.5978</td>\n",
       "      <td>-72.7554</td>\n",
       "      <td>39017</td>\n",
       "      <td>3529</td>\n",
       "      <td>6264.0</td>\n",
       "      <td>29224.0</td>\n",
       "      <td>9</td>\n",
       "      <td>1094.357902</td>\n",
       "      <td>190718.0</td>\n",
       "      <td>10946.0</td>\n",
       "      <td>9.044775</td>\n",
       "      <td>84000009</td>\n",
       "      <td>USA</td>\n",
       "      <td>5349.302875</td>\n",
       "      <td>28.054438</td>\n",
       "    </tr>\n",
       "    <tr>\n",
       "      <th>8</th>\n",
       "      <td>Delaware</td>\n",
       "      <td>US</td>\n",
       "      <td>2020-05-21 02:32:54</td>\n",
       "      <td>39.3185</td>\n",
       "      <td>-75.5071</td>\n",
       "      <td>8194</td>\n",
       "      <td>310</td>\n",
       "      <td>3965.0</td>\n",
       "      <td>3919.0</td>\n",
       "      <td>10</td>\n",
       "      <td>841.476990</td>\n",
       "      <td>45412.0</td>\n",
       "      <td>NaN</td>\n",
       "      <td>3.783256</td>\n",
       "      <td>84000010</td>\n",
       "      <td>USA</td>\n",
       "      <td>4663.552976</td>\n",
       "      <td>NaN</td>\n",
       "    </tr>\n",
       "    <tr>\n",
       "      <th>9</th>\n",
       "      <td>Diamond Princess</td>\n",
       "      <td>US</td>\n",
       "      <td>2020-05-21 02:32:54</td>\n",
       "      <td>NaN</td>\n",
       "      <td>NaN</td>\n",
       "      <td>49</td>\n",
       "      <td>0</td>\n",
       "      <td>NaN</td>\n",
       "      <td>49.0</td>\n",
       "      <td>88888</td>\n",
       "      <td>NaN</td>\n",
       "      <td>NaN</td>\n",
       "      <td>NaN</td>\n",
       "      <td>0.000000</td>\n",
       "      <td>84088888</td>\n",
       "      <td>USA</td>\n",
       "      <td>NaN</td>\n",
       "      <td>NaN</td>\n",
       "    </tr>\n",
       "    <tr>\n",
       "      <th>10</th>\n",
       "      <td>District of Columbia</td>\n",
       "      <td>US</td>\n",
       "      <td>2020-05-21 02:32:54</td>\n",
       "      <td>38.8974</td>\n",
       "      <td>-77.0268</td>\n",
       "      <td>7551</td>\n",
       "      <td>407</td>\n",
       "      <td>1059.0</td>\n",
       "      <td>6085.0</td>\n",
       "      <td>11</td>\n",
       "      <td>1069.927127</td>\n",
       "      <td>40419.0</td>\n",
       "      <td>NaN</td>\n",
       "      <td>5.390015</td>\n",
       "      <td>84000011</td>\n",
       "      <td>USA</td>\n",
       "      <td>5727.106946</td>\n",
       "      <td>NaN</td>\n",
       "    </tr>\n",
       "    <tr>\n",
       "      <th>11</th>\n",
       "      <td>Florida</td>\n",
       "      <td>US</td>\n",
       "      <td>2020-05-21 02:32:54</td>\n",
       "      <td>27.7663</td>\n",
       "      <td>-81.6868</td>\n",
       "      <td>47471</td>\n",
       "      <td>2096</td>\n",
       "      <td>NaN</td>\n",
       "      <td>45375.0</td>\n",
       "      <td>12</td>\n",
       "      <td>221.024217</td>\n",
       "      <td>771348.0</td>\n",
       "      <td>8934.0</td>\n",
       "      <td>4.415327</td>\n",
       "      <td>84000012</td>\n",
       "      <td>USA</td>\n",
       "      <td>3591.383953</td>\n",
       "      <td>18.819911</td>\n",
       "    </tr>\n",
       "    <tr>\n",
       "      <th>12</th>\n",
       "      <td>Georgia</td>\n",
       "      <td>US</td>\n",
       "      <td>2020-05-21 02:32:54</td>\n",
       "      <td>33.0406</td>\n",
       "      <td>-83.6431</td>\n",
       "      <td>39801</td>\n",
       "      <td>1697</td>\n",
       "      <td>NaN</td>\n",
       "      <td>38104.0</td>\n",
       "      <td>13</td>\n",
       "      <td>374.864974</td>\n",
       "      <td>402940.0</td>\n",
       "      <td>7107.0</td>\n",
       "      <td>4.263712</td>\n",
       "      <td>84000013</td>\n",
       "      <td>USA</td>\n",
       "      <td>3795.082856</td>\n",
       "      <td>17.856335</td>\n",
       "    </tr>\n",
       "    <tr>\n",
       "      <th>13</th>\n",
       "      <td>Grand Princess</td>\n",
       "      <td>US</td>\n",
       "      <td>2020-05-21 02:32:54</td>\n",
       "      <td>NaN</td>\n",
       "      <td>NaN</td>\n",
       "      <td>103</td>\n",
       "      <td>3</td>\n",
       "      <td>NaN</td>\n",
       "      <td>100.0</td>\n",
       "      <td>99999</td>\n",
       "      <td>NaN</td>\n",
       "      <td>NaN</td>\n",
       "      <td>NaN</td>\n",
       "      <td>2.912621</td>\n",
       "      <td>84099999</td>\n",
       "      <td>USA</td>\n",
       "      <td>NaN</td>\n",
       "      <td>NaN</td>\n",
       "    </tr>\n",
       "    <tr>\n",
       "      <th>14</th>\n",
       "      <td>Guam</td>\n",
       "      <td>US</td>\n",
       "      <td>2020-05-21 02:32:54</td>\n",
       "      <td>13.4443</td>\n",
       "      <td>144.7937</td>\n",
       "      <td>154</td>\n",
       "      <td>5</td>\n",
       "      <td>125.0</td>\n",
       "      <td>24.0</td>\n",
       "      <td>66</td>\n",
       "      <td>93.771502</td>\n",
       "      <td>4972.0</td>\n",
       "      <td>NaN</td>\n",
       "      <td>3.246753</td>\n",
       "      <td>316</td>\n",
       "      <td>GUM</td>\n",
       "      <td>3027.479921</td>\n",
       "      <td>NaN</td>\n",
       "    </tr>\n",
       "    <tr>\n",
       "      <th>15</th>\n",
       "      <td>Hawaii</td>\n",
       "      <td>US</td>\n",
       "      <td>2020-05-21 02:32:54</td>\n",
       "      <td>21.0943</td>\n",
       "      <td>-157.4983</td>\n",
       "      <td>643</td>\n",
       "      <td>17</td>\n",
       "      <td>578.0</td>\n",
       "      <td>48.0</td>\n",
       "      <td>15</td>\n",
       "      <td>45.413710</td>\n",
       "      <td>46304.0</td>\n",
       "      <td>82.0</td>\n",
       "      <td>2.643857</td>\n",
       "      <td>84000015</td>\n",
       "      <td>USA</td>\n",
       "      <td>3270.352122</td>\n",
       "      <td>12.752722</td>\n",
       "    </tr>\n",
       "    <tr>\n",
       "      <th>16</th>\n",
       "      <td>Idaho</td>\n",
       "      <td>US</td>\n",
       "      <td>2020-05-21 02:32:54</td>\n",
       "      <td>44.2405</td>\n",
       "      <td>-114.4788</td>\n",
       "      <td>2506</td>\n",
       "      <td>77</td>\n",
       "      <td>1668.0</td>\n",
       "      <td>761.0</td>\n",
       "      <td>16</td>\n",
       "      <td>140.229930</td>\n",
       "      <td>38567.0</td>\n",
       "      <td>215.0</td>\n",
       "      <td>3.072626</td>\n",
       "      <td>84000016</td>\n",
       "      <td>USA</td>\n",
       "      <td>2158.119598</td>\n",
       "      <td>8.579409</td>\n",
       "    </tr>\n",
       "    <tr>\n",
       "      <th>17</th>\n",
       "      <td>Illinois</td>\n",
       "      <td>US</td>\n",
       "      <td>2020-05-21 02:32:54</td>\n",
       "      <td>40.3495</td>\n",
       "      <td>-88.9861</td>\n",
       "      <td>100418</td>\n",
       "      <td>4525</td>\n",
       "      <td>NaN</td>\n",
       "      <td>95893.0</td>\n",
       "      <td>17</td>\n",
       "      <td>792.451219</td>\n",
       "      <td>642713.0</td>\n",
       "      <td>NaN</td>\n",
       "      <td>4.506164</td>\n",
       "      <td>84000017</td>\n",
       "      <td>USA</td>\n",
       "      <td>5071.986102</td>\n",
       "      <td>NaN</td>\n",
       "    </tr>\n",
       "    <tr>\n",
       "      <th>18</th>\n",
       "      <td>Indiana</td>\n",
       "      <td>US</td>\n",
       "      <td>2020-05-21 02:32:54</td>\n",
       "      <td>39.8494</td>\n",
       "      <td>-86.2583</td>\n",
       "      <td>29274</td>\n",
       "      <td>1864</td>\n",
       "      <td>NaN</td>\n",
       "      <td>27410.0</td>\n",
       "      <td>18</td>\n",
       "      <td>434.834339</td>\n",
       "      <td>195738.0</td>\n",
       "      <td>4389.0</td>\n",
       "      <td>6.367425</td>\n",
       "      <td>84000018</td>\n",
       "      <td>USA</td>\n",
       "      <td>2907.481174</td>\n",
       "      <td>14.992826</td>\n",
       "    </tr>\n",
       "    <tr>\n",
       "      <th>19</th>\n",
       "      <td>Iowa</td>\n",
       "      <td>US</td>\n",
       "      <td>2020-05-21 02:32:54</td>\n",
       "      <td>42.0115</td>\n",
       "      <td>-93.2105</td>\n",
       "      <td>15620</td>\n",
       "      <td>393</td>\n",
       "      <td>8362.0</td>\n",
       "      <td>6865.0</td>\n",
       "      <td>19</td>\n",
       "      <td>495.076179</td>\n",
       "      <td>110748.0</td>\n",
       "      <td>NaN</td>\n",
       "      <td>2.516005</td>\n",
       "      <td>84000019</td>\n",
       "      <td>USA</td>\n",
       "      <td>3510.159838</td>\n",
       "      <td>NaN</td>\n",
       "    </tr>\n",
       "    <tr>\n",
       "      <th>20</th>\n",
       "      <td>Kansas</td>\n",
       "      <td>US</td>\n",
       "      <td>2020-05-21 02:32:54</td>\n",
       "      <td>38.5266</td>\n",
       "      <td>-96.7265</td>\n",
       "      <td>8507</td>\n",
       "      <td>202</td>\n",
       "      <td>473.0</td>\n",
       "      <td>7832.0</td>\n",
       "      <td>20</td>\n",
       "      <td>292.004226</td>\n",
       "      <td>71203.0</td>\n",
       "      <td>760.0</td>\n",
       "      <td>2.374515</td>\n",
       "      <td>84000020</td>\n",
       "      <td>USA</td>\n",
       "      <td>2444.055121</td>\n",
       "      <td>8.933819</td>\n",
       "    </tr>\n",
       "    <tr>\n",
       "      <th>21</th>\n",
       "      <td>Kentucky</td>\n",
       "      <td>US</td>\n",
       "      <td>2020-05-21 02:32:54</td>\n",
       "      <td>37.6681</td>\n",
       "      <td>-84.6701</td>\n",
       "      <td>8167</td>\n",
       "      <td>376</td>\n",
       "      <td>2826.0</td>\n",
       "      <td>4965.0</td>\n",
       "      <td>21</td>\n",
       "      <td>182.802099</td>\n",
       "      <td>153986.0</td>\n",
       "      <td>2010.0</td>\n",
       "      <td>4.603894</td>\n",
       "      <td>84000021</td>\n",
       "      <td>USA</td>\n",
       "      <td>3446.671231</td>\n",
       "      <td>24.611240</td>\n",
       "    </tr>\n",
       "    <tr>\n",
       "      <th>22</th>\n",
       "      <td>Louisiana</td>\n",
       "      <td>US</td>\n",
       "      <td>2020-05-21 02:32:54</td>\n",
       "      <td>31.1695</td>\n",
       "      <td>-91.8678</td>\n",
       "      <td>35316</td>\n",
       "      <td>2608</td>\n",
       "      <td>26249.0</td>\n",
       "      <td>6459.0</td>\n",
       "      <td>22</td>\n",
       "      <td>759.680898</td>\n",
       "      <td>285970.0</td>\n",
       "      <td>NaN</td>\n",
       "      <td>7.384755</td>\n",
       "      <td>84000022</td>\n",
       "      <td>USA</td>\n",
       "      <td>6151.487891</td>\n",
       "      <td>NaN</td>\n",
       "    </tr>\n",
       "    <tr>\n",
       "      <th>23</th>\n",
       "      <td>Maine</td>\n",
       "      <td>US</td>\n",
       "      <td>2020-05-21 02:32:54</td>\n",
       "      <td>44.6939</td>\n",
       "      <td>-69.3819</td>\n",
       "      <td>1819</td>\n",
       "      <td>73</td>\n",
       "      <td>1100.0</td>\n",
       "      <td>646.0</td>\n",
       "      <td>23</td>\n",
       "      <td>135.320917</td>\n",
       "      <td>37269.0</td>\n",
       "      <td>231.0</td>\n",
       "      <td>4.013194</td>\n",
       "      <td>84000023</td>\n",
       "      <td>USA</td>\n",
       "      <td>2772.553734</td>\n",
       "      <td>12.699285</td>\n",
       "    </tr>\n",
       "    <tr>\n",
       "      <th>24</th>\n",
       "      <td>Maryland</td>\n",
       "      <td>US</td>\n",
       "      <td>2020-05-21 02:32:54</td>\n",
       "      <td>39.0639</td>\n",
       "      <td>-76.8021</td>\n",
       "      <td>42323</td>\n",
       "      <td>2123</td>\n",
       "      <td>2993.0</td>\n",
       "      <td>37207.0</td>\n",
       "      <td>24</td>\n",
       "      <td>700.053592</td>\n",
       "      <td>215330.0</td>\n",
       "      <td>7393.0</td>\n",
       "      <td>5.016185</td>\n",
       "      <td>84000024</td>\n",
       "      <td>USA</td>\n",
       "      <td>3561.716796</td>\n",
       "      <td>17.468043</td>\n",
       "    </tr>\n",
       "    <tr>\n",
       "      <th>25</th>\n",
       "      <td>Massachusetts</td>\n",
       "      <td>US</td>\n",
       "      <td>2020-05-21 02:32:54</td>\n",
       "      <td>42.2302</td>\n",
       "      <td>-71.5301</td>\n",
       "      <td>88970</td>\n",
       "      <td>6066</td>\n",
       "      <td>NaN</td>\n",
       "      <td>82904.0</td>\n",
       "      <td>25</td>\n",
       "      <td>1290.822797</td>\n",
       "      <td>489953.0</td>\n",
       "      <td>8897.0</td>\n",
       "      <td>6.818029</td>\n",
       "      <td>84000025</td>\n",
       "      <td>USA</td>\n",
       "      <td>7108.491647</td>\n",
       "      <td>10.000000</td>\n",
       "    </tr>\n",
       "    <tr>\n",
       "      <th>26</th>\n",
       "      <td>Michigan</td>\n",
       "      <td>US</td>\n",
       "      <td>2020-05-21 02:32:54</td>\n",
       "      <td>43.3266</td>\n",
       "      <td>-84.5361</td>\n",
       "      <td>53009</td>\n",
       "      <td>5060</td>\n",
       "      <td>28234.0</td>\n",
       "      <td>19715.0</td>\n",
       "      <td>26</td>\n",
       "      <td>530.787614</td>\n",
       "      <td>437072.0</td>\n",
       "      <td>NaN</td>\n",
       "      <td>9.545549</td>\n",
       "      <td>84000026</td>\n",
       "      <td>USA</td>\n",
       "      <td>4376.471997</td>\n",
       "      <td>NaN</td>\n",
       "    </tr>\n",
       "    <tr>\n",
       "      <th>27</th>\n",
       "      <td>Minnesota</td>\n",
       "      <td>US</td>\n",
       "      <td>2020-05-21 02:32:54</td>\n",
       "      <td>45.6945</td>\n",
       "      <td>-93.9002</td>\n",
       "      <td>17670</td>\n",
       "      <td>786</td>\n",
       "      <td>12227.0</td>\n",
       "      <td>4657.0</td>\n",
       "      <td>27</td>\n",
       "      <td>313.318316</td>\n",
       "      <td>167338.0</td>\n",
       "      <td>2308.0</td>\n",
       "      <td>4.448217</td>\n",
       "      <td>84000027</td>\n",
       "      <td>USA</td>\n",
       "      <td>2967.179419</td>\n",
       "      <td>13.061686</td>\n",
       "    </tr>\n",
       "    <tr>\n",
       "      <th>28</th>\n",
       "      <td>Mississippi</td>\n",
       "      <td>US</td>\n",
       "      <td>2020-05-21 02:32:54</td>\n",
       "      <td>32.7416</td>\n",
       "      <td>-89.6787</td>\n",
       "      <td>11967</td>\n",
       "      <td>570</td>\n",
       "      <td>7681.0</td>\n",
       "      <td>3716.0</td>\n",
       "      <td>28</td>\n",
       "      <td>402.096804</td>\n",
       "      <td>120680.0</td>\n",
       "      <td>1901.0</td>\n",
       "      <td>4.763099</td>\n",
       "      <td>84000028</td>\n",
       "      <td>USA</td>\n",
       "      <td>4054.904509</td>\n",
       "      <td>15.885351</td>\n",
       "    </tr>\n",
       "    <tr>\n",
       "      <th>29</th>\n",
       "      <td>Missouri</td>\n",
       "      <td>US</td>\n",
       "      <td>2020-05-21 02:32:54</td>\n",
       "      <td>38.4561</td>\n",
       "      <td>-92.2884</td>\n",
       "      <td>11528</td>\n",
       "      <td>640</td>\n",
       "      <td>NaN</td>\n",
       "      <td>10888.0</td>\n",
       "      <td>29</td>\n",
       "      <td>187.831124</td>\n",
       "      <td>161984.0</td>\n",
       "      <td>NaN</td>\n",
       "      <td>5.551700</td>\n",
       "      <td>84000029</td>\n",
       "      <td>USA</td>\n",
       "      <td>2639.281471</td>\n",
       "      <td>NaN</td>\n",
       "    </tr>\n",
       "    <tr>\n",
       "      <th>30</th>\n",
       "      <td>Montana</td>\n",
       "      <td>US</td>\n",
       "      <td>2020-05-21 02:32:54</td>\n",
       "      <td>46.9219</td>\n",
       "      <td>-110.4544</td>\n",
       "      <td>478</td>\n",
       "      <td>16</td>\n",
       "      <td>440.0</td>\n",
       "      <td>22.0</td>\n",
       "      <td>30</td>\n",
       "      <td>44.723974</td>\n",
       "      <td>29726.0</td>\n",
       "      <td>65.0</td>\n",
       "      <td>3.347280</td>\n",
       "      <td>84000030</td>\n",
       "      <td>USA</td>\n",
       "      <td>2781.307250</td>\n",
       "      <td>13.598326</td>\n",
       "    </tr>\n",
       "    <tr>\n",
       "      <th>31</th>\n",
       "      <td>Nebraska</td>\n",
       "      <td>US</td>\n",
       "      <td>2020-05-21 02:32:54</td>\n",
       "      <td>41.1254</td>\n",
       "      <td>-98.2681</td>\n",
       "      <td>11122</td>\n",
       "      <td>138</td>\n",
       "      <td>NaN</td>\n",
       "      <td>10984.0</td>\n",
       "      <td>31</td>\n",
       "      <td>574.956266</td>\n",
       "      <td>72135.0</td>\n",
       "      <td>NaN</td>\n",
       "      <td>1.240784</td>\n",
       "      <td>84000031</td>\n",
       "      <td>USA</td>\n",
       "      <td>3729.047853</td>\n",
       "      <td>NaN</td>\n",
       "    </tr>\n",
       "    <tr>\n",
       "      <th>32</th>\n",
       "      <td>Nevada</td>\n",
       "      <td>US</td>\n",
       "      <td>2020-05-21 02:32:54</td>\n",
       "      <td>38.3135</td>\n",
       "      <td>-117.0554</td>\n",
       "      <td>7388</td>\n",
       "      <td>377</td>\n",
       "      <td>336.0</td>\n",
       "      <td>6675.0</td>\n",
       "      <td>32</td>\n",
       "      <td>239.857981</td>\n",
       "      <td>91171.0</td>\n",
       "      <td>NaN</td>\n",
       "      <td>5.102870</td>\n",
       "      <td>84000032</td>\n",
       "      <td>USA</td>\n",
       "      <td>2959.947483</td>\n",
       "      <td>NaN</td>\n",
       "    </tr>\n",
       "    <tr>\n",
       "      <th>33</th>\n",
       "      <td>New Hampshire</td>\n",
       "      <td>US</td>\n",
       "      <td>2020-05-21 02:32:54</td>\n",
       "      <td>43.4525</td>\n",
       "      <td>-71.5639</td>\n",
       "      <td>3868</td>\n",
       "      <td>190</td>\n",
       "      <td>1275.0</td>\n",
       "      <td>2403.0</td>\n",
       "      <td>33</td>\n",
       "      <td>284.472215</td>\n",
       "      <td>50888.0</td>\n",
       "      <td>383.0</td>\n",
       "      <td>4.912099</td>\n",
       "      <td>84000033</td>\n",
       "      <td>USA</td>\n",
       "      <td>3742.560000</td>\n",
       "      <td>9.901758</td>\n",
       "    </tr>\n",
       "    <tr>\n",
       "      <th>34</th>\n",
       "      <td>New Jersey</td>\n",
       "      <td>US</td>\n",
       "      <td>2020-05-21 02:32:54</td>\n",
       "      <td>40.2989</td>\n",
       "      <td>-74.5210</td>\n",
       "      <td>150776</td>\n",
       "      <td>10749</td>\n",
       "      <td>23945.0</td>\n",
       "      <td>116082.0</td>\n",
       "      <td>34</td>\n",
       "      <td>1697.509285</td>\n",
       "      <td>531343.0</td>\n",
       "      <td>NaN</td>\n",
       "      <td>7.129119</td>\n",
       "      <td>84000034</td>\n",
       "      <td>USA</td>\n",
       "      <td>5982.117023</td>\n",
       "      <td>NaN</td>\n",
       "    </tr>\n",
       "    <tr>\n",
       "      <th>35</th>\n",
       "      <td>New Mexico</td>\n",
       "      <td>US</td>\n",
       "      <td>2020-05-21 02:32:54</td>\n",
       "      <td>34.8405</td>\n",
       "      <td>-106.2485</td>\n",
       "      <td>6317</td>\n",
       "      <td>283</td>\n",
       "      <td>1882.0</td>\n",
       "      <td>4152.0</td>\n",
       "      <td>35</td>\n",
       "      <td>301.264433</td>\n",
       "      <td>142246.0</td>\n",
       "      <td>1139.0</td>\n",
       "      <td>4.479975</td>\n",
       "      <td>84000035</td>\n",
       "      <td>USA</td>\n",
       "      <td>6783.862680</td>\n",
       "      <td>18.030711</td>\n",
       "    </tr>\n",
       "    <tr>\n",
       "      <th>36</th>\n",
       "      <td>New York</td>\n",
       "      <td>US</td>\n",
       "      <td>2020-05-21 02:32:54</td>\n",
       "      <td>42.1657</td>\n",
       "      <td>-74.9481</td>\n",
       "      <td>354370</td>\n",
       "      <td>28636</td>\n",
       "      <td>61886.0</td>\n",
       "      <td>263848.0</td>\n",
       "      <td>36</td>\n",
       "      <td>1821.620216</td>\n",
       "      <td>1505836.0</td>\n",
       "      <td>76410.0</td>\n",
       "      <td>8.080819</td>\n",
       "      <td>84000036</td>\n",
       "      <td>USA</td>\n",
       "      <td>7740.670204</td>\n",
       "      <td>21.562209</td>\n",
       "    </tr>\n",
       "    <tr>\n",
       "      <th>37</th>\n",
       "      <td>North Carolina</td>\n",
       "      <td>US</td>\n",
       "      <td>2020-05-21 02:32:54</td>\n",
       "      <td>35.6301</td>\n",
       "      <td>-79.8064</td>\n",
       "      <td>20262</td>\n",
       "      <td>726</td>\n",
       "      <td>11637.0</td>\n",
       "      <td>7899.0</td>\n",
       "      <td>37</td>\n",
       "      <td>193.190672</td>\n",
       "      <td>277603.0</td>\n",
       "      <td>NaN</td>\n",
       "      <td>3.583062</td>\n",
       "      <td>84000037</td>\n",
       "      <td>USA</td>\n",
       "      <td>2646.841883</td>\n",
       "      <td>NaN</td>\n",
       "    </tr>\n",
       "    <tr>\n",
       "      <th>38</th>\n",
       "      <td>North Dakota</td>\n",
       "      <td>US</td>\n",
       "      <td>2020-05-21 02:32:54</td>\n",
       "      <td>47.5289</td>\n",
       "      <td>-99.7840</td>\n",
       "      <td>2095</td>\n",
       "      <td>49</td>\n",
       "      <td>1302.0</td>\n",
       "      <td>744.0</td>\n",
       "      <td>38</td>\n",
       "      <td>274.912015</td>\n",
       "      <td>59200.0</td>\n",
       "      <td>142.0</td>\n",
       "      <td>2.338902</td>\n",
       "      <td>84000038</td>\n",
       "      <td>USA</td>\n",
       "      <td>7768.396797</td>\n",
       "      <td>6.778043</td>\n",
       "    </tr>\n",
       "    <tr>\n",
       "      <th>39</th>\n",
       "      <td>Northern Mariana Islands</td>\n",
       "      <td>US</td>\n",
       "      <td>2020-05-21 02:32:54</td>\n",
       "      <td>15.0979</td>\n",
       "      <td>145.6739</td>\n",
       "      <td>21</td>\n",
       "      <td>2</td>\n",
       "      <td>13.0</td>\n",
       "      <td>6.0</td>\n",
       "      <td>69</td>\n",
       "      <td>38.082112</td>\n",
       "      <td>3817.0</td>\n",
       "      <td>NaN</td>\n",
       "      <td>9.523810</td>\n",
       "      <td>580</td>\n",
       "      <td>MNP</td>\n",
       "      <td>6921.877267</td>\n",
       "      <td>NaN</td>\n",
       "    </tr>\n",
       "    <tr>\n",
       "      <th>40</th>\n",
       "      <td>Ohio</td>\n",
       "      <td>US</td>\n",
       "      <td>2020-05-21 02:32:54</td>\n",
       "      <td>40.3888</td>\n",
       "      <td>-82.7649</td>\n",
       "      <td>29436</td>\n",
       "      <td>1781</td>\n",
       "      <td>NaN</td>\n",
       "      <td>27655.0</td>\n",
       "      <td>39</td>\n",
       "      <td>251.824349</td>\n",
       "      <td>289528.0</td>\n",
       "      <td>5198.0</td>\n",
       "      <td>6.050414</td>\n",
       "      <td>84000039</td>\n",
       "      <td>USA</td>\n",
       "      <td>2476.905835</td>\n",
       "      <td>17.658649</td>\n",
       "    </tr>\n",
       "    <tr>\n",
       "      <th>41</th>\n",
       "      <td>Oklahoma</td>\n",
       "      <td>US</td>\n",
       "      <td>2020-05-21 02:32:54</td>\n",
       "      <td>35.5653</td>\n",
       "      <td>-96.9289</td>\n",
       "      <td>5532</td>\n",
       "      <td>299</td>\n",
       "      <td>4266.0</td>\n",
       "      <td>967.0</td>\n",
       "      <td>40</td>\n",
       "      <td>139.803906</td>\n",
       "      <td>144371.0</td>\n",
       "      <td>905.0</td>\n",
       "      <td>5.404917</td>\n",
       "      <td>84000040</td>\n",
       "      <td>USA</td>\n",
       "      <td>3648.523075</td>\n",
       "      <td>16.359364</td>\n",
       "    </tr>\n",
       "    <tr>\n",
       "      <th>42</th>\n",
       "      <td>Oregon</td>\n",
       "      <td>US</td>\n",
       "      <td>2020-05-21 02:32:54</td>\n",
       "      <td>44.5720</td>\n",
       "      <td>-122.0709</td>\n",
       "      <td>3801</td>\n",
       "      <td>144</td>\n",
       "      <td>1406.0</td>\n",
       "      <td>2251.0</td>\n",
       "      <td>41</td>\n",
       "      <td>90.119417</td>\n",
       "      <td>102149.0</td>\n",
       "      <td>723.0</td>\n",
       "      <td>3.788477</td>\n",
       "      <td>84000041</td>\n",
       "      <td>USA</td>\n",
       "      <td>2421.891171</td>\n",
       "      <td>19.021310</td>\n",
       "    </tr>\n",
       "    <tr>\n",
       "      <th>43</th>\n",
       "      <td>Pennsylvania</td>\n",
       "      <td>US</td>\n",
       "      <td>2020-05-21 02:32:54</td>\n",
       "      <td>40.5908</td>\n",
       "      <td>-77.2098</td>\n",
       "      <td>68126</td>\n",
       "      <td>4770</td>\n",
       "      <td>NaN</td>\n",
       "      <td>63356.0</td>\n",
       "      <td>42</td>\n",
       "      <td>532.151684</td>\n",
       "      <td>349700.0</td>\n",
       "      <td>NaN</td>\n",
       "      <td>7.001732</td>\n",
       "      <td>84000042</td>\n",
       "      <td>USA</td>\n",
       "      <td>2731.606784</td>\n",
       "      <td>NaN</td>\n",
       "    </tr>\n",
       "    <tr>\n",
       "      <th>44</th>\n",
       "      <td>Puerto Rico</td>\n",
       "      <td>US</td>\n",
       "      <td>2020-05-21 02:32:54</td>\n",
       "      <td>18.2208</td>\n",
       "      <td>-66.5901</td>\n",
       "      <td>2866</td>\n",
       "      <td>125</td>\n",
       "      <td>NaN</td>\n",
       "      <td>2741.0</td>\n",
       "      <td>72</td>\n",
       "      <td>97.702058</td>\n",
       "      <td>2866.0</td>\n",
       "      <td>NaN</td>\n",
       "      <td>4.361479</td>\n",
       "      <td>630</td>\n",
       "      <td>PRI</td>\n",
       "      <td>97.702058</td>\n",
       "      <td>NaN</td>\n",
       "    </tr>\n",
       "    <tr>\n",
       "      <th>45</th>\n",
       "      <td>Rhode Island</td>\n",
       "      <td>US</td>\n",
       "      <td>2020-05-21 02:32:54</td>\n",
       "      <td>41.6809</td>\n",
       "      <td>-71.5118</td>\n",
       "      <td>13356</td>\n",
       "      <td>538</td>\n",
       "      <td>1030.0</td>\n",
       "      <td>11788.0</td>\n",
       "      <td>44</td>\n",
       "      <td>1260.760024</td>\n",
       "      <td>120528.0</td>\n",
       "      <td>1486.0</td>\n",
       "      <td>4.028152</td>\n",
       "      <td>84000044</td>\n",
       "      <td>USA</td>\n",
       "      <td>11377.424693</td>\n",
       "      <td>11.126086</td>\n",
       "    </tr>\n",
       "    <tr>\n",
       "      <th>46</th>\n",
       "      <td>South Carolina</td>\n",
       "      <td>US</td>\n",
       "      <td>2020-05-21 02:32:54</td>\n",
       "      <td>33.8569</td>\n",
       "      <td>-80.9450</td>\n",
       "      <td>9175</td>\n",
       "      <td>407</td>\n",
       "      <td>5451.0</td>\n",
       "      <td>3317.0</td>\n",
       "      <td>45</td>\n",
       "      <td>178.199838</td>\n",
       "      <td>135063.0</td>\n",
       "      <td>1444.0</td>\n",
       "      <td>4.435967</td>\n",
       "      <td>84000045</td>\n",
       "      <td>USA</td>\n",
       "      <td>2623.237570</td>\n",
       "      <td>15.738420</td>\n",
       "    </tr>\n",
       "    <tr>\n",
       "      <th>47</th>\n",
       "      <td>South Dakota</td>\n",
       "      <td>US</td>\n",
       "      <td>2020-05-21 02:32:54</td>\n",
       "      <td>44.2998</td>\n",
       "      <td>-99.4388</td>\n",
       "      <td>4177</td>\n",
       "      <td>46</td>\n",
       "      <td>3023.0</td>\n",
       "      <td>1108.0</td>\n",
       "      <td>46</td>\n",
       "      <td>472.159329</td>\n",
       "      <td>30389.0</td>\n",
       "      <td>333.0</td>\n",
       "      <td>1.101269</td>\n",
       "      <td>84000046</td>\n",
       "      <td>USA</td>\n",
       "      <td>3435.108895</td>\n",
       "      <td>7.972229</td>\n",
       "    </tr>\n",
       "    <tr>\n",
       "      <th>48</th>\n",
       "      <td>Tennessee</td>\n",
       "      <td>US</td>\n",
       "      <td>2020-05-21 02:32:54</td>\n",
       "      <td>35.7478</td>\n",
       "      <td>-86.6923</td>\n",
       "      <td>18412</td>\n",
       "      <td>305</td>\n",
       "      <td>11783.0</td>\n",
       "      <td>6324.0</td>\n",
       "      <td>47</td>\n",
       "      <td>269.608008</td>\n",
       "      <td>354013.0</td>\n",
       "      <td>1515.0</td>\n",
       "      <td>1.656528</td>\n",
       "      <td>84000047</td>\n",
       "      <td>USA</td>\n",
       "      <td>5183.833360</td>\n",
       "      <td>8.228329</td>\n",
       "    </tr>\n",
       "    <tr>\n",
       "      <th>49</th>\n",
       "      <td>Texas</td>\n",
       "      <td>US</td>\n",
       "      <td>2020-05-21 02:32:54</td>\n",
       "      <td>31.0545</td>\n",
       "      <td>-97.5635</td>\n",
       "      <td>51673</td>\n",
       "      <td>1426</td>\n",
       "      <td>30341.0</td>\n",
       "      <td>19906.0</td>\n",
       "      <td>48</td>\n",
       "      <td>178.208070</td>\n",
       "      <td>770241.0</td>\n",
       "      <td>NaN</td>\n",
       "      <td>2.759662</td>\n",
       "      <td>84000048</td>\n",
       "      <td>USA</td>\n",
       "      <td>2656.380746</td>\n",
       "      <td>NaN</td>\n",
       "    </tr>\n",
       "    <tr>\n",
       "      <th>50</th>\n",
       "      <td>Utah</td>\n",
       "      <td>US</td>\n",
       "      <td>2020-05-21 02:32:54</td>\n",
       "      <td>40.1500</td>\n",
       "      <td>-111.8624</td>\n",
       "      <td>7710</td>\n",
       "      <td>90</td>\n",
       "      <td>4423.0</td>\n",
       "      <td>3197.0</td>\n",
       "      <td>49</td>\n",
       "      <td>240.489738</td>\n",
       "      <td>179664.0</td>\n",
       "      <td>631.0</td>\n",
       "      <td>1.167315</td>\n",
       "      <td>84000049</td>\n",
       "      <td>USA</td>\n",
       "      <td>5604.065930</td>\n",
       "      <td>8.184176</td>\n",
       "    </tr>\n",
       "    <tr>\n",
       "      <th>51</th>\n",
       "      <td>Vermont</td>\n",
       "      <td>US</td>\n",
       "      <td>2020-05-21 02:32:54</td>\n",
       "      <td>44.0459</td>\n",
       "      <td>-72.7107</td>\n",
       "      <td>944</td>\n",
       "      <td>54</td>\n",
       "      <td>824.0</td>\n",
       "      <td>66.0</td>\n",
       "      <td>50</td>\n",
       "      <td>151.284718</td>\n",
       "      <td>25058.0</td>\n",
       "      <td>NaN</td>\n",
       "      <td>5.720339</td>\n",
       "      <td>84000050</td>\n",
       "      <td>USA</td>\n",
       "      <td>4015.775919</td>\n",
       "      <td>NaN</td>\n",
       "    </tr>\n",
       "    <tr>\n",
       "      <th>52</th>\n",
       "      <td>Virgin Islands</td>\n",
       "      <td>US</td>\n",
       "      <td>2020-05-21 02:32:54</td>\n",
       "      <td>18.3358</td>\n",
       "      <td>-64.8963</td>\n",
       "      <td>69</td>\n",
       "      <td>6</td>\n",
       "      <td>61.0</td>\n",
       "      <td>2.0</td>\n",
       "      <td>78</td>\n",
       "      <td>64.324869</td>\n",
       "      <td>1383.0</td>\n",
       "      <td>NaN</td>\n",
       "      <td>8.695652</td>\n",
       "      <td>850</td>\n",
       "      <td>VIR</td>\n",
       "      <td>1289.294104</td>\n",
       "      <td>NaN</td>\n",
       "    </tr>\n",
       "    <tr>\n",
       "      <th>53</th>\n",
       "      <td>Virginia</td>\n",
       "      <td>US</td>\n",
       "      <td>2020-05-21 02:32:54</td>\n",
       "      <td>37.7693</td>\n",
       "      <td>-78.1700</td>\n",
       "      <td>32908</td>\n",
       "      <td>1075</td>\n",
       "      <td>4523.0</td>\n",
       "      <td>27310.0</td>\n",
       "      <td>51</td>\n",
       "      <td>385.541875</td>\n",
       "      <td>212626.0</td>\n",
       "      <td>6059.0</td>\n",
       "      <td>3.266683</td>\n",
       "      <td>84000051</td>\n",
       "      <td>USA</td>\n",
       "      <td>2491.072892</td>\n",
       "      <td>18.411936</td>\n",
       "    </tr>\n",
       "    <tr>\n",
       "      <th>54</th>\n",
       "      <td>Washington</td>\n",
       "      <td>US</td>\n",
       "      <td>2020-05-21 02:32:54</td>\n",
       "      <td>47.4009</td>\n",
       "      <td>-121.4905</td>\n",
       "      <td>18971</td>\n",
       "      <td>1037</td>\n",
       "      <td>NaN</td>\n",
       "      <td>17934.0</td>\n",
       "      <td>53</td>\n",
       "      <td>249.130224</td>\n",
       "      <td>293120.0</td>\n",
       "      <td>NaN</td>\n",
       "      <td>5.466238</td>\n",
       "      <td>84000053</td>\n",
       "      <td>USA</td>\n",
       "      <td>3849.298999</td>\n",
       "      <td>NaN</td>\n",
       "    </tr>\n",
       "    <tr>\n",
       "      <th>55</th>\n",
       "      <td>West Virginia</td>\n",
       "      <td>US</td>\n",
       "      <td>2020-05-21 02:32:54</td>\n",
       "      <td>38.4912</td>\n",
       "      <td>-80.9545</td>\n",
       "      <td>1567</td>\n",
       "      <td>69</td>\n",
       "      <td>950.0</td>\n",
       "      <td>548.0</td>\n",
       "      <td>54</td>\n",
       "      <td>87.437024</td>\n",
       "      <td>80641.0</td>\n",
       "      <td>NaN</td>\n",
       "      <td>4.403318</td>\n",
       "      <td>84000054</td>\n",
       "      <td>USA</td>\n",
       "      <td>4499.686689</td>\n",
       "      <td>NaN</td>\n",
       "    </tr>\n",
       "    <tr>\n",
       "      <th>56</th>\n",
       "      <td>Wisconsin</td>\n",
       "      <td>US</td>\n",
       "      <td>2020-05-21 02:32:54</td>\n",
       "      <td>44.2685</td>\n",
       "      <td>-89.6165</td>\n",
       "      <td>13413</td>\n",
       "      <td>481</td>\n",
       "      <td>7728.0</td>\n",
       "      <td>5204.0</td>\n",
       "      <td>55</td>\n",
       "      <td>230.367575</td>\n",
       "      <td>167713.0</td>\n",
       "      <td>2161.0</td>\n",
       "      <td>3.586073</td>\n",
       "      <td>84000055</td>\n",
       "      <td>USA</td>\n",
       "      <td>2880.462020</td>\n",
       "      <td>16.111235</td>\n",
       "    </tr>\n",
       "    <tr>\n",
       "      <th>57</th>\n",
       "      <td>Wyoming</td>\n",
       "      <td>US</td>\n",
       "      <td>2020-05-21 02:32:54</td>\n",
       "      <td>42.7560</td>\n",
       "      <td>-107.3025</td>\n",
       "      <td>787</td>\n",
       "      <td>11</td>\n",
       "      <td>528.0</td>\n",
       "      <td>248.0</td>\n",
       "      <td>56</td>\n",
       "      <td>135.980607</td>\n",
       "      <td>18840.0</td>\n",
       "      <td>74.0</td>\n",
       "      <td>1.397713</td>\n",
       "      <td>84000056</td>\n",
       "      <td>USA</td>\n",
       "      <td>3255.240955</td>\n",
       "      <td>9.402795</td>\n",
       "    </tr>\n",
       "  </tbody>\n",
       "</table>\n",
       "</div>"
      ],
      "text/plain": [
       "              Province_State Country_Region          Last_Update      Lat  \\\n",
       "0                    Alabama             US  2020-05-21 02:32:54  32.3182   \n",
       "1                     Alaska             US  2020-05-21 02:32:54  61.3707   \n",
       "2             American Samoa             US  2020-05-21 02:32:54 -14.2710   \n",
       "3                    Arizona             US  2020-05-21 02:32:54  33.7298   \n",
       "4                   Arkansas             US  2020-05-21 02:32:54  34.9697   \n",
       "5                 California             US  2020-05-21 02:32:54  36.1162   \n",
       "6                   Colorado             US  2020-05-21 02:32:54  39.0598   \n",
       "7                Connecticut             US  2020-05-21 02:32:54  41.5978   \n",
       "8                   Delaware             US  2020-05-21 02:32:54  39.3185   \n",
       "9           Diamond Princess             US  2020-05-21 02:32:54      NaN   \n",
       "10      District of Columbia             US  2020-05-21 02:32:54  38.8974   \n",
       "11                   Florida             US  2020-05-21 02:32:54  27.7663   \n",
       "12                   Georgia             US  2020-05-21 02:32:54  33.0406   \n",
       "13            Grand Princess             US  2020-05-21 02:32:54      NaN   \n",
       "14                      Guam             US  2020-05-21 02:32:54  13.4443   \n",
       "15                    Hawaii             US  2020-05-21 02:32:54  21.0943   \n",
       "16                     Idaho             US  2020-05-21 02:32:54  44.2405   \n",
       "17                  Illinois             US  2020-05-21 02:32:54  40.3495   \n",
       "18                   Indiana             US  2020-05-21 02:32:54  39.8494   \n",
       "19                      Iowa             US  2020-05-21 02:32:54  42.0115   \n",
       "20                    Kansas             US  2020-05-21 02:32:54  38.5266   \n",
       "21                  Kentucky             US  2020-05-21 02:32:54  37.6681   \n",
       "22                 Louisiana             US  2020-05-21 02:32:54  31.1695   \n",
       "23                     Maine             US  2020-05-21 02:32:54  44.6939   \n",
       "24                  Maryland             US  2020-05-21 02:32:54  39.0639   \n",
       "25             Massachusetts             US  2020-05-21 02:32:54  42.2302   \n",
       "26                  Michigan             US  2020-05-21 02:32:54  43.3266   \n",
       "27                 Minnesota             US  2020-05-21 02:32:54  45.6945   \n",
       "28               Mississippi             US  2020-05-21 02:32:54  32.7416   \n",
       "29                  Missouri             US  2020-05-21 02:32:54  38.4561   \n",
       "30                   Montana             US  2020-05-21 02:32:54  46.9219   \n",
       "31                  Nebraska             US  2020-05-21 02:32:54  41.1254   \n",
       "32                    Nevada             US  2020-05-21 02:32:54  38.3135   \n",
       "33             New Hampshire             US  2020-05-21 02:32:54  43.4525   \n",
       "34                New Jersey             US  2020-05-21 02:32:54  40.2989   \n",
       "35                New Mexico             US  2020-05-21 02:32:54  34.8405   \n",
       "36                  New York             US  2020-05-21 02:32:54  42.1657   \n",
       "37            North Carolina             US  2020-05-21 02:32:54  35.6301   \n",
       "38              North Dakota             US  2020-05-21 02:32:54  47.5289   \n",
       "39  Northern Mariana Islands             US  2020-05-21 02:32:54  15.0979   \n",
       "40                      Ohio             US  2020-05-21 02:32:54  40.3888   \n",
       "41                  Oklahoma             US  2020-05-21 02:32:54  35.5653   \n",
       "42                    Oregon             US  2020-05-21 02:32:54  44.5720   \n",
       "43              Pennsylvania             US  2020-05-21 02:32:54  40.5908   \n",
       "44               Puerto Rico             US  2020-05-21 02:32:54  18.2208   \n",
       "45              Rhode Island             US  2020-05-21 02:32:54  41.6809   \n",
       "46            South Carolina             US  2020-05-21 02:32:54  33.8569   \n",
       "47              South Dakota             US  2020-05-21 02:32:54  44.2998   \n",
       "48                 Tennessee             US  2020-05-21 02:32:54  35.7478   \n",
       "49                     Texas             US  2020-05-21 02:32:54  31.0545   \n",
       "50                      Utah             US  2020-05-21 02:32:54  40.1500   \n",
       "51                   Vermont             US  2020-05-21 02:32:54  44.0459   \n",
       "52            Virgin Islands             US  2020-05-21 02:32:54  18.3358   \n",
       "53                  Virginia             US  2020-05-21 02:32:54  37.7693   \n",
       "54                Washington             US  2020-05-21 02:32:54  47.4009   \n",
       "55             West Virginia             US  2020-05-21 02:32:54  38.4912   \n",
       "56                 Wisconsin             US  2020-05-21 02:32:54  44.2685   \n",
       "57                   Wyoming             US  2020-05-21 02:32:54  42.7560   \n",
       "\n",
       "       Long_  Confirmed  Deaths  Recovered    Active   FIPS  Incident_Rate  \\\n",
       "0   -86.9023      13052     522        NaN   12530.0      1     266.194321   \n",
       "1  -152.4044        401      10      352.0      39.0      2      54.815493   \n",
       "2  -170.1320          0       0        NaN       0.0     60       0.000000   \n",
       "3  -111.4312      14906     747     3773.0   10386.0      4     204.788838   \n",
       "4   -92.3731       5003     107     3852.0    1044.0      5     165.782801   \n",
       "5  -119.6816      85997    3497        NaN   82500.0      6     217.646575   \n",
       "6  -105.3111      22797    1299     3478.0   18020.0      8     395.868121   \n",
       "7   -72.7554      39017    3529     6264.0   29224.0      9    1094.357902   \n",
       "8   -75.5071       8194     310     3965.0    3919.0     10     841.476990   \n",
       "9        NaN         49       0        NaN      49.0  88888            NaN   \n",
       "10  -77.0268       7551     407     1059.0    6085.0     11    1069.927127   \n",
       "11  -81.6868      47471    2096        NaN   45375.0     12     221.024217   \n",
       "12  -83.6431      39801    1697        NaN   38104.0     13     374.864974   \n",
       "13       NaN        103       3        NaN     100.0  99999            NaN   \n",
       "14  144.7937        154       5      125.0      24.0     66      93.771502   \n",
       "15 -157.4983        643      17      578.0      48.0     15      45.413710   \n",
       "16 -114.4788       2506      77     1668.0     761.0     16     140.229930   \n",
       "17  -88.9861     100418    4525        NaN   95893.0     17     792.451219   \n",
       "18  -86.2583      29274    1864        NaN   27410.0     18     434.834339   \n",
       "19  -93.2105      15620     393     8362.0    6865.0     19     495.076179   \n",
       "20  -96.7265       8507     202      473.0    7832.0     20     292.004226   \n",
       "21  -84.6701       8167     376     2826.0    4965.0     21     182.802099   \n",
       "22  -91.8678      35316    2608    26249.0    6459.0     22     759.680898   \n",
       "23  -69.3819       1819      73     1100.0     646.0     23     135.320917   \n",
       "24  -76.8021      42323    2123     2993.0   37207.0     24     700.053592   \n",
       "25  -71.5301      88970    6066        NaN   82904.0     25    1290.822797   \n",
       "26  -84.5361      53009    5060    28234.0   19715.0     26     530.787614   \n",
       "27  -93.9002      17670     786    12227.0    4657.0     27     313.318316   \n",
       "28  -89.6787      11967     570     7681.0    3716.0     28     402.096804   \n",
       "29  -92.2884      11528     640        NaN   10888.0     29     187.831124   \n",
       "30 -110.4544        478      16      440.0      22.0     30      44.723974   \n",
       "31  -98.2681      11122     138        NaN   10984.0     31     574.956266   \n",
       "32 -117.0554       7388     377      336.0    6675.0     32     239.857981   \n",
       "33  -71.5639       3868     190     1275.0    2403.0     33     284.472215   \n",
       "34  -74.5210     150776   10749    23945.0  116082.0     34    1697.509285   \n",
       "35 -106.2485       6317     283     1882.0    4152.0     35     301.264433   \n",
       "36  -74.9481     354370   28636    61886.0  263848.0     36    1821.620216   \n",
       "37  -79.8064      20262     726    11637.0    7899.0     37     193.190672   \n",
       "38  -99.7840       2095      49     1302.0     744.0     38     274.912015   \n",
       "39  145.6739         21       2       13.0       6.0     69      38.082112   \n",
       "40  -82.7649      29436    1781        NaN   27655.0     39     251.824349   \n",
       "41  -96.9289       5532     299     4266.0     967.0     40     139.803906   \n",
       "42 -122.0709       3801     144     1406.0    2251.0     41      90.119417   \n",
       "43  -77.2098      68126    4770        NaN   63356.0     42     532.151684   \n",
       "44  -66.5901       2866     125        NaN    2741.0     72      97.702058   \n",
       "45  -71.5118      13356     538     1030.0   11788.0     44    1260.760024   \n",
       "46  -80.9450       9175     407     5451.0    3317.0     45     178.199838   \n",
       "47  -99.4388       4177      46     3023.0    1108.0     46     472.159329   \n",
       "48  -86.6923      18412     305    11783.0    6324.0     47     269.608008   \n",
       "49  -97.5635      51673    1426    30341.0   19906.0     48     178.208070   \n",
       "50 -111.8624       7710      90     4423.0    3197.0     49     240.489738   \n",
       "51  -72.7107        944      54      824.0      66.0     50     151.284718   \n",
       "52  -64.8963         69       6       61.0       2.0     78      64.324869   \n",
       "53  -78.1700      32908    1075     4523.0   27310.0     51     385.541875   \n",
       "54 -121.4905      18971    1037        NaN   17934.0     53     249.130224   \n",
       "55  -80.9545       1567      69      950.0     548.0     54      87.437024   \n",
       "56  -89.6165      13413     481     7728.0    5204.0     55     230.367575   \n",
       "57 -107.3025        787      11      528.0     248.0     56     135.980607   \n",
       "\n",
       "    People_Tested  People_Hospitalized  Mortality_Rate       UID ISO3  \\\n",
       "0        164450.0               1493.0        3.999387  84000001  USA   \n",
       "1         37045.0                  NaN        2.493766  84000002  USA   \n",
       "2           124.0                  NaN             NaN        16  ASM   \n",
       "3        165435.0               1792.0        5.011405  84000004  USA   \n",
       "4         96258.0                535.0        2.138717  84000005  USA   \n",
       "5       1380120.0                  NaN        4.066421  84000006  USA   \n",
       "6        131837.0               3955.0        5.698118  84000008  USA   \n",
       "7        190718.0              10946.0        9.044775  84000009  USA   \n",
       "8         45412.0                  NaN        3.783256  84000010  USA   \n",
       "9             NaN                  NaN        0.000000  84088888  USA   \n",
       "10        40419.0                  NaN        5.390015  84000011  USA   \n",
       "11       771348.0               8934.0        4.415327  84000012  USA   \n",
       "12       402940.0               7107.0        4.263712  84000013  USA   \n",
       "13            NaN                  NaN        2.912621  84099999  USA   \n",
       "14         4972.0                  NaN        3.246753       316  GUM   \n",
       "15        46304.0                 82.0        2.643857  84000015  USA   \n",
       "16        38567.0                215.0        3.072626  84000016  USA   \n",
       "17       642713.0                  NaN        4.506164  84000017  USA   \n",
       "18       195738.0               4389.0        6.367425  84000018  USA   \n",
       "19       110748.0                  NaN        2.516005  84000019  USA   \n",
       "20        71203.0                760.0        2.374515  84000020  USA   \n",
       "21       153986.0               2010.0        4.603894  84000021  USA   \n",
       "22       285970.0                  NaN        7.384755  84000022  USA   \n",
       "23        37269.0                231.0        4.013194  84000023  USA   \n",
       "24       215330.0               7393.0        5.016185  84000024  USA   \n",
       "25       489953.0               8897.0        6.818029  84000025  USA   \n",
       "26       437072.0                  NaN        9.545549  84000026  USA   \n",
       "27       167338.0               2308.0        4.448217  84000027  USA   \n",
       "28       120680.0               1901.0        4.763099  84000028  USA   \n",
       "29       161984.0                  NaN        5.551700  84000029  USA   \n",
       "30        29726.0                 65.0        3.347280  84000030  USA   \n",
       "31        72135.0                  NaN        1.240784  84000031  USA   \n",
       "32        91171.0                  NaN        5.102870  84000032  USA   \n",
       "33        50888.0                383.0        4.912099  84000033  USA   \n",
       "34       531343.0                  NaN        7.129119  84000034  USA   \n",
       "35       142246.0               1139.0        4.479975  84000035  USA   \n",
       "36      1505836.0              76410.0        8.080819  84000036  USA   \n",
       "37       277603.0                  NaN        3.583062  84000037  USA   \n",
       "38        59200.0                142.0        2.338902  84000038  USA   \n",
       "39         3817.0                  NaN        9.523810       580  MNP   \n",
       "40       289528.0               5198.0        6.050414  84000039  USA   \n",
       "41       144371.0                905.0        5.404917  84000040  USA   \n",
       "42       102149.0                723.0        3.788477  84000041  USA   \n",
       "43       349700.0                  NaN        7.001732  84000042  USA   \n",
       "44         2866.0                  NaN        4.361479       630  PRI   \n",
       "45       120528.0               1486.0        4.028152  84000044  USA   \n",
       "46       135063.0               1444.0        4.435967  84000045  USA   \n",
       "47        30389.0                333.0        1.101269  84000046  USA   \n",
       "48       354013.0               1515.0        1.656528  84000047  USA   \n",
       "49       770241.0                  NaN        2.759662  84000048  USA   \n",
       "50       179664.0                631.0        1.167315  84000049  USA   \n",
       "51        25058.0                  NaN        5.720339  84000050  USA   \n",
       "52         1383.0                  NaN        8.695652       850  VIR   \n",
       "53       212626.0               6059.0        3.266683  84000051  USA   \n",
       "54       293120.0                  NaN        5.466238  84000053  USA   \n",
       "55        80641.0                  NaN        4.403318  84000054  USA   \n",
       "56       167713.0               2161.0        3.586073  84000055  USA   \n",
       "57        18840.0                 74.0        1.397713  84000056  USA   \n",
       "\n",
       "    Testing_Rate  Hospitalization_Rate  \n",
       "0    3353.942386             11.438860  \n",
       "1    5063.940017                   NaN  \n",
       "2     222.857246                   NaN  \n",
       "3    2272.859351             12.022005  \n",
       "4    3189.670370             10.693584  \n",
       "5    3492.893832                   NaN  \n",
       "6    2289.339188             17.348774  \n",
       "7    5349.302875             28.054438  \n",
       "8    4663.552976                   NaN  \n",
       "9            NaN                   NaN  \n",
       "10   5727.106946                   NaN  \n",
       "11   3591.383953             18.819911  \n",
       "12   3795.082856             17.856335  \n",
       "13           NaN                   NaN  \n",
       "14   3027.479921                   NaN  \n",
       "15   3270.352122             12.752722  \n",
       "16   2158.119598              8.579409  \n",
       "17   5071.986102                   NaN  \n",
       "18   2907.481174             14.992826  \n",
       "19   3510.159838                   NaN  \n",
       "20   2444.055121              8.933819  \n",
       "21   3446.671231             24.611240  \n",
       "22   6151.487891                   NaN  \n",
       "23   2772.553734             12.699285  \n",
       "24   3561.716796             17.468043  \n",
       "25   7108.491647             10.000000  \n",
       "26   4376.471997                   NaN  \n",
       "27   2967.179419             13.061686  \n",
       "28   4054.904509             15.885351  \n",
       "29   2639.281471                   NaN  \n",
       "30   2781.307250             13.598326  \n",
       "31   3729.047853                   NaN  \n",
       "32   2959.947483                   NaN  \n",
       "33   3742.560000              9.901758  \n",
       "34   5982.117023                   NaN  \n",
       "35   6783.862680             18.030711  \n",
       "36   7740.670204             21.562209  \n",
       "37   2646.841883                   NaN  \n",
       "38   7768.396797              6.778043  \n",
       "39   6921.877267                   NaN  \n",
       "40   2476.905835             17.658649  \n",
       "41   3648.523075             16.359364  \n",
       "42   2421.891171             19.021310  \n",
       "43   2731.606784                   NaN  \n",
       "44     97.702058                   NaN  \n",
       "45  11377.424693             11.126086  \n",
       "46   2623.237570             15.738420  \n",
       "47   3435.108895              7.972229  \n",
       "48   5183.833360              8.228329  \n",
       "49   2656.380746                   NaN  \n",
       "50   5604.065930              8.184176  \n",
       "51   4015.775919                   NaN  \n",
       "52   1289.294104                   NaN  \n",
       "53   2491.072892             18.411936  \n",
       "54   3849.298999                   NaN  \n",
       "55   4499.686689                   NaN  \n",
       "56   2880.462020             16.111235  \n",
       "57   3255.240955              9.402795  "
      ]
     },
     "execution_count": 2,
     "metadata": {},
     "output_type": "execute_result"
    }
   ],
   "source": [
    "df = pd.read_csv('usa_covid-19.csv')\n",
    "df"
   ]
  },
  {
   "cell_type": "markdown",
   "metadata": {},
   "source": [
    "## Columns Description:"
   ]
  },
  {
   "cell_type": "markdown",
   "metadata": {},
   "source": [
    "    1. Province_State - The name of the State within the USA.\n",
    "    2. Country_Region - The name of the Country (US).\n",
    "    3. Last_Update - The most recent date the file was pushed.\n",
    "    4. Lat - Latitude.\n",
    "    5. Long_ - Longitude.\n",
    "    6. Confirmed - Aggregated confirmed case count for the state.\n",
    "    7. Deaths - Aggregated Death case count for the state.\n",
    "    8. Recovered - Aggregated Recovered case count for the state.\n",
    "    9. Active - Aggregated confirmed cases that have not been resolved (Active = Confirmed - Recovered - Deaths).\n",
    "    10. FIPS - Federal Information Processing Standards code that uniquely identifies counties within the USA.\n",
    "    11. Incident_Rate - confirmed cases per 100,000 persons.\n",
    "    12. People_Tested - Total number of people who have been tested.\n",
    "    13. People_Hospitalized - Total number of people hospitalized.\n",
    "    14. Mortality_Rate - Number of recorded deaths * 100/ Number of confirmed cases.\n",
    "    15. UID - Unique Identifier for each row entry.\n",
    "    16. ISO3 - Officialy assigned country code identifiers.\n",
    "    17. Testing_Rate - Total number of people tested per 100,000 persons.\n",
    "    18. Hospitalization_Rate - Total number of people hospitalized * 100/ Number of confirmed cases."
   ]
  },
  {
   "cell_type": "code",
   "execution_count": 3,
   "metadata": {},
   "outputs": [
    {
     "data": {
      "text/plain": [
       "(58, 18)"
      ]
     },
     "execution_count": 3,
     "metadata": {},
     "output_type": "execute_result"
    }
   ],
   "source": [
    "df.shape"
   ]
  },
  {
   "cell_type": "code",
   "execution_count": 4,
   "metadata": {},
   "outputs": [
    {
     "data": {
      "text/plain": [
       "Index(['Province_State', 'Country_Region', 'Last_Update', 'Lat', 'Long_',\n",
       "       'Confirmed', 'Deaths', 'Recovered', 'Active', 'FIPS', 'Incident_Rate',\n",
       "       'People_Tested', 'People_Hospitalized', 'Mortality_Rate', 'UID', 'ISO3',\n",
       "       'Testing_Rate', 'Hospitalization_Rate'],\n",
       "      dtype='object')"
      ]
     },
     "execution_count": 4,
     "metadata": {},
     "output_type": "execute_result"
    }
   ],
   "source": [
    "df.columns"
   ]
  },
  {
   "cell_type": "code",
   "execution_count": 5,
   "metadata": {},
   "outputs": [
    {
     "name": "stdout",
     "output_type": "stream",
     "text": [
      "<class 'pandas.core.frame.DataFrame'>\n",
      "RangeIndex: 58 entries, 0 to 57\n",
      "Data columns (total 18 columns):\n",
      " #   Column                Non-Null Count  Dtype  \n",
      "---  ------                --------------  -----  \n",
      " 0   Province_State        58 non-null     object \n",
      " 1   Country_Region        58 non-null     object \n",
      " 2   Last_Update           58 non-null     object \n",
      " 3   Lat                   56 non-null     float64\n",
      " 4   Long_                 56 non-null     float64\n",
      " 5   Confirmed             58 non-null     int64  \n",
      " 6   Deaths                58 non-null     int64  \n",
      " 7   Recovered             42 non-null     float64\n",
      " 8   Active                58 non-null     float64\n",
      " 9   FIPS                  58 non-null     int64  \n",
      " 10  Incident_Rate         56 non-null     float64\n",
      " 11  People_Tested         56 non-null     float64\n",
      " 12  People_Hospitalized   33 non-null     float64\n",
      " 13  Mortality_Rate        57 non-null     float64\n",
      " 14  UID                   58 non-null     int64  \n",
      " 15  ISO3                  58 non-null     object \n",
      " 16  Testing_Rate          56 non-null     float64\n",
      " 17  Hospitalization_Rate  33 non-null     float64\n",
      "dtypes: float64(10), int64(4), object(4)\n",
      "memory usage: 8.3+ KB\n"
     ]
    }
   ],
   "source": [
    "df.info()"
   ]
  },
  {
   "cell_type": "markdown",
   "metadata": {},
   "source": [
    "    Observations:\n",
    "        Columns such as Province_State, Country_Region, Last_Update, ISO3 are in object data-types.\n",
    "        Rest of the columns are in int and float data-types."
   ]
  },
  {
   "cell_type": "code",
   "execution_count": 6,
   "metadata": {},
   "outputs": [
    {
     "data": {
      "image/png": "[encoded data removed]",
      "text/plain": [
       "<Figure size 432x288 with 2 Axes>"
      ]
     },
     "metadata": {
      "needs_background": "light"
     },
     "output_type": "display_data"
    }
   ],
   "source": [
    "sns.heatmap(df.isnull())\n",
    "plt.show()"
   ]
  },
  {
   "cell_type": "markdown",
   "metadata": {},
   "source": [
    "    Observations:\n",
    "        Dataset has missing values."
   ]
  },
  {
   "cell_type": "code",
   "execution_count": 7,
   "metadata": {},
   "outputs": [
    {
     "data": {
      "text/plain": [
       "Province_State           0\n",
       "Country_Region           0\n",
       "Last_Update              0\n",
       "Lat                      2\n",
       "Long_                    2\n",
       "Confirmed                0\n",
       "Deaths                   0\n",
       "Recovered               16\n",
       "Active                   0\n",
       "FIPS                     0\n",
       "Incident_Rate            2\n",
       "People_Tested            2\n",
       "People_Hospitalized     25\n",
       "Mortality_Rate           1\n",
       "UID                      0\n",
       "ISO3                     0\n",
       "Testing_Rate             2\n",
       "Hospitalization_Rate    25\n",
       "dtype: int64"
      ]
     },
     "execution_count": 7,
     "metadata": {},
     "output_type": "execute_result"
    }
   ],
   "source": [
    "df.isnull().sum()"
   ]
  },
  {
   "cell_type": "markdown",
   "metadata": {},
   "source": [
    "## Handling the NaN Values"
   ]
  },
  {
   "cell_type": "code",
   "execution_count": 8,
   "metadata": {},
   "outputs": [
    {
     "data": {
      "image/png": "[encoded data removed]",
      "text/plain": [
       "<Figure size 432x288 with 1 Axes>"
      ]
     },
     "metadata": {
      "needs_background": "light"
     },
     "output_type": "display_data"
    }
   ],
   "source": [
    "sns.distplot(df['Recovered'])\n",
    "plt.show()"
   ]
  },
  {
   "cell_type": "markdown",
   "metadata": {},
   "source": [
    "### Observations:\n",
    "        Since data is 'not normally distributed' we can fill the NaN values with 'Median'."
   ]
  },
  {
   "cell_type": "code",
   "execution_count": 9,
   "metadata": {},
   "outputs": [],
   "source": [
    "df['Recovered'].fillna(df['Recovered'].median(),inplace=True)"
   ]
  },
  {
   "cell_type": "code",
   "execution_count": 10,
   "metadata": {},
   "outputs": [
    {
     "data": {
      "image/png": "[encoded data removed]",
      "text/plain": [
       "<Figure size 432x288 with 1 Axes>"
      ]
     },
     "metadata": {
      "needs_background": "light"
     },
     "output_type": "display_data"
    }
   ],
   "source": [
    "sns.distplot(df['Incident_Rate'])\n",
    "plt.show()"
   ]
  },
  {
   "cell_type": "markdown",
   "metadata": {},
   "source": [
    "### Observations:\n",
    "        Since data is 'not normally distributed' we can fill the NaN values with 'Median'."
   ]
  },
  {
   "cell_type": "code",
   "execution_count": 11,
   "metadata": {},
   "outputs": [],
   "source": [
    "df['Incident_Rate'].fillna(df['Incident_Rate'].median(),inplace=True)"
   ]
  },
  {
   "cell_type": "code",
   "execution_count": 12,
   "metadata": {},
   "outputs": [
    {
     "data": {
      "image/png": "[encoded data removed]",
      "text/plain": [
       "<Figure size 432x288 with 1 Axes>"
      ]
     },
     "metadata": {
      "needs_background": "light"
     },
     "output_type": "display_data"
    }
   ],
   "source": [
    "sns.distplot(df['People_Tested'])\n",
    "plt.show()"
   ]
  },
  {
   "cell_type": "markdown",
   "metadata": {},
   "source": [
    "### Observations:\n",
    "        Since data is 'not normally distributed' we can fill the NaN values with 'Median'."
   ]
  },
  {
   "cell_type": "code",
   "execution_count": 13,
   "metadata": {},
   "outputs": [],
   "source": [
    "df['People_Tested'].fillna(df['People_Tested'].median(),inplace=True)"
   ]
  },
  {
   "cell_type": "code",
   "execution_count": 14,
   "metadata": {},
   "outputs": [
    {
     "data": {
      "image/png": "[encoded data removed]",
      "text/plain": [
       "<Figure size 432x288 with 1 Axes>"
      ]
     },
     "metadata": {
      "needs_background": "light"
     },
     "output_type": "display_data"
    }
   ],
   "source": [
    "sns.distplot(df['People_Hospitalized'])\n",
    "plt.show()"
   ]
  },
  {
   "cell_type": "markdown",
   "metadata": {},
   "source": [
    "### Observations:\n",
    "        Since data is somewhat 'normally distributed' we can fill the NaN values with 'Mean'."
   ]
  },
  {
   "cell_type": "code",
   "execution_count": 15,
   "metadata": {},
   "outputs": [],
   "source": [
    "df['People_Hospitalized'].fillna(df['People_Hospitalized'].mean(),inplace=True)"
   ]
  },
  {
   "cell_type": "code",
   "execution_count": 16,
   "metadata": {},
   "outputs": [
    {
     "data": {
      "image/png": "[encoded data removed]",
      "text/plain": [
       "<Figure size 432x288 with 1 Axes>"
      ]
     },
     "metadata": {
      "needs_background": "light"
     },
     "output_type": "display_data"
    }
   ],
   "source": [
    "sns.distplot(df['Mortality_Rate'])\n",
    "plt.show()"
   ]
  },
  {
   "cell_type": "markdown",
   "metadata": {},
   "source": [
    "### Observations:\n",
    "        Since data is 'normally distributed' we can fill the NaN values with 'Mean'."
   ]
  },
  {
   "cell_type": "code",
   "execution_count": 17,
   "metadata": {},
   "outputs": [],
   "source": [
    "df['Mortality_Rate'].fillna(df['Mortality_Rate'].mean(),inplace=True)"
   ]
  },
  {
   "cell_type": "code",
   "execution_count": 18,
   "metadata": {},
   "outputs": [
    {
     "data": {
      "image/png": "[encoded data removed]",
      "text/plain": [
       "<Figure size 432x288 with 1 Axes>"
      ]
     },
     "metadata": {
      "needs_background": "light"
     },
     "output_type": "display_data"
    }
   ],
   "source": [
    "sns.distplot(df['Testing_Rate'])\n",
    "plt.show()"
   ]
  },
  {
   "cell_type": "markdown",
   "metadata": {},
   "source": [
    "### Observations:\n",
    "        Since data is 'normally distributed' we can fill the NaN values with 'Mean'."
   ]
  },
  {
   "cell_type": "code",
   "execution_count": 19,
   "metadata": {},
   "outputs": [],
   "source": [
    "df['Testing_Rate'].fillna(df['Testing_Rate'].mean(),inplace=True)"
   ]
  },
  {
   "cell_type": "code",
   "execution_count": 20,
   "metadata": {},
   "outputs": [
    {
     "data": {
      "image/png": "[encoded data removed]",
      "text/plain": [
       "<Figure size 432x288 with 1 Axes>"
      ]
     },
     "metadata": {
      "needs_background": "light"
     },
     "output_type": "display_data"
    }
   ],
   "source": [
    "sns.distplot(df['Hospitalization_Rate'])\n",
    "plt.show()"
   ]
  },
  {
   "cell_type": "markdown",
   "metadata": {},
   "source": [
    "### Observations:\n",
    "        Since data is 'normally distributed' we can fill the NaN values with 'Mean'."
   ]
  },
  {
   "cell_type": "code",
   "execution_count": 21,
   "metadata": {},
   "outputs": [],
   "source": [
    "df['Hospitalization_Rate'].fillna(df['Hospitalization_Rate'].mean(),inplace=True)"
   ]
  },
  {
   "cell_type": "markdown",
   "metadata": {},
   "source": [
    "## Dropping Columns"
   ]
  },
  {
   "cell_type": "code",
   "execution_count": 22,
   "metadata": {},
   "outputs": [],
   "source": [
    "df.drop(['Country_Region','Last_Update','Lat','Long_','FIPS','UID'],axis=1,inplace=True)"
   ]
  },
  {
   "cell_type": "markdown",
   "metadata": {},
   "source": [
    "### Reason:\n",
    "        Country_Region is US, which is same for all columns.\n",
    "        Last_Update - Gives Date (2020-05-21)\n",
    "        Lat -  Province Latitude, which is not required for Death/Recovery prediction.\n",
    "        Long_ - Province Longitude, which is not required for Death/Recovery prediction.\n",
    "        FIPS - Federal Information Processing Standards code that uniquely identifies counties within the USA.\n",
    "        UID - Unique Identifier for each row entry."
   ]
  },
  {
   "cell_type": "markdown",
   "metadata": {},
   "source": [
    "# EDA"
   ]
  },
  {
   "cell_type": "markdown",
   "metadata": {},
   "source": [
    "## Univariate Analysis"
   ]
  },
  {
   "cell_type": "code",
   "execution_count": 23,
   "metadata": {},
   "outputs": [
    {
     "data": {
      "text/plain": [
       "array(['Alabama', 'Alaska', 'American Samoa', 'Arizona', 'Arkansas',\n",
       "       'California', 'Colorado', 'Connecticut', 'Delaware',\n",
       "       'Diamond Princess', 'District of Columbia', 'Florida', 'Georgia',\n",
       "       'Grand Princess', 'Guam', 'Hawaii', 'Idaho', 'Illinois', 'Indiana',\n",
       "       'Iowa', 'Kansas', 'Kentucky', 'Louisiana', 'Maine', 'Maryland',\n",
       "       'Massachusetts', 'Michigan', 'Minnesota', 'Mississippi',\n",
       "       'Missouri', 'Montana', 'Nebraska', 'Nevada', 'New Hampshire',\n",
       "       'New Jersey', 'New Mexico', 'New York', 'North Carolina',\n",
       "       'North Dakota', 'Northern Mariana Islands', 'Ohio', 'Oklahoma',\n",
       "       'Oregon', 'Pennsylvania', 'Puerto Rico', 'Rhode Island',\n",
       "       'South Carolina', 'South Dakota', 'Tennessee', 'Texas', 'Utah',\n",
       "       'Vermont', 'Virgin Islands', 'Virginia', 'Washington',\n",
       "       'West Virginia', 'Wisconsin', 'Wyoming'], dtype=object)"
      ]
     },
     "execution_count": 23,
     "metadata": {},
     "output_type": "execute_result"
    }
   ],
   "source": [
    "df['Province_State'].unique()"
   ]
  },
  {
   "cell_type": "markdown",
   "metadata": {},
   "source": [
    "### Observations:\n",
    "        List of USA's Provinces."
   ]
  },
  {
   "cell_type": "code",
   "execution_count": 24,
   "metadata": {},
   "outputs": [
    {
     "data": {
      "text/plain": [
       "Confirmed    1551853.0\n",
       "Deaths         93439.0\n",
       "Recovered     342440.0\n",
       "Active       1164102.0\n",
       "dtype: float64"
      ]
     },
     "execution_count": 24,
     "metadata": {},
     "output_type": "execute_result"
    }
   ],
   "source": [
    "df[['Confirmed','Deaths','Recovered','Active']].sum()"
   ]
  },
  {
   "cell_type": "markdown",
   "metadata": {},
   "source": [
    "### Observations:\n",
    "    On 2020-05-21,\n",
    "        -Total number of Confirmed cases across USA was 1551853.0\n",
    "        -Total number of Death cases across USA was 93439.0\n",
    "        -Total number of Recovered cases across USA was 342440.0\n",
    "        -Total number of Active cases across USA was 1164102.0"
   ]
  },
  {
   "cell_type": "code",
   "execution_count": 25,
   "metadata": {},
   "outputs": [
    {
     "data": {
      "text/plain": [
       "12925100.0"
      ]
     },
     "execution_count": 25,
     "metadata": {},
     "output_type": "execute_result"
    }
   ],
   "source": [
    "df['People_Tested'].sum()"
   ]
  },
  {
   "cell_type": "markdown",
   "metadata": {},
   "source": [
    "### Observations:\n",
    "       Total number of people who have been tested on 2020-05-21 was 12925100.0."
   ]
  },
  {
   "cell_type": "code",
   "execution_count": 26,
   "metadata": {},
   "outputs": [
    {
     "data": {
      "text/plain": [
       "284052.3636363636"
      ]
     },
     "execution_count": 26,
     "metadata": {},
     "output_type": "execute_result"
    }
   ],
   "source": [
    "df['People_Hospitalized'].sum()"
   ]
  },
  {
   "cell_type": "markdown",
   "metadata": {},
   "source": [
    "### Observations:\n",
    "       Total number of people who have been hospitalized on 2020-05-21 was 284052.36."
   ]
  },
  {
   "cell_type": "code",
   "execution_count": 27,
   "metadata": {},
   "outputs": [
    {
     "name": "stdout",
     "output_type": "stream",
     "text": [
      " Average Incident_Rate across USA on 2020-05-21 was 391.2\n",
      " Average Mortality_Rate across USA on 2020-05-21 was 4.46\n",
      " Average Testing_Rate across USA on 2020-05-21 was 3894.19\n",
      " Average Hospitalization_Rate across USA on 2020-05-21 was 14.34\n"
     ]
    }
   ],
   "source": [
    "for i in ['Incident_Rate','Mortality_Rate','Testing_Rate','Hospitalization_Rate']:\n",
    "    print(f\" Average {i} across USA on 2020-05-21 was {round(df[i].mean(),2)}\")"
   ]
  },
  {
   "cell_type": "markdown",
   "metadata": {},
   "source": [
    "## Bivariate Analysis"
   ]
  },
  {
   "cell_type": "markdown",
   "metadata": {},
   "source": [
    "### 1. Target Variable - Deaths"
   ]
  },
  {
   "cell_type": "code",
   "execution_count": 28,
   "metadata": {},
   "outputs": [
    {
     "data": {
      "text/html": [
       "<div>\n",
       "<style scoped>\n",
       "    .dataframe tbody tr th:only-of-type {\n",
       "        vertical-align: middle;\n",
       "    }\n",
       "\n",
       "    .dataframe tbody tr th {\n",
       "        vertical-align: top;\n",
       "    }\n",
       "\n",
       "    .dataframe thead th {\n",
       "        text-align: right;\n",
       "    }\n",
       "</style>\n",
       "<table border=\"1\" class=\"dataframe\">\n",
       "  <thead>\n",
       "    <tr style=\"text-align: right;\">\n",
       "      <th></th>\n",
       "      <th>Province_State</th>\n",
       "      <th>Deaths</th>\n",
       "    </tr>\n",
       "  </thead>\n",
       "  <tbody>\n",
       "    <tr>\n",
       "      <th>36</th>\n",
       "      <td>New York</td>\n",
       "      <td>28636</td>\n",
       "    </tr>\n",
       "    <tr>\n",
       "      <th>34</th>\n",
       "      <td>New Jersey</td>\n",
       "      <td>10749</td>\n",
       "    </tr>\n",
       "    <tr>\n",
       "      <th>25</th>\n",
       "      <td>Massachusetts</td>\n",
       "      <td>6066</td>\n",
       "    </tr>\n",
       "    <tr>\n",
       "      <th>26</th>\n",
       "      <td>Michigan</td>\n",
       "      <td>5060</td>\n",
       "    </tr>\n",
       "    <tr>\n",
       "      <th>43</th>\n",
       "      <td>Pennsylvania</td>\n",
       "      <td>4770</td>\n",
       "    </tr>\n",
       "  </tbody>\n",
       "</table>\n",
       "</div>"
      ],
      "text/plain": [
       "   Province_State  Deaths\n",
       "36       New York   28636\n",
       "34     New Jersey   10749\n",
       "25  Massachusetts    6066\n",
       "26       Michigan    5060\n",
       "43   Pennsylvania    4770"
      ]
     },
     "execution_count": 28,
     "metadata": {},
     "output_type": "execute_result"
    }
   ],
   "source": [
    "df[['Province_State','Deaths']].sort_values('Deaths',ascending=False)[:5]"
   ]
  },
  {
   "cell_type": "markdown",
   "metadata": {},
   "source": [
    "### Observations:\n",
    "        5 Provinces in USA where more number of Deaths reported on 2020-05-21."
   ]
  },
  {
   "cell_type": "code",
   "execution_count": 29,
   "metadata": {},
   "outputs": [
    {
     "data": {
      "text/html": [
       "<div>\n",
       "<style scoped>\n",
       "    .dataframe tbody tr th:only-of-type {\n",
       "        vertical-align: middle;\n",
       "    }\n",
       "\n",
       "    .dataframe tbody tr th {\n",
       "        vertical-align: top;\n",
       "    }\n",
       "\n",
       "    .dataframe thead th {\n",
       "        text-align: right;\n",
       "    }\n",
       "</style>\n",
       "<table border=\"1\" class=\"dataframe\">\n",
       "  <thead>\n",
       "    <tr style=\"text-align: right;\">\n",
       "      <th></th>\n",
       "      <th>Province_State</th>\n",
       "      <th>Deaths</th>\n",
       "    </tr>\n",
       "  </thead>\n",
       "  <tbody>\n",
       "    <tr>\n",
       "      <th>2</th>\n",
       "      <td>American Samoa</td>\n",
       "      <td>0</td>\n",
       "    </tr>\n",
       "    <tr>\n",
       "      <th>9</th>\n",
       "      <td>Diamond Princess</td>\n",
       "      <td>0</td>\n",
       "    </tr>\n",
       "    <tr>\n",
       "      <th>39</th>\n",
       "      <td>Northern Mariana Islands</td>\n",
       "      <td>2</td>\n",
       "    </tr>\n",
       "    <tr>\n",
       "      <th>13</th>\n",
       "      <td>Grand Princess</td>\n",
       "      <td>3</td>\n",
       "    </tr>\n",
       "    <tr>\n",
       "      <th>14</th>\n",
       "      <td>Guam</td>\n",
       "      <td>5</td>\n",
       "    </tr>\n",
       "  </tbody>\n",
       "</table>\n",
       "</div>"
      ],
      "text/plain": [
       "              Province_State  Deaths\n",
       "2             American Samoa       0\n",
       "9           Diamond Princess       0\n",
       "39  Northern Mariana Islands       2\n",
       "13            Grand Princess       3\n",
       "14                      Guam       5"
      ]
     },
     "execution_count": 29,
     "metadata": {},
     "output_type": "execute_result"
    }
   ],
   "source": [
    "df[['Province_State','Deaths']].sort_values('Deaths')[:5]"
   ]
  },
  {
   "cell_type": "markdown",
   "metadata": {},
   "source": [
    "### Observations:\n",
    "        5 Provinces in USA where less number of Deaths reported on 2020-05-21."
   ]
  },
  {
   "cell_type": "code",
   "execution_count": 30,
   "metadata": {},
   "outputs": [
    {
     "data": {
      "image/png": "[encoded data removed]",
      "text/plain": [
       "<Figure size 432x288 with 1 Axes>"
      ]
     },
     "metadata": {
      "needs_background": "light"
     },
     "output_type": "display_data"
    }
   ],
   "source": [
    "plt.scatter(df['Confirmed'],df['Deaths'])\n",
    "plt.show()"
   ]
  },
  {
   "cell_type": "markdown",
   "metadata": {},
   "source": [
    "### Observations:\n",
    "        As Confirmed cases increased across USA Death cases also increased."
   ]
  },
  {
   "cell_type": "code",
   "execution_count": 31,
   "metadata": {},
   "outputs": [
    {
     "data": {
      "image/png": "[encoded data removed]",
      "text/plain": [
       "<Figure size 432x288 with 1 Axes>"
      ]
     },
     "metadata": {
      "needs_background": "light"
     },
     "output_type": "display_data"
    }
   ],
   "source": [
    "plt.scatter(df['Active'],df['Deaths'])\n",
    "plt.show()"
   ]
  },
  {
   "cell_type": "markdown",
   "metadata": {},
   "source": [
    "### Observations:\n",
    "        As Active cases increased across USA Death cases also increased."
   ]
  },
  {
   "cell_type": "code",
   "execution_count": 32,
   "metadata": {},
   "outputs": [
    {
     "data": {
      "image/png": "[encoded data removed]",
      "text/plain": [
       "<Figure size 432x288 with 1 Axes>"
      ]
     },
     "metadata": {
      "needs_background": "light"
     },
     "output_type": "display_data"
    }
   ],
   "source": [
    "plt.scatter(df['Incident_Rate'],df['Deaths'])\n",
    "plt.show()"
   ]
  },
  {
   "cell_type": "markdown",
   "metadata": {},
   "source": [
    "### Observations:\n",
    "        As Incident_Rate increased across USA Death cases also increased."
   ]
  },
  {
   "cell_type": "code",
   "execution_count": 33,
   "metadata": {},
   "outputs": [
    {
     "data": {
      "image/png": "[encoded data removed]",
      "text/plain": [
       "<Figure size 432x288 with 1 Axes>"
      ]
     },
     "metadata": {
      "needs_background": "light"
     },
     "output_type": "display_data"
    }
   ],
   "source": [
    "plt.scatter(df['Testing_Rate'],df['Deaths'])\n",
    "plt.show()"
   ]
  },
  {
   "cell_type": "markdown",
   "metadata": {},
   "source": [
    "### Observations:\n",
    "        As Testing_Rate increased across USA Death cases decreased."
   ]
  },
  {
   "cell_type": "code",
   "execution_count": 34,
   "metadata": {},
   "outputs": [
    {
     "data": {
      "image/png": "[encoded data removed]",
      "text/plain": [
       "<Figure size 432x288 with 1 Axes>"
      ]
     },
     "metadata": {
      "needs_background": "light"
     },
     "output_type": "display_data"
    }
   ],
   "source": [
    "plt.scatter(df['Hospitalization_Rate'],df['Deaths'])\n",
    "plt.show()"
   ]
  },
  {
   "cell_type": "markdown",
   "metadata": {},
   "source": [
    "### Observations:\n",
    "        As Hospitalization_Rate increased across USA Death cases decreased."
   ]
  },
  {
   "cell_type": "markdown",
   "metadata": {},
   "source": [
    "### 2. Target Variable - Recovered"
   ]
  },
  {
   "cell_type": "code",
   "execution_count": 35,
   "metadata": {},
   "outputs": [
    {
     "data": {
      "text/html": [
       "<div>\n",
       "<style scoped>\n",
       "    .dataframe tbody tr th:only-of-type {\n",
       "        vertical-align: middle;\n",
       "    }\n",
       "\n",
       "    .dataframe tbody tr th {\n",
       "        vertical-align: top;\n",
       "    }\n",
       "\n",
       "    .dataframe thead th {\n",
       "        text-align: right;\n",
       "    }\n",
       "</style>\n",
       "<table border=\"1\" class=\"dataframe\">\n",
       "  <thead>\n",
       "    <tr style=\"text-align: right;\">\n",
       "      <th></th>\n",
       "      <th>Province_State</th>\n",
       "      <th>Recovered</th>\n",
       "    </tr>\n",
       "  </thead>\n",
       "  <tbody>\n",
       "    <tr>\n",
       "      <th>36</th>\n",
       "      <td>New York</td>\n",
       "      <td>61886.0</td>\n",
       "    </tr>\n",
       "    <tr>\n",
       "      <th>49</th>\n",
       "      <td>Texas</td>\n",
       "      <td>30341.0</td>\n",
       "    </tr>\n",
       "    <tr>\n",
       "      <th>26</th>\n",
       "      <td>Michigan</td>\n",
       "      <td>28234.0</td>\n",
       "    </tr>\n",
       "    <tr>\n",
       "      <th>22</th>\n",
       "      <td>Louisiana</td>\n",
       "      <td>26249.0</td>\n",
       "    </tr>\n",
       "    <tr>\n",
       "      <th>34</th>\n",
       "      <td>New Jersey</td>\n",
       "      <td>23945.0</td>\n",
       "    </tr>\n",
       "  </tbody>\n",
       "</table>\n",
       "</div>"
      ],
      "text/plain": [
       "   Province_State  Recovered\n",
       "36       New York    61886.0\n",
       "49          Texas    30341.0\n",
       "26       Michigan    28234.0\n",
       "22      Louisiana    26249.0\n",
       "34     New Jersey    23945.0"
      ]
     },
     "execution_count": 35,
     "metadata": {},
     "output_type": "execute_result"
    }
   ],
   "source": [
    "df[['Province_State','Recovered']].sort_values('Recovered',ascending=False)[:5]"
   ]
  },
  {
   "cell_type": "markdown",
   "metadata": {},
   "source": [
    "### Observations:\n",
    "        5 Provinces in USA where more number of people recovered on 2020-05-21."
   ]
  },
  {
   "cell_type": "code",
   "execution_count": 36,
   "metadata": {},
   "outputs": [
    {
     "data": {
      "image/png": "[encoded data removed]",
      "text/plain": [
       "<Figure size 432x288 with 1 Axes>"
      ]
     },
     "metadata": {
      "needs_background": "light"
     },
     "output_type": "display_data"
    }
   ],
   "source": [
    "plt.scatter(df['Incident_Rate'],df['Recovered'])\n",
    "plt.show()"
   ]
  },
  {
   "cell_type": "markdown",
   "metadata": {},
   "source": [
    "### Observations:\n",
    "        Recovery rate was also good as Incident_Rate increased."
   ]
  },
  {
   "cell_type": "code",
   "execution_count": 37,
   "metadata": {},
   "outputs": [
    {
     "data": {
      "image/png": "[encoded data removed]",
      "text/plain": [
       "<Figure size 432x288 with 1 Axes>"
      ]
     },
     "metadata": {
      "needs_background": "light"
     },
     "output_type": "display_data"
    }
   ],
   "source": [
    "plt.scatter(df['People_Hospitalized'],df['Recovered'])\n",
    "plt.show()"
   ]
  },
  {
   "cell_type": "markdown",
   "metadata": {},
   "source": [
    "### Observations:\n",
    "        Recovered cases increased as more People_Hospitalized."
   ]
  },
  {
   "cell_type": "code",
   "execution_count": 38,
   "metadata": {},
   "outputs": [
    {
     "data": {
      "image/png": "[encoded data removed]",
      "text/plain": [
       "<Figure size 432x288 with 1 Axes>"
      ]
     },
     "metadata": {
      "needs_background": "light"
     },
     "output_type": "display_data"
    }
   ],
   "source": [
    "plt.scatter(df['Recovered'],df['Mortality_Rate'])\n",
    "plt.show()"
   ]
  },
  {
   "cell_type": "markdown",
   "metadata": {},
   "source": [
    "### Observations:\n",
    "        In USA, On 2020-05-21 Mortality_Rate was high than Recovery rate."
   ]
  },
  {
   "cell_type": "markdown",
   "metadata": {},
   "source": [
    "## Correlation Matrix"
   ]
  },
  {
   "cell_type": "code",
   "execution_count": 39,
   "metadata": {},
   "outputs": [
    {
     "data": {
      "image/png": "[encoded data removed]",
      "text/plain": [
       "<Figure size 720x432 with 2 Axes>"
      ]
     },
     "metadata": {
      "needs_background": "light"
     },
     "output_type": "display_data"
    }
   ],
   "source": [
    "plt.figure(figsize=(10,6))\n",
    "sns.heatmap(df.corr(),annot=True,fmt='.2f',linewidth=0.25,linecolor='k')\n",
    "plt.show()"
   ]
  },
  {
   "cell_type": "markdown",
   "metadata": {},
   "source": [
    "### Observations:\n",
    "        1. Columns such as Confirmed, Recovered, Active, Incident_Rate, People_Tested, People_Hospitalized have Strong correlation with Target column (Deaths).\n",
    "        2. Columns such as Confirmed, Deaths, Active, Incident_Rate, People_Tested, People_Hospitalized have Strong correlation with Target column (Recovered)."
   ]
  },
  {
   "cell_type": "markdown",
   "metadata": {},
   "source": [
    "# Data Preprocessing"
   ]
  },
  {
   "cell_type": "markdown",
   "metadata": {},
   "source": [
    "## Converting Categorical columns into Numerical columns"
   ]
  },
  {
   "cell_type": "code",
   "execution_count": 40,
   "metadata": {},
   "outputs": [],
   "source": [
    "from sklearn.preprocessing import LabelEncoder\n",
    "\n",
    "le=LabelEncoder()\n",
    "for i in ['Province_State','ISO3']:\n",
    "    df[i]=le.fit_transform(df[i])"
   ]
  },
  {
   "cell_type": "code",
   "execution_count": 41,
   "metadata": {},
   "outputs": [
    {
     "data": {
      "text/html": [
       "<div>\n",
       "<style scoped>\n",
       "    .dataframe tbody tr th:only-of-type {\n",
       "        vertical-align: middle;\n",
       "    }\n",
       "\n",
       "    .dataframe tbody tr th {\n",
       "        vertical-align: top;\n",
       "    }\n",
       "\n",
       "    .dataframe thead th {\n",
       "        text-align: right;\n",
       "    }\n",
       "</style>\n",
       "<table border=\"1\" class=\"dataframe\">\n",
       "  <thead>\n",
       "    <tr style=\"text-align: right;\">\n",
       "      <th></th>\n",
       "      <th>Province_State</th>\n",
       "      <th>Confirmed</th>\n",
       "      <th>Deaths</th>\n",
       "      <th>Recovered</th>\n",
       "      <th>Active</th>\n",
       "      <th>Incident_Rate</th>\n",
       "      <th>People_Tested</th>\n",
       "      <th>People_Hospitalized</th>\n",
       "      <th>Mortality_Rate</th>\n",
       "      <th>ISO3</th>\n",
       "      <th>Testing_Rate</th>\n",
       "      <th>Hospitalization_Rate</th>\n",
       "    </tr>\n",
       "  </thead>\n",
       "  <tbody>\n",
       "    <tr>\n",
       "      <th>0</th>\n",
       "      <td>0</td>\n",
       "      <td>13052</td>\n",
       "      <td>522</td>\n",
       "      <td>3008.0</td>\n",
       "      <td>12530.0</td>\n",
       "      <td>266.194321</td>\n",
       "      <td>164450.0</td>\n",
       "      <td>1493.000000</td>\n",
       "      <td>3.999387</td>\n",
       "      <td>4</td>\n",
       "      <td>3353.942386</td>\n",
       "      <td>11.438860</td>\n",
       "    </tr>\n",
       "    <tr>\n",
       "      <th>1</th>\n",
       "      <td>1</td>\n",
       "      <td>401</td>\n",
       "      <td>10</td>\n",
       "      <td>352.0</td>\n",
       "      <td>39.0</td>\n",
       "      <td>54.815493</td>\n",
       "      <td>37045.0</td>\n",
       "      <td>4897.454545</td>\n",
       "      <td>2.493766</td>\n",
       "      <td>4</td>\n",
       "      <td>5063.940017</td>\n",
       "      <td>14.342541</td>\n",
       "    </tr>\n",
       "    <tr>\n",
       "      <th>2</th>\n",
       "      <td>2</td>\n",
       "      <td>0</td>\n",
       "      <td>0</td>\n",
       "      <td>3008.0</td>\n",
       "      <td>0.0</td>\n",
       "      <td>0.000000</td>\n",
       "      <td>124.0</td>\n",
       "      <td>4897.454545</td>\n",
       "      <td>4.458248</td>\n",
       "      <td>0</td>\n",
       "      <td>222.857246</td>\n",
       "      <td>14.342541</td>\n",
       "    </tr>\n",
       "    <tr>\n",
       "      <th>3</th>\n",
       "      <td>3</td>\n",
       "      <td>14906</td>\n",
       "      <td>747</td>\n",
       "      <td>3773.0</td>\n",
       "      <td>10386.0</td>\n",
       "      <td>204.788838</td>\n",
       "      <td>165435.0</td>\n",
       "      <td>1792.000000</td>\n",
       "      <td>5.011405</td>\n",
       "      <td>4</td>\n",
       "      <td>2272.859351</td>\n",
       "      <td>12.022005</td>\n",
       "    </tr>\n",
       "    <tr>\n",
       "      <th>4</th>\n",
       "      <td>4</td>\n",
       "      <td>5003</td>\n",
       "      <td>107</td>\n",
       "      <td>3852.0</td>\n",
       "      <td>1044.0</td>\n",
       "      <td>165.782801</td>\n",
       "      <td>96258.0</td>\n",
       "      <td>535.000000</td>\n",
       "      <td>2.138717</td>\n",
       "      <td>4</td>\n",
       "      <td>3189.670370</td>\n",
       "      <td>10.693584</td>\n",
       "    </tr>\n",
       "  </tbody>\n",
       "</table>\n",
       "</div>"
      ],
      "text/plain": [
       "   Province_State  Confirmed  Deaths  Recovered   Active  Incident_Rate  \\\n",
       "0               0      13052     522     3008.0  12530.0     266.194321   \n",
       "1               1        401      10      352.0     39.0      54.815493   \n",
       "2               2          0       0     3008.0      0.0       0.000000   \n",
       "3               3      14906     747     3773.0  10386.0     204.788838   \n",
       "4               4       5003     107     3852.0   1044.0     165.782801   \n",
       "\n",
       "   People_Tested  People_Hospitalized  Mortality_Rate  ISO3  Testing_Rate  \\\n",
       "0       164450.0          1493.000000        3.999387     4   3353.942386   \n",
       "1        37045.0          4897.454545        2.493766     4   5063.940017   \n",
       "2          124.0          4897.454545        4.458248     0    222.857246   \n",
       "3       165435.0          1792.000000        5.011405     4   2272.859351   \n",
       "4        96258.0           535.000000        2.138717     4   3189.670370   \n",
       "\n",
       "   Hospitalization_Rate  \n",
       "0             11.438860  \n",
       "1             14.342541  \n",
       "2             14.342541  \n",
       "3             12.022005  \n",
       "4             10.693584  "
      ]
     },
     "execution_count": 41,
     "metadata": {},
     "output_type": "execute_result"
    }
   ],
   "source": [
    "df.head()"
   ]
  },
  {
   "cell_type": "markdown",
   "metadata": {},
   "source": [
    "## Checking Outliers"
   ]
  },
  {
   "cell_type": "code",
   "execution_count": 42,
   "metadata": {},
   "outputs": [
    {
     "data": {
      "image/png": "[encoded data removed]",
      "text/plain": [
       "<Figure size 1440x576 with 12 Axes>"
      ]
     },
     "metadata": {
      "needs_background": "light"
     },
     "output_type": "display_data"
    }
   ],
   "source": [
    "df.plot(kind='box',subplots=True,figsize=(20,8))\n",
    "plt.show()"
   ]
  },
  {
   "cell_type": "markdown",
   "metadata": {},
   "source": [
    "### Observations:\n",
    "        From above boxplots it is evident that outliers exists."
   ]
  },
  {
   "cell_type": "markdown",
   "metadata": {},
   "source": [
    "## Removing Outliers"
   ]
  },
  {
   "cell_type": "markdown",
   "metadata": {},
   "source": [
    "### 1. Z-score Method"
   ]
  },
  {
   "cell_type": "code",
   "execution_count": 43,
   "metadata": {},
   "outputs": [],
   "source": [
    "from scipy.stats import zscore\n",
    "\n",
    "z=np.abs(zscore(df))"
   ]
  },
  {
   "cell_type": "code",
   "execution_count": 44,
   "metadata": {},
   "outputs": [
    {
     "data": {
      "text/plain": [
       "(array([ 2,  5,  7, 14, 34, 36, 36, 36, 36, 36, 36, 36, 45], dtype=int64),\n",
       " array([ 9,  6, 11,  9,  5,  1,  2,  3,  4,  5,  6,  7, 10], dtype=int64))"
      ]
     },
     "execution_count": 44,
     "metadata": {},
     "output_type": "execute_result"
    }
   ],
   "source": [
    "np.where(z>3)"
   ]
  },
  {
   "cell_type": "code",
   "execution_count": 45,
   "metadata": {},
   "outputs": [],
   "source": [
    "cd = df[(z<3).all(axis=1)]"
   ]
  },
  {
   "cell_type": "code",
   "execution_count": 46,
   "metadata": {},
   "outputs": [
    {
     "name": "stdout",
     "output_type": "stream",
     "text": [
      "(58, 12) \t\t (51, 12)\n"
     ]
    }
   ],
   "source": [
    "print(df.shape, '\\t\\t' ,cd.shape)"
   ]
  },
  {
   "cell_type": "code",
   "execution_count": 47,
   "metadata": {},
   "outputs": [
    {
     "data": {
      "text/plain": [
       "12.068965517241379"
      ]
     },
     "execution_count": 47,
     "metadata": {},
     "output_type": "execute_result"
    }
   ],
   "source": [
    "# Percentage loss of data\n",
    "per_loss=((58-51)/58)*100\n",
    "per_loss"
   ]
  },
  {
   "cell_type": "markdown",
   "metadata": {},
   "source": [
    "### Since we lost significant amount (above 5%) of data while removing outliers, hence we are not going with Z-score method of removing outliers."
   ]
  },
  {
   "cell_type": "markdown",
   "metadata": {},
   "source": [
    "## Checking Skewness"
   ]
  },
  {
   "cell_type": "code",
   "execution_count": 48,
   "metadata": {},
   "outputs": [
    {
     "data": {
      "image/png": "[encoded data removed]",
      "text/plain": [
       "<Figure size 1080x720 with 12 Axes>"
      ]
     },
     "metadata": {
      "needs_background": "light"
     },
     "output_type": "display_data"
    }
   ],
   "source": [
    "df.hist(figsize=(15,10))\n",
    "plt.show()"
   ]
  },
  {
   "cell_type": "markdown",
   "metadata": {},
   "source": [
    "### Observations:\n",
    "        From above plots it is evident that skewness exists."
   ]
  },
  {
   "cell_type": "markdown",
   "metadata": {},
   "source": [
    "## Splitting Data"
   ]
  },
  {
   "cell_type": "markdown",
   "metadata": {},
   "source": [
    "### Label Column - Deaths"
   ]
  },
  {
   "cell_type": "code",
   "execution_count": 49,
   "metadata": {},
   "outputs": [],
   "source": [
    "x=df.drop('Deaths',axis=1)\n",
    "y=df['Deaths']"
   ]
  },
  {
   "cell_type": "markdown",
   "metadata": {},
   "source": [
    "### Label Column - Recovered"
   ]
  },
  {
   "cell_type": "code",
   "execution_count": 50,
   "metadata": {},
   "outputs": [],
   "source": [
    "x1=df.drop('Recovered',axis=1)\n",
    "y1=df['Recovered']"
   ]
  },
  {
   "cell_type": "markdown",
   "metadata": {},
   "source": [
    "## Removing Skewness"
   ]
  },
  {
   "cell_type": "code",
   "execution_count": 51,
   "metadata": {},
   "outputs": [],
   "source": [
    "from sklearn.preprocessing import power_transform\n",
    "\n",
    "x=power_transform(x,method='yeo-johnson')\n",
    "x1=power_transform(x1,method='yeo-johnson')"
   ]
  },
  {
   "cell_type": "markdown",
   "metadata": {},
   "source": [
    "## Standardizing Data"
   ]
  },
  {
   "cell_type": "code",
   "execution_count": 52,
   "metadata": {},
   "outputs": [],
   "source": [
    "from sklearn.preprocessing import StandardScaler\n",
    "\n",
    "sc=StandardScaler()\n",
    "x=sc.fit_transform(x)\n",
    "x1=sc.fit_transform(x1)"
   ]
  },
  {
   "cell_type": "markdown",
   "metadata": {},
   "source": [
    "# Model Training And Testing "
   ]
  },
  {
   "cell_type": "markdown",
   "metadata": {},
   "source": [
    "## 1. Predicting Deaths"
   ]
  },
  {
   "cell_type": "code",
   "execution_count": 53,
   "metadata": {},
   "outputs": [],
   "source": [
    "from sklearn.model_selection import train_test_split, cross_val_score\n",
    "from sklearn.linear_model import LinearRegression\n",
    "from sklearn.metrics import r2_score, mean_absolute_error, mean_squared_error"
   ]
  },
  {
   "cell_type": "code",
   "execution_count": 54,
   "metadata": {},
   "outputs": [
    {
     "name": "stdout",
     "output_type": "stream",
     "text": [
      " Best r2_score is 65.72051930693674 which is found on random_state 65\n"
     ]
    }
   ],
   "source": [
    "# finding the best random_state\n",
    "\n",
    "s=0\n",
    "for i in range(40,800):\n",
    "    x_train,x_test,y_train,y_test=train_test_split(x,y,test_size=0.20,random_state=i)\n",
    "    mod=LinearRegression()\n",
    "    mod.fit(x_train,y_train)\n",
    "    y_pred=mod.predict(x_test)\n",
    "    mod_acc=r2_score(y_test,y_pred)\n",
    "    if mod_acc>s:\n",
    "        s=mod_acc\n",
    "        best_random_state=i\n",
    "        \n",
    "print(f\" Best r2_score is {s*100} which is found on random_state {best_random_state}\")"
   ]
  },
  {
   "cell_type": "code",
   "execution_count": 55,
   "metadata": {},
   "outputs": [],
   "source": [
    "x_train,x_test,y_train,y_test=train_test_split(x,y,test_size=0.20,random_state=best_random_state)"
   ]
  },
  {
   "cell_type": "code",
   "execution_count": 56,
   "metadata": {},
   "outputs": [
    {
     "name": "stdout",
     "output_type": "stream",
     "text": [
      " Best cross_val_score is -712.7541808251954 which is found on cv =  6\n"
     ]
    }
   ],
   "source": [
    "# finding the best cv\n",
    "\n",
    "cv=-100\n",
    "for i in range(2,20):\n",
    "    cv_score=cross_val_score(mod,x,y,cv=i).mean()\n",
    "    if cv_score>cv:\n",
    "        cv=cv_score\n",
    "        best_cv=i\n",
    "    \n",
    "print(f\" Best cross_val_score is {cv*100} which is found on cv =  {best_cv}\")    "
   ]
  },
  {
   "cell_type": "markdown",
   "metadata": {},
   "source": [
    "# Finding The Best Model"
   ]
  },
  {
   "cell_type": "code",
   "execution_count": 57,
   "metadata": {},
   "outputs": [],
   "source": [
    "from sklearn.linear_model import Lasso\n",
    "from sklearn.linear_model import Ridge\n",
    "from sklearn.linear_model import ElasticNet\n",
    "from sklearn.linear_model import SGDRegressor\n",
    "from sklearn.tree import DecisionTreeRegressor\n",
    "from sklearn.neighbors import KNeighborsRegressor\n",
    "from sklearn.svm import SVR\n",
    "from sklearn.ensemble import RandomForestRegressor\n",
    "from sklearn.ensemble import AdaBoostRegressor\n",
    "from sklearn.ensemble import GradientBoostingRegressor "
   ]
  },
  {
   "cell_type": "code",
   "execution_count": 58,
   "metadata": {},
   "outputs": [],
   "source": [
    "mod_list = [LinearRegression(),Lasso(),Ridge(),ElasticNet(),SGDRegressor(),DecisionTreeRegressor(),KNeighborsRegressor(),\n",
    "           SVR(),RandomForestRegressor(),AdaBoostRegressor(),GradientBoostingRegressor()]"
   ]
  },
  {
   "cell_type": "code",
   "execution_count": 59,
   "metadata": {},
   "outputs": [
    {
     "name": "stdout",
     "output_type": "stream",
     "text": [
      "LinearRegression()\n",
      "r2_score: 65.72051930693674\n",
      "Training score: 56.30993750626904\n",
      "Errors:\n",
      "Mean absolute error: 1551.3152188791912\n",
      "Mean squared error: 3602959.720296437\n",
      "Root mean squared error: 1898.1463906391512\n",
      "*********************************************************************\n",
      "*********************************************************************\n",
      "Lasso()\n",
      "r2_score: 65.89636249844924\n",
      "Training score: 56.309353100942005\n",
      "Errors:\n",
      "Mean absolute error: 1546.388814265713\n",
      "Mean squared error: 3584477.645209573\n",
      "Root mean squared error: 1893.271677601916\n",
      "*********************************************************************\n",
      "*********************************************************************\n",
      "Ridge()\n",
      "r2_score: 66.78535893258595\n",
      "Training score: 55.6069296039134\n",
      "Errors:\n",
      "Mean absolute error: 1530.7013219967441\n",
      "Mean squared error: 3491039.2885331283\n",
      "Root mean squared error: 1868.4323077203328\n",
      "*********************************************************************\n",
      "*********************************************************************\n",
      "ElasticNet()\n",
      "r2_score: 74.59390500452088\n",
      "Training score: 51.3690192797239\n",
      "Errors:\n",
      "Mean absolute error: 1187.2189093351617\n",
      "Mean squared error: 2670318.6590939076\n",
      "Root mean squared error: 1634.1109690268613\n",
      "*********************************************************************\n",
      "*********************************************************************\n",
      "SGDRegressor()\n",
      "r2_score: 69.17703835704835\n",
      "Training score: 54.5152247676814\n",
      "Errors:\n",
      "Mean absolute error: 1500.7029350549828\n",
      "Mean squared error: 3239660.782908814\n",
      "Root mean squared error: 1799.9057705637854\n",
      "*********************************************************************\n",
      "*********************************************************************\n",
      "DecisionTreeRegressor()\n",
      "r2_score: 71.73832709491063\n",
      "Training score: 100.0\n",
      "Errors:\n",
      "Mean absolute error: 802.4166666666666\n",
      "Mean squared error: 2970455.4166666665\n",
      "Root mean squared error: 1723.5009186729976\n",
      "*********************************************************************\n",
      "*********************************************************************\n",
      "KNeighborsRegressor()\n",
      "r2_score: 44.697704465091824\n",
      "Training score: 48.42022849933444\n",
      "Errors:\n",
      "Mean absolute error: 1259.6666666666667\n",
      "Mean squared error: 5812571.813333333\n",
      "Root mean squared error: 2410.927583593778\n",
      "*********************************************************************\n",
      "*********************************************************************\n",
      "SVR()\n",
      "r2_score: -24.680397334925843\n",
      "Training score: -6.820858236699889\n",
      "Errors:\n",
      "Mean absolute error: 1911.3830454870565\n",
      "Mean squared error: 13104587.363226777\n",
      "Root mean squared error: 3620.0258788062242\n",
      "*********************************************************************\n",
      "*********************************************************************\n",
      "RandomForestRegressor()\n",
      "r2_score: 79.62018684544975\n",
      "Training score: 87.50789520094305\n",
      "Errors:\n",
      "Mean absolute error: 796.4866666666666\n",
      "Mean squared error: 2142029.1211666665\n",
      "Root mean squared error: 1463.5672588462296\n",
      "*********************************************************************\n",
      "*********************************************************************\n",
      "AdaBoostRegressor()\n",
      "r2_score: 64.68176184037546\n",
      "Training score: 99.66065510419483\n",
      "Errors:\n",
      "Mean absolute error: 929.0784722222221\n",
      "Mean squared error: 3712138.775390314\n",
      "Root mean squared error: 1926.6911468604183\n",
      "*********************************************************************\n",
      "*********************************************************************\n",
      "GradientBoostingRegressor()\n",
      "r2_score: 87.18463789994534\n",
      "Training score: 99.99980115089548\n",
      "Errors:\n",
      "Mean absolute error: 624.620346731618\n",
      "Mean squared error: 1346964.2046489345\n",
      "Root mean squared error: 1160.5878702833897\n",
      "*********************************************************************\n",
      "*********************************************************************\n"
     ]
    }
   ],
   "source": [
    "for i in mod_list:\n",
    "    print(i)\n",
    "    i.fit(x_train,y_train)\n",
    "    y_pred=i.predict(x_test)\n",
    "    r2=r2_score(y_test,y_pred)\n",
    "    print('r2_score:',r2*100)\n",
    "    print('Training score:',i.score(x_train,y_train)*100)\n",
    "    print('Errors:')\n",
    "    print('Mean absolute error:',mean_absolute_error(y_test,y_pred))\n",
    "    print('Mean squared error:',mean_squared_error(y_test,y_pred))\n",
    "    print('Root mean squared error:',np.sqrt(mean_squared_error(y_test,y_pred)))\n",
    "    print('*********************************************************************')\n",
    "    print('*********************************************************************')"
   ]
  },
  {
   "cell_type": "markdown",
   "metadata": {},
   "source": [
    "### Observations:\n",
    "        From above it is clear that Gradient Boosting Regressor is performing better."
   ]
  },
  {
   "cell_type": "markdown",
   "metadata": {},
   "source": [
    "### Let's perform hyper-parameter tuning on Gradient Boosting Regressor model."
   ]
  },
  {
   "cell_type": "code",
   "execution_count": 60,
   "metadata": {},
   "outputs": [
    {
     "name": "stdout",
     "output_type": "stream",
     "text": [
      "r2_score: 91.47444387545337\n",
      "Training score: 99.99980115089548\n",
      "Errors:\n",
      "Mean absolute error: 549.4885740360746\n",
      "Mean squared error: 896082.2827191758\n",
      "Root mean squared error: 946.6162277920107\n"
     ]
    }
   ],
   "source": [
    "gbr=GradientBoostingRegressor()\n",
    "gbr.fit(x_train,y_train)\n",
    "y_pred=gbr.predict(x_test)\n",
    "r2=r2_score(y_test,y_pred)\n",
    "print('r2_score:',r2*100)\n",
    "print('Training score:',gbr.score(x_train,y_train)*100)\n",
    "print('Errors:')\n",
    "print('Mean absolute error:',mean_absolute_error(y_test,y_pred))\n",
    "print('Mean squared error:',mean_squared_error(y_test,y_pred))\n",
    "print('Root mean squared error:',np.sqrt(mean_squared_error(y_test,y_pred)))"
   ]
  },
  {
   "cell_type": "markdown",
   "metadata": {},
   "source": [
    "## Hyper-parameter Tuning"
   ]
  },
  {
   "cell_type": "code",
   "execution_count": 61,
   "metadata": {},
   "outputs": [],
   "source": [
    "from sklearn.model_selection import GridSearchCV\n",
    "\n",
    "parameters = {\n",
    "    'loss':['ls','lad','huber','quantile'],\n",
    "    'max_features':['auto','sqrt','log2'],\n",
    "    'warm_start':[True,False]\n",
    "}"
   ]
  },
  {
   "cell_type": "code",
   "execution_count": 62,
   "metadata": {},
   "outputs": [
    {
     "data": {
      "text/plain": [
       "GridSearchCV(cv=6, estimator=GradientBoostingRegressor(),\n",
       "             param_grid={'loss': ['ls', 'lad', 'huber', 'quantile'],\n",
       "                         'max_features': ['auto', 'sqrt', 'log2'],\n",
       "                         'warm_start': [True, False]},\n",
       "             scoring='r2')"
      ]
     },
     "execution_count": 62,
     "metadata": {},
     "output_type": "execute_result"
    }
   ],
   "source": [
    "gscv=GridSearchCV(gbr,parameters,scoring='r2',cv=best_cv)\n",
    "gscv.fit(x_train,y_train)"
   ]
  },
  {
   "cell_type": "code",
   "execution_count": 63,
   "metadata": {},
   "outputs": [
    {
     "data": {
      "text/plain": [
       "{'loss': 'lad', 'max_features': 'auto', 'warm_start': False}"
      ]
     },
     "execution_count": 63,
     "metadata": {},
     "output_type": "execute_result"
    }
   ],
   "source": [
    "gscv.best_params_"
   ]
  },
  {
   "cell_type": "code",
   "execution_count": 64,
   "metadata": {},
   "outputs": [
    {
     "name": "stdout",
     "output_type": "stream",
     "text": [
      "r2_score: 70.51562897440733\n",
      "Training score: 32.908026338759996\n",
      "Errors:\n",
      "Mean absolute error: 759.2924111513815\n",
      "Mean squared error: 3098967.6341562103\n",
      "Root mean squared error: 1760.388489554567\n"
     ]
    }
   ],
   "source": [
    "gbr=GradientBoostingRegressor(loss='lad',max_features='auto',warm_start=False)\n",
    "gbr.fit(x_train,y_train)\n",
    "y_pred=gbr.predict(x_test)\n",
    "r2=r2_score(y_test,y_pred)\n",
    "print('r2_score:',r2*100)\n",
    "print('Training score:',gbr.score(x_train,y_train)*100)\n",
    "print('Errors:')\n",
    "print('Mean absolute error:',mean_absolute_error(y_test,y_pred))\n",
    "print('Mean squared error:',mean_squared_error(y_test,y_pred))\n",
    "print('Root mean squared error:',np.sqrt(mean_squared_error(y_test,y_pred)))"
   ]
  },
  {
   "cell_type": "code",
   "execution_count": 65,
   "metadata": {},
   "outputs": [
    {
     "data": {
      "image/png": "[encoded data removed]",
      "text/plain": [
       "<Figure size 432x288 with 1 Axes>"
      ]
     },
     "metadata": {
      "needs_background": "light"
     },
     "output_type": "display_data"
    }
   ],
   "source": [
    "plt.scatter(y_test,y_pred)\n",
    "plt.plot(y_test,y_test)\n",
    "plt.xlabel('Actual Deaths')\n",
    "plt.ylabel('Deaths Predicted')\n",
    "plt.title('Gradient Boosting Regressor')\n",
    "plt.show()"
   ]
  },
  {
   "cell_type": "markdown",
   "metadata": {},
   "source": [
    "# Conclusion"
   ]
  },
  {
   "cell_type": "code",
   "execution_count": 66,
   "metadata": {},
   "outputs": [
    {
     "data": {
      "text/html": [
       "<div>\n",
       "<style scoped>\n",
       "    .dataframe tbody tr th:only-of-type {\n",
       "        vertical-align: middle;\n",
       "    }\n",
       "\n",
       "    .dataframe tbody tr th {\n",
       "        vertical-align: top;\n",
       "    }\n",
       "\n",
       "    .dataframe thead th {\n",
       "        text-align: right;\n",
       "    }\n",
       "</style>\n",
       "<table border=\"1\" class=\"dataframe\">\n",
       "  <thead>\n",
       "    <tr style=\"text-align: right;\">\n",
       "      <th></th>\n",
       "      <th>Actual Deaths</th>\n",
       "      <th>Deaths Predicted</th>\n",
       "    </tr>\n",
       "  </thead>\n",
       "  <tbody>\n",
       "    <tr>\n",
       "      <th>27</th>\n",
       "      <td>786</td>\n",
       "      <td>544.840163</td>\n",
       "    </tr>\n",
       "    <tr>\n",
       "      <th>25</th>\n",
       "      <td>6066</td>\n",
       "      <td>4509.062128</td>\n",
       "    </tr>\n",
       "    <tr>\n",
       "      <th>32</th>\n",
       "      <td>377</td>\n",
       "      <td>373.740565</td>\n",
       "    </tr>\n",
       "    <tr>\n",
       "      <th>31</th>\n",
       "      <td>138</td>\n",
       "      <td>384.465447</td>\n",
       "    </tr>\n",
       "    <tr>\n",
       "      <th>34</th>\n",
       "      <td>10749</td>\n",
       "      <td>4915.651875</td>\n",
       "    </tr>\n",
       "    <tr>\n",
       "      <th>54</th>\n",
       "      <td>1037</td>\n",
       "      <td>865.078498</td>\n",
       "    </tr>\n",
       "    <tr>\n",
       "      <th>20</th>\n",
       "      <td>202</td>\n",
       "      <td>331.104596</td>\n",
       "    </tr>\n",
       "    <tr>\n",
       "      <th>44</th>\n",
       "      <td>125</td>\n",
       "      <td>91.808492</td>\n",
       "    </tr>\n",
       "    <tr>\n",
       "      <th>17</th>\n",
       "      <td>4525</td>\n",
       "      <td>3778.992062</td>\n",
       "    </tr>\n",
       "    <tr>\n",
       "      <th>42</th>\n",
       "      <td>144</td>\n",
       "      <td>173.626196</td>\n",
       "    </tr>\n",
       "    <tr>\n",
       "      <th>13</th>\n",
       "      <td>3</td>\n",
       "      <td>14.760834</td>\n",
       "    </tr>\n",
       "    <tr>\n",
       "      <th>39</th>\n",
       "      <td>2</td>\n",
       "      <td>110.725643</td>\n",
       "    </tr>\n",
       "  </tbody>\n",
       "</table>\n",
       "</div>"
      ],
      "text/plain": [
       "    Actual Deaths  Deaths Predicted\n",
       "27            786        544.840163\n",
       "25           6066       4509.062128\n",
       "32            377        373.740565\n",
       "31            138        384.465447\n",
       "34          10749       4915.651875\n",
       "54           1037        865.078498\n",
       "20            202        331.104596\n",
       "44            125         91.808492\n",
       "17           4525       3778.992062\n",
       "42            144        173.626196\n",
       "13              3         14.760834\n",
       "39              2        110.725643"
      ]
     },
     "execution_count": 66,
     "metadata": {},
     "output_type": "execute_result"
    }
   ],
   "source": [
    "df1 = pd.DataFrame({'Actual Deaths':y_test,'Deaths Predicted':y_pred})\n",
    "df1"
   ]
  },
  {
   "cell_type": "markdown",
   "metadata": {},
   "source": [
    "### From above table it evident that model is performing better."
   ]
  },
  {
   "cell_type": "code",
   "execution_count": 67,
   "metadata": {},
   "outputs": [],
   "source": [
    "import joblib"
   ]
  },
  {
   "cell_type": "code",
   "execution_count": 69,
   "metadata": {},
   "outputs": [
    {
     "data": {
      "text/plain": [
       "['Covid-Deaths Model.obj']"
      ]
     },
     "execution_count": 69,
     "metadata": {},
     "output_type": "execute_result"
    }
   ],
   "source": [
    "joblib.dump(gbr,'Covid-Deaths Model.obj')"
   ]
  },
  {
   "cell_type": "markdown",
   "metadata": {},
   "source": [
    "## 2. Predicting Recovered_Cases"
   ]
  },
  {
   "cell_type": "code",
   "execution_count": 70,
   "metadata": {},
   "outputs": [
    {
     "data": {
      "text/plain": [
       "(58, 11)"
      ]
     },
     "execution_count": 70,
     "metadata": {},
     "output_type": "execute_result"
    }
   ],
   "source": [
    "x1.shape"
   ]
  },
  {
   "cell_type": "code",
   "execution_count": 71,
   "metadata": {},
   "outputs": [
    {
     "data": {
      "text/plain": [
       "(58,)"
      ]
     },
     "execution_count": 71,
     "metadata": {},
     "output_type": "execute_result"
    }
   ],
   "source": [
    "y1.shape"
   ]
  },
  {
   "cell_type": "markdown",
   "metadata": {},
   "source": [
    "# Model Training And Testing"
   ]
  },
  {
   "cell_type": "code",
   "execution_count": 72,
   "metadata": {},
   "outputs": [
    {
     "name": "stdout",
     "output_type": "stream",
     "text": [
      " Best r2_score is 85.38326033594768 which is found on random_state 330\n"
     ]
    }
   ],
   "source": [
    "# finding the best random_state\n",
    "\n",
    "s=0\n",
    "for i in range(40,800):\n",
    "    x_train,x_test,y_train,y_test=train_test_split(x1,y1,test_size=0.20,random_state=i)\n",
    "    mod=LinearRegression()\n",
    "    mod.fit(x_train,y_train)\n",
    "    y_pred=mod.predict(x_test)\n",
    "    mod_acc=r2_score(y_test,y_pred)\n",
    "    if mod_acc>s:\n",
    "        s=mod_acc\n",
    "        best_random_state=i\n",
    "        \n",
    "print(f\" Best r2_score is {s*100} which is found on random_state {best_random_state}\")"
   ]
  },
  {
   "cell_type": "code",
   "execution_count": 73,
   "metadata": {},
   "outputs": [],
   "source": [
    "x_train,x_test,y_train,y_test=train_test_split(x1,y1,test_size=0.20,random_state=best_random_state)"
   ]
  },
  {
   "cell_type": "code",
   "execution_count": 74,
   "metadata": {},
   "outputs": [
    {
     "name": "stdout",
     "output_type": "stream",
     "text": [
      " Best cross_val_score is -158.7758169718411 which is found on cv =  2\n"
     ]
    }
   ],
   "source": [
    "# finding the best cv\n",
    "\n",
    "cv=-100\n",
    "for i in range(2,20):\n",
    "    cv_score=cross_val_score(mod,x1,y1,cv=i).mean()\n",
    "    if cv_score>cv:\n",
    "        cv=cv_score\n",
    "        best_cv=i\n",
    "    \n",
    "print(f\" Best cross_val_score is {cv*100} which is found on cv =  {best_cv}\")    "
   ]
  },
  {
   "cell_type": "markdown",
   "metadata": {},
   "source": [
    "# Finding The Best Model"
   ]
  },
  {
   "cell_type": "code",
   "execution_count": 75,
   "metadata": {},
   "outputs": [
    {
     "name": "stdout",
     "output_type": "stream",
     "text": [
      "LinearRegression()\n",
      "r2_score: 85.38326033594768\n",
      "Training score: 64.73017999288257\n",
      "Errors:\n",
      "Mean absolute error: 2766.490783242008\n",
      "Mean squared error: 13439183.34560853\n",
      "Root mean squared error: 3665.949173898696\n",
      "*********************************************************************\n",
      "*********************************************************************\n",
      "Lasso()\n",
      "r2_score: 85.20428685943898\n",
      "Training score: 64.72909077880955\n",
      "Errors:\n",
      "Mean absolute error: 2810.798050046132\n",
      "Mean squared error: 13603738.329830945\n",
      "Root mean squared error: 3688.3245965927326\n",
      "*********************************************************************\n",
      "*********************************************************************\n",
      "Ridge()\n",
      "r2_score: 65.90405486005433\n",
      "Training score: 59.51491602818687\n",
      "Errors:\n",
      "Mean absolute error: 4424.345047604836\n",
      "Mean squared error: 31349101.688146446\n",
      "Root mean squared error: 5599.026851886535\n",
      "*********************************************************************\n",
      "*********************************************************************\n",
      "ElasticNet()\n",
      "r2_score: 31.009519562428732\n",
      "Training score: 43.38244008564727\n",
      "Errors:\n",
      "Mean absolute error: 5492.6342733893935\n",
      "Mean squared error: 63432457.37504569\n",
      "Root mean squared error: 7964.449596491002\n",
      "*********************************************************************\n",
      "*********************************************************************\n",
      "SGDRegressor()\n",
      "r2_score: 58.227740431496564\n",
      "Training score: 55.369213759148494\n",
      "Errors:\n",
      "Mean absolute error: 4657.641570295757\n",
      "Mean squared error: 38406995.54101727\n",
      "Root mean squared error: 6197.337778515648\n",
      "*********************************************************************\n",
      "*********************************************************************\n",
      "DecisionTreeRegressor()\n",
      "r2_score: 18.540527591561894\n",
      "Training score: 100.0\n",
      "Errors:\n",
      "Mean absolute error: 4168.583333333333\n",
      "Mean squared error: 74896920.25\n",
      "Root mean squared error: 8654.300679431008\n",
      "*********************************************************************\n",
      "*********************************************************************\n",
      "KNeighborsRegressor()\n",
      "r2_score: 20.936249096717454\n",
      "Training score: 44.79421245858439\n",
      "Errors:\n",
      "Mean absolute error: 4761.283333333334\n",
      "Mean squared error: 72694203.27666666\n",
      "Root mean squared error: 8526.089565367389\n",
      "*********************************************************************\n",
      "*********************************************************************\n",
      "SVR()\n",
      "r2_score: -17.832341904046235\n",
      "Training score: -6.656857403011296\n",
      "Errors:\n",
      "Mean absolute error: 4794.556755597896\n",
      "Mean squared error: 108339512.31856866\n",
      "Root mean squared error: 10408.62682194768\n",
      "*********************************************************************\n",
      "*********************************************************************\n",
      "RandomForestRegressor()\n",
      "r2_score: 15.041457439856053\n",
      "Training score: 87.98878994788795\n",
      "Errors:\n",
      "Mean absolute error: 4821.013333333333\n",
      "Mean squared error: 78114097.70466666\n",
      "Root mean squared error: 8838.21801635752\n",
      "*********************************************************************\n",
      "*********************************************************************\n",
      "AdaBoostRegressor()\n",
      "r2_score: 6.781129902322059\n",
      "Training score: 96.29137833920089\n",
      "Errors:\n",
      "Mean absolute error: 5350.768747302081\n",
      "Mean squared error: 85708955.3010372\n",
      "Root mean squared error: 9257.913118032444\n",
      "*********************************************************************\n",
      "*********************************************************************\n",
      "GradientBoostingRegressor()\n",
      "r2_score: 27.89510956958755\n",
      "Training score: 99.9937352292217\n",
      "Errors:\n",
      "Mean absolute error: 4889.241079730754\n",
      "Mean squared error: 66295963.729347415\n",
      "Root mean squared error: 8142.233337932991\n",
      "*********************************************************************\n",
      "*********************************************************************\n"
     ]
    }
   ],
   "source": [
    "for i in mod_list:\n",
    "    print(i)\n",
    "    i.fit(x_train,y_train)\n",
    "    y_pred=i.predict(x_test)\n",
    "    r2=r2_score(y_test,y_pred)\n",
    "    print('r2_score:',r2*100)\n",
    "    print('Training score:',i.score(x_train,y_train)*100)\n",
    "    print('Errors:')\n",
    "    print('Mean absolute error:',mean_absolute_error(y_test,y_pred))\n",
    "    print('Mean squared error:',mean_squared_error(y_test,y_pred))\n",
    "    print('Root mean squared error:',np.sqrt(mean_squared_error(y_test,y_pred)))\n",
    "    print('*********************************************************************')\n",
    "    print('*********************************************************************')"
   ]
  },
  {
   "cell_type": "markdown",
   "metadata": {},
   "source": [
    "### Observations:\n",
    "        From above it is evident that Linear Regression is performing better."
   ]
  },
  {
   "cell_type": "markdown",
   "metadata": {},
   "source": [
    "### Let's perform hyperparameter tuning on Linear Regression model."
   ]
  },
  {
   "cell_type": "code",
   "execution_count": 76,
   "metadata": {},
   "outputs": [
    {
     "name": "stdout",
     "output_type": "stream",
     "text": [
      "r2_score: 85.38326033594768\n",
      "Training score: 64.73017999288257\n",
      "Errors:\n",
      "Mean absolute error: 2766.490783242008\n",
      "Mean squared error: 13439183.34560853\n",
      "Root mean squared error: 3665.949173898696\n"
     ]
    }
   ],
   "source": [
    "lr=LinearRegression()\n",
    "lr.fit(x_train,y_train)\n",
    "y_pred=lr.predict(x_test)\n",
    "r2=r2_score(y_test,y_pred)\n",
    "print('r2_score:',r2*100)\n",
    "print('Training score:',lr.score(x_train,y_train)*100)\n",
    "print('Errors:')\n",
    "print('Mean absolute error:',mean_absolute_error(y_test,y_pred))\n",
    "print('Mean squared error:',mean_squared_error(y_test,y_pred))\n",
    "print('Root mean squared error:',np.sqrt(mean_squared_error(y_test,y_pred)))"
   ]
  },
  {
   "cell_type": "markdown",
   "metadata": {},
   "source": [
    "## Hyper-parameter Tuning"
   ]
  },
  {
   "cell_type": "code",
   "execution_count": 77,
   "metadata": {},
   "outputs": [],
   "source": [
    "para = {\n",
    "    'fit_intercept':[True,False],\n",
    "    'copy_X':[True,False],\n",
    "}"
   ]
  },
  {
   "cell_type": "code",
   "execution_count": 78,
   "metadata": {},
   "outputs": [
    {
     "data": {
      "text/plain": [
       "GridSearchCV(cv=2, estimator=LinearRegression(),\n",
       "             param_grid={'copy_X': [True, False],\n",
       "                         'fit_intercept': [True, False]},\n",
       "             scoring='r2')"
      ]
     },
     "execution_count": 78,
     "metadata": {},
     "output_type": "execute_result"
    }
   ],
   "source": [
    "gscv=GridSearchCV(lr,para,scoring='r2',cv=best_cv)\n",
    "gscv.fit(x_train,y_train)"
   ]
  },
  {
   "cell_type": "code",
   "execution_count": 79,
   "metadata": {},
   "outputs": [
    {
     "data": {
      "text/plain": [
       "{'copy_X': True, 'fit_intercept': True}"
      ]
     },
     "execution_count": 79,
     "metadata": {},
     "output_type": "execute_result"
    }
   ],
   "source": [
    "gscv.best_params_"
   ]
  },
  {
   "cell_type": "code",
   "execution_count": 80,
   "metadata": {},
   "outputs": [
    {
     "name": "stdout",
     "output_type": "stream",
     "text": [
      "r2_score: 85.38326033594768\n",
      "Training score: 64.73017999288257\n",
      "Errors:\n",
      "Mean absolute error: 2766.490783242008\n",
      "Mean squared error: 13439183.34560853\n",
      "Root mean squared error: 3665.949173898696\n"
     ]
    }
   ],
   "source": [
    "lr=LinearRegression(copy_X='True',fit_intercept=True)\n",
    "lr.fit(x_train,y_train)\n",
    "y_pred=lr.predict(x_test)\n",
    "r2=r2_score(y_test,y_pred)\n",
    "print('r2_score:',r2*100)\n",
    "print('Training score:',lr.score(x_train,y_train)*100)\n",
    "print('Errors:')\n",
    "print('Mean absolute error:',mean_absolute_error(y_test,y_pred))\n",
    "print('Mean squared error:',mean_squared_error(y_test,y_pred))\n",
    "print('Root mean squared error:',np.sqrt(mean_squared_error(y_test,y_pred)))"
   ]
  },
  {
   "cell_type": "code",
   "execution_count": 81,
   "metadata": {},
   "outputs": [
    {
     "data": {
      "image/png": "[encoded data removed]",
      "text/plain": [
       "<Figure size 432x288 with 1 Axes>"
      ]
     },
     "metadata": {
      "needs_background": "light"
     },
     "output_type": "display_data"
    }
   ],
   "source": [
    "plt.scatter(y_test,y_pred)\n",
    "plt.plot(y_test,y_test)\n",
    "plt.xlabel('Actual Recovered_cases')\n",
    "plt.ylabel('Recovered_cases Predicted')\n",
    "plt.title('Linear Regression')\n",
    "plt.show()"
   ]
  },
  {
   "cell_type": "markdown",
   "metadata": {},
   "source": [
    "# Conclusion"
   ]
  },
  {
   "cell_type": "code",
   "execution_count": 82,
   "metadata": {},
   "outputs": [
    {
     "data": {
      "text/html": [
       "<div>\n",
       "<style scoped>\n",
       "    .dataframe tbody tr th:only-of-type {\n",
       "        vertical-align: middle;\n",
       "    }\n",
       "\n",
       "    .dataframe tbody tr th {\n",
       "        vertical-align: top;\n",
       "    }\n",
       "\n",
       "    .dataframe thead th {\n",
       "        text-align: right;\n",
       "    }\n",
       "</style>\n",
       "<table border=\"1\" class=\"dataframe\">\n",
       "  <thead>\n",
       "    <tr style=\"text-align: right;\">\n",
       "      <th></th>\n",
       "      <th>Actual Recovered_cases</th>\n",
       "      <th>Recovered_cases Predicted</th>\n",
       "    </tr>\n",
       "  </thead>\n",
       "  <tbody>\n",
       "    <tr>\n",
       "      <th>22</th>\n",
       "      <td>26249.0</td>\n",
       "      <td>24443.498626</td>\n",
       "    </tr>\n",
       "    <tr>\n",
       "      <th>54</th>\n",
       "      <td>3008.0</td>\n",
       "      <td>4350.203484</td>\n",
       "    </tr>\n",
       "    <tr>\n",
       "      <th>6</th>\n",
       "      <td>3478.0</td>\n",
       "      <td>3242.897898</td>\n",
       "    </tr>\n",
       "    <tr>\n",
       "      <th>3</th>\n",
       "      <td>3773.0</td>\n",
       "      <td>798.330124</td>\n",
       "    </tr>\n",
       "    <tr>\n",
       "      <th>41</th>\n",
       "      <td>4266.0</td>\n",
       "      <td>9047.243679</td>\n",
       "    </tr>\n",
       "    <tr>\n",
       "      <th>40</th>\n",
       "      <td>3008.0</td>\n",
       "      <td>5319.073691</td>\n",
       "    </tr>\n",
       "    <tr>\n",
       "      <th>52</th>\n",
       "      <td>61.0</td>\n",
       "      <td>-1099.185115</td>\n",
       "    </tr>\n",
       "    <tr>\n",
       "      <th>21</th>\n",
       "      <td>2826.0</td>\n",
       "      <td>-293.958895</td>\n",
       "    </tr>\n",
       "    <tr>\n",
       "      <th>18</th>\n",
       "      <td>3008.0</td>\n",
       "      <td>4222.434366</td>\n",
       "    </tr>\n",
       "    <tr>\n",
       "      <th>16</th>\n",
       "      <td>1668.0</td>\n",
       "      <td>-1577.066209</td>\n",
       "    </tr>\n",
       "    <tr>\n",
       "      <th>31</th>\n",
       "      <td>3008.0</td>\n",
       "      <td>1712.402572</td>\n",
       "    </tr>\n",
       "    <tr>\n",
       "      <th>49</th>\n",
       "      <td>30341.0</td>\n",
       "      <td>20628.146819</td>\n",
       "    </tr>\n",
       "  </tbody>\n",
       "</table>\n",
       "</div>"
      ],
      "text/plain": [
       "    Actual Recovered_cases  Recovered_cases Predicted\n",
       "22                 26249.0               24443.498626\n",
       "54                  3008.0                4350.203484\n",
       "6                   3478.0                3242.897898\n",
       "3                   3773.0                 798.330124\n",
       "41                  4266.0                9047.243679\n",
       "40                  3008.0                5319.073691\n",
       "52                    61.0               -1099.185115\n",
       "21                  2826.0                -293.958895\n",
       "18                  3008.0                4222.434366\n",
       "16                  1668.0               -1577.066209\n",
       "31                  3008.0                1712.402572\n",
       "49                 30341.0               20628.146819"
      ]
     },
     "execution_count": 82,
     "metadata": {},
     "output_type": "execute_result"
    }
   ],
   "source": [
    "df2 = pd.DataFrame({'Actual Recovered_cases':y_test,'Recovered_cases Predicted':y_pred})\n",
    "df2"
   ]
  },
  {
   "cell_type": "markdown",
   "metadata": {},
   "source": [
    "### From above table it evident that model is performing better."
   ]
  },
  {
   "cell_type": "code",
   "execution_count": 84,
   "metadata": {},
   "outputs": [
    {
     "data": {
      "text/plain": [
       "['Recovered_cases Model.obj']"
      ]
     },
     "execution_count": 84,
     "metadata": {},
     "output_type": "execute_result"
    }
   ],
   "source": [
    "# saving the best model for production\n",
    "joblib.dump(lr,'Recovered_cases Model.obj')"
   ]
  }
 ],
 "metadata": {
  "kernelspec": {
   "display_name": "Python 3",
   "language": "python",
   "name": "python3"
  },
  "language_info": {
   "codemirror_mode": {
    "name": "ipython",
    "version": 3
   },
   "file_extension": ".py",
   "mimetype": "text/x-python",
   "name": "python",
   "nbconvert_exporter": "python",
   "pygments_lexer": "ipython3",
   "version": "3.8.3"
  }
 },
 "nbformat": 4,
 "nbformat_minor": 4
}
